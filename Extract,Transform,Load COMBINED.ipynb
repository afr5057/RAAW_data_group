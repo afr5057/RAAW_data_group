{
 "cells": [
  {
   "cell_type": "markdown",
   "metadata": {},
   "source": [
    "# Finance Companies Stock Data"
   ]
  },
  {
   "cell_type": "code",
   "execution_count": 1,
   "metadata": {},
   "outputs": [],
   "source": [
    "import fix_yahoo_finance as yf\n",
    "import pandas as pd\n",
    "import requests\n",
    "import pymongo\n",
    "import datetime"
   ]
  },
  {
   "cell_type": "code",
   "execution_count": 2,
   "metadata": {},
   "outputs": [
    {
     "data": {
      "text/html": [
       "<div>\n",
       "<style scoped>\n",
       "    .dataframe tbody tr th:only-of-type {\n",
       "        vertical-align: middle;\n",
       "    }\n",
       "\n",
       "    .dataframe tbody tr th {\n",
       "        vertical-align: top;\n",
       "    }\n",
       "\n",
       "    .dataframe thead th {\n",
       "        text-align: right;\n",
       "    }\n",
       "</style>\n",
       "<table border=\"1\" class=\"dataframe\">\n",
       "  <thead>\n",
       "    <tr style=\"text-align: right;\">\n",
       "      <th></th>\n",
       "      <th>Symbol</th>\n",
       "      <th>Name</th>\n",
       "      <th>LastSale</th>\n",
       "      <th>MarketCap</th>\n",
       "      <th>IPOyear</th>\n",
       "      <th>Sector</th>\n",
       "      <th>industry</th>\n",
       "      <th>Summary Quote</th>\n",
       "    </tr>\n",
       "  </thead>\n",
       "  <tbody>\n",
       "    <tr>\n",
       "      <th>20</th>\n",
       "      <td>ABM</td>\n",
       "      <td>ABM Industries Incorporated</td>\n",
       "      <td>38.360</td>\n",
       "      <td>$2.54B</td>\n",
       "      <td>NaN</td>\n",
       "      <td>Finance</td>\n",
       "      <td>Diversified Commercial Services</td>\n",
       "      <td>https://www.nasdaq.com/symbol/abm</td>\n",
       "    </tr>\n",
       "    <tr>\n",
       "      <th>40</th>\n",
       "      <td>AEB</td>\n",
       "      <td>Aegon NV</td>\n",
       "      <td>22.800</td>\n",
       "      <td>NaN</td>\n",
       "      <td>NaN</td>\n",
       "      <td>Finance</td>\n",
       "      <td>Life Insurance</td>\n",
       "      <td>https://www.nasdaq.com/symbol/aeb</td>\n",
       "    </tr>\n",
       "    <tr>\n",
       "      <th>41</th>\n",
       "      <td>AED</td>\n",
       "      <td>Aegon NV</td>\n",
       "      <td>25.550</td>\n",
       "      <td>NaN</td>\n",
       "      <td>NaN</td>\n",
       "      <td>Finance</td>\n",
       "      <td>Life Insurance</td>\n",
       "      <td>https://www.nasdaq.com/symbol/aed</td>\n",
       "    </tr>\n",
       "    <tr>\n",
       "      <th>42</th>\n",
       "      <td>AEG</td>\n",
       "      <td>Aegon NV</td>\n",
       "      <td>5.230</td>\n",
       "      <td>$10.71B</td>\n",
       "      <td>NaN</td>\n",
       "      <td>Finance</td>\n",
       "      <td>Life Insurance</td>\n",
       "      <td>https://www.nasdaq.com/symbol/aeg</td>\n",
       "    </tr>\n",
       "    <tr>\n",
       "      <th>43</th>\n",
       "      <td>AEH</td>\n",
       "      <td>Aegon NV</td>\n",
       "      <td>25.767</td>\n",
       "      <td>NaN</td>\n",
       "      <td>NaN</td>\n",
       "      <td>Finance</td>\n",
       "      <td>Life Insurance</td>\n",
       "      <td>https://www.nasdaq.com/symbol/aeh</td>\n",
       "    </tr>\n",
       "  </tbody>\n",
       "</table>\n",
       "</div>"
      ],
      "text/plain": [
       "   Symbol                         Name  LastSale MarketCap  IPOyear   Sector  \\\n",
       "20    ABM  ABM Industries Incorporated    38.360    $2.54B      NaN  Finance   \n",
       "40    AEB                     Aegon NV    22.800       NaN      NaN  Finance   \n",
       "41    AED                     Aegon NV    25.550       NaN      NaN  Finance   \n",
       "42    AEG                     Aegon NV     5.230   $10.71B      NaN  Finance   \n",
       "43    AEH                     Aegon NV    25.767       NaN      NaN  Finance   \n",
       "\n",
       "                           industry                      Summary Quote  \n",
       "20  Diversified Commercial Services  https://www.nasdaq.com/symbol/abm  \n",
       "40                   Life Insurance  https://www.nasdaq.com/symbol/aeb  \n",
       "41                   Life Insurance  https://www.nasdaq.com/symbol/aed  \n",
       "42                   Life Insurance  https://www.nasdaq.com/symbol/aeg  \n",
       "43                   Life Insurance  https://www.nasdaq.com/symbol/aeh  "
      ]
     },
     "execution_count": 2,
     "metadata": {},
     "output_type": "execute_result"
    }
   ],
   "source": [
    "# Extracted from https://www.nasdaq.com/screening/company-list.aspx\n",
    "file_path = \"Resources/companylist.csv\"\n",
    "df = pd.read_csv(file_path)\n",
    "df = df[[\"Symbol\",\"Name\",\"LastSale\",\"MarketCap\",\"IPOyear\",\"Sector\",\"industry\",\"Summary Quote\"]]\n",
    "\n",
    "df = df.loc[df[\"Sector\"]==\"Finance\"]\n",
    "df = df.iloc[0:75,:]\n",
    "start_date = \"2004-05-03\"\n",
    "end_date = \"2019-05-03\"\n",
    "\n",
    "df.head()"
   ]
  },
  {
   "cell_type": "code",
   "execution_count": 3,
   "metadata": {},
   "outputs": [],
   "source": [
    "# Initialize PyMongo to work with MongoDBs\n",
    "conn = 'mongodb://localhost:27017'\n",
    "client = pymongo.MongoClient(conn)"
   ]
  },
  {
   "cell_type": "code",
   "execution_count": 4,
   "metadata": {},
   "outputs": [],
   "source": [
    "# Define database and collection\n",
    "db = client.EcoParameters_db\n",
    "\n",
    "db.StockPrice_Finance.drop()\n",
    "collection = db.StockPrice_Finance"
   ]
  },
  {
   "cell_type": "code",
   "execution_count": 5,
   "metadata": {},
   "outputs": [
    {
     "name": "stdout",
     "output_type": "stream",
     "text": [
      "[*********************100%***********************]  1 of 1 downloaded\n",
      "[*********************100%***********************]  1 of 1 downloaded\n",
      "[*********************100%***********************]  1 of 1 downloaded\n",
      "[*********************100%***********************]  1 of 1 downloaded\n",
      "[*********************100%***********************]  1 of 1 downloaded\n",
      "[*********************100%***********************]  1 of 1 downloaded\n",
      "[*********************100%***********************]  1 of 1 downloaded\n",
      "[*********************100%***********************]  1 of 1 downloaded\n",
      "[*********************100%***********************]  1 of 1 downloaded\n",
      "[*********************100%***********************]  1 of 1 downloaded\n",
      "[*********************100%***********************]  1 of 1 downloaded\n",
      "[*********************100%***********************]  1 of 1 downloaded\n",
      "[*********************100%***********************]  1 of 1 downloaded\n",
      "[*********************100%***********************]  1 of 1 downloaded\n",
      "[*********************100%***********************]  1 of 1 downloaded\n",
      "[*********************100%***********************]  1 of 1 downloaded\n",
      "[*********************100%***********************]  1 of 1 downloaded\n",
      "Only valid with DatetimeIndex, TimedeltaIndex or PeriodIndex, but got an instance of 'Index'\n"
     ]
    },
    {
     "name": "stderr",
     "output_type": "stream",
     "text": [
      "Exception in thread Thread-22:\n",
      "Traceback (most recent call last):\n",
      "  File \"C:\\Users\\amy_r\\Anaconda3\\lib\\site-packages\\fix_yahoo_finance\\__init__.py\", line 250, in history\n",
      "    quotes = self._parse_quotes(data[\"chart\"][\"result\"][0])\n",
      "  File \"C:\\Users\\amy_r\\Anaconda3\\lib\\site-packages\\fix_yahoo_finance\\__init__.py\", line 109, in _parse_quotes\n",
      "    timestamps = data[\"timestamp\"]\n",
      "KeyError: 'timestamp'\n",
      "\n",
      "During handling of the above exception, another exception occurred:\n",
      "\n",
      "Traceback (most recent call last):\n",
      "  File \"C:\\Users\\amy_r\\Anaconda3\\lib\\threading.py\", line 917, in _bootstrap_inner\n",
      "    self.run()\n",
      "  File \"C:\\Users\\amy_r\\Anaconda3\\lib\\threading.py\", line 865, in run\n",
      "    self._target(*self._args, **self._kwargs)\n",
      "  File \"C:\\Users\\amy_r\\Anaconda3\\lib\\site-packages\\multitasking\\__init__.py\", line 102, in _run_via_pool\n",
      "    return callee(*args, **kwargs)\n",
      "  File \"C:\\Users\\amy_r\\Anaconda3\\lib\\site-packages\\fix_yahoo_finance\\__init__.py\", line 317, in _download_one_threaded\n",
      "    period, interval, prepost)\n",
      "  File \"C:\\Users\\amy_r\\Anaconda3\\lib\\site-packages\\fix_yahoo_finance\\__init__.py\", line 328, in _download_one\n",
      "    actions=actions, auto_adjust=auto_adjust)\n",
      "  File \"C:\\Users\\amy_r\\Anaconda3\\lib\\site-packages\\fix_yahoo_finance\\__init__.py\", line 253, in history\n",
      "    raise ValueError(self.ticker, err_msg)\n",
      "ValueError: ('AFGB', 'No data found for this date range, symbol may be delisted')\n",
      "\n"
     ]
    },
    {
     "name": "stdout",
     "output_type": "stream",
     "text": [
      "[*********************100%***********************]  1 of 1 downloaded\n",
      "[*********************100%***********************]  1 of 1 downloaded\n",
      "[*********************100%***********************]  1 of 1 downloaded\n",
      "[*********************100%***********************]  1 of 1 downloaded\n",
      "[*********************100%***********************]  1 of 1 downloaded\n",
      "[*********************100%***********************]  1 of 1 downloaded\n",
      "[*********************100%***********************]  1 of 1 downloaded\n",
      "[*********************100%***********************]  1 of 1 downloaded\n",
      "[*********************100%***********************]  1 of 1 downloaded\n",
      "[*********************100%***********************]  1 of 1 downloaded\n",
      "[*********************100%***********************]  1 of 1 downloaded\n",
      "[*********************100%***********************]  1 of 1 downloaded\n",
      "[*********************100%***********************]  1 of 1 downloaded\n",
      "[*********************100%***********************]  1 of 1 downloaded\n",
      "[*********************100%***********************]  1 of 1 downloaded\n",
      "[*********************100%***********************]  1 of 1 downloaded\n",
      "[*********************100%***********************]  1 of 1 downloaded\n",
      "[*********************100%***********************]  1 of 1 downloaded\n",
      "[*********************100%***********************]  1 of 1 downloaded\n",
      "[*********************100%***********************]  1 of 1 downloaded\n",
      "[*********************100%***********************]  1 of 1 downloaded\n",
      "[*********************100%***********************]  1 of 1 downloaded\n",
      "[*********************100%***********************]  1 of 1 downloaded\n",
      "[*********************100%***********************]  1 of 1 downloaded\n",
      "[*********************100%***********************]  1 of 1 downloaded\n",
      "[*********************100%***********************]  1 of 1 downloaded\n",
      "[*********************100%***********************]  1 of 1 downloaded\n",
      "[*********************100%***********************]  1 of 1 downloaded\n",
      "[*********************100%***********************]  1 of 1 downloaded\n",
      "[*********************100%***********************]  1 of 1 downloaded\n",
      "[*********************100%***********************]  1 of 1 downloaded\n",
      "[*********************100%***********************]  1 of 1 downloaded\n",
      "[*********************100%***********************]  1 of 1 downloaded\n",
      "[*********************100%***********************]  1 of 1 downloaded\n",
      "[*********************100%***********************]  1 of 1 downloaded\n",
      "[*********************100%***********************]  1 of 1 downloaded\n",
      "[*********************100%***********************]  1 of 1 downloaded\n",
      "Only valid with DatetimeIndex, TimedeltaIndex or PeriodIndex, but got an instance of 'Index'\n",
      "[*********************100%***********************]  1 of 1 downloaded\n",
      "Only valid with DatetimeIndex, TimedeltaIndex or PeriodIndex, but got an instance of 'Index'\n"
     ]
    },
    {
     "name": "stderr",
     "output_type": "stream",
     "text": [
      "Exception in thread Thread-59:\n",
      "Traceback (most recent call last):\n",
      "  File \"C:\\Users\\amy_r\\Anaconda3\\lib\\threading.py\", line 917, in _bootstrap_inner\n",
      "    self.run()\n",
      "  File \"C:\\Users\\amy_r\\Anaconda3\\lib\\threading.py\", line 865, in run\n",
      "    self._target(*self._args, **self._kwargs)\n",
      "  File \"C:\\Users\\amy_r\\Anaconda3\\lib\\site-packages\\multitasking\\__init__.py\", line 102, in _run_via_pool\n",
      "    return callee(*args, **kwargs)\n",
      "  File \"C:\\Users\\amy_r\\Anaconda3\\lib\\site-packages\\fix_yahoo_finance\\__init__.py\", line 317, in _download_one_threaded\n",
      "    period, interval, prepost)\n",
      "  File \"C:\\Users\\amy_r\\Anaconda3\\lib\\site-packages\\fix_yahoo_finance\\__init__.py\", line 328, in _download_one\n",
      "    actions=actions, auto_adjust=auto_adjust)\n",
      "  File \"C:\\Users\\amy_r\\Anaconda3\\lib\\site-packages\\fix_yahoo_finance\\__init__.py\", line 241, in history\n",
      "    raise ValueError(self.ticker, err_msg)\n",
      "ValueError: ('BAC^W', 'No data found, symbol may be delisted')\n",
      "\n",
      "Exception in thread Thread-60:\n",
      "Traceback (most recent call last):\n",
      "  File \"C:\\Users\\amy_r\\Anaconda3\\lib\\threading.py\", line 917, in _bootstrap_inner\n",
      "    self.run()\n",
      "  File \"C:\\Users\\amy_r\\Anaconda3\\lib\\threading.py\", line 865, in run\n",
      "    self._target(*self._args, **self._kwargs)\n",
      "  File \"C:\\Users\\amy_r\\Anaconda3\\lib\\site-packages\\multitasking\\__init__.py\", line 102, in _run_via_pool\n",
      "    return callee(*args, **kwargs)\n",
      "  File \"C:\\Users\\amy_r\\Anaconda3\\lib\\site-packages\\fix_yahoo_finance\\__init__.py\", line 317, in _download_one_threaded\n",
      "    period, interval, prepost)\n",
      "  File \"C:\\Users\\amy_r\\Anaconda3\\lib\\site-packages\\fix_yahoo_finance\\__init__.py\", line 328, in _download_one\n",
      "    actions=actions, auto_adjust=auto_adjust)\n",
      "  File \"C:\\Users\\amy_r\\Anaconda3\\lib\\site-packages\\fix_yahoo_finance\\__init__.py\", line 241, in history\n",
      "    raise ValueError(self.ticker, err_msg)\n",
      "ValueError: ('BAC^Y', 'No data found, symbol may be delisted')\n",
      "\n"
     ]
    },
    {
     "name": "stdout",
     "output_type": "stream",
     "text": [
      "[*********************100%***********************]  1 of 1 downloaded\n",
      "[*********************100%***********************]  1 of 1 downloaded\n",
      "[*********************100%***********************]  1 of 1 downloaded\n",
      "[*********************100%***********************]  1 of 1 downloaded\n",
      "[*********************100%***********************]  1 of 1 downloaded\n",
      "[*********************100%***********************]  1 of 1 downloaded\n",
      "[*********************100%***********************]  1 of 1 downloaded\n",
      "[*********************100%***********************]  1 of 1 downloaded\n",
      "[*********************100%***********************]  1 of 1 downloaded\n",
      "[*********************100%***********************]  1 of 1 downloaded\n",
      "[*********************100%***********************]  1 of 1 downloaded\n",
      "[*********************100%***********************]  1 of 1 downloaded\n",
      "[*********************100%***********************]  1 of 1 downloaded\n",
      "[*********************100%***********************]  1 of 1 downloaded\n",
      "[*********************100%***********************]  1 of 1 downloaded\n",
      "[*********************100%***********************]  1 of 1 downloaded\n",
      "[*********************100%***********************]  1 of 1 downloaded\n",
      "[*********************100%***********************]  1 of 1 downloaded\n",
      "[*********************100%***********************]  1 of 1 downloaded\n",
      "[*********************100%***********************]  1 of 1 downloaded\n"
     ]
    }
   ],
   "source": [
    "tickers = list(df[\"Symbol\"])\n",
    "\n",
    "for ticker in tickers:\n",
    "    \n",
    "    data = yf.download(ticker, start=start_date, end=end_date)\n",
    "    try:\n",
    "        data = data.resample('QS').mean()\n",
    "        data.reset_index(inplace=True)\n",
    "        data[\"Ticker\"] = ticker\n",
    "        data = data[[\"Ticker\",\"Date\",\"Close\",\"Volume\"]]\n",
    "        list_dict_prices_stock = []\n",
    "        for item, row in data.iterrows():\n",
    "            dict_row ={\n",
    "                \"Ticker\" : row[\"Ticker\"],\n",
    "                \"Date\" : row[\"Date\"].strftime('%Y-%m-%d'),\n",
    "                \"Close\" : row[\"Close\"],\n",
    "                \"Volume\" : row[\"Volume\"]\n",
    "                }\n",
    "            list_dict_prices_stock.append(dict_row)\n",
    "        db.StockPrice_Finance.insert_many(list_dict_prices_stock)\n",
    "    except Exception as e:\n",
    "        print(e)"
   ]
  },
  {
   "cell_type": "code",
   "execution_count": null,
   "metadata": {},
   "outputs": [],
   "source": []
  },
  {
   "cell_type": "markdown",
   "metadata": {},
   "source": [
    "# Health Care Companies Stock Data"
   ]
  },
  {
   "cell_type": "code",
   "execution_count": 6,
   "metadata": {},
   "outputs": [
    {
     "data": {
      "text/html": [
       "<div>\n",
       "<style scoped>\n",
       "    .dataframe tbody tr th:only-of-type {\n",
       "        vertical-align: middle;\n",
       "    }\n",
       "\n",
       "    .dataframe tbody tr th {\n",
       "        vertical-align: top;\n",
       "    }\n",
       "\n",
       "    .dataframe thead th {\n",
       "        text-align: right;\n",
       "    }\n",
       "</style>\n",
       "<table border=\"1\" class=\"dataframe\">\n",
       "  <thead>\n",
       "    <tr style=\"text-align: right;\">\n",
       "      <th></th>\n",
       "      <th>Symbol</th>\n",
       "      <th>Name</th>\n",
       "      <th>LastSale</th>\n",
       "      <th>MarketCap</th>\n",
       "      <th>IPOyear</th>\n",
       "      <th>Sector</th>\n",
       "      <th>industry</th>\n",
       "      <th>Summary Quote</th>\n",
       "    </tr>\n",
       "  </thead>\n",
       "  <tbody>\n",
       "    <tr>\n",
       "      <th>1</th>\n",
       "      <td>MMM</td>\n",
       "      <td>3M Company</td>\n",
       "      <td>185.22</td>\n",
       "      <td>$106.77B</td>\n",
       "      <td>NaN</td>\n",
       "      <td>Health Care</td>\n",
       "      <td>Medical/Dental Instruments</td>\n",
       "      <td>https://www.nasdaq.com/symbol/mmm</td>\n",
       "    </tr>\n",
       "    <tr>\n",
       "      <th>8</th>\n",
       "      <td>AAC</td>\n",
       "      <td>AAC Holdings, Inc.</td>\n",
       "      <td>1.97</td>\n",
       "      <td>$49.84M</td>\n",
       "      <td>2014.0</td>\n",
       "      <td>Health Care</td>\n",
       "      <td>Medical Specialities</td>\n",
       "      <td>https://www.nasdaq.com/symbol/aac</td>\n",
       "    </tr>\n",
       "    <tr>\n",
       "      <th>12</th>\n",
       "      <td>ABT</td>\n",
       "      <td>Abbott Laboratories</td>\n",
       "      <td>78.69</td>\n",
       "      <td>$138.22B</td>\n",
       "      <td>NaN</td>\n",
       "      <td>Health Care</td>\n",
       "      <td>Major Pharmaceuticals</td>\n",
       "      <td>https://www.nasdaq.com/symbol/abt</td>\n",
       "    </tr>\n",
       "    <tr>\n",
       "      <th>13</th>\n",
       "      <td>ABBV</td>\n",
       "      <td>AbbVie Inc.</td>\n",
       "      <td>78.71</td>\n",
       "      <td>$116.35B</td>\n",
       "      <td>2012.0</td>\n",
       "      <td>Health Care</td>\n",
       "      <td>Major Pharmaceuticals</td>\n",
       "      <td>https://www.nasdaq.com/symbol/abbv</td>\n",
       "    </tr>\n",
       "    <tr>\n",
       "      <th>69</th>\n",
       "      <td>ALC</td>\n",
       "      <td>Alcon Inc.</td>\n",
       "      <td>58.50</td>\n",
       "      <td>$28.59B</td>\n",
       "      <td>2019.0</td>\n",
       "      <td>Health Care</td>\n",
       "      <td>Ophthalmic Goods</td>\n",
       "      <td>https://www.nasdaq.com/symbol/alc</td>\n",
       "    </tr>\n",
       "  </tbody>\n",
       "</table>\n",
       "</div>"
      ],
      "text/plain": [
       "   Symbol                 Name  LastSale MarketCap  IPOyear       Sector  \\\n",
       "1     MMM           3M Company    185.22  $106.77B      NaN  Health Care   \n",
       "8     AAC   AAC Holdings, Inc.      1.97   $49.84M   2014.0  Health Care   \n",
       "12    ABT  Abbott Laboratories     78.69  $138.22B      NaN  Health Care   \n",
       "13   ABBV          AbbVie Inc.     78.71  $116.35B   2012.0  Health Care   \n",
       "69    ALC           Alcon Inc.     58.50   $28.59B   2019.0  Health Care   \n",
       "\n",
       "                      industry                       Summary Quote  \n",
       "1   Medical/Dental Instruments   https://www.nasdaq.com/symbol/mmm  \n",
       "8         Medical Specialities   https://www.nasdaq.com/symbol/aac  \n",
       "12       Major Pharmaceuticals   https://www.nasdaq.com/symbol/abt  \n",
       "13       Major Pharmaceuticals  https://www.nasdaq.com/symbol/abbv  \n",
       "69            Ophthalmic Goods   https://www.nasdaq.com/symbol/alc  "
      ]
     },
     "execution_count": 6,
     "metadata": {},
     "output_type": "execute_result"
    }
   ],
   "source": [
    "# Extracted from https://www.nasdaq.com/screening/company-list.aspx\n",
    "file_path = \"Resources/companylist.csv\"\n",
    "df = pd.read_csv(file_path)\n",
    "df = df[[\"Symbol\",\"Name\",\"LastSale\",\"MarketCap\",\"IPOyear\",\"Sector\",\"industry\",\"Summary Quote\"]]\n",
    "\n",
    "df = df.loc[df[\"Sector\"]==\"Health Care\"]\n",
    "df = df.iloc[0:50,:]\n",
    "start_date = \"2004-05-03\"\n",
    "end_date = \"2019-05-03\"\n",
    "\n",
    "df.head()"
   ]
  },
  {
   "cell_type": "code",
   "execution_count": 7,
   "metadata": {},
   "outputs": [],
   "source": [
    "# Initialize PyMongo to work with MongoDBs\n",
    "conn = 'mongodb://localhost:27017'\n",
    "client = pymongo.MongoClient(conn)"
   ]
  },
  {
   "cell_type": "code",
   "execution_count": 8,
   "metadata": {},
   "outputs": [],
   "source": [
    "# Define database and collection\n",
    "db = client.EcoParameters_db\n",
    "\n",
    "db.StockPrice_Healthcare.drop()\n",
    "\n",
    "collection = db.StockPrice_Healthcare"
   ]
  },
  {
   "cell_type": "code",
   "execution_count": 9,
   "metadata": {},
   "outputs": [
    {
     "name": "stdout",
     "output_type": "stream",
     "text": [
      "[*********************100%***********************]  1 of 1 downloaded\n",
      "[*********************100%***********************]  1 of 1 downloaded\n",
      "[*********************100%***********************]  1 of 1 downloaded\n",
      "[*********************100%***********************]  1 of 1 downloaded\n",
      "[*********************100%***********************]  1 of 1 downloaded\n",
      "[*********************100%***********************]  1 of 1 downloaded\n",
      "[*********************100%***********************]  1 of 1 downloaded\n",
      "[*********************100%***********************]  1 of 1 downloaded\n",
      "[*********************100%***********************]  1 of 1 downloaded\n",
      "[*********************100%***********************]  1 of 1 downloaded\n",
      "[*********************100%***********************]  1 of 1 downloaded\n",
      "[*********************100%***********************]  1 of 1 downloaded\n",
      "[*********************100%***********************]  1 of 1 downloaded\n",
      "[*********************100%***********************]  1 of 1 downloaded\n",
      "[*********************100%***********************]  1 of 1 downloaded\n",
      "[*********************100%***********************]  1 of 1 downloaded\n",
      "[*********************100%***********************]  1 of 1 downloaded\n",
      "[*********************100%***********************]  1 of 1 downloaded\n",
      "[*********************100%***********************]  1 of 1 downloaded\n",
      "[*********************100%***********************]  1 of 1 downloaded\n",
      "[*********************100%***********************]  1 of 1 downloaded\n",
      "[*********************100%***********************]  1 of 1 downloaded\n",
      "[*********************100%***********************]  1 of 1 downloaded\n",
      "[*********************100%***********************]  1 of 1 downloaded\n",
      "[*********************100%***********************]  1 of 1 downloaded\n",
      "[*********************100%***********************]  1 of 1 downloaded\n",
      "[*********************100%***********************]  1 of 1 downloaded\n",
      "[*********************100%***********************]  1 of 1 downloaded\n",
      "[*********************100%***********************]  1 of 1 downloaded\n",
      "[*********************100%***********************]  1 of 1 downloaded\n",
      "[*********************100%***********************]  1 of 1 downloaded\n",
      "[*********************100%***********************]  1 of 1 downloaded\n",
      "[*********************100%***********************]  1 of 1 downloaded\n",
      "[*********************100%***********************]  1 of 1 downloaded\n",
      "[*********************100%***********************]  1 of 1 downloaded\n",
      "[*********************100%***********************]  1 of 1 downloaded\n",
      "[*********************100%***********************]  1 of 1 downloaded\n",
      "[*********************100%***********************]  1 of 1 downloaded\n",
      "[*********************100%***********************]  1 of 1 downloaded\n",
      "[*********************100%***********************]  1 of 1 downloaded\n",
      "[*********************100%***********************]  1 of 1 downloaded\n",
      "[*********************100%***********************]  1 of 1 downloaded\n",
      "[*********************100%***********************]  1 of 1 downloaded\n",
      "[*********************100%***********************]  1 of 1 downloaded\n",
      "[*********************100%***********************]  1 of 1 downloaded\n",
      "[*********************100%***********************]  1 of 1 downloaded\n",
      "[*********************100%***********************]  1 of 1 downloaded\n",
      "[*********************100%***********************]  1 of 1 downloaded\n",
      "[*********************100%***********************]  1 of 1 downloaded\n",
      "[*********************100%***********************]  1 of 1 downloaded\n"
     ]
    }
   ],
   "source": [
    "tickers = list(df[\"Symbol\"])\n",
    "\n",
    "\n",
    "\n",
    "for ticker in tickers:\n",
    "    data = yf.download(ticker, start=start_date, end=end_date)\n",
    "   \n",
    "    try:\n",
    "        data = data.resample('QS').mean()\n",
    "        data.reset_index(inplace=True)\n",
    "        data[\"Ticker\"] = ticker\n",
    "        data = data[[\"Ticker\",\"Date\",\"Close\",\"Volume\"]]\n",
    "        list_dict_prices_stock = []\n",
    "        for item, row in data.iterrows():\n",
    "            dict_row ={\n",
    "                \"Ticker\" : row[\"Ticker\"],\n",
    "                \"Date\" : row[\"Date\"].strftime('%Y-%m-%d'),\n",
    "                \"Close\" : row[\"Close\"],\n",
    "                \"Volume\" : row[\"Volume\"]\n",
    "                }\n",
    "            list_dict_prices_stock.append(dict_row)\n",
    "        db.StockPrice_Healthcare.insert_many(list_dict_prices_stock)\n",
    "    except Exception as e:\n",
    "        print(e)"
   ]
  },
  {
   "cell_type": "code",
   "execution_count": null,
   "metadata": {},
   "outputs": [],
   "source": []
  },
  {
   "cell_type": "markdown",
   "metadata": {},
   "source": [
    "# Technology Companies Stock Data"
   ]
  },
  {
   "cell_type": "code",
   "execution_count": 10,
   "metadata": {},
   "outputs": [
    {
     "data": {
      "text/html": [
       "<div>\n",
       "<style scoped>\n",
       "    .dataframe tbody tr th:only-of-type {\n",
       "        vertical-align: middle;\n",
       "    }\n",
       "\n",
       "    .dataframe tbody tr th {\n",
       "        vertical-align: top;\n",
       "    }\n",
       "\n",
       "    .dataframe thead th {\n",
       "        text-align: right;\n",
       "    }\n",
       "</style>\n",
       "<table border=\"1\" class=\"dataframe\">\n",
       "  <thead>\n",
       "    <tr style=\"text-align: right;\">\n",
       "      <th></th>\n",
       "      <th>Symbol</th>\n",
       "      <th>Name</th>\n",
       "      <th>LastSale</th>\n",
       "      <th>MarketCap</th>\n",
       "      <th>IPOyear</th>\n",
       "      <th>Sector</th>\n",
       "      <th>industry</th>\n",
       "      <th>Summary Quote</th>\n",
       "    </tr>\n",
       "  </thead>\n",
       "  <tbody>\n",
       "    <tr>\n",
       "      <th>0</th>\n",
       "      <td>DDD</td>\n",
       "      <td>3D Systems Corporation</td>\n",
       "      <td>11.15</td>\n",
       "      <td>$1.3B</td>\n",
       "      <td>NaN</td>\n",
       "      <td>Technology</td>\n",
       "      <td>Computer Software: Prepackaged Software</td>\n",
       "      <td>https://www.nasdaq.com/symbol/ddd</td>\n",
       "    </tr>\n",
       "    <tr>\n",
       "      <th>3</th>\n",
       "      <td>WUBA</td>\n",
       "      <td>58.com Inc.</td>\n",
       "      <td>72.45</td>\n",
       "      <td>$10.74B</td>\n",
       "      <td>2013.0</td>\n",
       "      <td>Technology</td>\n",
       "      <td>Computer Software: Programming, Data Processing</td>\n",
       "      <td>https://www.nasdaq.com/symbol/wuba</td>\n",
       "    </tr>\n",
       "    <tr>\n",
       "      <th>4</th>\n",
       "      <td>EGHT</td>\n",
       "      <td>8x8 Inc</td>\n",
       "      <td>24.21</td>\n",
       "      <td>$2.32B</td>\n",
       "      <td>NaN</td>\n",
       "      <td>Technology</td>\n",
       "      <td>EDP Services</td>\n",
       "      <td>https://www.nasdaq.com/symbol/eght</td>\n",
       "    </tr>\n",
       "    <tr>\n",
       "      <th>7</th>\n",
       "      <td>ATEN</td>\n",
       "      <td>A10 Networks, Inc.</td>\n",
       "      <td>6.49</td>\n",
       "      <td>$487.94M</td>\n",
       "      <td>2014.0</td>\n",
       "      <td>Technology</td>\n",
       "      <td>Computer Communications Equipment</td>\n",
       "      <td>https://www.nasdaq.com/symbol/aten</td>\n",
       "    </tr>\n",
       "    <tr>\n",
       "      <th>10</th>\n",
       "      <td>AAN</td>\n",
       "      <td>Aaron&amp;#39;s,  Inc.</td>\n",
       "      <td>58.75</td>\n",
       "      <td>$3.98B</td>\n",
       "      <td>NaN</td>\n",
       "      <td>Technology</td>\n",
       "      <td>Diversified Commercial Services</td>\n",
       "      <td>https://www.nasdaq.com/symbol/aan</td>\n",
       "    </tr>\n",
       "  </tbody>\n",
       "</table>\n",
       "</div>"
      ],
      "text/plain": [
       "   Symbol                    Name  LastSale MarketCap  IPOyear      Sector  \\\n",
       "0     DDD  3D Systems Corporation     11.15     $1.3B      NaN  Technology   \n",
       "3    WUBA             58.com Inc.     72.45   $10.74B   2013.0  Technology   \n",
       "4    EGHT                 8x8 Inc     24.21    $2.32B      NaN  Technology   \n",
       "7    ATEN      A10 Networks, Inc.      6.49  $487.94M   2014.0  Technology   \n",
       "10    AAN      Aaron&#39;s,  Inc.     58.75    $3.98B      NaN  Technology   \n",
       "\n",
       "                                           industry  \\\n",
       "0           Computer Software: Prepackaged Software   \n",
       "3   Computer Software: Programming, Data Processing   \n",
       "4                                      EDP Services   \n",
       "7                 Computer Communications Equipment   \n",
       "10                  Diversified Commercial Services   \n",
       "\n",
       "                         Summary Quote  \n",
       "0    https://www.nasdaq.com/symbol/ddd  \n",
       "3   https://www.nasdaq.com/symbol/wuba  \n",
       "4   https://www.nasdaq.com/symbol/eght  \n",
       "7   https://www.nasdaq.com/symbol/aten  \n",
       "10   https://www.nasdaq.com/symbol/aan  "
      ]
     },
     "execution_count": 10,
     "metadata": {},
     "output_type": "execute_result"
    }
   ],
   "source": [
    "# Extracted from https://www.nasdaq.com/screening/company-list.aspx\n",
    "file_path = \"Resources/companylist.csv\"\n",
    "df = pd.read_csv(file_path)\n",
    "df = df[[\"Symbol\",\"Name\",\"LastSale\",\"MarketCap\",\"IPOyear\",\"Sector\",\"industry\",\"Summary Quote\"]]\n",
    "\n",
    "df = df.loc[df[\"Sector\"]==\"Technology\"]\n",
    "df = df.iloc[0:50,:]\n",
    "start_date = \"2004-05-03\"\n",
    "end_date = \"2019-05-03\"\n",
    "\n",
    "df.head()"
   ]
  },
  {
   "cell_type": "code",
   "execution_count": 11,
   "metadata": {},
   "outputs": [],
   "source": [
    "# Initialize PyMongo to work with MongoDBs\n",
    "conn = 'mongodb://localhost:27017'\n",
    "client = pymongo.MongoClient(conn)"
   ]
  },
  {
   "cell_type": "code",
   "execution_count": 12,
   "metadata": {},
   "outputs": [],
   "source": [
    "# Define database and collection\n",
    "db = client.EcoParameters_db\n",
    "\n",
    "db.StockPrice_Technology.drop()\n",
    "\n",
    "collection = db.StockPrice_Technology"
   ]
  },
  {
   "cell_type": "code",
   "execution_count": 13,
   "metadata": {},
   "outputs": [
    {
     "name": "stdout",
     "output_type": "stream",
     "text": [
      "[*********************100%***********************]  1 of 1 downloaded\n",
      "[*********************100%***********************]  1 of 1 downloaded\n",
      "[*********************100%***********************]  1 of 1 downloaded\n",
      "[*********************100%***********************]  1 of 1 downloaded\n",
      "[*********************100%***********************]  1 of 1 downloaded\n",
      "[*********************100%***********************]  1 of 1 downloaded\n",
      "[*********************100%***********************]  1 of 1 downloaded\n",
      "[*********************100%***********************]  1 of 1 downloaded\n",
      "[*********************100%***********************]  1 of 1 downloaded\n",
      "[*********************100%***********************]  1 of 1 downloaded\n",
      "[*********************100%***********************]  1 of 1 downloaded\n",
      "[*********************100%***********************]  1 of 1 downloaded\n",
      "[*********************100%***********************]  1 of 1 downloaded\n",
      "[*********************100%***********************]  1 of 1 downloaded\n",
      "[*********************100%***********************]  1 of 1 downloaded\n",
      "[*********************100%***********************]  1 of 1 downloaded\n",
      "[*********************100%***********************]  1 of 1 downloaded\n",
      "[*********************100%***********************]  1 of 1 downloaded\n",
      "[*********************100%***********************]  1 of 1 downloaded\n",
      "[*********************100%***********************]  1 of 1 downloaded\n",
      "[*********************100%***********************]  1 of 1 downloaded\n",
      "[*********************100%***********************]  1 of 1 downloaded\n",
      "[*********************100%***********************]  1 of 1 downloaded\n",
      "[*********************100%***********************]  1 of 1 downloaded\n",
      "[*********************100%***********************]  1 of 1 downloaded\n",
      "[*********************100%***********************]  1 of 1 downloaded\n",
      "[*********************100%***********************]  1 of 1 downloaded\n",
      "[*********************100%***********************]  1 of 1 downloaded\n",
      "[*********************100%***********************]  1 of 1 downloaded\n",
      "[*********************100%***********************]  1 of 1 downloaded\n",
      "[*********************100%***********************]  1 of 1 downloaded\n",
      "[*********************100%***********************]  1 of 1 downloaded\n",
      "[*********************100%***********************]  1 of 1 downloaded\n",
      "[*********************100%***********************]  1 of 1 downloaded\n",
      "[*********************100%***********************]  1 of 1 downloaded\n",
      "[*********************100%***********************]  1 of 1 downloaded\n",
      "[*********************100%***********************]  1 of 1 downloaded\n",
      "[*********************100%***********************]  1 of 1 downloaded\n",
      "[*********************100%***********************]  1 of 1 downloaded\n",
      "[*********************100%***********************]  1 of 1 downloaded\n",
      "[*********************100%***********************]  1 of 1 downloaded\n",
      "[*********************100%***********************]  1 of 1 downloaded\n",
      "[*********************100%***********************]  1 of 1 downloaded\n",
      "[*********************100%***********************]  1 of 1 downloaded\n",
      "[*********************100%***********************]  1 of 1 downloaded\n",
      "[*********************100%***********************]  1 of 1 downloaded\n",
      "[*********************100%***********************]  1 of 1 downloaded\n",
      "[*********************100%***********************]  1 of 1 downloaded\n",
      "[*********************100%***********************]  1 of 1 downloaded\n",
      "[*********************100%***********************]  1 of 1 downloaded\n"
     ]
    }
   ],
   "source": [
    "tickers = list(df[\"Symbol\"])\n",
    "\n",
    "\n",
    "for ticker in tickers:\n",
    "    data = yf.download(ticker, start=start_date, end=end_date)\n",
    "   \n",
    "    try:\n",
    "        data = data.resample('QS').mean()\n",
    "        data.reset_index(inplace=True)\n",
    "        data[\"Ticker\"] = ticker\n",
    "        data = data[[\"Ticker\",\"Date\",\"Close\",\"Volume\"]]\n",
    "        list_dict_prices_stock = []\n",
    "        for item, row in data.iterrows():\n",
    "            dict_row ={\n",
    "                \"Ticker\" : row[\"Ticker\"],\n",
    "                \"Date\" : row[\"Date\"].strftime('%Y-%m-%d'),\n",
    "                \"Close\" : row[\"Close\"],\n",
    "                \"Volume\" : row[\"Volume\"]\n",
    "                }\n",
    "            list_dict_prices_stock.append(dict_row)\n",
    "        db.StockPrice_Technology.insert_many(list_dict_prices_stock)\n",
    "    except Exception as e:\n",
    "        print(e)"
   ]
  },
  {
   "cell_type": "code",
   "execution_count": null,
   "metadata": {},
   "outputs": [],
   "source": []
  },
  {
   "cell_type": "markdown",
   "metadata": {},
   "source": [
    "# Energy Companies Stock Data"
   ]
  },
  {
   "cell_type": "code",
   "execution_count": 14,
   "metadata": {},
   "outputs": [
    {
     "data": {
      "text/html": [
       "<div>\n",
       "<style scoped>\n",
       "    .dataframe tbody tr th:only-of-type {\n",
       "        vertical-align: middle;\n",
       "    }\n",
       "\n",
       "    .dataframe tbody tr th {\n",
       "        vertical-align: top;\n",
       "    }\n",
       "\n",
       "    .dataframe thead th {\n",
       "        text-align: right;\n",
       "    }\n",
       "</style>\n",
       "<table border=\"1\" class=\"dataframe\">\n",
       "  <thead>\n",
       "    <tr style=\"text-align: right;\">\n",
       "      <th></th>\n",
       "      <th>Symbol</th>\n",
       "      <th>Name</th>\n",
       "      <th>LastSale</th>\n",
       "      <th>MarketCap</th>\n",
       "      <th>IPOyear</th>\n",
       "      <th>Sector</th>\n",
       "      <th>industry</th>\n",
       "      <th>Summary Quote</th>\n",
       "    </tr>\n",
       "  </thead>\n",
       "  <tbody>\n",
       "    <tr>\n",
       "      <th>154</th>\n",
       "      <td>APC</td>\n",
       "      <td>Anadarko Petroleum Corporation</td>\n",
       "      <td>72.72</td>\n",
       "      <td>$36.5B</td>\n",
       "      <td>NaN</td>\n",
       "      <td>Energy</td>\n",
       "      <td>Oil &amp; Gas Production</td>\n",
       "      <td>https://www.nasdaq.com/symbol/apc</td>\n",
       "    </tr>\n",
       "    <tr>\n",
       "      <th>156</th>\n",
       "      <td>ANDX</td>\n",
       "      <td>Andeavor Logistics LP</td>\n",
       "      <td>34.30</td>\n",
       "      <td>$8.42B</td>\n",
       "      <td>2011.0</td>\n",
       "      <td>Energy</td>\n",
       "      <td>Natural Gas Distribution</td>\n",
       "      <td>https://www.nasdaq.com/symbol/andx</td>\n",
       "    </tr>\n",
       "    <tr>\n",
       "      <th>167</th>\n",
       "      <td>AR</td>\n",
       "      <td>Antero Resources Corporation</td>\n",
       "      <td>7.17</td>\n",
       "      <td>$2.22B</td>\n",
       "      <td>2013.0</td>\n",
       "      <td>Energy</td>\n",
       "      <td>Oil &amp; Gas Production</td>\n",
       "      <td>https://www.nasdaq.com/symbol/ar</td>\n",
       "    </tr>\n",
       "    <tr>\n",
       "      <th>174</th>\n",
       "      <td>APA</td>\n",
       "      <td>Apache Corporation</td>\n",
       "      <td>30.59</td>\n",
       "      <td>$11.5B</td>\n",
       "      <td>NaN</td>\n",
       "      <td>Energy</td>\n",
       "      <td>Oil &amp; Gas Production</td>\n",
       "      <td>https://www.nasdaq.com/symbol/apa</td>\n",
       "    </tr>\n",
       "    <tr>\n",
       "      <th>202</th>\n",
       "      <td>ARCH</td>\n",
       "      <td>Arch Coal, Inc.</td>\n",
       "      <td>97.73</td>\n",
       "      <td>$1.64B</td>\n",
       "      <td>2016.0</td>\n",
       "      <td>Energy</td>\n",
       "      <td>Coal Mining</td>\n",
       "      <td>https://www.nasdaq.com/symbol/arch</td>\n",
       "    </tr>\n",
       "  </tbody>\n",
       "</table>\n",
       "</div>"
      ],
      "text/plain": [
       "    Symbol                            Name  LastSale MarketCap  IPOyear  \\\n",
       "154    APC  Anadarko Petroleum Corporation     72.72    $36.5B      NaN   \n",
       "156   ANDX           Andeavor Logistics LP     34.30    $8.42B   2011.0   \n",
       "167     AR    Antero Resources Corporation      7.17    $2.22B   2013.0   \n",
       "174    APA              Apache Corporation     30.59    $11.5B      NaN   \n",
       "202   ARCH                 Arch Coal, Inc.     97.73    $1.64B   2016.0   \n",
       "\n",
       "     Sector                  industry                       Summary Quote  \n",
       "154  Energy      Oil & Gas Production   https://www.nasdaq.com/symbol/apc  \n",
       "156  Energy  Natural Gas Distribution  https://www.nasdaq.com/symbol/andx  \n",
       "167  Energy      Oil & Gas Production    https://www.nasdaq.com/symbol/ar  \n",
       "174  Energy      Oil & Gas Production   https://www.nasdaq.com/symbol/apa  \n",
       "202  Energy               Coal Mining  https://www.nasdaq.com/symbol/arch  "
      ]
     },
     "execution_count": 14,
     "metadata": {},
     "output_type": "execute_result"
    }
   ],
   "source": [
    "# Extracted from https://www.nasdaq.com/screening/company-list.aspx\n",
    "file_path = \"Resources/companylist.csv\"\n",
    "df = pd.read_csv(file_path)\n",
    "df = df[[\"Symbol\",\"Name\",\"LastSale\",\"MarketCap\",\"IPOyear\",\"Sector\",\"industry\",\"Summary Quote\"]]\n",
    "\n",
    "df = df.loc[df[\"Sector\"]==\"Energy\"]\n",
    "df = df.iloc[0:50,:]\n",
    "start_date = \"2004-05-03\"\n",
    "end_date = \"2019-05-03\"\n",
    "\n",
    "df.head()"
   ]
  },
  {
   "cell_type": "code",
   "execution_count": 15,
   "metadata": {},
   "outputs": [],
   "source": [
    "# Initialize PyMongo to work with MongoDBs\n",
    "conn = 'mongodb://localhost:27017'\n",
    "client = pymongo.MongoClient(conn)"
   ]
  },
  {
   "cell_type": "code",
   "execution_count": 16,
   "metadata": {},
   "outputs": [],
   "source": [
    "# Define database and collection\n",
    "db = client.EcoParameters_db\n",
    "\n",
    "db.StockPrice_Energy.drop()\n",
    "collection = db.StockPrice_Energy"
   ]
  },
  {
   "cell_type": "code",
   "execution_count": 17,
   "metadata": {},
   "outputs": [
    {
     "name": "stdout",
     "output_type": "stream",
     "text": [
      "[*********************100%***********************]  1 of 1 downloaded\n",
      "[*********************100%***********************]  1 of 1 downloaded\n",
      "[*********************100%***********************]  1 of 1 downloaded\n",
      "[*********************100%***********************]  1 of 1 downloaded\n",
      "[*********************100%***********************]  1 of 1 downloaded\n",
      "[*********************100%***********************]  1 of 1 downloaded\n",
      "[*********************100%***********************]  1 of 1 downloaded\n",
      "[*********************100%***********************]  1 of 1 downloaded\n",
      "[*********************100%***********************]  1 of 1 downloaded\n",
      "[*********************100%***********************]  1 of 1 downloaded\n",
      "[*********************100%***********************]  1 of 1 downloaded\n",
      "[*********************100%***********************]  1 of 1 downloaded\n",
      "[*********************100%***********************]  1 of 1 downloaded\n",
      "[*********************100%***********************]  1 of 1 downloaded\n",
      "[*********************100%***********************]  1 of 1 downloaded\n",
      "[*********************100%***********************]  1 of 1 downloaded\n",
      "[*********************100%***********************]  1 of 1 downloaded\n",
      "[*********************100%***********************]  1 of 1 downloaded\n",
      "[*********************100%***********************]  1 of 1 downloaded\n",
      "[*********************100%***********************]  1 of 1 downloaded\n",
      "[*********************100%***********************]  1 of 1 downloaded\n",
      "[*********************100%***********************]  1 of 1 downloaded\n",
      "[*********************100%***********************]  1 of 1 downloaded\n",
      "[*********************100%***********************]  1 of 1 downloaded\n",
      "[*********************100%***********************]  1 of 1 downloaded\n",
      "[*********************100%***********************]  1 of 1 downloaded\n",
      "[*********************100%***********************]  1 of 1 downloaded"
     ]
    },
    {
     "name": "stderr",
     "output_type": "stream",
     "text": [
      "Exception in thread Thread-207:\n",
      "Traceback (most recent call last):\n",
      "  File \"C:\\Users\\amy_r\\Anaconda3\\lib\\threading.py\", line 917, in _bootstrap_inner\n",
      "    self.run()\n",
      "  File \"C:\\Users\\amy_r\\Anaconda3\\lib\\threading.py\", line 865, in run\n",
      "    self._target(*self._args, **self._kwargs)\n",
      "  File \"C:\\Users\\amy_r\\Anaconda3\\lib\\site-packages\\multitasking\\__init__.py\", line 102, in _run_via_pool\n",
      "    return callee(*args, **kwargs)\n",
      "  File \"C:\\Users\\amy_r\\Anaconda3\\lib\\site-packages\\fix_yahoo_finance\\__init__.py\", line 317, in _download_one_threaded\n",
      "    period, interval, prepost)\n",
      "  File \"C:\\Users\\amy_r\\Anaconda3\\lib\\site-packages\\fix_yahoo_finance\\__init__.py\", line 328, in _download_one\n",
      "    actions=actions, auto_adjust=auto_adjust)\n",
      "  File \"C:\\Users\\amy_r\\Anaconda3\\lib\\site-packages\\fix_yahoo_finance\\__init__.py\", line 241, in history\n",
      "    raise ValueError(self.ticker, err_msg)\n",
      "ValueError: ('CPE^A', 'No data found, symbol may be delisted')\n",
      "\n"
     ]
    },
    {
     "name": "stdout",
     "output_type": "stream",
     "text": [
      "\n",
      "Only valid with DatetimeIndex, TimedeltaIndex or PeriodIndex, but got an instance of 'Index'\n",
      "[*********************100%***********************]  1 of 1 downloaded\n",
      "[*********************100%***********************]  1 of 1 downloaded\n",
      "[*********************100%***********************]  1 of 1 downloaded\n",
      "[*********************100%***********************]  1 of 1 downloaded\n",
      "[*********************100%***********************]  1 of 1 downloaded\n",
      "[*********************100%***********************]  1 of 1 downloaded\n",
      "[*********************100%***********************]  1 of 1 downloaded\n",
      "[*********************100%***********************]  1 of 1 downloaded\n",
      "[*********************100%***********************]  1 of 1 downloaded\n",
      "[*********************100%***********************]  1 of 1 downloaded\n",
      "[*********************100%***********************]  1 of 1 downloaded\n",
      "[*********************100%***********************]  1 of 1 downloaded\n",
      "[*********************100%***********************]  1 of 1 downloaded\n",
      "[*********************100%***********************]  1 of 1 downloaded\n",
      "[*********************100%***********************]  1 of 1 downloaded\n",
      "[*********************100%***********************]  1 of 1 downloaded\n",
      "[*********************100%***********************]  1 of 1 downloaded\n",
      "[*********************100%***********************]  1 of 1 downloaded\n",
      "[*********************100%***********************]  1 of 1 downloaded\n",
      "[*********************100%***********************]  1 of 1 downloaded\n",
      "[*********************100%***********************]  1 of 1 downloaded\n",
      "[*********************100%***********************]  1 of 1 downloaded\n",
      "[*********************100%***********************]  1 of 1 downloaded\n"
     ]
    }
   ],
   "source": [
    "tickers = list(df[\"Symbol\"])\n",
    "\n",
    "for ticker in tickers:\n",
    "   \n",
    "    data = yf.download(ticker, start=start_date, end=end_date)\n",
    "\n",
    "    try:\n",
    "        data = data.resample('QS').mean()\n",
    "        data.reset_index(inplace=True)\n",
    "        data[\"Ticker\"] = ticker\n",
    "        data = data[[\"Ticker\",\"Date\",\"Close\",\"Volume\"]]\n",
    "        list_dict_prices_stock = []\n",
    "        for item, row in data.iterrows():\n",
    "            dict_row ={\n",
    "                \"Ticker\" : row[\"Ticker\"],\n",
    "                \"Date\" : row[\"Date\"].strftime('%Y-%m-%d'),\n",
    "                \"Close\" : row[\"Close\"],\n",
    "                \"Volume\" : row[\"Volume\"]\n",
    "                }\n",
    "            list_dict_prices_stock.append(dict_row)\n",
    "        db.StockPrice_Energy.insert_many(list_dict_prices_stock)\n",
    "    except Exception as e:\n",
    "        print(e)"
   ]
  },
  {
   "cell_type": "markdown",
   "metadata": {},
   "source": [
    "# CPI Data"
   ]
  },
  {
   "cell_type": "code",
   "execution_count": 18,
   "metadata": {},
   "outputs": [],
   "source": [
    "# Initialize PyMongo to work with MongoDBs\n",
    "conn = 'mongodb://localhost:27017'\n",
    "client = pymongo.MongoClient(conn)"
   ]
  },
  {
   "cell_type": "code",
   "execution_count": 19,
   "metadata": {},
   "outputs": [],
   "source": [
    "# Define database and collection\n",
    "db = client.EcoParameters_db\n",
    "\n",
    "db.CPI.drop()\n",
    "collection = db.CPI"
   ]
  },
  {
   "cell_type": "code",
   "execution_count": 20,
   "metadata": {},
   "outputs": [
    {
     "data": {
      "text/html": [
       "<div>\n",
       "<style scoped>\n",
       "    .dataframe tbody tr th:only-of-type {\n",
       "        vertical-align: middle;\n",
       "    }\n",
       "\n",
       "    .dataframe tbody tr th {\n",
       "        vertical-align: top;\n",
       "    }\n",
       "\n",
       "    .dataframe thead th {\n",
       "        text-align: right;\n",
       "    }\n",
       "</style>\n",
       "<table border=\"1\" class=\"dataframe\">\n",
       "  <thead>\n",
       "    <tr style=\"text-align: right;\">\n",
       "      <th></th>\n",
       "      <th>DATE</th>\n",
       "      <th>CPALTT01USM661S</th>\n",
       "    </tr>\n",
       "  </thead>\n",
       "  <tbody>\n",
       "    <tr>\n",
       "      <th>0</th>\n",
       "      <td>1960-01-01</td>\n",
       "      <td>12.391516</td>\n",
       "    </tr>\n",
       "    <tr>\n",
       "      <th>1</th>\n",
       "      <td>1960-02-01</td>\n",
       "      <td>12.408393</td>\n",
       "    </tr>\n",
       "    <tr>\n",
       "      <th>2</th>\n",
       "      <td>1960-03-01</td>\n",
       "      <td>12.408393</td>\n",
       "    </tr>\n",
       "    <tr>\n",
       "      <th>3</th>\n",
       "      <td>1960-04-01</td>\n",
       "      <td>12.463241</td>\n",
       "    </tr>\n",
       "    <tr>\n",
       "      <th>4</th>\n",
       "      <td>1960-05-01</td>\n",
       "      <td>12.475898</td>\n",
       "    </tr>\n",
       "  </tbody>\n",
       "</table>\n",
       "</div>"
      ],
      "text/plain": [
       "         DATE  CPALTT01USM661S\n",
       "0  1960-01-01        12.391516\n",
       "1  1960-02-01        12.408393\n",
       "2  1960-03-01        12.408393\n",
       "3  1960-04-01        12.463241\n",
       "4  1960-05-01        12.475898"
      ]
     },
     "execution_count": 20,
     "metadata": {},
     "output_type": "execute_result"
    }
   ],
   "source": [
    "file_path = \"Resources/CPI-Monthly.csv\"\n",
    "df = pd.read_csv(file_path)\n",
    "df.head()"
   ]
  },
  {
   "cell_type": "code",
   "execution_count": 21,
   "metadata": {},
   "outputs": [
    {
     "name": "stdout",
     "output_type": "stream",
     "text": [
      "<class 'pandas.core.frame.DataFrame'>\n",
      "RangeIndex: 710 entries, 0 to 709\n",
      "Data columns (total 2 columns):\n",
      "DATE               710 non-null object\n",
      "CPALTT01USM661S    710 non-null float64\n",
      "dtypes: float64(1), object(1)\n",
      "memory usage: 11.2+ KB\n"
     ]
    }
   ],
   "source": [
    "df.info()"
   ]
  },
  {
   "cell_type": "code",
   "execution_count": 22,
   "metadata": {},
   "outputs": [
    {
     "data": {
      "text/html": [
       "<div>\n",
       "<style scoped>\n",
       "    .dataframe tbody tr th:only-of-type {\n",
       "        vertical-align: middle;\n",
       "    }\n",
       "\n",
       "    .dataframe tbody tr th {\n",
       "        vertical-align: top;\n",
       "    }\n",
       "\n",
       "    .dataframe thead th {\n",
       "        text-align: right;\n",
       "    }\n",
       "</style>\n",
       "<table border=\"1\" class=\"dataframe\">\n",
       "  <thead>\n",
       "    <tr style=\"text-align: right;\">\n",
       "      <th></th>\n",
       "      <th>CPALTT01USM661S</th>\n",
       "    </tr>\n",
       "    <tr>\n",
       "      <th>DATE</th>\n",
       "      <th></th>\n",
       "    </tr>\n",
       "  </thead>\n",
       "  <tbody>\n",
       "    <tr>\n",
       "      <th>1960-01-01</th>\n",
       "      <td>12.391516</td>\n",
       "    </tr>\n",
       "    <tr>\n",
       "      <th>1960-02-01</th>\n",
       "      <td>12.408393</td>\n",
       "    </tr>\n",
       "    <tr>\n",
       "      <th>1960-03-01</th>\n",
       "      <td>12.408393</td>\n",
       "    </tr>\n",
       "    <tr>\n",
       "      <th>1960-04-01</th>\n",
       "      <td>12.463241</td>\n",
       "    </tr>\n",
       "    <tr>\n",
       "      <th>1960-05-01</th>\n",
       "      <td>12.475898</td>\n",
       "    </tr>\n",
       "  </tbody>\n",
       "</table>\n",
       "</div>"
      ],
      "text/plain": [
       "            CPALTT01USM661S\n",
       "DATE                       \n",
       "1960-01-01        12.391516\n",
       "1960-02-01        12.408393\n",
       "1960-03-01        12.408393\n",
       "1960-04-01        12.463241\n",
       "1960-05-01        12.475898"
      ]
     },
     "execution_count": 22,
     "metadata": {},
     "output_type": "execute_result"
    }
   ],
   "source": [
    "df['DATE'] = pd.to_datetime(df['DATE'])\n",
    "df.set_index(\"DATE\", inplace = True) \n",
    "df.head()"
   ]
  },
  {
   "cell_type": "code",
   "execution_count": 23,
   "metadata": {},
   "outputs": [
    {
     "name": "stdout",
     "output_type": "stream",
     "text": [
      "<class 'pandas.core.frame.DataFrame'>\n",
      "DatetimeIndex: 710 entries, 1960-01-01 to 2019-02-01\n",
      "Data columns (total 1 columns):\n",
      "CPALTT01USM661S    710 non-null float64\n",
      "dtypes: float64(1)\n",
      "memory usage: 11.1 KB\n"
     ]
    }
   ],
   "source": [
    "df.info()"
   ]
  },
  {
   "cell_type": "code",
   "execution_count": 24,
   "metadata": {},
   "outputs": [
    {
     "data": {
      "text/html": [
       "<div>\n",
       "<style scoped>\n",
       "    .dataframe tbody tr th:only-of-type {\n",
       "        vertical-align: middle;\n",
       "    }\n",
       "\n",
       "    .dataframe tbody tr th {\n",
       "        vertical-align: top;\n",
       "    }\n",
       "\n",
       "    .dataframe thead th {\n",
       "        text-align: right;\n",
       "    }\n",
       "</style>\n",
       "<table border=\"1\" class=\"dataframe\">\n",
       "  <thead>\n",
       "    <tr style=\"text-align: right;\">\n",
       "      <th></th>\n",
       "      <th>CPALTT01USM661S</th>\n",
       "    </tr>\n",
       "    <tr>\n",
       "      <th>DATE</th>\n",
       "      <th></th>\n",
       "    </tr>\n",
       "  </thead>\n",
       "  <tbody>\n",
       "    <tr>\n",
       "      <th>1960-01-01</th>\n",
       "      <td>12.402767</td>\n",
       "    </tr>\n",
       "    <tr>\n",
       "      <th>1960-04-01</th>\n",
       "      <td>12.477305</td>\n",
       "    </tr>\n",
       "    <tr>\n",
       "      <th>1960-07-01</th>\n",
       "      <td>12.484337</td>\n",
       "    </tr>\n",
       "    <tr>\n",
       "      <th>1960-10-01</th>\n",
       "      <td>12.564500</td>\n",
       "    </tr>\n",
       "    <tr>\n",
       "      <th>1961-01-01</th>\n",
       "      <td>12.589814</td>\n",
       "    </tr>\n",
       "  </tbody>\n",
       "</table>\n",
       "</div>"
      ],
      "text/plain": [
       "            CPALTT01USM661S\n",
       "DATE                       \n",
       "1960-01-01        12.402767\n",
       "1960-04-01        12.477305\n",
       "1960-07-01        12.484337\n",
       "1960-10-01        12.564500\n",
       "1961-01-01        12.589814"
      ]
     },
     "execution_count": 24,
     "metadata": {},
     "output_type": "execute_result"
    }
   ],
   "source": [
    "df= df.resample('QS').mean()\n",
    "df.head()"
   ]
  },
  {
   "cell_type": "code",
   "execution_count": 25,
   "metadata": {},
   "outputs": [
    {
     "data": {
      "text/html": [
       "<div>\n",
       "<style scoped>\n",
       "    .dataframe tbody tr th:only-of-type {\n",
       "        vertical-align: middle;\n",
       "    }\n",
       "\n",
       "    .dataframe tbody tr th {\n",
       "        vertical-align: top;\n",
       "    }\n",
       "\n",
       "    .dataframe thead th {\n",
       "        text-align: right;\n",
       "    }\n",
       "</style>\n",
       "<table border=\"1\" class=\"dataframe\">\n",
       "  <thead>\n",
       "    <tr style=\"text-align: right;\">\n",
       "      <th></th>\n",
       "      <th>DATE</th>\n",
       "      <th>CPALTT01USM661S</th>\n",
       "    </tr>\n",
       "  </thead>\n",
       "  <tbody>\n",
       "    <tr>\n",
       "      <th>0</th>\n",
       "      <td>1960-01-01</td>\n",
       "      <td>12.402767</td>\n",
       "    </tr>\n",
       "    <tr>\n",
       "      <th>1</th>\n",
       "      <td>1960-04-01</td>\n",
       "      <td>12.477305</td>\n",
       "    </tr>\n",
       "    <tr>\n",
       "      <th>2</th>\n",
       "      <td>1960-07-01</td>\n",
       "      <td>12.484337</td>\n",
       "    </tr>\n",
       "    <tr>\n",
       "      <th>3</th>\n",
       "      <td>1960-10-01</td>\n",
       "      <td>12.564500</td>\n",
       "    </tr>\n",
       "    <tr>\n",
       "      <th>4</th>\n",
       "      <td>1961-01-01</td>\n",
       "      <td>12.589814</td>\n",
       "    </tr>\n",
       "  </tbody>\n",
       "</table>\n",
       "</div>"
      ],
      "text/plain": [
       "        DATE  CPALTT01USM661S\n",
       "0 1960-01-01        12.402767\n",
       "1 1960-04-01        12.477305\n",
       "2 1960-07-01        12.484337\n",
       "3 1960-10-01        12.564500\n",
       "4 1961-01-01        12.589814"
      ]
     },
     "execution_count": 25,
     "metadata": {},
     "output_type": "execute_result"
    }
   ],
   "source": [
    "df.reset_index(inplace=True)\n",
    "df.head()"
   ]
  },
  {
   "cell_type": "code",
   "execution_count": 26,
   "metadata": {},
   "outputs": [
    {
     "data": {
      "text/html": [
       "<div>\n",
       "<style scoped>\n",
       "    .dataframe tbody tr th:only-of-type {\n",
       "        vertical-align: middle;\n",
       "    }\n",
       "\n",
       "    .dataframe tbody tr th {\n",
       "        vertical-align: top;\n",
       "    }\n",
       "\n",
       "    .dataframe thead th {\n",
       "        text-align: right;\n",
       "    }\n",
       "</style>\n",
       "<table border=\"1\" class=\"dataframe\">\n",
       "  <thead>\n",
       "    <tr style=\"text-align: right;\">\n",
       "      <th></th>\n",
       "      <th>Date</th>\n",
       "      <th>CPI</th>\n",
       "    </tr>\n",
       "  </thead>\n",
       "  <tbody>\n",
       "    <tr>\n",
       "      <th>0</th>\n",
       "      <td>1960-01-01</td>\n",
       "      <td>12.402767</td>\n",
       "    </tr>\n",
       "    <tr>\n",
       "      <th>1</th>\n",
       "      <td>1960-04-01</td>\n",
       "      <td>12.477305</td>\n",
       "    </tr>\n",
       "    <tr>\n",
       "      <th>2</th>\n",
       "      <td>1960-07-01</td>\n",
       "      <td>12.484337</td>\n",
       "    </tr>\n",
       "    <tr>\n",
       "      <th>3</th>\n",
       "      <td>1960-10-01</td>\n",
       "      <td>12.564500</td>\n",
       "    </tr>\n",
       "    <tr>\n",
       "      <th>4</th>\n",
       "      <td>1961-01-01</td>\n",
       "      <td>12.589814</td>\n",
       "    </tr>\n",
       "  </tbody>\n",
       "</table>\n",
       "</div>"
      ],
      "text/plain": [
       "        Date        CPI\n",
       "0 1960-01-01  12.402767\n",
       "1 1960-04-01  12.477305\n",
       "2 1960-07-01  12.484337\n",
       "3 1960-10-01  12.564500\n",
       "4 1961-01-01  12.589814"
      ]
     },
     "execution_count": 26,
     "metadata": {},
     "output_type": "execute_result"
    }
   ],
   "source": [
    "df = df.rename(columns={'DATE': 'Date', 'CPALTT01USM661S': 'CPI'})\n",
    "df.head()"
   ]
  },
  {
   "cell_type": "code",
   "execution_count": 27,
   "metadata": {},
   "outputs": [
    {
     "data": {
      "text/plain": [
       "<pymongo.results.InsertManyResult at 0x2ccd8b4ec08>"
      ]
     },
     "execution_count": 27,
     "metadata": {},
     "output_type": "execute_result"
    }
   ],
   "source": [
    "list_dict_CPI = []\n",
    "for item, row in df.iterrows():\n",
    "    dict_row ={        \n",
    "        \"Date\" : row[\"Date\"].strftime('%Y-%m-%d'),\n",
    "        \"CPI\" : row[\"CPI\"]        \n",
    "                }\n",
    "    list_dict_CPI.append(dict_row)\n",
    "db.CPI.insert_many(list_dict_CPI)"
   ]
  },
  {
   "cell_type": "code",
   "execution_count": 28,
   "metadata": {},
   "outputs": [
    {
     "name": "stdout",
     "output_type": "stream",
     "text": [
      "[{'_id': ObjectId('5ccde5d72af975e90113af81'), 'Date': '1960-01-01', 'CPI': 12.402767171412435}, {'_id': ObjectId('5ccde5d72af975e90113af82'), 'Date': '1960-04-01', 'CPI': 12.477304722164797}, {'_id': ObjectId('5ccde5d72af975e90113af83'), 'Date': '1960-07-01', 'CPI': 12.484336566575399}, {'_id': ObjectId('5ccde5d72af975e90113af84'), 'Date': '1960-10-01', 'CPI': 12.564499592856201}, {'_id': ObjectId('5ccde5d72af975e90113af85'), 'Date': '1961-01-01', 'CPI': 12.589814232734403}, {'_id': ObjectId('5ccde5d72af975e90113af86'), 'Date': '1961-04-01', 'CPI': 12.585595126088032}, {'_id': ObjectId('5ccde5d72af975e90113af87'), 'Date': '1961-07-01', 'CPI': 12.634818036962168}, {'_id': ObjectId('5ccde5d72af975e90113af88'), 'Date': '1961-10-01', 'CPI': 12.653100832429766}, {'_id': ObjectId('5ccde5d72af975e90113af89'), 'Date': '1962-01-01', 'CPI': 12.7023237433039}, {'_id': ObjectId('5ccde5d72af975e90113af8a'), 'Date': '1962-04-01', 'CPI': 12.750140285295965}, {'_id': ObjectId('5ccde5d72af975e90113af8b'), 'Date': '1962-07-01', 'CPI': 12.786705876231101}, {'_id': ObjectId('5ccde5d72af975e90113af8c'), 'Date': '1962-10-01', 'CPI': 12.817645991637699}, {'_id': ObjectId('5ccde5d72af975e90113af8d'), 'Date': '1963-01-01', 'CPI': 12.8584306892192}, {'_id': ObjectId('5ccde5d72af975e90113af8e'), 'Date': '1963-04-01', 'CPI': 12.882338960215234}, {'_id': ObjectId('5ccde5d72af975e90113af8f'), 'Date': '1963-07-01', 'CPI': 12.9610956176139}, {'_id': ObjectId('5ccde5d72af975e90113af90'), 'Date': '1963-10-01', 'CPI': 12.996254839666932}, {'_id': ObjectId('5ccde5d72af975e90113af91'), 'Date': '1964-01-01', 'CPI': 13.049696857187435}, {'_id': ObjectId('5ccde5d72af975e90113af92'), 'Date': '1964-04-01', 'CPI': 13.070792390419266}, {'_id': ObjectId('5ccde5d72af975e90113af93'), 'Date': '1964-07-01', 'CPI': 13.10032613694377}, {'_id': ObjectId('5ccde5d72af975e90113af94'), 'Date': '1964-10-01', 'CPI': 13.160799998874902}, {'_id': ObjectId('5ccde5d72af975e90113af95'), 'Date': '1965-01-01', 'CPI': 13.201584696456365}, {'_id': ObjectId('5ccde5d72af975e90113af96'), 'Date': '1965-04-01', 'CPI': 13.285966829383533}, {'_id': ObjectId('5ccde5d72af975e90113af97'), 'Date': '1965-07-01', 'CPI': 13.325345158082902}, {'_id': ObjectId('5ccde5d72af975e90113af98'), 'Date': '1965-10-01', 'CPI': 13.395663602188899}, {'_id': ObjectId('5ccde5d72af975e90113af99'), 'Date': '1966-01-01', 'CPI': 13.5208304326975}, {'_id': ObjectId('5ccde5d72af975e90113af9a'), 'Date': '1966-04-01', 'CPI': 13.643184525441933}, {'_id': ObjectId('5ccde5d72af975e90113af9b'), 'Date': '1966-07-01', 'CPI': 13.761319511539966}, {'_id': ObjectId('5ccde5d72af975e90113af9c'), 'Date': '1966-10-01', 'CPI': 13.873829022109499}, {'_id': ObjectId('5ccde5d72af975e90113af9d'), 'Date': '1967-01-01', 'CPI': 13.908988244162499}, {'_id': ObjectId('5ccde5d72af975e90113af9e'), 'Date': '1967-04-01', 'CPI': 13.993370377089699}, {'_id': ObjectId('5ccde5d72af975e90113af9f'), 'Date': '1967-07-01', 'CPI': 14.134007265301634}, {'_id': ObjectId('5ccde5d72af975e90113afa0'), 'Date': '1967-10-01', 'CPI': 14.2887078423348}, {'_id': ObjectId('5ccde5d72af975e90113afa1'), 'Date': '1968-01-01', 'CPI': 14.429344730546767}, {'_id': ObjectId('5ccde5d72af975e90113afa2'), 'Date': '1968-04-01', 'CPI': 14.569981618758698}, {'_id': ObjectId('5ccde5d72af975e90113afa3'), 'Date': '1968-07-01', 'CPI': 14.766873262255436}, {'_id': ObjectId('5ccde5d72af975e90113afa4'), 'Date': '1968-10-01', 'CPI': 14.949701216930999}, {'_id': ObjectId('5ccde5d72af975e90113afa5'), 'Date': '1969-01-01', 'CPI': 15.132529171606533}, {'_id': ObjectId('5ccde5d72af975e90113afa6'), 'Date': '1969-04-01', 'CPI': 15.371611881566865}, {'_id': ObjectId('5ccde5d72af975e90113afa7'), 'Date': '1969-07-01', 'CPI': 15.5825672138848}, {'_id': ObjectId('5ccde5d72af975e90113afa8'), 'Date': '1969-10-01', 'CPI': 15.821649923845134}, {'_id': ObjectId('5ccde5d72af975e90113afa9'), 'Date': '1970-01-01', 'CPI': 16.074796322626636}, {'_id': ObjectId('5ccde5d72af975e90113afaa'), 'Date': '1970-04-01', 'CPI': 16.299815343765797}, {'_id': ObjectId('5ccde5d72af975e90113afab'), 'Date': '1970-07-01', 'CPI': 16.468579609620097}, {'_id': ObjectId('5ccde5d72af975e90113afac'), 'Date': '1970-10-01', 'CPI': 16.707662319580432}, {'_id': ObjectId('5ccde5d72af975e90113afad'), 'Date': '1971-01-01', 'CPI': 16.848299207792405}, {'_id': ObjectId('5ccde5d72af975e90113afae'), 'Date': '1971-04-01', 'CPI': 17.00299978482557}, {'_id': ObjectId('5ccde5d72af975e90113afaf'), 'Date': '1971-07-01', 'CPI': 17.1717640506799}, {'_id': ObjectId('5ccde5d72af975e90113afb0'), 'Date': '1971-10-01', 'CPI': 17.298337250070702}, {'_id': ObjectId('5ccde5d72af975e90113afb1'), 'Date': '1972-01-01', 'CPI': 17.4389741382826}, {'_id': ObjectId('5ccde5d72af975e90113afb2'), 'Date': '1972-04-01', 'CPI': 17.551483648852198}, {'_id': ObjectId('5ccde5d72af975e90113afb3'), 'Date': '1972-07-01', 'CPI': 17.692120537064167}, {'_id': ObjectId('5ccde5d72af975e90113afb4'), 'Date': '1972-10-01', 'CPI': 17.874948491739698}, {'_id': ObjectId('5ccde5d72af975e90113afb5'), 'Date': '1973-01-01', 'CPI': 18.1562222681636}, {'_id': ObjectId('5ccde5d72af975e90113afb6'), 'Date': '1973-04-01', 'CPI': 18.535941866335865}, {'_id': ObjectId('5ccde5d72af975e90113afb7'), 'Date': '1973-07-01', 'CPI': 18.901597775686934}, {'_id': ObjectId('5ccde5d72af975e90113afb8'), 'Date': '1973-10-01', 'CPI': 19.379763195607634}, {'_id': ObjectId('5ccde5d72af975e90113afb9'), 'Date': '1974-01-01', 'CPI': 19.956374437276633}, {'_id': ObjectId('5ccde5d72af975e90113afba'), 'Date': '1974-04-01', 'CPI': 20.490794612482066}, {'_id': ObjectId('5ccde5d72af975e90113afbb'), 'Date': '1974-07-01', 'CPI': 21.067405854151097}, {'_id': ObjectId('5ccde5d72af975e90113afbc'), 'Date': '1974-10-01', 'CPI': 21.7143355399261}, {'_id': ObjectId('5ccde5d72af975e90113afbd'), 'Date': '1975-01-01', 'CPI': 22.17843727102557}, {'_id': ObjectId('5ccde5d72af975e90113afbe'), 'Date': '1975-04-01', 'CPI': 22.445647358628264}, {'_id': ObjectId('5ccde5d72af975e90113afbf'), 'Date': '1975-07-01', 'CPI': 22.89568540090657}, {'_id': ObjectId('5ccde5d72af975e90113afc0'), 'Date': '1975-10-01', 'CPI': 23.317596065542432}, {'_id': ObjectId('5ccde5d72af975e90113afc1'), 'Date': '1976-01-01', 'CPI': 23.5848061531451}, {'_id': ObjectId('5ccde5d72af975e90113afc2'), 'Date': '1976-04-01', 'CPI': 23.79576148546307}, {'_id': ObjectId('5ccde5d72af975e90113afc3'), 'Date': '1976-07-01', 'CPI': 24.175481083635333}, {'_id': ObjectId('5ccde5d72af975e90113afc4'), 'Date': '1976-10-01', 'CPI': 24.52707330416523}, {'_id': ObjectId('5ccde5d72af975e90113afc5'), 'Date': '1977-01-01', 'CPI': 24.977111346443497}, {'_id': ObjectId('5ccde5d72af975e90113afc6'), 'Date': '1977-04-01', 'CPI': 25.413085699900563}, {'_id': ObjectId('5ccde5d72af975e90113afc7'), 'Date': '1977-07-01', 'CPI': 25.76467792043047}, {'_id': ObjectId('5ccde5d72af975e90113afc8'), 'Date': '1977-10-01', 'CPI': 26.144397518602734}, {'_id': ObjectId('5ccde5d72af975e90113afc9'), 'Date': '1978-01-01', 'CPI': 26.594435560881}, {'_id': ObjectId('5ccde5d72af975e90113afca'), 'Date': '1978-04-01', 'CPI': 27.1991741801924}, {'_id': ObjectId('5ccde5d72af975e90113afcb'), 'Date': '1978-07-01', 'CPI': 27.8320401771462}, {'_id': ObjectId('5ccde5d72af975e90113afcc'), 'Date': '1978-10-01', 'CPI': 28.478969862921232}, {'_id': ObjectId('5ccde5d72af975e90113afcd'), 'Date': '1979-01-01', 'CPI': 29.1962179928022}, {'_id': ObjectId('5ccde5d72af975e90113afce'), 'Date': '1979-04-01', 'CPI': 30.124421455001098}, {'_id': ObjectId('5ccde5d72af975e90113afcf'), 'Date': '1979-07-01', 'CPI': 31.094815983663597}, {'_id': ObjectId('5ccde5d72af975e90113afd0'), 'Date': '1979-10-01', 'CPI': 32.0792742011473}, {'_id': ObjectId('5ccde5d72af975e90113afd1'), 'Date': '1980-01-01', 'CPI': 33.345006195054935}, {'_id': ObjectId('5ccde5d72af975e90113afd2'), 'Date': '1980-04-01', 'CPI': 34.4701013007506}, {'_id': ObjectId('5ccde5d72af975e90113afd3'), 'Date': '1980-07-01', 'CPI': 35.1170309865256}, {'_id': ObjectId('5ccde5d72af975e90113afd4'), 'Date': '1980-10-01', 'CPI': 36.101489204009305}, {'_id': ObjectId('5ccde5d72af975e90113afd5'), 'Date': '1981-01-01', 'CPI': 37.1000111103142}, {'_id': ObjectId('5ccde5d72af975e90113afd6'), 'Date': '1981-04-01', 'CPI': 37.873513995479904}, {'_id': ObjectId('5ccde5d72af975e90113afd7'), 'Date': '1981-07-01', 'CPI': 38.9282906570696}, {'_id': ObjectId('5ccde5d72af975e90113afd8'), 'Date': '1981-10-01', 'CPI': 39.5611566540234}, {'_id': ObjectId('5ccde5d72af975e90113afd9'), 'Date': '1982-01-01', 'CPI': 39.9127488745533}, {'_id': ObjectId('5ccde5d72af975e90113afda'), 'Date': '1982-04-01', 'CPI': 40.489360116222294}, {'_id': ObjectId('5ccde5d72af975e90113afdb'), 'Date': '1982-07-01', 'CPI': 41.192544557282105}, {'_id': ObjectId('5ccde5d72af975e90113afdc'), 'Date': '1982-10-01', 'CPI': 41.31911775667283}, {'_id': ObjectId('5ccde5d72af975e90113afdd'), 'Date': '1983-01-01', 'CPI': 41.34724513431524}, {'_id': ObjectId('5ccde5d72af975e90113afde'), 'Date': '1983-04-01', 'CPI': 41.82541055423593}, {'_id': ObjectId('5ccde5d72af975e90113afdf'), 'Date': '1983-07-01', 'CPI': 42.233257530050565}, {'_id': ObjectId('5ccde5d72af975e90113afe0'), 'Date': '1983-10-01', 'CPI': 42.65516819468643}, {'_id': ObjectId('5ccde5d72af975e90113afe1'), 'Date': '1984-01-01', 'CPI': 43.25990681399787}, {'_id': ObjectId('5ccde5d72af975e90113afe2'), 'Date': '1984-04-01', 'CPI': 43.66775378981254}, {'_id': ObjectId('5ccde5d72af975e90113afe3'), 'Date': '1984-07-01', 'CPI': 44.04747338798484}, {'_id': ObjectId('5ccde5d72af975e90113afe4'), 'Date': '1984-10-01', 'CPI': 44.4271929861571}, {'_id': ObjectId('5ccde5d72af975e90113afe5'), 'Date': '1985-01-01', 'CPI': 44.835039961971766}, {'_id': ObjectId('5ccde5d72af975e90113afe6'), 'Date': '1985-04-01', 'CPI': 45.242886937786466}, {'_id': ObjectId('5ccde5d72af975e90113afe7'), 'Date': '1985-07-01', 'CPI': 45.52416071421036}, {'_id': ObjectId('5ccde5d72af975e90113afe8'), 'Date': '1985-10-01', 'CPI': 45.98826244530983}, {'_id': ObjectId('5ccde5d72af975e90113afe9'), 'Date': '1986-01-01', 'CPI': 46.227345155270136}, {'_id': ObjectId('5ccde5d72af975e90113afea'), 'Date': '1986-04-01', 'CPI': 46.00232613413104}, {'_id': ObjectId('5ccde5d72af975e90113afeb'), 'Date': '1986-07-01', 'CPI': 46.28359991055493}, {'_id': ObjectId('5ccde5d72af975e90113afec'), 'Date': '1986-10-01', 'CPI': 46.60706475344244}, {'_id': ObjectId('5ccde5d72af975e90113afed'), 'Date': '1987-01-01', 'CPI': 47.16961230629027}, {'_id': ObjectId('5ccde5d72af975e90113afee'), 'Date': '1987-04-01', 'CPI': 47.704032481495666}, {'_id': ObjectId('5ccde5d72af975e90113afef'), 'Date': '1987-07-01', 'CPI': 48.210325279058736}, {'_id': ObjectId('5ccde5d72af975e90113aff0'), 'Date': '1987-10-01', 'CPI': 48.660363321337}, {'_id': ObjectId('5ccde5d72af975e90113aff1'), 'Date': '1988-01-01', 'CPI': 49.04008291950927}, {'_id': ObjectId('5ccde5d72af975e90113aff2'), 'Date': '1988-04-01', 'CPI': 49.602630472357106}, {'_id': ObjectId('5ccde5d72af975e90113aff3'), 'Date': '1988-07-01', 'CPI': 50.20736909166853}, {'_id': ObjectId('5ccde5d72af975e90113aff4'), 'Date': '1988-10-01', 'CPI': 50.75585295569516}, {'_id': ObjectId('5ccde5d72af975e90113aff5'), 'Date': '1989-01-01', 'CPI': 51.33246419736415}, {'_id': ObjectId('5ccde5d72af975e90113aff6'), 'Date': '1989-04-01', 'CPI': 52.16222183781474}, {'_id': ObjectId('5ccde5d72af975e90113aff7'), 'Date': '1989-07-01', 'CPI': 52.570068813629405}, {'_id': ObjectId('5ccde5d72af975e90113aff8'), 'Date': '1989-10-01', 'CPI': 53.10448898883484}, {'_id': ObjectId('5ccde5d72af975e90113aff9'), 'Date': '1990-01-01', 'CPI': 54.018628762212565}, {'_id': ObjectId('5ccde5d72af975e90113affa'), 'Date': '1990-04-01', 'CPI': 54.55304893741797}, {'_id': ObjectId('5ccde5d72af975e90113affb'), 'Date': '1990-07-01', 'CPI': 55.4953160884381}, {'_id': ObjectId('5ccde5d72af975e90113affc'), 'Date': '1990-10-01', 'CPI': 56.43758323945817}, {'_id': ObjectId('5ccde5d72af975e90113affd'), 'Date': '1991-01-01', 'CPI': 56.8594939040941}, {'_id': ObjectId('5ccde5d72af975e90113affe'), 'Date': '1991-04-01', 'CPI': 57.19702243580277}, {'_id': ObjectId('5ccde5d72af975e90113afff'), 'Date': '1991-07-01', 'CPI': 57.632996789259835}, {'_id': ObjectId('5ccde5d72af975e90113b000'), 'Date': '1991-10-01', 'CPI': 58.1111622091805}, {'_id': ObjectId('5ccde5d72af975e90113b001'), 'Date': '1992-01-01', 'CPI': 58.50494549617397}, {'_id': ObjectId('5ccde5d72af975e90113b002'), 'Date': '1992-04-01', 'CPI': 58.95498353845223}, {'_id': ObjectId('5ccde5d72af975e90113b003'), 'Date': '1992-07-01', 'CPI': 59.40502158073047}, {'_id': ObjectId('5ccde5d72af975e90113b004'), 'Date': '1992-10-01', 'CPI': 59.925378067114735}, {'_id': ObjectId('5ccde5d72af975e90113b005'), 'Date': '1993-01-01', 'CPI': 60.3613524205718}, {'_id': ObjectId('5ccde5d72af975e90113b006'), 'Date': '1993-04-01', 'CPI': 60.797326774028825}, {'_id': ObjectId('5ccde5d72af975e90113b007'), 'Date': '1993-07-01', 'CPI': 61.07860055045276}, {'_id': ObjectId('5ccde5d72af975e90113b008'), 'Date': '1993-10-01', 'CPI': 61.58489334801583}, {'_id': ObjectId('5ccde5d72af975e90113b009'), 'Date': '1994-01-01', 'CPI': 61.894294502082126}, {'_id': ObjectId('5ccde5d72af975e90113b00a'), 'Date': '1994-04-01', 'CPI': 62.245886722612}, {'_id': ObjectId('5ccde5d72af975e90113b00b'), 'Date': '1994-07-01', 'CPI': 62.822497964281034}, {'_id': ObjectId('5ccde5d72af975e90113b00c'), 'Date': '1994-10-01', 'CPI': 63.18815387363213}, {'_id': ObjectId('5ccde5d72af975e90113b00d'), 'Date': '1995-01-01', 'CPI': 63.65225560473156}, {'_id': ObjectId('5ccde5d72af975e90113b00e'), 'Date': '1995-04-01', 'CPI': 64.17261209111582}, {'_id': ObjectId('5ccde5d72af975e90113b00f'), 'Date': '1995-07-01', 'CPI': 64.49607693400331}, {'_id': ObjectId('5ccde5d72af975e90113b010'), 'Date': '1995-10-01', 'CPI': 64.84766915453321}, {'_id': ObjectId('5ccde5d72af975e90113b011'), 'Date': '1996-01-01', 'CPI': 65.42428039620224}, {'_id': ObjectId('5ccde5d72af975e90113b012'), 'Date': '1996-04-01', 'CPI': 65.98682794905007}, {'_id': ObjectId('5ccde5d72af975e90113b013'), 'Date': '1996-07-01', 'CPI': 66.36654754722237}, {'_id': ObjectId('5ccde5d72af975e90113b014'), 'Date': '1996-10-01', 'CPI': 66.94315878889137}, {'_id': ObjectId('5ccde5d72af975e90113b015'), 'Date': '1997-01-01', 'CPI': 67.35100576470599}, {'_id': ObjectId('5ccde5d72af975e90113b016'), 'Date': '1997-04-01', 'CPI': 67.5057063417392}, {'_id': ObjectId('5ccde5d72af975e90113b017'), 'Date': '1997-07-01', 'CPI': 67.84323487344786}, {'_id': ObjectId('5ccde5d72af975e90113b018'), 'Date': '1997-10-01', 'CPI': 68.208890782799}, {'_id': ObjectId('5ccde5d72af975e90113b019'), 'Date': '1998-01-01', 'CPI': 68.34952767101089}, {'_id': ObjectId('5ccde5d72af975e90113b01a'), 'Date': '1998-04-01', 'CPI': 68.57454669215004}, {'_id': ObjectId('5ccde5d72af975e90113b01b'), 'Date': '1998-07-01', 'CPI': 68.92613891267996}, {'_id': ObjectId('5ccde5d72af975e90113b01c'), 'Date': '1998-10-01', 'CPI': 69.24960375556743}, {'_id': ObjectId('5ccde5d72af975e90113b01d'), 'Date': '1999-01-01', 'CPI': 69.502750154349}, {'_id': ObjectId('5ccde5d72af975e90113b01e'), 'Date': '1999-04-01', 'CPI': 70.0231066407332}, {'_id': ObjectId('5ccde5d72af975e90113b01f'), 'Date': '1999-07-01', 'CPI': 70.54346312711748}, {'_id': ObjectId('5ccde5d72af975e90113b020'), 'Date': '1999-10-01', 'CPI': 71.06381961350168}, {'_id': ObjectId('5ccde5d72af975e90113b021'), 'Date': '2000-01-01', 'CPI': 71.7670040545615}, {'_id': ObjectId('5ccde5d72af975e90113b022'), 'Date': '2000-04-01', 'CPI': 72.3295516074093}, {'_id': ObjectId('5ccde5d72af975e90113b023'), 'Date': '2000-07-01', 'CPI': 72.99054498200546}, {'_id': ObjectId('5ccde5d72af975e90113b024'), 'Date': '2000-10-01', 'CPI': 73.51090146838976}, {'_id': ObjectId('5ccde5d72af975e90113b025'), 'Date': '2001-01-01', 'CPI': 74.21408590944954}, {'_id': ObjectId('5ccde5d72af975e90113b026'), 'Date': '2001-04-01', 'CPI': 74.73444239583377}, {'_id': ObjectId('5ccde5d72af975e90113b027'), 'Date': '2001-07-01', 'CPI': 74.94539772815166}, {'_id': ObjectId('5ccde5d72af975e90113b028'), 'Date': '2001-10-01', 'CPI': 74.8891429728669}, {'_id': ObjectId('5ccde5d72af975e90113b029'), 'Date': '2002-01-01', 'CPI': 75.12822568282722}, {'_id': ObjectId('5ccde5d72af975e90113b02a'), 'Date': '2002-04-01', 'CPI': 75.71890061331743}, {'_id': ObjectId('5ccde5d72af975e90113b02b'), 'Date': '2002-07-01', 'CPI': 76.12674758913212}, {'_id': ObjectId('5ccde5d72af975e90113b02c'), 'Date': '2002-10-01', 'CPI': 76.5767856314104}, {'_id': ObjectId('5ccde5d72af975e90113b02d'), 'Date': '2003-01-01', 'CPI': 77.36435220539732}, {'_id': ObjectId('5ccde5d72af975e90113b02e'), 'Date': '2003-04-01', 'CPI': 77.23777900600659}, {'_id': ObjectId('5ccde5d72af975e90113b02f'), 'Date': '2003-07-01', 'CPI': 77.8143902476756}, {'_id': ObjectId('5ccde5d72af975e90113b030'), 'Date': '2003-10-01', 'CPI': 78.10972771292074}, {'_id': ObjectId('5ccde5d72af975e90113b031'), 'Date': '2004-01-01', 'CPI': 78.77072108751695}, {'_id': ObjectId('5ccde5d72af975e90113b032'), 'Date': '2004-04-01', 'CPI': 79.3895233956495}, {'_id': ObjectId('5ccde5d72af975e90113b033'), 'Date': '2004-07-01', 'CPI': 79.89581619321257}, {'_id': ObjectId('5ccde5d72af975e90113b034'), 'Date': '2004-10-01', 'CPI': 80.75370121130554}, {'_id': ObjectId('5ccde5d72af975e90113b035'), 'Date': '2005-01-01', 'CPI': 81.1615481871202}, {'_id': ObjectId('5ccde5d72af975e90113b036'), 'Date': '2005-04-01', 'CPI': 81.71003205114681}, {'_id': ObjectId('5ccde5d72af975e90113b037'), 'Date': '2005-07-01', 'CPI': 82.94763666741206}, {'_id': ObjectId('5ccde5d72af975e90113b038'), 'Date': '2005-10-01', 'CPI': 83.72113955257777}, {'_id': ObjectId('5ccde5d72af975e90113b039'), 'Date': '2006-01-01', 'CPI': 84.15711390603487}, {'_id': ObjectId('5ccde5d72af975e90113b03a'), 'Date': '2006-04-01', 'CPI': 84.91655310237942}, {'_id': ObjectId('5ccde5d72af975e90113b03b'), 'Date': '2006-07-01', 'CPI': 85.71818336518758}, {'_id': ObjectId('5ccde5d72af975e90113b03c'), 'Date': '2006-10-01', 'CPI': 85.36659114465768}, {'_id': ObjectId('5ccde5d72af975e90113b03d'), 'Date': '2007-01-01', 'CPI': 86.20352126640704}, {'_id': ObjectId('5ccde5d72af975e90113b03e'), 'Date': '2007-04-01', 'CPI': 87.17982254437447}, {'_id': ObjectId('5ccde5d72af975e90113b03f'), 'Date': '2007-07-01', 'CPI': 87.73168169371816}, {'_id': ObjectId('5ccde5d72af975e90113b040'), 'Date': '2007-10-01', 'CPI': 88.80783516231604}, {'_id': ObjectId('5ccde5d72af975e90113b041'), 'Date': '2008-01-01', 'CPI': 89.76979147768587}, {'_id': ObjectId('5ccde5d72af975e90113b042'), 'Date': '2008-04-01', 'CPI': 90.93764019739793}, {'_id': ObjectId('5ccde5d72af975e90113b043'), 'Date': '2008-07-01', 'CPI': 92.33978997287113}, {'_id': ObjectId('5ccde5d72af975e90113b044'), 'Date': '2008-10-01', 'CPI': 90.22503308482793}, {'_id': ObjectId('5ccde5d72af975e90113b045'), 'Date': '2009-01-01', 'CPI': 89.60440249714856}, {'_id': ObjectId('5ccde5d72af975e90113b046'), 'Date': '2009-04-01', 'CPI': 90.08088027441072}, {'_id': ObjectId('5ccde5d72af975e90113b047'), 'Date': '2009-07-01', 'CPI': 90.85593016534676}, {'_id': ObjectId('5ccde5d72af975e90113b048'), 'Date': '2009-10-01', 'CPI': 91.56727154592288}, {'_id': ObjectId('5ccde5d72af975e90113b049'), 'Date': '2010-01-01', 'CPI': 91.7124088145576}, {'_id': ObjectId('5ccde5d72af975e90113b04a'), 'Date': '2010-04-01', 'CPI': 91.68006233026883}, {'_id': ObjectId('5ccde5d72af975e90113b04b'), 'Date': '2010-07-01', 'CPI': 91.94881942364191}, {'_id': ObjectId('5ccde5d72af975e90113b04c'), 'Date': '2010-10-01', 'CPI': 92.693351109836}, {'_id': ObjectId('5ccde5d72af975e90113b04d'), 'Date': '2011-01-01', 'CPI': 93.6825909815189}, {'_id': ObjectId('5ccde5d72af975e90113b04e'), 'Date': '2011-04-01', 'CPI': 94.74777477283628}, {'_id': ObjectId('5ccde5d72af975e90113b04f'), 'Date': '2011-07-01', 'CPI': 95.36559262275136}, {'_id': ObjectId('5ccde5d72af975e90113b050'), 'Date': '2011-10-01', 'CPI': 95.79369131046856}, {'_id': ObjectId('5ccde5d72af975e90113b051'), 'Date': '2012-01-01', 'CPI': 96.33317441364966}, {'_id': ObjectId('5ccde5d72af975e90113b052'), 'Date': '2012-04-01', 'CPI': 96.5365353540041}, {'_id': ObjectId('5ccde5d72af975e90113b053'), 'Date': '2012-07-01', 'CPI': 96.972369070573}, {'_id': ObjectId('5ccde5d72af975e90113b054'), 'Date': '2012-10-01', 'CPI': 97.6171892030248}, {'_id': ObjectId('5ccde5d72af975e90113b055'), 'Date': '2013-01-01', 'CPI': 98.00956612113613}, {'_id': ObjectId('5ccde5d72af975e90113b056'), 'Date': '2013-04-01', 'CPI': 97.90226017543044}, {'_id': ObjectId('5ccde5d72af975e90113b057'), 'Date': '2013-07-01', 'CPI': 98.43175805954843}, {'_id': ObjectId('5ccde5d72af975e90113b058'), 'Date': '2013-10-01', 'CPI': 98.79572632624104}, {'_id': ObjectId('5ccde5d72af975e90113b059'), 'Date': '2014-01-01', 'CPI': 99.4110127121683}, {'_id': ObjectId('5ccde5d72af975e90113b05a'), 'Date': '2014-04-01', 'CPI': 99.93896359051597}, {'_id': ObjectId('5ccde5d72af975e90113b05b'), 'Date': '2014-07-01', 'CPI': 100.19464145328533}, {'_id': ObjectId('5ccde5d72af975e90113b05c'), 'Date': '2014-10-01', 'CPI': 99.94571416115032}, {'_id': ObjectId('5ccde5d72af975e90113b05d'), 'Date': '2015-01-01', 'CPI': 99.28387696522469}, {'_id': ObjectId('5ccde5d72af975e90113b05e'), 'Date': '2015-04-01', 'CPI': 99.96666905749369}, {'_id': ObjectId('5ccde5d72af975e90113b05f'), 'Date': '2015-07-01', 'CPI': 100.35665514850568}, {'_id': ObjectId('5ccde5d72af975e90113b060'), 'Date': '2015-10-01', 'CPI': 100.36045234448733}, {'_id': ObjectId('5ccde5d72af975e90113b061'), 'Date': '2016-01-01', 'CPI': 100.321917837117}, {'_id': ObjectId('5ccde5d72af975e90113b062'), 'Date': '2016-04-01', 'CPI': 101.041697430986}, {'_id': ObjectId('5ccde5d72af975e90113b063'), 'Date': '2016-07-01', 'CPI': 101.512127822055}, {'_id': ObjectId('5ccde5d72af975e90113b064'), 'Date': '2016-10-01', 'CPI': 102.17157419088066}, {'_id': ObjectId('5ccde5d72af975e90113b065'), 'Date': '2017-01-01', 'CPI': 102.87447735816399}, {'_id': ObjectId('5ccde5d72af975e90113b066'), 'Date': '2017-04-01', 'CPI': 102.97362636435366}, {'_id': ObjectId('5ccde5d72af975e90113b067'), 'Date': '2017-07-01', 'CPI': 103.52351659726234}, {'_id': ObjectId('5ccde5d72af975e90113b068'), 'Date': '2017-10-01', 'CPI': 104.32725641339367}, {'_id': ObjectId('5ccde5d72af975e90113b069'), 'Date': '2018-01-01', 'CPI': 105.16137379737866}, {'_id': ObjectId('5ccde5d72af975e90113b06a'), 'Date': '2018-04-01', 'CPI': 105.72181179690334}, {'_id': ObjectId('5ccde5d72af975e90113b06b'), 'Date': '2018-07-01', 'CPI': 106.24920012769833}, {'_id': ObjectId('5ccde5d72af975e90113b06c'), 'Date': '2018-10-01', 'CPI': 106.64171768269766}, {'_id': ObjectId('5ccde5d72af975e90113b06d'), 'Date': '2019-01-01', 'CPI': 106.698253711759}]\n"
     ]
    }
   ],
   "source": [
    "list_CPI = list(db.CPI.find())\n",
    "print(list_CPI)"
   ]
  },
  {
   "cell_type": "markdown",
   "metadata": {},
   "source": [
    "# GDP Data"
   ]
  },
  {
   "cell_type": "code",
   "execution_count": 29,
   "metadata": {},
   "outputs": [],
   "source": [
    "# Initialize PyMongo to work with MongoDBs\n",
    "conn = 'mongodb://localhost:27017'\n",
    "client = pymongo.MongoClient(conn)"
   ]
  },
  {
   "cell_type": "code",
   "execution_count": 30,
   "metadata": {},
   "outputs": [],
   "source": [
    "# Define database and collection\n",
    "db = client.EcoParameters_db\n",
    "\n",
    "\n",
    "db.GDP.drop()\n",
    "collection = db.GDP"
   ]
  },
  {
   "cell_type": "code",
   "execution_count": 31,
   "metadata": {},
   "outputs": [
    {
     "data": {
      "text/html": [
       "<div>\n",
       "<style scoped>\n",
       "    .dataframe tbody tr th:only-of-type {\n",
       "        vertical-align: middle;\n",
       "    }\n",
       "\n",
       "    .dataframe tbody tr th {\n",
       "        vertical-align: top;\n",
       "    }\n",
       "\n",
       "    .dataframe thead th {\n",
       "        text-align: right;\n",
       "    }\n",
       "</style>\n",
       "<table border=\"1\" class=\"dataframe\">\n",
       "  <thead>\n",
       "    <tr style=\"text-align: right;\">\n",
       "      <th></th>\n",
       "      <th>DATE</th>\n",
       "      <th>GDP</th>\n",
       "    </tr>\n",
       "  </thead>\n",
       "  <tbody>\n",
       "    <tr>\n",
       "      <th>0</th>\n",
       "      <td>1947-01-01</td>\n",
       "      <td>243.164</td>\n",
       "    </tr>\n",
       "    <tr>\n",
       "      <th>1</th>\n",
       "      <td>1947-04-01</td>\n",
       "      <td>245.968</td>\n",
       "    </tr>\n",
       "    <tr>\n",
       "      <th>2</th>\n",
       "      <td>1947-07-01</td>\n",
       "      <td>249.585</td>\n",
       "    </tr>\n",
       "    <tr>\n",
       "      <th>3</th>\n",
       "      <td>1947-10-01</td>\n",
       "      <td>259.745</td>\n",
       "    </tr>\n",
       "    <tr>\n",
       "      <th>4</th>\n",
       "      <td>1948-01-01</td>\n",
       "      <td>265.742</td>\n",
       "    </tr>\n",
       "  </tbody>\n",
       "</table>\n",
       "</div>"
      ],
      "text/plain": [
       "         DATE      GDP\n",
       "0  1947-01-01  243.164\n",
       "1  1947-04-01  245.968\n",
       "2  1947-07-01  249.585\n",
       "3  1947-10-01  259.745\n",
       "4  1948-01-01  265.742"
      ]
     },
     "execution_count": 31,
     "metadata": {},
     "output_type": "execute_result"
    }
   ],
   "source": [
    "file_path = \"Resources/GDP.csv\"\n",
    "df = pd.read_csv(file_path)\n",
    "df.head()"
   ]
  },
  {
   "cell_type": "code",
   "execution_count": 32,
   "metadata": {},
   "outputs": [
    {
     "name": "stdout",
     "output_type": "stream",
     "text": [
      "<class 'pandas.core.frame.DataFrame'>\n",
      "RangeIndex: 289 entries, 0 to 288\n",
      "Data columns (total 2 columns):\n",
      "DATE    289 non-null object\n",
      "GDP     289 non-null float64\n",
      "dtypes: float64(1), object(1)\n",
      "memory usage: 4.6+ KB\n"
     ]
    }
   ],
   "source": [
    "df.info()"
   ]
  },
  {
   "cell_type": "code",
   "execution_count": 33,
   "metadata": {},
   "outputs": [
    {
     "data": {
      "text/html": [
       "<div>\n",
       "<style scoped>\n",
       "    .dataframe tbody tr th:only-of-type {\n",
       "        vertical-align: middle;\n",
       "    }\n",
       "\n",
       "    .dataframe tbody tr th {\n",
       "        vertical-align: top;\n",
       "    }\n",
       "\n",
       "    .dataframe thead th {\n",
       "        text-align: right;\n",
       "    }\n",
       "</style>\n",
       "<table border=\"1\" class=\"dataframe\">\n",
       "  <thead>\n",
       "    <tr style=\"text-align: right;\">\n",
       "      <th></th>\n",
       "      <th>GDP</th>\n",
       "    </tr>\n",
       "    <tr>\n",
       "      <th>DATE</th>\n",
       "      <th></th>\n",
       "    </tr>\n",
       "  </thead>\n",
       "  <tbody>\n",
       "    <tr>\n",
       "      <th>1947-01-01</th>\n",
       "      <td>243.164</td>\n",
       "    </tr>\n",
       "    <tr>\n",
       "      <th>1947-04-01</th>\n",
       "      <td>245.968</td>\n",
       "    </tr>\n",
       "    <tr>\n",
       "      <th>1947-07-01</th>\n",
       "      <td>249.585</td>\n",
       "    </tr>\n",
       "    <tr>\n",
       "      <th>1947-10-01</th>\n",
       "      <td>259.745</td>\n",
       "    </tr>\n",
       "    <tr>\n",
       "      <th>1948-01-01</th>\n",
       "      <td>265.742</td>\n",
       "    </tr>\n",
       "  </tbody>\n",
       "</table>\n",
       "</div>"
      ],
      "text/plain": [
       "                GDP\n",
       "DATE               \n",
       "1947-01-01  243.164\n",
       "1947-04-01  245.968\n",
       "1947-07-01  249.585\n",
       "1947-10-01  259.745\n",
       "1948-01-01  265.742"
      ]
     },
     "execution_count": 33,
     "metadata": {},
     "output_type": "execute_result"
    }
   ],
   "source": [
    "df['DATE'] = pd.to_datetime(df['DATE'])\n",
    "df.set_index(\"DATE\", inplace = True) \n",
    "df.head()"
   ]
  },
  {
   "cell_type": "code",
   "execution_count": 34,
   "metadata": {},
   "outputs": [
    {
     "name": "stdout",
     "output_type": "stream",
     "text": [
      "<class 'pandas.core.frame.DataFrame'>\n",
      "DatetimeIndex: 289 entries, 1947-01-01 to 2019-01-01\n",
      "Data columns (total 1 columns):\n",
      "GDP    289 non-null float64\n",
      "dtypes: float64(1)\n",
      "memory usage: 4.5 KB\n"
     ]
    }
   ],
   "source": [
    "df.info()"
   ]
  },
  {
   "cell_type": "code",
   "execution_count": 35,
   "metadata": {},
   "outputs": [
    {
     "data": {
      "text/html": [
       "<div>\n",
       "<style scoped>\n",
       "    .dataframe tbody tr th:only-of-type {\n",
       "        vertical-align: middle;\n",
       "    }\n",
       "\n",
       "    .dataframe tbody tr th {\n",
       "        vertical-align: top;\n",
       "    }\n",
       "\n",
       "    .dataframe thead th {\n",
       "        text-align: right;\n",
       "    }\n",
       "</style>\n",
       "<table border=\"1\" class=\"dataframe\">\n",
       "  <thead>\n",
       "    <tr style=\"text-align: right;\">\n",
       "      <th></th>\n",
       "      <th>GDP</th>\n",
       "    </tr>\n",
       "    <tr>\n",
       "      <th>DATE</th>\n",
       "      <th></th>\n",
       "    </tr>\n",
       "  </thead>\n",
       "  <tbody>\n",
       "    <tr>\n",
       "      <th>1947-01-01</th>\n",
       "      <td>243.164</td>\n",
       "    </tr>\n",
       "    <tr>\n",
       "      <th>1947-04-01</th>\n",
       "      <td>245.968</td>\n",
       "    </tr>\n",
       "    <tr>\n",
       "      <th>1947-07-01</th>\n",
       "      <td>249.585</td>\n",
       "    </tr>\n",
       "    <tr>\n",
       "      <th>1947-10-01</th>\n",
       "      <td>259.745</td>\n",
       "    </tr>\n",
       "    <tr>\n",
       "      <th>1948-01-01</th>\n",
       "      <td>265.742</td>\n",
       "    </tr>\n",
       "  </tbody>\n",
       "</table>\n",
       "</div>"
      ],
      "text/plain": [
       "                GDP\n",
       "DATE               \n",
       "1947-01-01  243.164\n",
       "1947-04-01  245.968\n",
       "1947-07-01  249.585\n",
       "1947-10-01  259.745\n",
       "1948-01-01  265.742"
      ]
     },
     "execution_count": 35,
     "metadata": {},
     "output_type": "execute_result"
    }
   ],
   "source": [
    "df= df.resample('QS').mean()\n",
    "df.head()"
   ]
  },
  {
   "cell_type": "code",
   "execution_count": 36,
   "metadata": {},
   "outputs": [
    {
     "data": {
      "text/html": [
       "<div>\n",
       "<style scoped>\n",
       "    .dataframe tbody tr th:only-of-type {\n",
       "        vertical-align: middle;\n",
       "    }\n",
       "\n",
       "    .dataframe tbody tr th {\n",
       "        vertical-align: top;\n",
       "    }\n",
       "\n",
       "    .dataframe thead th {\n",
       "        text-align: right;\n",
       "    }\n",
       "</style>\n",
       "<table border=\"1\" class=\"dataframe\">\n",
       "  <thead>\n",
       "    <tr style=\"text-align: right;\">\n",
       "      <th></th>\n",
       "      <th>DATE</th>\n",
       "      <th>GDP</th>\n",
       "    </tr>\n",
       "  </thead>\n",
       "  <tbody>\n",
       "    <tr>\n",
       "      <th>0</th>\n",
       "      <td>1947-01-01</td>\n",
       "      <td>243.164</td>\n",
       "    </tr>\n",
       "    <tr>\n",
       "      <th>1</th>\n",
       "      <td>1947-04-01</td>\n",
       "      <td>245.968</td>\n",
       "    </tr>\n",
       "    <tr>\n",
       "      <th>2</th>\n",
       "      <td>1947-07-01</td>\n",
       "      <td>249.585</td>\n",
       "    </tr>\n",
       "    <tr>\n",
       "      <th>3</th>\n",
       "      <td>1947-10-01</td>\n",
       "      <td>259.745</td>\n",
       "    </tr>\n",
       "    <tr>\n",
       "      <th>4</th>\n",
       "      <td>1948-01-01</td>\n",
       "      <td>265.742</td>\n",
       "    </tr>\n",
       "  </tbody>\n",
       "</table>\n",
       "</div>"
      ],
      "text/plain": [
       "        DATE      GDP\n",
       "0 1947-01-01  243.164\n",
       "1 1947-04-01  245.968\n",
       "2 1947-07-01  249.585\n",
       "3 1947-10-01  259.745\n",
       "4 1948-01-01  265.742"
      ]
     },
     "execution_count": 36,
     "metadata": {},
     "output_type": "execute_result"
    }
   ],
   "source": [
    "df.reset_index(inplace=True)\n",
    "df.head()"
   ]
  },
  {
   "cell_type": "code",
   "execution_count": 37,
   "metadata": {},
   "outputs": [
    {
     "data": {
      "text/html": [
       "<div>\n",
       "<style scoped>\n",
       "    .dataframe tbody tr th:only-of-type {\n",
       "        vertical-align: middle;\n",
       "    }\n",
       "\n",
       "    .dataframe tbody tr th {\n",
       "        vertical-align: top;\n",
       "    }\n",
       "\n",
       "    .dataframe thead th {\n",
       "        text-align: right;\n",
       "    }\n",
       "</style>\n",
       "<table border=\"1\" class=\"dataframe\">\n",
       "  <thead>\n",
       "    <tr style=\"text-align: right;\">\n",
       "      <th></th>\n",
       "      <th>Date</th>\n",
       "      <th>GDP</th>\n",
       "    </tr>\n",
       "  </thead>\n",
       "  <tbody>\n",
       "    <tr>\n",
       "      <th>0</th>\n",
       "      <td>1947-01-01</td>\n",
       "      <td>243.164</td>\n",
       "    </tr>\n",
       "    <tr>\n",
       "      <th>1</th>\n",
       "      <td>1947-04-01</td>\n",
       "      <td>245.968</td>\n",
       "    </tr>\n",
       "    <tr>\n",
       "      <th>2</th>\n",
       "      <td>1947-07-01</td>\n",
       "      <td>249.585</td>\n",
       "    </tr>\n",
       "    <tr>\n",
       "      <th>3</th>\n",
       "      <td>1947-10-01</td>\n",
       "      <td>259.745</td>\n",
       "    </tr>\n",
       "    <tr>\n",
       "      <th>4</th>\n",
       "      <td>1948-01-01</td>\n",
       "      <td>265.742</td>\n",
       "    </tr>\n",
       "  </tbody>\n",
       "</table>\n",
       "</div>"
      ],
      "text/plain": [
       "        Date      GDP\n",
       "0 1947-01-01  243.164\n",
       "1 1947-04-01  245.968\n",
       "2 1947-07-01  249.585\n",
       "3 1947-10-01  259.745\n",
       "4 1948-01-01  265.742"
      ]
     },
     "execution_count": 37,
     "metadata": {},
     "output_type": "execute_result"
    }
   ],
   "source": [
    "df = df.rename(columns={'DATE': 'Date'})\n",
    "df.head()"
   ]
  },
  {
   "cell_type": "code",
   "execution_count": 38,
   "metadata": {},
   "outputs": [
    {
     "data": {
      "text/plain": [
       "<pymongo.results.InsertManyResult at 0x2ccd8e41bc8>"
      ]
     },
     "execution_count": 38,
     "metadata": {},
     "output_type": "execute_result"
    }
   ],
   "source": [
    "list_dict_GDP = []\n",
    "for item, row in df.iterrows():\n",
    "    dict_row ={        \n",
    "        \"Date\" : row[\"Date\"].strftime('%Y-%m-%d'),\n",
    "        \"GDP\" : row[\"GDP\"]        \n",
    "                }\n",
    "    list_dict_GDP.append(dict_row)\n",
    "db.GDP.insert_many(list_dict_GDP)"
   ]
  },
  {
   "cell_type": "code",
   "execution_count": 39,
   "metadata": {},
   "outputs": [
    {
     "name": "stdout",
     "output_type": "stream",
     "text": [
      "[{'_id': ObjectId('5ccde5d72af975e90113b06f'), 'Date': '1947-01-01', 'GDP': 243.16400000000002}, {'_id': ObjectId('5ccde5d72af975e90113b070'), 'Date': '1947-04-01', 'GDP': 245.968}, {'_id': ObjectId('5ccde5d72af975e90113b071'), 'Date': '1947-07-01', 'GDP': 249.585}, {'_id': ObjectId('5ccde5d72af975e90113b072'), 'Date': '1947-10-01', 'GDP': 259.745}, {'_id': ObjectId('5ccde5d72af975e90113b073'), 'Date': '1948-01-01', 'GDP': 265.742}, {'_id': ObjectId('5ccde5d72af975e90113b074'), 'Date': '1948-04-01', 'GDP': 272.567}, {'_id': ObjectId('5ccde5d72af975e90113b075'), 'Date': '1948-07-01', 'GDP': 279.19599999999997}, {'_id': ObjectId('5ccde5d72af975e90113b076'), 'Date': '1948-10-01', 'GDP': 280.366}, {'_id': ObjectId('5ccde5d72af975e90113b077'), 'Date': '1949-01-01', 'GDP': 275.034}, {'_id': ObjectId('5ccde5d72af975e90113b078'), 'Date': '1949-04-01', 'GDP': 271.351}, {'_id': ObjectId('5ccde5d72af975e90113b079'), 'Date': '1949-07-01', 'GDP': 272.889}, {'_id': ObjectId('5ccde5d72af975e90113b07a'), 'Date': '1949-10-01', 'GDP': 270.627}, {'_id': ObjectId('5ccde5d72af975e90113b07b'), 'Date': '1950-01-01', 'GDP': 280.828}, {'_id': ObjectId('5ccde5d72af975e90113b07c'), 'Date': '1950-04-01', 'GDP': 290.383}, {'_id': ObjectId('5ccde5d72af975e90113b07d'), 'Date': '1950-07-01', 'GDP': 308.153}, {'_id': ObjectId('5ccde5d72af975e90113b07e'), 'Date': '1950-10-01', 'GDP': 319.945}, {'_id': ObjectId('5ccde5d72af975e90113b07f'), 'Date': '1951-01-01', 'GDP': 336.0}, {'_id': ObjectId('5ccde5d72af975e90113b080'), 'Date': '1951-04-01', 'GDP': 344.09}, {'_id': ObjectId('5ccde5d72af975e90113b081'), 'Date': '1951-07-01', 'GDP': 351.385}, {'_id': ObjectId('5ccde5d72af975e90113b082'), 'Date': '1951-10-01', 'GDP': 356.17800000000005}, {'_id': ObjectId('5ccde5d72af975e90113b083'), 'Date': '1952-01-01', 'GDP': 359.82}, {'_id': ObjectId('5ccde5d72af975e90113b084'), 'Date': '1952-04-01', 'GDP': 361.03}, {'_id': ObjectId('5ccde5d72af975e90113b085'), 'Date': '1952-07-01', 'GDP': 367.70099999999996}, {'_id': ObjectId('5ccde5d72af975e90113b086'), 'Date': '1952-10-01', 'GDP': 380.81199999999995}, {'_id': ObjectId('5ccde5d72af975e90113b087'), 'Date': '1953-01-01', 'GDP': 387.98}, {'_id': ObjectId('5ccde5d72af975e90113b088'), 'Date': '1953-04-01', 'GDP': 391.749}, {'_id': ObjectId('5ccde5d72af975e90113b089'), 'Date': '1953-07-01', 'GDP': 391.171}, {'_id': ObjectId('5ccde5d72af975e90113b08a'), 'Date': '1953-10-01', 'GDP': 385.97}, {'_id': ObjectId('5ccde5d72af975e90113b08b'), 'Date': '1954-01-01', 'GDP': 385.345}, {'_id': ObjectId('5ccde5d72af975e90113b08c'), 'Date': '1954-04-01', 'GDP': 386.121}, {'_id': ObjectId('5ccde5d72af975e90113b08d'), 'Date': '1954-07-01', 'GDP': 390.996}, {'_id': ObjectId('5ccde5d72af975e90113b08e'), 'Date': '1954-10-01', 'GDP': 399.73400000000004}, {'_id': ObjectId('5ccde5d72af975e90113b08f'), 'Date': '1955-01-01', 'GDP': 413.07300000000004}, {'_id': ObjectId('5ccde5d72af975e90113b090'), 'Date': '1955-04-01', 'GDP': 421.532}, {'_id': ObjectId('5ccde5d72af975e90113b091'), 'Date': '1955-07-01', 'GDP': 430.221}, {'_id': ObjectId('5ccde5d72af975e90113b092'), 'Date': '1955-10-01', 'GDP': 437.092}, {'_id': ObjectId('5ccde5d72af975e90113b093'), 'Date': '1956-01-01', 'GDP': 439.746}, {'_id': ObjectId('5ccde5d72af975e90113b094'), 'Date': '1956-04-01', 'GDP': 446.01}, {'_id': ObjectId('5ccde5d72af975e90113b095'), 'Date': '1956-07-01', 'GDP': 451.191}, {'_id': ObjectId('5ccde5d72af975e90113b096'), 'Date': '1956-10-01', 'GDP': 460.463}, {'_id': ObjectId('5ccde5d72af975e90113b097'), 'Date': '1957-01-01', 'GDP': 469.779}, {'_id': ObjectId('5ccde5d72af975e90113b098'), 'Date': '1957-04-01', 'GDP': 472.025}, {'_id': ObjectId('5ccde5d72af975e90113b099'), 'Date': '1957-07-01', 'GDP': 479.49}, {'_id': ObjectId('5ccde5d72af975e90113b09a'), 'Date': '1957-10-01', 'GDP': 474.86400000000003}, {'_id': ObjectId('5ccde5d72af975e90113b09b'), 'Date': '1958-01-01', 'GDP': 467.54}, {'_id': ObjectId('5ccde5d72af975e90113b09c'), 'Date': '1958-04-01', 'GDP': 471.978}, {'_id': ObjectId('5ccde5d72af975e90113b09d'), 'Date': '1958-07-01', 'GDP': 485.841}, {'_id': ObjectId('5ccde5d72af975e90113b09e'), 'Date': '1958-10-01', 'GDP': 499.555}, {'_id': ObjectId('5ccde5d72af975e90113b09f'), 'Date': '1959-01-01', 'GDP': 510.33}, {'_id': ObjectId('5ccde5d72af975e90113b0a0'), 'Date': '1959-04-01', 'GDP': 522.653}, {'_id': ObjectId('5ccde5d72af975e90113b0a1'), 'Date': '1959-07-01', 'GDP': 525.034}, {'_id': ObjectId('5ccde5d72af975e90113b0a2'), 'Date': '1959-10-01', 'GDP': 528.6}, {'_id': ObjectId('5ccde5d72af975e90113b0a3'), 'Date': '1960-01-01', 'GDP': 542.648}, {'_id': ObjectId('5ccde5d72af975e90113b0a4'), 'Date': '1960-04-01', 'GDP': 541.08}, {'_id': ObjectId('5ccde5d72af975e90113b0a5'), 'Date': '1960-07-01', 'GDP': 545.604}, {'_id': ObjectId('5ccde5d72af975e90113b0a6'), 'Date': '1960-10-01', 'GDP': 540.197}, {'_id': ObjectId('5ccde5d72af975e90113b0a7'), 'Date': '1961-01-01', 'GDP': 545.018}, {'_id': ObjectId('5ccde5d72af975e90113b0a8'), 'Date': '1961-04-01', 'GDP': 555.545}, {'_id': ObjectId('5ccde5d72af975e90113b0a9'), 'Date': '1961-07-01', 'GDP': 567.664}, {'_id': ObjectId('5ccde5d72af975e90113b0aa'), 'Date': '1961-10-01', 'GDP': 580.612}, {'_id': ObjectId('5ccde5d72af975e90113b0ab'), 'Date': '1962-01-01', 'GDP': 594.013}, {'_id': ObjectId('5ccde5d72af975e90113b0ac'), 'Date': '1962-04-01', 'GDP': 600.366}, {'_id': ObjectId('5ccde5d72af975e90113b0ad'), 'Date': '1962-07-01', 'GDP': 609.0269999999999}, {'_id': ObjectId('5ccde5d72af975e90113b0ae'), 'Date': '1962-10-01', 'GDP': 612.28}, {'_id': ObjectId('5ccde5d72af975e90113b0af'), 'Date': '1963-01-01', 'GDP': 621.672}, {'_id': ObjectId('5ccde5d72af975e90113b0b0'), 'Date': '1963-04-01', 'GDP': 629.752}, {'_id': ObjectId('5ccde5d72af975e90113b0b1'), 'Date': '1963-07-01', 'GDP': 644.444}, {'_id': ObjectId('5ccde5d72af975e90113b0b2'), 'Date': '1963-10-01', 'GDP': 653.938}, {'_id': ObjectId('5ccde5d72af975e90113b0b3'), 'Date': '1964-01-01', 'GDP': 669.822}, {'_id': ObjectId('5ccde5d72af975e90113b0b4'), 'Date': '1964-04-01', 'GDP': 678.674}, {'_id': ObjectId('5ccde5d72af975e90113b0b5'), 'Date': '1964-07-01', 'GDP': 692.0310000000001}, {'_id': ObjectId('5ccde5d72af975e90113b0b6'), 'Date': '1964-10-01', 'GDP': 697.319}, {'_id': ObjectId('5ccde5d72af975e90113b0b7'), 'Date': '1965-01-01', 'GDP': 717.79}, {'_id': ObjectId('5ccde5d72af975e90113b0b8'), 'Date': '1965-04-01', 'GDP': 730.191}, {'_id': ObjectId('5ccde5d72af975e90113b0b9'), 'Date': '1965-07-01', 'GDP': 749.323}, {'_id': ObjectId('5ccde5d72af975e90113b0ba'), 'Date': '1965-10-01', 'GDP': 771.857}, {'_id': ObjectId('5ccde5d72af975e90113b0bb'), 'Date': '1966-01-01', 'GDP': 795.7339999999999}, {'_id': ObjectId('5ccde5d72af975e90113b0bc'), 'Date': '1966-04-01', 'GDP': 804.9810000000001}, {'_id': ObjectId('5ccde5d72af975e90113b0bd'), 'Date': '1966-07-01', 'GDP': 819.638}, {'_id': ObjectId('5ccde5d72af975e90113b0be'), 'Date': '1966-10-01', 'GDP': 833.302}, {'_id': ObjectId('5ccde5d72af975e90113b0bf'), 'Date': '1967-01-01', 'GDP': 844.17}, {'_id': ObjectId('5ccde5d72af975e90113b0c0'), 'Date': '1967-04-01', 'GDP': 848.9830000000001}, {'_id': ObjectId('5ccde5d72af975e90113b0c1'), 'Date': '1967-07-01', 'GDP': 865.2330000000001}, {'_id': ObjectId('5ccde5d72af975e90113b0c2'), 'Date': '1967-10-01', 'GDP': 881.439}, {'_id': ObjectId('5ccde5d72af975e90113b0c3'), 'Date': '1968-01-01', 'GDP': 909.387}, {'_id': ObjectId('5ccde5d72af975e90113b0c4'), 'Date': '1968-04-01', 'GDP': 934.3439999999999}, {'_id': ObjectId('5ccde5d72af975e90113b0c5'), 'Date': '1968-07-01', 'GDP': 950.825}, {'_id': ObjectId('5ccde5d72af975e90113b0c6'), 'Date': '1968-10-01', 'GDP': 968.03}, {'_id': ObjectId('5ccde5d72af975e90113b0c7'), 'Date': '1969-01-01', 'GDP': 993.337}, {'_id': ObjectId('5ccde5d72af975e90113b0c8'), 'Date': '1969-04-01', 'GDP': 1009.02}, {'_id': ObjectId('5ccde5d72af975e90113b0c9'), 'Date': '1969-07-01', 'GDP': 1029.9560000000001}, {'_id': ObjectId('5ccde5d72af975e90113b0ca'), 'Date': '1969-10-01', 'GDP': 1038.147}, {'_id': ObjectId('5ccde5d72af975e90113b0cb'), 'Date': '1970-01-01', 'GDP': 1051.2}, {'_id': ObjectId('5ccde5d72af975e90113b0cc'), 'Date': '1970-04-01', 'GDP': 1067.375}, {'_id': ObjectId('5ccde5d72af975e90113b0cd'), 'Date': '1970-07-01', 'GDP': 1086.059}, {'_id': ObjectId('5ccde5d72af975e90113b0ce'), 'Date': '1970-10-01', 'GDP': 1088.608}, {'_id': ObjectId('5ccde5d72af975e90113b0cf'), 'Date': '1971-01-01', 'GDP': 1135.156}, {'_id': ObjectId('5ccde5d72af975e90113b0d0'), 'Date': '1971-04-01', 'GDP': 1156.271}, {'_id': ObjectId('5ccde5d72af975e90113b0d1'), 'Date': '1971-07-01', 'GDP': 1177.675}, {'_id': ObjectId('5ccde5d72af975e90113b0d2'), 'Date': '1971-10-01', 'GDP': 1190.297}, {'_id': ObjectId('5ccde5d72af975e90113b0d3'), 'Date': '1972-01-01', 'GDP': 1230.609}, {'_id': ObjectId('5ccde5d72af975e90113b0d4'), 'Date': '1972-04-01', 'GDP': 1266.369}, {'_id': ObjectId('5ccde5d72af975e90113b0d5'), 'Date': '1972-07-01', 'GDP': 1290.566}, {'_id': ObjectId('5ccde5d72af975e90113b0d6'), 'Date': '1972-10-01', 'GDP': 1328.904}, {'_id': ObjectId('5ccde5d72af975e90113b0d7'), 'Date': '1973-01-01', 'GDP': 1377.49}, {'_id': ObjectId('5ccde5d72af975e90113b0d8'), 'Date': '1973-04-01', 'GDP': 1413.8870000000002}, {'_id': ObjectId('5ccde5d72af975e90113b0d9'), 'Date': '1973-07-01', 'GDP': 1433.838}, {'_id': ObjectId('5ccde5d72af975e90113b0da'), 'Date': '1973-10-01', 'GDP': 1476.289}, {'_id': ObjectId('5ccde5d72af975e90113b0db'), 'Date': '1974-01-01', 'GDP': 1491.2089999999998}, {'_id': ObjectId('5ccde5d72af975e90113b0dc'), 'Date': '1974-04-01', 'GDP': 1530.056}, {'_id': ObjectId('5ccde5d72af975e90113b0dd'), 'Date': '1974-07-01', 'GDP': 1560.026}, {'_id': ObjectId('5ccde5d72af975e90113b0de'), 'Date': '1974-10-01', 'GDP': 1599.6789999999999}, {'_id': ObjectId('5ccde5d72af975e90113b0df'), 'Date': '1975-01-01', 'GDP': 1616.116}, {'_id': ObjectId('5ccde5d72af975e90113b0e0'), 'Date': '1975-04-01', 'GDP': 1651.8529999999998}, {'_id': ObjectId('5ccde5d72af975e90113b0e1'), 'Date': '1975-07-01', 'GDP': 1709.82}, {'_id': ObjectId('5ccde5d72af975e90113b0e2'), 'Date': '1975-10-01', 'GDP': 1761.8310000000001}, {'_id': ObjectId('5ccde5d72af975e90113b0e3'), 'Date': '1976-01-01', 'GDP': 1820.487}, {'_id': ObjectId('5ccde5d72af975e90113b0e4'), 'Date': '1976-04-01', 'GDP': 1852.332}, {'_id': ObjectId('5ccde5d72af975e90113b0e5'), 'Date': '1976-07-01', 'GDP': 1886.558}, {'_id': ObjectId('5ccde5d72af975e90113b0e6'), 'Date': '1976-10-01', 'GDP': 1934.273}, {'_id': ObjectId('5ccde5d72af975e90113b0e7'), 'Date': '1977-01-01', 'GDP': 1988.648}, {'_id': ObjectId('5ccde5d72af975e90113b0e8'), 'Date': '1977-04-01', 'GDP': 2055.909}, {'_id': ObjectId('5ccde5d72af975e90113b0e9'), 'Date': '1977-07-01', 'GDP': 2118.473}, {'_id': ObjectId('5ccde5d72af975e90113b0ea'), 'Date': '1977-10-01', 'GDP': 2164.27}, {'_id': ObjectId('5ccde5d72af975e90113b0eb'), 'Date': '1978-01-01', 'GDP': 2202.76}, {'_id': ObjectId('5ccde5d72af975e90113b0ec'), 'Date': '1978-04-01', 'GDP': 2331.633}, {'_id': ObjectId('5ccde5d72af975e90113b0ed'), 'Date': '1978-07-01', 'GDP': 2395.053}, {'_id': ObjectId('5ccde5d72af975e90113b0ee'), 'Date': '1978-10-01', 'GDP': 2476.949}, {'_id': ObjectId('5ccde5d72af975e90113b0ef'), 'Date': '1979-01-01', 'GDP': 2526.61}, {'_id': ObjectId('5ccde5d72af975e90113b0f0'), 'Date': '1979-04-01', 'GDP': 2591.2470000000003}, {'_id': ObjectId('5ccde5d72af975e90113b0f1'), 'Date': '1979-07-01', 'GDP': 2667.565}, {'_id': ObjectId('5ccde5d72af975e90113b0f2'), 'Date': '1979-10-01', 'GDP': 2723.883}, {'_id': ObjectId('5ccde5d72af975e90113b0f3'), 'Date': '1980-01-01', 'GDP': 2789.842}, {'_id': ObjectId('5ccde5d72af975e90113b0f4'), 'Date': '1980-04-01', 'GDP': 2797.3520000000003}, {'_id': ObjectId('5ccde5d72af975e90113b0f5'), 'Date': '1980-07-01', 'GDP': 2856.4829999999997}, {'_id': ObjectId('5ccde5d72af975e90113b0f6'), 'Date': '1980-10-01', 'GDP': 2985.5570000000002}, {'_id': ObjectId('5ccde5d72af975e90113b0f7'), 'Date': '1981-01-01', 'GDP': 3124.2059999999997}, {'_id': ObjectId('5ccde5d72af975e90113b0f8'), 'Date': '1981-04-01', 'GDP': 3162.532}, {'_id': ObjectId('5ccde5d72af975e90113b0f9'), 'Date': '1981-07-01', 'GDP': 3260.6090000000004}, {'_id': ObjectId('5ccde5d72af975e90113b0fa'), 'Date': '1981-10-01', 'GDP': 3280.8179999999998}, {'_id': ObjectId('5ccde5d72af975e90113b0fb'), 'Date': '1982-01-01', 'GDP': 3274.302}, {'_id': ObjectId('5ccde5d72af975e90113b0fc'), 'Date': '1982-04-01', 'GDP': 3331.972}, {'_id': ObjectId('5ccde5d72af975e90113b0fd'), 'Date': '1982-07-01', 'GDP': 3366.322}, {'_id': ObjectId('5ccde5d72af975e90113b0fe'), 'Date': '1982-10-01', 'GDP': 3402.5609999999997}, {'_id': ObjectId('5ccde5d72af975e90113b0ff'), 'Date': '1983-01-01', 'GDP': 3473.413}, {'_id': ObjectId('5ccde5d72af975e90113b100'), 'Date': '1983-04-01', 'GDP': 3578.848}, {'_id': ObjectId('5ccde5d72af975e90113b101'), 'Date': '1983-07-01', 'GDP': 3689.179}, {'_id': ObjectId('5ccde5d72af975e90113b102'), 'Date': '1983-10-01', 'GDP': 3794.7059999999997}, {'_id': ObjectId('5ccde5d72af975e90113b103'), 'Date': '1984-01-01', 'GDP': 3908.054}, {'_id': ObjectId('5ccde5d72af975e90113b104'), 'Date': '1984-04-01', 'GDP': 4009.6009999999997}, {'_id': ObjectId('5ccde5d72af975e90113b105'), 'Date': '1984-07-01', 'GDP': 4084.25}, {'_id': ObjectId('5ccde5d72af975e90113b106'), 'Date': '1984-10-01', 'GDP': 4148.5509999999995}, {'_id': ObjectId('5ccde5d72af975e90113b107'), 'Date': '1985-01-01', 'GDP': 4230.168}, {'_id': ObjectId('5ccde5d72af975e90113b108'), 'Date': '1985-04-01', 'GDP': 4294.887}, {'_id': ObjectId('5ccde5d72af975e90113b109'), 'Date': '1985-07-01', 'GDP': 4386.773}, {'_id': ObjectId('5ccde5d72af975e90113b10a'), 'Date': '1985-10-01', 'GDP': 4444.094}, {'_id': ObjectId('5ccde5d72af975e90113b10b'), 'Date': '1986-01-01', 'GDP': 4507.894}, {'_id': ObjectId('5ccde5d72af975e90113b10c'), 'Date': '1986-04-01', 'GDP': 4545.34}, {'_id': ObjectId('5ccde5d72af975e90113b10d'), 'Date': '1986-07-01', 'GDP': 4607.669}, {'_id': ObjectId('5ccde5d72af975e90113b10e'), 'Date': '1986-10-01', 'GDP': 4657.627}, {'_id': ObjectId('5ccde5d72af975e90113b10f'), 'Date': '1987-01-01', 'GDP': 4722.156}, {'_id': ObjectId('5ccde5d72af975e90113b110'), 'Date': '1987-04-01', 'GDP': 4806.16}, {'_id': ObjectId('5ccde5d72af975e90113b111'), 'Date': '1987-07-01', 'GDP': 4884.555}, {'_id': ObjectId('5ccde5d72af975e90113b112'), 'Date': '1987-10-01', 'GDP': 5007.994000000001}, {'_id': ObjectId('5ccde5d72af975e90113b113'), 'Date': '1988-01-01', 'GDP': 5073.372}, {'_id': ObjectId('5ccde5d72af975e90113b114'), 'Date': '1988-04-01', 'GDP': 5190.036}, {'_id': ObjectId('5ccde5d72af975e90113b115'), 'Date': '1988-07-01', 'GDP': 5282.835}, {'_id': ObjectId('5ccde5d72af975e90113b116'), 'Date': '1988-10-01', 'GDP': 5399.509}, {'_id': ObjectId('5ccde5d72af975e90113b117'), 'Date': '1989-01-01', 'GDP': 5511.253000000001}, {'_id': ObjectId('5ccde5d72af975e90113b118'), 'Date': '1989-04-01', 'GDP': 5612.463000000001}, {'_id': ObjectId('5ccde5d72af975e90113b119'), 'Date': '1989-07-01', 'GDP': 5695.365}, {'_id': ObjectId('5ccde5d72af975e90113b11a'), 'Date': '1989-10-01', 'GDP': 5747.236999999999}, {'_id': ObjectId('5ccde5d72af975e90113b11b'), 'Date': '1990-01-01', 'GDP': 5872.701}, {'_id': ObjectId('5ccde5d72af975e90113b11c'), 'Date': '1990-04-01', 'GDP': 5960.028}, {'_id': ObjectId('5ccde5d72af975e90113b11d'), 'Date': '1990-07-01', 'GDP': 6015.116}, {'_id': ObjectId('5ccde5d72af975e90113b11e'), 'Date': '1990-10-01', 'GDP': 6004.733}, {'_id': ObjectId('5ccde5d72af975e90113b11f'), 'Date': '1991-01-01', 'GDP': 6035.178000000001}, {'_id': ObjectId('5ccde5d72af975e90113b120'), 'Date': '1991-04-01', 'GDP': 6126.861999999999}, {'_id': ObjectId('5ccde5d72af975e90113b121'), 'Date': '1991-07-01', 'GDP': 6205.937}, {'_id': ObjectId('5ccde5d72af975e90113b122'), 'Date': '1991-10-01', 'GDP': 6264.54}, {'_id': ObjectId('5ccde5d72af975e90113b123'), 'Date': '1992-01-01', 'GDP': 6363.102}, {'_id': ObjectId('5ccde5d72af975e90113b124'), 'Date': '1992-04-01', 'GDP': 6470.763000000001}, {'_id': ObjectId('5ccde5d72af975e90113b125'), 'Date': '1992-07-01', 'GDP': 6566.641}, {'_id': ObjectId('5ccde5d72af975e90113b126'), 'Date': '1992-10-01', 'GDP': 6680.803000000001}, {'_id': ObjectId('5ccde5d72af975e90113b127'), 'Date': '1993-01-01', 'GDP': 6729.459}, {'_id': ObjectId('5ccde5d72af975e90113b128'), 'Date': '1993-04-01', 'GDP': 6808.939}, {'_id': ObjectId('5ccde5d72af975e90113b129'), 'Date': '1993-07-01', 'GDP': 6882.098000000001}, {'_id': ObjectId('5ccde5d72af975e90113b12a'), 'Date': '1993-10-01', 'GDP': 7013.738}, {'_id': ObjectId('5ccde5d72af975e90113b12b'), 'Date': '1994-01-01', 'GDP': 7115.651999999999}, {'_id': ObjectId('5ccde5d72af975e90113b12c'), 'Date': '1994-04-01', 'GDP': 7246.931}, {'_id': ObjectId('5ccde5d72af975e90113b12d'), 'Date': '1994-07-01', 'GDP': 7331.075}, {'_id': ObjectId('5ccde5d72af975e90113b12e'), 'Date': '1994-10-01', 'GDP': 7455.2880000000005}, {'_id': ObjectId('5ccde5d72af975e90113b12f'), 'Date': '1995-01-01', 'GDP': 7522.289000000001}, {'_id': ObjectId('5ccde5d72af975e90113b130'), 'Date': '1995-04-01', 'GDP': 7580.996999999999}, {'_id': ObjectId('5ccde5d72af975e90113b131'), 'Date': '1995-07-01', 'GDP': 7683.125}, {'_id': ObjectId('5ccde5d72af975e90113b132'), 'Date': '1995-10-01', 'GDP': 7772.585999999999}, {'_id': ObjectId('5ccde5d72af975e90113b133'), 'Date': '1996-01-01', 'GDP': 7868.468000000001}, {'_id': ObjectId('5ccde5d72af975e90113b134'), 'Date': '1996-04-01', 'GDP': 8032.84}, {'_id': ObjectId('5ccde5d72af975e90113b135'), 'Date': '1996-07-01', 'GDP': 8131.408}, {'_id': ObjectId('5ccde5d72af975e90113b136'), 'Date': '1996-10-01', 'GDP': 8259.771}, {'_id': ObjectId('5ccde5d72af975e90113b137'), 'Date': '1997-01-01', 'GDP': 8362.655}, {'_id': ObjectId('5ccde5d72af975e90113b138'), 'Date': '1997-04-01', 'GDP': 8518.825}, {'_id': ObjectId('5ccde5d72af975e90113b139'), 'Date': '1997-07-01', 'GDP': 8662.823}, {'_id': ObjectId('5ccde5d72af975e90113b13a'), 'Date': '1997-10-01', 'GDP': 8765.907}, {'_id': ObjectId('5ccde5d72af975e90113b13b'), 'Date': '1998-01-01', 'GDP': 8866.48}, {'_id': ObjectId('5ccde5d72af975e90113b13c'), 'Date': '1998-04-01', 'GDP': 8969.699}, {'_id': ObjectId('5ccde5d72af975e90113b13d'), 'Date': '1998-07-01', 'GDP': 9121.097}, {'_id': ObjectId('5ccde5d72af975e90113b13e'), 'Date': '1998-10-01', 'GDP': 9293.991}, {'_id': ObjectId('5ccde5d72af975e90113b13f'), 'Date': '1999-01-01', 'GDP': 9417.264000000001}, {'_id': ObjectId('5ccde5d72af975e90113b140'), 'Date': '1999-04-01', 'GDP': 9524.152}, {'_id': ObjectId('5ccde5d72af975e90113b141'), 'Date': '1999-07-01', 'GDP': 9681.856}, {'_id': ObjectId('5ccde5d72af975e90113b142'), 'Date': '1999-10-01', 'GDP': 9899.378}, {'_id': ObjectId('5ccde5d72af975e90113b143'), 'Date': '2000-01-01', 'GDP': 10002.857}, {'_id': ObjectId('5ccde5d72af975e90113b144'), 'Date': '2000-04-01', 'GDP': 10247.679}, {'_id': ObjectId('5ccde5d72af975e90113b145'), 'Date': '2000-07-01', 'GDP': 10319.825}, {'_id': ObjectId('5ccde5d72af975e90113b146'), 'Date': '2000-10-01', 'GDP': 10439.025}, {'_id': ObjectId('5ccde5d72af975e90113b147'), 'Date': '2001-01-01', 'GDP': 10472.879}, {'_id': ObjectId('5ccde5d72af975e90113b148'), 'Date': '2001-04-01', 'GDP': 10597.822}, {'_id': ObjectId('5ccde5d72af975e90113b149'), 'Date': '2001-07-01', 'GDP': 10596.294}, {'_id': ObjectId('5ccde5d72af975e90113b14a'), 'Date': '2001-10-01', 'GDP': 10660.294}, {'_id': ObjectId('5ccde5d72af975e90113b14b'), 'Date': '2002-01-01', 'GDP': 10788.952}, {'_id': ObjectId('5ccde5d72af975e90113b14c'), 'Date': '2002-04-01', 'GDP': 10893.207}, {'_id': ObjectId('5ccde5d72af975e90113b14d'), 'Date': '2002-07-01', 'GDP': 10992.051000000001}, {'_id': ObjectId('5ccde5d72af975e90113b14e'), 'Date': '2002-10-01', 'GDP': 11071.463}, {'_id': ObjectId('5ccde5d72af975e90113b14f'), 'Date': '2003-01-01', 'GDP': 11183.507}, {'_id': ObjectId('5ccde5d72af975e90113b150'), 'Date': '2003-04-01', 'GDP': 11312.875}, {'_id': ObjectId('5ccde5d72af975e90113b151'), 'Date': '2003-07-01', 'GDP': 11567.326000000001}, {'_id': ObjectId('5ccde5d72af975e90113b152'), 'Date': '2003-10-01', 'GDP': 11769.275}, {'_id': ObjectId('5ccde5d72af975e90113b153'), 'Date': '2004-01-01', 'GDP': 11920.169}, {'_id': ObjectId('5ccde5d72af975e90113b154'), 'Date': '2004-04-01', 'GDP': 12108.987}, {'_id': ObjectId('5ccde5d72af975e90113b155'), 'Date': '2004-07-01', 'GDP': 12303.34}, {'_id': ObjectId('5ccde5d72af975e90113b156'), 'Date': '2004-10-01', 'GDP': 12522.425}, {'_id': ObjectId('5ccde5d72af975e90113b157'), 'Date': '2005-01-01', 'GDP': 12761.337}, {'_id': ObjectId('5ccde5d72af975e90113b158'), 'Date': '2005-04-01', 'GDP': 12910.021999999999}, {'_id': ObjectId('5ccde5d72af975e90113b159'), 'Date': '2005-07-01', 'GDP': 13142.873}, {'_id': ObjectId('5ccde5d72af975e90113b15a'), 'Date': '2005-10-01', 'GDP': 13332.316}, {'_id': ObjectId('5ccde5d72af975e90113b15b'), 'Date': '2006-01-01', 'GDP': 13603.933}, {'_id': ObjectId('5ccde5d72af975e90113b15c'), 'Date': '2006-04-01', 'GDP': 13749.806}, {'_id': ObjectId('5ccde5d72af975e90113b15d'), 'Date': '2006-07-01', 'GDP': 13867.469}, {'_id': ObjectId('5ccde5d72af975e90113b15e'), 'Date': '2006-10-01', 'GDP': 14037.228000000001}, {'_id': ObjectId('5ccde5d72af975e90113b15f'), 'Date': '2007-01-01', 'GDP': 14208.569}, {'_id': ObjectId('5ccde5d72af975e90113b160'), 'Date': '2007-04-01', 'GDP': 14382.363000000001}, {'_id': ObjectId('5ccde5d72af975e90113b161'), 'Date': '2007-07-01', 'GDP': 14535.003}, {'_id': ObjectId('5ccde5d72af975e90113b162'), 'Date': '2007-10-01', 'GDP': 14681.501}, {'_id': ObjectId('5ccde5d72af975e90113b163'), 'Date': '2008-01-01', 'GDP': 14651.038999999999}, {'_id': ObjectId('5ccde5d72af975e90113b164'), 'Date': '2008-04-01', 'GDP': 14805.611}, {'_id': ObjectId('5ccde5d72af975e90113b165'), 'Date': '2008-07-01', 'GDP': 14835.187}, {'_id': ObjectId('5ccde5d72af975e90113b166'), 'Date': '2008-10-01', 'GDP': 14559.543}, {'_id': ObjectId('5ccde5d72af975e90113b167'), 'Date': '2009-01-01', 'GDP': 14394.546999999999}, {'_id': ObjectId('5ccde5d72af975e90113b168'), 'Date': '2009-04-01', 'GDP': 14352.85}, {'_id': ObjectId('5ccde5d72af975e90113b169'), 'Date': '2009-07-01', 'GDP': 14420.312}, {'_id': ObjectId('5ccde5d72af975e90113b16a'), 'Date': '2009-10-01', 'GDP': 14628.021}, {'_id': ObjectId('5ccde5d72af975e90113b16b'), 'Date': '2010-01-01', 'GDP': 14721.35}, {'_id': ObjectId('5ccde5d72af975e90113b16c'), 'Date': '2010-04-01', 'GDP': 14926.098}, {'_id': ObjectId('5ccde5d72af975e90113b16d'), 'Date': '2010-07-01', 'GDP': 15079.917}, {'_id': ObjectId('5ccde5d72af975e90113b16e'), 'Date': '2010-10-01', 'GDP': 15240.843}, {'_id': ObjectId('5ccde5d72af975e90113b16f'), 'Date': '2011-01-01', 'GDP': 15285.828000000001}, {'_id': ObjectId('5ccde5d72af975e90113b170'), 'Date': '2011-04-01', 'GDP': 15496.188999999998}, {'_id': ObjectId('5ccde5d72af975e90113b171'), 'Date': '2011-07-01', 'GDP': 15591.85}, {'_id': ObjectId('5ccde5d72af975e90113b172'), 'Date': '2011-10-01', 'GDP': 15796.46}, {'_id': ObjectId('5ccde5d72af975e90113b173'), 'Date': '2012-01-01', 'GDP': 16019.758}, {'_id': ObjectId('5ccde5d72af975e90113b174'), 'Date': '2012-04-01', 'GDP': 16152.257}, {'_id': ObjectId('5ccde5d72af975e90113b175'), 'Date': '2012-07-01', 'GDP': 16257.151000000002}, {'_id': ObjectId('5ccde5d72af975e90113b176'), 'Date': '2012-10-01', 'GDP': 16358.863000000001}, {'_id': ObjectId('5ccde5d72af975e90113b177'), 'Date': '2013-01-01', 'GDP': 16569.591}, {'_id': ObjectId('5ccde5d72af975e90113b178'), 'Date': '2013-04-01', 'GDP': 16637.926}, {'_id': ObjectId('5ccde5d72af975e90113b179'), 'Date': '2013-07-01', 'GDP': 16848.748}, {'_id': ObjectId('5ccde5d72af975e90113b17a'), 'Date': '2013-10-01', 'GDP': 17083.137}, {'_id': ObjectId('5ccde5d72af975e90113b17b'), 'Date': '2014-01-01', 'GDP': 17102.932}, {'_id': ObjectId('5ccde5d72af975e90113b17c'), 'Date': '2014-04-01', 'GDP': 17425.766}, {'_id': ObjectId('5ccde5d72af975e90113b17d'), 'Date': '2014-07-01', 'GDP': 17719.836}, {'_id': ObjectId('5ccde5d72af975e90113b17e'), 'Date': '2014-10-01', 'GDP': 17838.453999999998}, {'_id': ObjectId('5ccde5d72af975e90113b17f'), 'Date': '2015-01-01', 'GDP': 17970.422}, {'_id': ObjectId('5ccde5d72af975e90113b180'), 'Date': '2015-04-01', 'GDP': 18221.299}, {'_id': ObjectId('5ccde5d72af975e90113b181'), 'Date': '2015-07-01', 'GDP': 18331.093}, {'_id': ObjectId('5ccde5d72af975e90113b182'), 'Date': '2015-10-01', 'GDP': 18354.372}, {'_id': ObjectId('5ccde5d72af975e90113b183'), 'Date': '2016-01-01', 'GDP': 18409.13}, {'_id': ObjectId('5ccde5d72af975e90113b184'), 'Date': '2016-04-01', 'GDP': 18640.732}, {'_id': ObjectId('5ccde5d72af975e90113b185'), 'Date': '2016-07-01', 'GDP': 18799.648}, {'_id': ObjectId('5ccde5d72af975e90113b186'), 'Date': '2016-10-01', 'GDP': 18979.245}, {'_id': ObjectId('5ccde5d72af975e90113b187'), 'Date': '2017-01-01', 'GDP': 19162.55}, {'_id': ObjectId('5ccde5d72af975e90113b188'), 'Date': '2017-04-01', 'GDP': 19359.123}, {'_id': ObjectId('5ccde5d72af975e90113b189'), 'Date': '2017-07-01', 'GDP': 19588.074}, {'_id': ObjectId('5ccde5d72af975e90113b18a'), 'Date': '2017-10-01', 'GDP': 19831.828999999998}, {'_id': ObjectId('5ccde5d72af975e90113b18b'), 'Date': '2018-01-01', 'GDP': 20041.047}, {'_id': ObjectId('5ccde5d72af975e90113b18c'), 'Date': '2018-04-01', 'GDP': 20411.924}, {'_id': ObjectId('5ccde5d72af975e90113b18d'), 'Date': '2018-07-01', 'GDP': 20658.203999999998}, {'_id': ObjectId('5ccde5d72af975e90113b18e'), 'Date': '2018-10-01', 'GDP': 20865.14}, {'_id': ObjectId('5ccde5d72af975e90113b18f'), 'Date': '2019-01-01', 'GDP': 21062.691000000003}]\n"
     ]
    }
   ],
   "source": [
    "list_GDP = list(db.GDP.find())\n",
    "print(list_GDP)"
   ]
  },
  {
   "cell_type": "markdown",
   "metadata": {},
   "source": [
    "# Unemployment Data"
   ]
  },
  {
   "cell_type": "code",
   "execution_count": 40,
   "metadata": {},
   "outputs": [],
   "source": [
    "file_path = \"Resources/Unemployment_rate.csv\"\n",
    "unemployment_df = pd.read_csv(file_path)\n",
    "unemployment_df.columns = ['Date','Unemployment_Rate']"
   ]
  },
  {
   "cell_type": "code",
   "execution_count": 41,
   "metadata": {},
   "outputs": [
    {
     "data": {
      "text/html": [
       "<div>\n",
       "<style scoped>\n",
       "    .dataframe tbody tr th:only-of-type {\n",
       "        vertical-align: middle;\n",
       "    }\n",
       "\n",
       "    .dataframe tbody tr th {\n",
       "        vertical-align: top;\n",
       "    }\n",
       "\n",
       "    .dataframe thead th {\n",
       "        text-align: right;\n",
       "    }\n",
       "</style>\n",
       "<table border=\"1\" class=\"dataframe\">\n",
       "  <thead>\n",
       "    <tr style=\"text-align: right;\">\n",
       "      <th></th>\n",
       "      <th>Date</th>\n",
       "      <th>Unemployment_Rate</th>\n",
       "    </tr>\n",
       "  </thead>\n",
       "  <tbody>\n",
       "    <tr>\n",
       "      <th>0</th>\n",
       "      <td>1948-01-01</td>\n",
       "      <td>3.4</td>\n",
       "    </tr>\n",
       "    <tr>\n",
       "      <th>1</th>\n",
       "      <td>1948-02-01</td>\n",
       "      <td>3.8</td>\n",
       "    </tr>\n",
       "    <tr>\n",
       "      <th>2</th>\n",
       "      <td>1948-03-01</td>\n",
       "      <td>4.0</td>\n",
       "    </tr>\n",
       "    <tr>\n",
       "      <th>3</th>\n",
       "      <td>1948-04-01</td>\n",
       "      <td>3.9</td>\n",
       "    </tr>\n",
       "    <tr>\n",
       "      <th>4</th>\n",
       "      <td>1948-05-01</td>\n",
       "      <td>3.5</td>\n",
       "    </tr>\n",
       "  </tbody>\n",
       "</table>\n",
       "</div>"
      ],
      "text/plain": [
       "         Date  Unemployment_Rate\n",
       "0  1948-01-01                3.4\n",
       "1  1948-02-01                3.8\n",
       "2  1948-03-01                4.0\n",
       "3  1948-04-01                3.9\n",
       "4  1948-05-01                3.5"
      ]
     },
     "execution_count": 41,
     "metadata": {},
     "output_type": "execute_result"
    }
   ],
   "source": [
    "unemployment_df.head()"
   ]
  },
  {
   "cell_type": "code",
   "execution_count": 42,
   "metadata": {},
   "outputs": [],
   "source": [
    "unemployment_df['Date'] = unemployment_df['Date'].astype('datetime64[ns]')"
   ]
  },
  {
   "cell_type": "code",
   "execution_count": 43,
   "metadata": {},
   "outputs": [
    {
     "name": "stdout",
     "output_type": "stream",
     "text": [
      "<class 'pandas.core.frame.DataFrame'>\n",
      "RangeIndex: 856 entries, 0 to 855\n",
      "Data columns (total 2 columns):\n",
      "Date                 856 non-null datetime64[ns]\n",
      "Unemployment_Rate    856 non-null float64\n",
      "dtypes: datetime64[ns](1), float64(1)\n",
      "memory usage: 13.5 KB\n"
     ]
    }
   ],
   "source": [
    "unemployment_df.info()"
   ]
  },
  {
   "cell_type": "code",
   "execution_count": 44,
   "metadata": {},
   "outputs": [],
   "source": [
    "unemployment_df = unemployment_df.set_index('Date')"
   ]
  },
  {
   "cell_type": "code",
   "execution_count": 45,
   "metadata": {},
   "outputs": [
    {
     "data": {
      "text/html": [
       "<div>\n",
       "<style scoped>\n",
       "    .dataframe tbody tr th:only-of-type {\n",
       "        vertical-align: middle;\n",
       "    }\n",
       "\n",
       "    .dataframe tbody tr th {\n",
       "        vertical-align: top;\n",
       "    }\n",
       "\n",
       "    .dataframe thead th {\n",
       "        text-align: right;\n",
       "    }\n",
       "</style>\n",
       "<table border=\"1\" class=\"dataframe\">\n",
       "  <thead>\n",
       "    <tr style=\"text-align: right;\">\n",
       "      <th></th>\n",
       "      <th>Unemployment_Rate</th>\n",
       "    </tr>\n",
       "    <tr>\n",
       "      <th>Date</th>\n",
       "      <th></th>\n",
       "    </tr>\n",
       "  </thead>\n",
       "  <tbody>\n",
       "    <tr>\n",
       "      <th>1948-01-01</th>\n",
       "      <td>3.4</td>\n",
       "    </tr>\n",
       "    <tr>\n",
       "      <th>1948-02-01</th>\n",
       "      <td>3.8</td>\n",
       "    </tr>\n",
       "    <tr>\n",
       "      <th>1948-03-01</th>\n",
       "      <td>4.0</td>\n",
       "    </tr>\n",
       "    <tr>\n",
       "      <th>1948-04-01</th>\n",
       "      <td>3.9</td>\n",
       "    </tr>\n",
       "    <tr>\n",
       "      <th>1948-05-01</th>\n",
       "      <td>3.5</td>\n",
       "    </tr>\n",
       "  </tbody>\n",
       "</table>\n",
       "</div>"
      ],
      "text/plain": [
       "            Unemployment_Rate\n",
       "Date                         \n",
       "1948-01-01                3.4\n",
       "1948-02-01                3.8\n",
       "1948-03-01                4.0\n",
       "1948-04-01                3.9\n",
       "1948-05-01                3.5"
      ]
     },
     "execution_count": 45,
     "metadata": {},
     "output_type": "execute_result"
    }
   ],
   "source": [
    "unemployment_df.head()"
   ]
  },
  {
   "cell_type": "code",
   "execution_count": 46,
   "metadata": {},
   "outputs": [],
   "source": [
    "# Initialize PyMongo to work with MongoDBs\n",
    "conn = 'mongodb://localhost:27017'\n",
    "client = pymongo.MongoClient(conn)"
   ]
  },
  {
   "cell_type": "code",
   "execution_count": 47,
   "metadata": {},
   "outputs": [],
   "source": [
    "# Define database and collection\n",
    "db = client.EcoParameters_db\n",
    "\n",
    "db.Unemployment_rate.drop()\n",
    "collection = db.Unemployment_rate"
   ]
  },
  {
   "cell_type": "code",
   "execution_count": 48,
   "metadata": {},
   "outputs": [],
   "source": [
    "unemployment_df = unemployment_df.resample('QS').mean()\n",
    "#data.reset_index(inplace=True)"
   ]
  },
  {
   "cell_type": "code",
   "execution_count": 49,
   "metadata": {},
   "outputs": [
    {
     "data": {
      "text/plain": [
       "Unemployment_Rate    float64\n",
       "dtype: object"
      ]
     },
     "execution_count": 49,
     "metadata": {},
     "output_type": "execute_result"
    }
   ],
   "source": [
    "unemployment_df.dtypes"
   ]
  },
  {
   "cell_type": "code",
   "execution_count": 50,
   "metadata": {},
   "outputs": [],
   "source": [
    "unemployment_df = unemployment_df.reset_index()"
   ]
  },
  {
   "cell_type": "code",
   "execution_count": 51,
   "metadata": {},
   "outputs": [
    {
     "data": {
      "text/plain": [
       "<pymongo.results.InsertManyResult at 0x2ccd8f0c588>"
      ]
     },
     "execution_count": 51,
     "metadata": {},
     "output_type": "execute_result"
    }
   ],
   "source": [
    "list_dict_Unemployment = []\n",
    "for item, row in unemployment_df.iterrows():\n",
    "    dict_row ={        \n",
    "        \"Date\" : row[\"Date\"].strftime('%Y-%m-%d'),\n",
    "        \"Unemployment_Rate\" : row[\"Unemployment_Rate\"]        \n",
    "                }\n",
    "    list_dict_Unemployment.append(dict_row)\n",
    "db.Unemployment_rate.insert_many(list_dict_Unemployment)"
   ]
  }
 ],
 "metadata": {
  "kernelspec": {
   "display_name": "Python 3",
   "language": "python",
   "name": "python3"
  },
  "language_info": {
   "codemirror_mode": {
    "name": "ipython",
    "version": 3
   },
   "file_extension": ".py",
   "mimetype": "text/x-python",
   "name": "python",
   "nbconvert_exporter": "python",
   "pygments_lexer": "ipython3",
   "version": "3.7.1"
  }
 },
 "nbformat": 4,
 "nbformat_minor": 2
}
