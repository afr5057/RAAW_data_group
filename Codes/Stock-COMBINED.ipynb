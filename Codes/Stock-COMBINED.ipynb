{
 "cells": [
  {
   "cell_type": "markdown",
   "metadata": {},
   "source": [
    "# Finance Companies Stock Data"
   ]
  },
  {
   "cell_type": "code",
   "execution_count": 1,
   "metadata": {},
   "outputs": [],
   "source": [
    "import fix_yahoo_finance as yf\n",
    "import pandas as pd\n",
    "import requests\n",
    "import pymongo\n",
    "import datetime"
   ]
  },
  {
   "cell_type": "code",
   "execution_count": 2,
   "metadata": {},
   "outputs": [
    {
     "data": {
      "text/html": [
       "<div>\n",
       "<style scoped>\n",
       "    .dataframe tbody tr th:only-of-type {\n",
       "        vertical-align: middle;\n",
       "    }\n",
       "\n",
       "    .dataframe tbody tr th {\n",
       "        vertical-align: top;\n",
       "    }\n",
       "\n",
       "    .dataframe thead th {\n",
       "        text-align: right;\n",
       "    }\n",
       "</style>\n",
       "<table border=\"1\" class=\"dataframe\">\n",
       "  <thead>\n",
       "    <tr style=\"text-align: right;\">\n",
       "      <th></th>\n",
       "      <th>Symbol</th>\n",
       "      <th>Name</th>\n",
       "      <th>LastSale</th>\n",
       "      <th>MarketCap</th>\n",
       "      <th>IPOyear</th>\n",
       "      <th>Sector</th>\n",
       "      <th>industry</th>\n",
       "      <th>Summary Quote</th>\n",
       "    </tr>\n",
       "  </thead>\n",
       "  <tbody>\n",
       "    <tr>\n",
       "      <th>20</th>\n",
       "      <td>ABM</td>\n",
       "      <td>ABM Industries Incorporated</td>\n",
       "      <td>38.360</td>\n",
       "      <td>$2.54B</td>\n",
       "      <td>NaN</td>\n",
       "      <td>Finance</td>\n",
       "      <td>Diversified Commercial Services</td>\n",
       "      <td>https://www.nasdaq.com/symbol/abm</td>\n",
       "    </tr>\n",
       "    <tr>\n",
       "      <th>40</th>\n",
       "      <td>AEB</td>\n",
       "      <td>Aegon NV</td>\n",
       "      <td>22.800</td>\n",
       "      <td>NaN</td>\n",
       "      <td>NaN</td>\n",
       "      <td>Finance</td>\n",
       "      <td>Life Insurance</td>\n",
       "      <td>https://www.nasdaq.com/symbol/aeb</td>\n",
       "    </tr>\n",
       "    <tr>\n",
       "      <th>41</th>\n",
       "      <td>AED</td>\n",
       "      <td>Aegon NV</td>\n",
       "      <td>25.550</td>\n",
       "      <td>NaN</td>\n",
       "      <td>NaN</td>\n",
       "      <td>Finance</td>\n",
       "      <td>Life Insurance</td>\n",
       "      <td>https://www.nasdaq.com/symbol/aed</td>\n",
       "    </tr>\n",
       "    <tr>\n",
       "      <th>42</th>\n",
       "      <td>AEG</td>\n",
       "      <td>Aegon NV</td>\n",
       "      <td>5.230</td>\n",
       "      <td>$10.71B</td>\n",
       "      <td>NaN</td>\n",
       "      <td>Finance</td>\n",
       "      <td>Life Insurance</td>\n",
       "      <td>https://www.nasdaq.com/symbol/aeg</td>\n",
       "    </tr>\n",
       "    <tr>\n",
       "      <th>43</th>\n",
       "      <td>AEH</td>\n",
       "      <td>Aegon NV</td>\n",
       "      <td>25.767</td>\n",
       "      <td>NaN</td>\n",
       "      <td>NaN</td>\n",
       "      <td>Finance</td>\n",
       "      <td>Life Insurance</td>\n",
       "      <td>https://www.nasdaq.com/symbol/aeh</td>\n",
       "    </tr>\n",
       "  </tbody>\n",
       "</table>\n",
       "</div>"
      ],
      "text/plain": [
       "   Symbol                         Name  LastSale MarketCap  IPOyear   Sector  \\\n",
       "20    ABM  ABM Industries Incorporated    38.360    $2.54B      NaN  Finance   \n",
       "40    AEB                     Aegon NV    22.800       NaN      NaN  Finance   \n",
       "41    AED                     Aegon NV    25.550       NaN      NaN  Finance   \n",
       "42    AEG                     Aegon NV     5.230   $10.71B      NaN  Finance   \n",
       "43    AEH                     Aegon NV    25.767       NaN      NaN  Finance   \n",
       "\n",
       "                           industry                      Summary Quote  \n",
       "20  Diversified Commercial Services  https://www.nasdaq.com/symbol/abm  \n",
       "40                   Life Insurance  https://www.nasdaq.com/symbol/aeb  \n",
       "41                   Life Insurance  https://www.nasdaq.com/symbol/aed  \n",
       "42                   Life Insurance  https://www.nasdaq.com/symbol/aeg  \n",
       "43                   Life Insurance  https://www.nasdaq.com/symbol/aeh  "
      ]
     },
     "execution_count": 2,
     "metadata": {},
     "output_type": "execute_result"
    }
   ],
   "source": [
    "# Extracted from https://www.nasdaq.com/screening/company-list.aspx\n",
    "file_path = \"Resources/companylist.csv\"\n",
    "df = pd.read_csv(file_path)\n",
    "df = df[[\"Symbol\",\"Name\",\"LastSale\",\"MarketCap\",\"IPOyear\",\"Sector\",\"industry\",\"Summary Quote\"]]\n",
    "\n",
    "df = df.loc[df[\"Sector\"]==\"Finance\"]\n",
    "df = df.iloc[0:75,:]\n",
    "start_date = \"2004-05-03\"\n",
    "end_date = \"2019-05-03\"\n",
    "\n",
    "df.head()"
   ]
  },
  {
   "cell_type": "code",
   "execution_count": 3,
   "metadata": {},
   "outputs": [],
   "source": [
    "# Initialize PyMongo to work with MongoDBs\n",
    "conn = 'mongodb://localhost:27017'\n",
    "client = pymongo.MongoClient(conn)"
   ]
  },
  {
   "cell_type": "code",
   "execution_count": 4,
   "metadata": {},
   "outputs": [],
   "source": [
    "# Define database and collection\n",
    "db = client.EcoParameters_db\n",
    "\n",
    "db.StockPrice_Finance.drop()\n",
    "collection = db.StockPrice_Finance"
   ]
  },
  {
   "cell_type": "code",
   "execution_count": 5,
   "metadata": {},
   "outputs": [
    {
     "name": "stdout",
     "output_type": "stream",
     "text": [
      "[*********************100%***********************]  1 of 1 downloaded\n",
      "[*********************100%***********************]  1 of 1 downloaded\n",
      "[*********************100%***********************]  1 of 1 downloaded\n",
      "[*********************100%***********************]  1 of 1 downloaded\n",
      "[*********************100%***********************]  1 of 1 downloaded\n",
      "[*********************100%***********************]  1 of 1 downloaded\n",
      "[*********************100%***********************]  1 of 1 downloaded\n",
      "[*********************100%***********************]  1 of 1 downloaded\n",
      "[*********************100%***********************]  1 of 1 downloaded\n",
      "[*********************100%***********************]  1 of 1 downloaded\n",
      "[*********************100%***********************]  1 of 1 downloaded\n",
      "[*********************100%***********************]  1 of 1 downloaded\n",
      "[*********************100%***********************]  1 of 1 downloaded\n",
      "[*********************100%***********************]  1 of 1 downloaded\n",
      "[*********************100%***********************]  1 of 1 downloaded\n",
      "[*********************100%***********************]  1 of 1 downloaded\n",
      "[*********************100%***********************]  1 of 1 downloaded\n",
      "Only valid with DatetimeIndex, TimedeltaIndex or PeriodIndex, but got an instance of 'Index'\n"
     ]
    },
    {
     "name": "stderr",
     "output_type": "stream",
     "text": [
      "Exception in thread Thread-22:\n",
      "Traceback (most recent call last):\n",
      "  File \"C:\\Users\\alaq3\\Anaconda3\\lib\\site-packages\\fix_yahoo_finance\\__init__.py\", line 250, in history\n",
      "    quotes = self._parse_quotes(data[\"chart\"][\"result\"][0])\n",
      "  File \"C:\\Users\\alaq3\\Anaconda3\\lib\\site-packages\\fix_yahoo_finance\\__init__.py\", line 109, in _parse_quotes\n",
      "    timestamps = data[\"timestamp\"]\n",
      "KeyError: 'timestamp'\n",
      "\n",
      "During handling of the above exception, another exception occurred:\n",
      "\n",
      "Traceback (most recent call last):\n",
      "  File \"C:\\Users\\alaq3\\Anaconda3\\lib\\threading.py\", line 917, in _bootstrap_inner\n",
      "    self.run()\n",
      "  File \"C:\\Users\\alaq3\\Anaconda3\\lib\\threading.py\", line 865, in run\n",
      "    self._target(*self._args, **self._kwargs)\n",
      "  File \"C:\\Users\\alaq3\\Anaconda3\\lib\\site-packages\\multitasking\\__init__.py\", line 102, in _run_via_pool\n",
      "    return callee(*args, **kwargs)\n",
      "  File \"C:\\Users\\alaq3\\Anaconda3\\lib\\site-packages\\fix_yahoo_finance\\__init__.py\", line 317, in _download_one_threaded\n",
      "    period, interval, prepost)\n",
      "  File \"C:\\Users\\alaq3\\Anaconda3\\lib\\site-packages\\fix_yahoo_finance\\__init__.py\", line 328, in _download_one\n",
      "    actions=actions, auto_adjust=auto_adjust)\n",
      "  File \"C:\\Users\\alaq3\\Anaconda3\\lib\\site-packages\\fix_yahoo_finance\\__init__.py\", line 253, in history\n",
      "    raise ValueError(self.ticker, err_msg)\n",
      "ValueError: ('AFGB', 'No data found for this date range, symbol may be delisted')\n",
      "\n"
     ]
    },
    {
     "name": "stdout",
     "output_type": "stream",
     "text": [
      "[*********************100%***********************]  1 of 1 downloaded\n",
      "[*********************100%***********************]  1 of 1 downloaded\n",
      "[*********************100%***********************]  1 of 1 downloaded\n",
      "[*********************100%***********************]  1 of 1 downloaded\n",
      "[*********************100%***********************]  1 of 1 downloaded\n",
      "[*********************100%***********************]  1 of 1 downloaded\n",
      "[*********************100%***********************]  1 of 1 downloaded\n",
      "[*********************100%***********************]  1 of 1 downloaded\n",
      "[*********************100%***********************]  1 of 1 downloaded\n",
      "[*********************100%***********************]  1 of 1 downloaded\n",
      "[*********************100%***********************]  1 of 1 downloaded\n",
      "[*********************100%***********************]  1 of 1 downloaded\n",
      "[*********************100%***********************]  1 of 1 downloaded\n",
      "[*********************100%***********************]  1 of 1 downloaded\n",
      "[*********************100%***********************]  1 of 1 downloaded\n",
      "[*********************100%***********************]  1 of 1 downloaded\n",
      "[*********************100%***********************]  1 of 1 downloaded\n",
      "[*********************100%***********************]  1 of 1 downloaded\n",
      "[*********************100%***********************]  1 of 1 downloaded\n",
      "[*********************100%***********************]  1 of 1 downloaded\n",
      "[*********************100%***********************]  1 of 1 downloaded\n",
      "[*********************100%***********************]  1 of 1 downloaded\n",
      "[*********************100%***********************]  1 of 1 downloaded\n",
      "[*********************100%***********************]  1 of 1 downloaded\n",
      "[*********************100%***********************]  1 of 1 downloaded\n",
      "[*********************100%***********************]  1 of 1 downloaded\n",
      "[*********************100%***********************]  1 of 1 downloaded\n",
      "[*********************100%***********************]  1 of 1 downloaded\n",
      "[*********************100%***********************]  1 of 1 downloaded\n",
      "[*********************100%***********************]  1 of 1 downloaded\n",
      "[*********************100%***********************]  1 of 1 downloaded\n",
      "[*********************100%***********************]  1 of 1 downloaded\n",
      "[*********************100%***********************]  1 of 1 downloaded\n",
      "[*********************100%***********************]  1 of 1 downloaded\n",
      "[*********************100%***********************]  1 of 1 downloaded\n",
      "[*********************100%***********************]  1 of 1 downloaded\n",
      "[*********************100%***********************]  1 of 1 downloaded\n",
      "Only valid with DatetimeIndex, TimedeltaIndex or PeriodIndex, but got an instance of 'Index'\n"
     ]
    },
    {
     "name": "stderr",
     "output_type": "stream",
     "text": [
      "Exception in thread Thread-59:\n",
      "Traceback (most recent call last):\n",
      "  File \"C:\\Users\\alaq3\\Anaconda3\\lib\\threading.py\", line 917, in _bootstrap_inner\n",
      "    self.run()\n",
      "  File \"C:\\Users\\alaq3\\Anaconda3\\lib\\threading.py\", line 865, in run\n",
      "    self._target(*self._args, **self._kwargs)\n",
      "  File \"C:\\Users\\alaq3\\Anaconda3\\lib\\site-packages\\multitasking\\__init__.py\", line 102, in _run_via_pool\n",
      "    return callee(*args, **kwargs)\n",
      "  File \"C:\\Users\\alaq3\\Anaconda3\\lib\\site-packages\\fix_yahoo_finance\\__init__.py\", line 317, in _download_one_threaded\n",
      "    period, interval, prepost)\n",
      "  File \"C:\\Users\\alaq3\\Anaconda3\\lib\\site-packages\\fix_yahoo_finance\\__init__.py\", line 328, in _download_one\n",
      "    actions=actions, auto_adjust=auto_adjust)\n",
      "  File \"C:\\Users\\alaq3\\Anaconda3\\lib\\site-packages\\fix_yahoo_finance\\__init__.py\", line 241, in history\n",
      "    raise ValueError(self.ticker, err_msg)\n",
      "ValueError: ('BAC^W', 'No data found, symbol may be delisted')\n",
      "\n"
     ]
    },
    {
     "name": "stdout",
     "output_type": "stream",
     "text": [
      "[*********************100%***********************]  1 of 1 downloaded\n",
      "Only valid with DatetimeIndex, TimedeltaIndex or PeriodIndex, but got an instance of 'Index'\n"
     ]
    },
    {
     "name": "stderr",
     "output_type": "stream",
     "text": [
      "Exception in thread Thread-60:\n",
      "Traceback (most recent call last):\n",
      "  File \"C:\\Users\\alaq3\\Anaconda3\\lib\\threading.py\", line 917, in _bootstrap_inner\n",
      "    self.run()\n",
      "  File \"C:\\Users\\alaq3\\Anaconda3\\lib\\threading.py\", line 865, in run\n",
      "    self._target(*self._args, **self._kwargs)\n",
      "  File \"C:\\Users\\alaq3\\Anaconda3\\lib\\site-packages\\multitasking\\__init__.py\", line 102, in _run_via_pool\n",
      "    return callee(*args, **kwargs)\n",
      "  File \"C:\\Users\\alaq3\\Anaconda3\\lib\\site-packages\\fix_yahoo_finance\\__init__.py\", line 317, in _download_one_threaded\n",
      "    period, interval, prepost)\n",
      "  File \"C:\\Users\\alaq3\\Anaconda3\\lib\\site-packages\\fix_yahoo_finance\\__init__.py\", line 328, in _download_one\n",
      "    actions=actions, auto_adjust=auto_adjust)\n",
      "  File \"C:\\Users\\alaq3\\Anaconda3\\lib\\site-packages\\fix_yahoo_finance\\__init__.py\", line 241, in history\n",
      "    raise ValueError(self.ticker, err_msg)\n",
      "ValueError: ('BAC^Y', 'No data found, symbol may be delisted')\n",
      "\n"
     ]
    },
    {
     "name": "stdout",
     "output_type": "stream",
     "text": [
      "[*********************100%***********************]  1 of 1 downloaded\n",
      "[*********************100%***********************]  1 of 1 downloaded\n",
      "[*********************100%***********************]  1 of 1 downloaded\n",
      "[*********************100%***********************]  1 of 1 downloaded\n",
      "[*********************100%***********************]  1 of 1 downloaded\n",
      "[*********************100%***********************]  1 of 1 downloaded\n",
      "[*********************100%***********************]  1 of 1 downloaded\n",
      "[*********************100%***********************]  1 of 1 downloaded\n",
      "[*********************100%***********************]  1 of 1 downloaded\n",
      "[*********************100%***********************]  1 of 1 downloaded\n",
      "[*********************100%***********************]  1 of 1 downloaded\n",
      "[*********************100%***********************]  1 of 1 downloaded\n",
      "[*********************100%***********************]  1 of 1 downloaded\n",
      "[*********************100%***********************]  1 of 1 downloaded\n",
      "[*********************100%***********************]  1 of 1 downloaded\n",
      "[*********************100%***********************]  1 of 1 downloaded\n",
      "[*********************100%***********************]  1 of 1 downloaded\n",
      "[*********************100%***********************]  1 of 1 downloaded\n",
      "[*********************100%***********************]  1 of 1 downloaded\n",
      "[*********************100%***********************]  1 of 1 downloaded\n"
     ]
    }
   ],
   "source": [
    "tickers = list(df[\"Symbol\"])\n",
    "\n",
    "for ticker in tickers:\n",
    "    \n",
    "    data = yf.download(ticker, start=start_date, end=end_date)\n",
    "    try:\n",
    "        data = data.resample('QS').mean()\n",
    "        data.reset_index(inplace=True)\n",
    "        data[\"Ticker\"] = ticker\n",
    "        data = data[[\"Ticker\",\"Date\",\"Close\",\"Volume\"]]\n",
    "        list_dict_prices_stock = []\n",
    "        for item, row in data.iterrows():\n",
    "            dict_row ={\n",
    "                \"Ticker\" : row[\"Ticker\"],\n",
    "                \"Date\" : row[\"Date\"].strftime('%Y-%m-%d'),\n",
    "                \"Close\" : row[\"Close\"],\n",
    "                \"Volume\" : row[\"Volume\"]\n",
    "                }\n",
    "            list_dict_prices_stock.append(dict_row)\n",
    "        db.StockPrice_Finance.insert_many(list_dict_prices_stock)\n",
    "    except Exception as e:\n",
    "        print(e)"
   ]
  },
  {
   "cell_type": "code",
   "execution_count": null,
   "metadata": {},
   "outputs": [],
   "source": []
  },
  {
   "cell_type": "markdown",
   "metadata": {},
   "source": [
    "# Health Care Companies Stock Data"
   ]
  },
  {
   "cell_type": "code",
   "execution_count": 6,
   "metadata": {},
   "outputs": [
    {
     "data": {
      "text/html": [
       "<div>\n",
       "<style scoped>\n",
       "    .dataframe tbody tr th:only-of-type {\n",
       "        vertical-align: middle;\n",
       "    }\n",
       "\n",
       "    .dataframe tbody tr th {\n",
       "        vertical-align: top;\n",
       "    }\n",
       "\n",
       "    .dataframe thead th {\n",
       "        text-align: right;\n",
       "    }\n",
       "</style>\n",
       "<table border=\"1\" class=\"dataframe\">\n",
       "  <thead>\n",
       "    <tr style=\"text-align: right;\">\n",
       "      <th></th>\n",
       "      <th>Symbol</th>\n",
       "      <th>Name</th>\n",
       "      <th>LastSale</th>\n",
       "      <th>MarketCap</th>\n",
       "      <th>IPOyear</th>\n",
       "      <th>Sector</th>\n",
       "      <th>industry</th>\n",
       "      <th>Summary Quote</th>\n",
       "    </tr>\n",
       "  </thead>\n",
       "  <tbody>\n",
       "    <tr>\n",
       "      <th>1</th>\n",
       "      <td>MMM</td>\n",
       "      <td>3M Company</td>\n",
       "      <td>185.22</td>\n",
       "      <td>$106.77B</td>\n",
       "      <td>NaN</td>\n",
       "      <td>Health Care</td>\n",
       "      <td>Medical/Dental Instruments</td>\n",
       "      <td>https://www.nasdaq.com/symbol/mmm</td>\n",
       "    </tr>\n",
       "    <tr>\n",
       "      <th>8</th>\n",
       "      <td>AAC</td>\n",
       "      <td>AAC Holdings, Inc.</td>\n",
       "      <td>1.97</td>\n",
       "      <td>$49.84M</td>\n",
       "      <td>2014.0</td>\n",
       "      <td>Health Care</td>\n",
       "      <td>Medical Specialities</td>\n",
       "      <td>https://www.nasdaq.com/symbol/aac</td>\n",
       "    </tr>\n",
       "    <tr>\n",
       "      <th>12</th>\n",
       "      <td>ABT</td>\n",
       "      <td>Abbott Laboratories</td>\n",
       "      <td>78.69</td>\n",
       "      <td>$138.22B</td>\n",
       "      <td>NaN</td>\n",
       "      <td>Health Care</td>\n",
       "      <td>Major Pharmaceuticals</td>\n",
       "      <td>https://www.nasdaq.com/symbol/abt</td>\n",
       "    </tr>\n",
       "    <tr>\n",
       "      <th>13</th>\n",
       "      <td>ABBV</td>\n",
       "      <td>AbbVie Inc.</td>\n",
       "      <td>78.71</td>\n",
       "      <td>$116.35B</td>\n",
       "      <td>2012.0</td>\n",
       "      <td>Health Care</td>\n",
       "      <td>Major Pharmaceuticals</td>\n",
       "      <td>https://www.nasdaq.com/symbol/abbv</td>\n",
       "    </tr>\n",
       "    <tr>\n",
       "      <th>69</th>\n",
       "      <td>ALC</td>\n",
       "      <td>Alcon Inc.</td>\n",
       "      <td>58.50</td>\n",
       "      <td>$28.59B</td>\n",
       "      <td>2019.0</td>\n",
       "      <td>Health Care</td>\n",
       "      <td>Ophthalmic Goods</td>\n",
       "      <td>https://www.nasdaq.com/symbol/alc</td>\n",
       "    </tr>\n",
       "  </tbody>\n",
       "</table>\n",
       "</div>"
      ],
      "text/plain": [
       "   Symbol                 Name  LastSale MarketCap  IPOyear       Sector  \\\n",
       "1     MMM           3M Company    185.22  $106.77B      NaN  Health Care   \n",
       "8     AAC   AAC Holdings, Inc.      1.97   $49.84M   2014.0  Health Care   \n",
       "12    ABT  Abbott Laboratories     78.69  $138.22B      NaN  Health Care   \n",
       "13   ABBV          AbbVie Inc.     78.71  $116.35B   2012.0  Health Care   \n",
       "69    ALC           Alcon Inc.     58.50   $28.59B   2019.0  Health Care   \n",
       "\n",
       "                      industry                       Summary Quote  \n",
       "1   Medical/Dental Instruments   https://www.nasdaq.com/symbol/mmm  \n",
       "8         Medical Specialities   https://www.nasdaq.com/symbol/aac  \n",
       "12       Major Pharmaceuticals   https://www.nasdaq.com/symbol/abt  \n",
       "13       Major Pharmaceuticals  https://www.nasdaq.com/symbol/abbv  \n",
       "69            Ophthalmic Goods   https://www.nasdaq.com/symbol/alc  "
      ]
     },
     "execution_count": 6,
     "metadata": {},
     "output_type": "execute_result"
    }
   ],
   "source": [
    "# Extracted from https://www.nasdaq.com/screening/company-list.aspx\n",
    "file_path = \"Resources/companylist.csv\"\n",
    "df = pd.read_csv(file_path)\n",
    "df = df[[\"Symbol\",\"Name\",\"LastSale\",\"MarketCap\",\"IPOyear\",\"Sector\",\"industry\",\"Summary Quote\"]]\n",
    "\n",
    "df = df.loc[df[\"Sector\"]==\"Health Care\"]\n",
    "df = df.iloc[0:50,:]\n",
    "start_date = \"2004-05-03\"\n",
    "end_date = \"2019-05-03\"\n",
    "\n",
    "df.head()"
   ]
  },
  {
   "cell_type": "code",
   "execution_count": 7,
   "metadata": {},
   "outputs": [],
   "source": [
    "# Initialize PyMongo to work with MongoDBs\n",
    "conn = 'mongodb://localhost:27017'\n",
    "client = pymongo.MongoClient(conn)"
   ]
  },
  {
   "cell_type": "code",
   "execution_count": 8,
   "metadata": {},
   "outputs": [],
   "source": [
    "# Define database and collection\n",
    "db = client.EcoParameters_db\n",
    "\n",
    "db.StockPrice_Healthcare.drop()\n",
    "\n",
    "collection = db.StockPrice_Healthcare"
   ]
  },
  {
   "cell_type": "code",
   "execution_count": 9,
   "metadata": {},
   "outputs": [
    {
     "name": "stdout",
     "output_type": "stream",
     "text": [
      "[*********************100%***********************]  1 of 1 downloaded\n",
      "[*********************100%***********************]  1 of 1 downloaded\n",
      "[*********************100%***********************]  1 of 1 downloaded\n",
      "[*********************100%***********************]  1 of 1 downloaded\n",
      "[*********************100%***********************]  1 of 1 downloaded\n",
      "[*********************100%***********************]  1 of 1 downloaded\n",
      "[*********************100%***********************]  1 of 1 downloaded\n",
      "[*********************100%***********************]  1 of 1 downloaded\n",
      "[*********************100%***********************]  1 of 1 downloaded\n",
      "[*********************100%***********************]  1 of 1 downloaded\n",
      "[*********************100%***********************]  1 of 1 downloaded\n",
      "[*********************100%***********************]  1 of 1 downloaded\n",
      "[*********************100%***********************]  1 of 1 downloaded\n",
      "[*********************100%***********************]  1 of 1 downloaded\n",
      "[*********************100%***********************]  1 of 1 downloaded\n",
      "[*********************100%***********************]  1 of 1 downloaded\n",
      "[*********************100%***********************]  1 of 1 downloaded\n",
      "[*********************100%***********************]  1 of 1 downloaded\n",
      "[*********************100%***********************]  1 of 1 downloaded\n",
      "[*********************100%***********************]  1 of 1 downloaded\n",
      "[*********************100%***********************]  1 of 1 downloaded\n",
      "[*********************100%***********************]  1 of 1 downloaded\n",
      "[*********************100%***********************]  1 of 1 downloaded\n",
      "[*********************100%***********************]  1 of 1 downloaded\n",
      "[*********************100%***********************]  1 of 1 downloaded\n",
      "[*********************100%***********************]  1 of 1 downloaded\n",
      "[*********************100%***********************]  1 of 1 downloaded\n",
      "[*********************100%***********************]  1 of 1 downloaded\n",
      "[*********************100%***********************]  1 of 1 downloaded\n",
      "[*********************100%***********************]  1 of 1 downloaded\n",
      "[*********************100%***********************]  1 of 1 downloaded\n",
      "[*********************100%***********************]  1 of 1 downloaded\n",
      "[*********************100%***********************]  1 of 1 downloaded\n",
      "[*********************100%***********************]  1 of 1 downloaded\n",
      "[*********************100%***********************]  1 of 1 downloaded\n",
      "[*********************100%***********************]  1 of 1 downloaded\n",
      "[*********************100%***********************]  1 of 1 downloaded\n",
      "[*********************100%***********************]  1 of 1 downloaded\n",
      "[*********************100%***********************]  1 of 1 downloaded\n",
      "[*********************100%***********************]  1 of 1 downloaded\n",
      "[*********************100%***********************]  1 of 1 downloaded\n",
      "[*********************100%***********************]  1 of 1 downloaded\n",
      "[*********************100%***********************]  1 of 1 downloaded\n",
      "[*********************100%***********************]  1 of 1 downloaded\n",
      "[*********************100%***********************]  1 of 1 downloaded\n",
      "[*********************100%***********************]  1 of 1 downloaded\n",
      "[*********************100%***********************]  1 of 1 downloaded\n",
      "[*********************100%***********************]  1 of 1 downloaded\n",
      "[*********************100%***********************]  1 of 1 downloaded\n",
      "[*********************100%***********************]  1 of 1 downloaded\n"
     ]
    }
   ],
   "source": [
    "tickers = list(df[\"Symbol\"])\n",
    "\n",
    "\n",
    "\n",
    "for ticker in tickers:\n",
    "    data = yf.download(ticker, start=start_date, end=end_date)\n",
    "   \n",
    "    try:\n",
    "        data = data.resample('QS').mean()\n",
    "        data.reset_index(inplace=True)\n",
    "        data[\"Ticker\"] = ticker\n",
    "        data = data[[\"Ticker\",\"Date\",\"Close\",\"Volume\"]]\n",
    "        list_dict_prices_stock = []\n",
    "        for item, row in data.iterrows():\n",
    "            dict_row ={\n",
    "                \"Ticker\" : row[\"Ticker\"],\n",
    "                \"Date\" : row[\"Date\"].strftime('%Y-%m-%d'),\n",
    "                \"Close\" : row[\"Close\"],\n",
    "                \"Volume\" : row[\"Volume\"]\n",
    "                }\n",
    "            list_dict_prices_stock.append(dict_row)\n",
    "        db.StockPrice_Healthcare.insert_many(list_dict_prices_stock)\n",
    "    except Exception as e:\n",
    "        print(e)"
   ]
  },
  {
   "cell_type": "code",
   "execution_count": null,
   "metadata": {},
   "outputs": [],
   "source": []
  },
  {
   "cell_type": "markdown",
   "metadata": {},
   "source": [
    "# Technology Companies Stock Data"
   ]
  },
  {
   "cell_type": "code",
   "execution_count": 10,
   "metadata": {},
   "outputs": [
    {
     "data": {
      "text/html": [
       "<div>\n",
       "<style scoped>\n",
       "    .dataframe tbody tr th:only-of-type {\n",
       "        vertical-align: middle;\n",
       "    }\n",
       "\n",
       "    .dataframe tbody tr th {\n",
       "        vertical-align: top;\n",
       "    }\n",
       "\n",
       "    .dataframe thead th {\n",
       "        text-align: right;\n",
       "    }\n",
       "</style>\n",
       "<table border=\"1\" class=\"dataframe\">\n",
       "  <thead>\n",
       "    <tr style=\"text-align: right;\">\n",
       "      <th></th>\n",
       "      <th>Symbol</th>\n",
       "      <th>Name</th>\n",
       "      <th>LastSale</th>\n",
       "      <th>MarketCap</th>\n",
       "      <th>IPOyear</th>\n",
       "      <th>Sector</th>\n",
       "      <th>industry</th>\n",
       "      <th>Summary Quote</th>\n",
       "    </tr>\n",
       "  </thead>\n",
       "  <tbody>\n",
       "    <tr>\n",
       "      <th>0</th>\n",
       "      <td>DDD</td>\n",
       "      <td>3D Systems Corporation</td>\n",
       "      <td>11.15</td>\n",
       "      <td>$1.3B</td>\n",
       "      <td>NaN</td>\n",
       "      <td>Technology</td>\n",
       "      <td>Computer Software: Prepackaged Software</td>\n",
       "      <td>https://www.nasdaq.com/symbol/ddd</td>\n",
       "    </tr>\n",
       "    <tr>\n",
       "      <th>3</th>\n",
       "      <td>WUBA</td>\n",
       "      <td>58.com Inc.</td>\n",
       "      <td>72.45</td>\n",
       "      <td>$10.74B</td>\n",
       "      <td>2013.0</td>\n",
       "      <td>Technology</td>\n",
       "      <td>Computer Software: Programming, Data Processing</td>\n",
       "      <td>https://www.nasdaq.com/symbol/wuba</td>\n",
       "    </tr>\n",
       "    <tr>\n",
       "      <th>4</th>\n",
       "      <td>EGHT</td>\n",
       "      <td>8x8 Inc</td>\n",
       "      <td>24.21</td>\n",
       "      <td>$2.32B</td>\n",
       "      <td>NaN</td>\n",
       "      <td>Technology</td>\n",
       "      <td>EDP Services</td>\n",
       "      <td>https://www.nasdaq.com/symbol/eght</td>\n",
       "    </tr>\n",
       "    <tr>\n",
       "      <th>7</th>\n",
       "      <td>ATEN</td>\n",
       "      <td>A10 Networks, Inc.</td>\n",
       "      <td>6.49</td>\n",
       "      <td>$487.94M</td>\n",
       "      <td>2014.0</td>\n",
       "      <td>Technology</td>\n",
       "      <td>Computer Communications Equipment</td>\n",
       "      <td>https://www.nasdaq.com/symbol/aten</td>\n",
       "    </tr>\n",
       "    <tr>\n",
       "      <th>10</th>\n",
       "      <td>AAN</td>\n",
       "      <td>Aaron&amp;#39;s,  Inc.</td>\n",
       "      <td>58.75</td>\n",
       "      <td>$3.98B</td>\n",
       "      <td>NaN</td>\n",
       "      <td>Technology</td>\n",
       "      <td>Diversified Commercial Services</td>\n",
       "      <td>https://www.nasdaq.com/symbol/aan</td>\n",
       "    </tr>\n",
       "  </tbody>\n",
       "</table>\n",
       "</div>"
      ],
      "text/plain": [
       "   Symbol                    Name  LastSale MarketCap  IPOyear      Sector  \\\n",
       "0     DDD  3D Systems Corporation     11.15     $1.3B      NaN  Technology   \n",
       "3    WUBA             58.com Inc.     72.45   $10.74B   2013.0  Technology   \n",
       "4    EGHT                 8x8 Inc     24.21    $2.32B      NaN  Technology   \n",
       "7    ATEN      A10 Networks, Inc.      6.49  $487.94M   2014.0  Technology   \n",
       "10    AAN      Aaron&#39;s,  Inc.     58.75    $3.98B      NaN  Technology   \n",
       "\n",
       "                                           industry  \\\n",
       "0           Computer Software: Prepackaged Software   \n",
       "3   Computer Software: Programming, Data Processing   \n",
       "4                                      EDP Services   \n",
       "7                 Computer Communications Equipment   \n",
       "10                  Diversified Commercial Services   \n",
       "\n",
       "                         Summary Quote  \n",
       "0    https://www.nasdaq.com/symbol/ddd  \n",
       "3   https://www.nasdaq.com/symbol/wuba  \n",
       "4   https://www.nasdaq.com/symbol/eght  \n",
       "7   https://www.nasdaq.com/symbol/aten  \n",
       "10   https://www.nasdaq.com/symbol/aan  "
      ]
     },
     "execution_count": 10,
     "metadata": {},
     "output_type": "execute_result"
    }
   ],
   "source": [
    "# Extracted from https://www.nasdaq.com/screening/company-list.aspx\n",
    "file_path = \"Resources/companylist.csv\"\n",
    "df = pd.read_csv(file_path)\n",
    "df = df[[\"Symbol\",\"Name\",\"LastSale\",\"MarketCap\",\"IPOyear\",\"Sector\",\"industry\",\"Summary Quote\"]]\n",
    "\n",
    "df = df.loc[df[\"Sector\"]==\"Technology\"]\n",
    "df = df.iloc[0:50,:]\n",
    "start_date = \"2004-05-03\"\n",
    "end_date = \"2019-05-03\"\n",
    "\n",
    "df.head()"
   ]
  },
  {
   "cell_type": "code",
   "execution_count": 11,
   "metadata": {},
   "outputs": [],
   "source": [
    "# Initialize PyMongo to work with MongoDBs\n",
    "conn = 'mongodb://localhost:27017'\n",
    "client = pymongo.MongoClient(conn)"
   ]
  },
  {
   "cell_type": "code",
   "execution_count": 12,
   "metadata": {},
   "outputs": [],
   "source": [
    "# Define database and collection\n",
    "db = client.EcoParameters_db\n",
    "\n",
    "db.StockPrice_Technology.drop()\n",
    "\n",
    "collection = db.StockPrice_Technology"
   ]
  },
  {
   "cell_type": "code",
   "execution_count": 13,
   "metadata": {},
   "outputs": [
    {
     "name": "stdout",
     "output_type": "stream",
     "text": [
      "[*********************100%***********************]  1 of 1 downloaded\n",
      "[*********************100%***********************]  1 of 1 downloaded\n",
      "[*********************100%***********************]  1 of 1 downloaded\n",
      "[*********************100%***********************]  1 of 1 downloaded\n",
      "[*********************100%***********************]  1 of 1 downloaded\n",
      "[*********************100%***********************]  1 of 1 downloaded\n",
      "[*********************100%***********************]  1 of 1 downloaded\n",
      "[*********************100%***********************]  1 of 1 downloaded\n",
      "[*********************100%***********************]  1 of 1 downloaded\n",
      "[*********************100%***********************]  1 of 1 downloaded\n",
      "[*********************100%***********************]  1 of 1 downloaded\n",
      "[*********************100%***********************]  1 of 1 downloaded\n",
      "[*********************100%***********************]  1 of 1 downloaded\n",
      "[*********************100%***********************]  1 of 1 downloaded\n",
      "[*********************100%***********************]  1 of 1 downloaded\n",
      "[*********************100%***********************]  1 of 1 downloaded\n",
      "[*********************100%***********************]  1 of 1 downloaded\n",
      "[*********************100%***********************]  1 of 1 downloaded\n",
      "[*********************100%***********************]  1 of 1 downloaded\n",
      "[*********************100%***********************]  1 of 1 downloaded\n",
      "[*********************100%***********************]  1 of 1 downloaded\n",
      "[*********************100%***********************]  1 of 1 downloaded\n",
      "[*********************100%***********************]  1 of 1 downloaded\n",
      "[*********************100%***********************]  1 of 1 downloaded\n",
      "[*********************100%***********************]  1 of 1 downloaded\n",
      "[*********************100%***********************]  1 of 1 downloaded\n",
      "[*********************100%***********************]  1 of 1 downloaded\n",
      "[*********************100%***********************]  1 of 1 downloaded\n",
      "[*********************100%***********************]  1 of 1 downloaded\n",
      "[*********************100%***********************]  1 of 1 downloaded\n",
      "[*********************100%***********************]  1 of 1 downloaded\n",
      "[*********************100%***********************]  1 of 1 downloaded\n",
      "[*********************100%***********************]  1 of 1 downloaded\n",
      "[*********************100%***********************]  1 of 1 downloaded\n",
      "[*********************100%***********************]  1 of 1 downloaded\n",
      "[*********************100%***********************]  1 of 1 downloaded\n",
      "[*********************100%***********************]  1 of 1 downloaded\n",
      "[*********************100%***********************]  1 of 1 downloaded\n",
      "[*********************100%***********************]  1 of 1 downloaded\n",
      "[*********************100%***********************]  1 of 1 downloaded\n",
      "[*********************100%***********************]  1 of 1 downloaded\n",
      "[*********************100%***********************]  1 of 1 downloaded\n",
      "[*********************100%***********************]  1 of 1 downloaded\n",
      "[*********************100%***********************]  1 of 1 downloaded\n",
      "[*********************100%***********************]  1 of 1 downloaded\n",
      "[*********************100%***********************]  1 of 1 downloaded\n",
      "[*********************100%***********************]  1 of 1 downloaded\n",
      "[*********************100%***********************]  1 of 1 downloaded\n",
      "[*********************100%***********************]  1 of 1 downloaded\n",
      "[*********************100%***********************]  1 of 1 downloaded\n"
     ]
    }
   ],
   "source": [
    "tickers = list(df[\"Symbol\"])\n",
    "\n",
    "\n",
    "for ticker in tickers:\n",
    "    data = yf.download(ticker, start=start_date, end=end_date)\n",
    "   \n",
    "    try:\n",
    "        data = data.resample('QS').mean()\n",
    "        data.reset_index(inplace=True)\n",
    "        data[\"Ticker\"] = ticker\n",
    "        data = data[[\"Ticker\",\"Date\",\"Close\",\"Volume\"]]\n",
    "        list_dict_prices_stock = []\n",
    "        for item, row in data.iterrows():\n",
    "            dict_row ={\n",
    "                \"Ticker\" : row[\"Ticker\"],\n",
    "                \"Date\" : row[\"Date\"].strftime('%Y-%m-%d'),\n",
    "                \"Close\" : row[\"Close\"],\n",
    "                \"Volume\" : row[\"Volume\"]\n",
    "                }\n",
    "            list_dict_prices_stock.append(dict_row)\n",
    "        db.StockPrice_Technology.insert_many(list_dict_prices_stock)\n",
    "    except Exception as e:\n",
    "        print(e)"
   ]
  },
  {
   "cell_type": "code",
   "execution_count": null,
   "metadata": {},
   "outputs": [],
   "source": []
  },
  {
   "cell_type": "markdown",
   "metadata": {},
   "source": [
    "# Energy Companies Stock Data"
   ]
  },
  {
   "cell_type": "code",
   "execution_count": 14,
   "metadata": {},
   "outputs": [
    {
     "data": {
      "text/html": [
       "<div>\n",
       "<style scoped>\n",
       "    .dataframe tbody tr th:only-of-type {\n",
       "        vertical-align: middle;\n",
       "    }\n",
       "\n",
       "    .dataframe tbody tr th {\n",
       "        vertical-align: top;\n",
       "    }\n",
       "\n",
       "    .dataframe thead th {\n",
       "        text-align: right;\n",
       "    }\n",
       "</style>\n",
       "<table border=\"1\" class=\"dataframe\">\n",
       "  <thead>\n",
       "    <tr style=\"text-align: right;\">\n",
       "      <th></th>\n",
       "      <th>Symbol</th>\n",
       "      <th>Name</th>\n",
       "      <th>LastSale</th>\n",
       "      <th>MarketCap</th>\n",
       "      <th>IPOyear</th>\n",
       "      <th>Sector</th>\n",
       "      <th>industry</th>\n",
       "      <th>Summary Quote</th>\n",
       "    </tr>\n",
       "  </thead>\n",
       "  <tbody>\n",
       "    <tr>\n",
       "      <th>154</th>\n",
       "      <td>APC</td>\n",
       "      <td>Anadarko Petroleum Corporation</td>\n",
       "      <td>72.72</td>\n",
       "      <td>$36.5B</td>\n",
       "      <td>NaN</td>\n",
       "      <td>Energy</td>\n",
       "      <td>Oil &amp; Gas Production</td>\n",
       "      <td>https://www.nasdaq.com/symbol/apc</td>\n",
       "    </tr>\n",
       "    <tr>\n",
       "      <th>156</th>\n",
       "      <td>ANDX</td>\n",
       "      <td>Andeavor Logistics LP</td>\n",
       "      <td>34.30</td>\n",
       "      <td>$8.42B</td>\n",
       "      <td>2011.0</td>\n",
       "      <td>Energy</td>\n",
       "      <td>Natural Gas Distribution</td>\n",
       "      <td>https://www.nasdaq.com/symbol/andx</td>\n",
       "    </tr>\n",
       "    <tr>\n",
       "      <th>167</th>\n",
       "      <td>AR</td>\n",
       "      <td>Antero Resources Corporation</td>\n",
       "      <td>7.17</td>\n",
       "      <td>$2.22B</td>\n",
       "      <td>2013.0</td>\n",
       "      <td>Energy</td>\n",
       "      <td>Oil &amp; Gas Production</td>\n",
       "      <td>https://www.nasdaq.com/symbol/ar</td>\n",
       "    </tr>\n",
       "    <tr>\n",
       "      <th>174</th>\n",
       "      <td>APA</td>\n",
       "      <td>Apache Corporation</td>\n",
       "      <td>30.59</td>\n",
       "      <td>$11.5B</td>\n",
       "      <td>NaN</td>\n",
       "      <td>Energy</td>\n",
       "      <td>Oil &amp; Gas Production</td>\n",
       "      <td>https://www.nasdaq.com/symbol/apa</td>\n",
       "    </tr>\n",
       "    <tr>\n",
       "      <th>202</th>\n",
       "      <td>ARCH</td>\n",
       "      <td>Arch Coal, Inc.</td>\n",
       "      <td>97.73</td>\n",
       "      <td>$1.64B</td>\n",
       "      <td>2016.0</td>\n",
       "      <td>Energy</td>\n",
       "      <td>Coal Mining</td>\n",
       "      <td>https://www.nasdaq.com/symbol/arch</td>\n",
       "    </tr>\n",
       "  </tbody>\n",
       "</table>\n",
       "</div>"
      ],
      "text/plain": [
       "    Symbol                            Name  LastSale MarketCap  IPOyear  \\\n",
       "154    APC  Anadarko Petroleum Corporation     72.72    $36.5B      NaN   \n",
       "156   ANDX           Andeavor Logistics LP     34.30    $8.42B   2011.0   \n",
       "167     AR    Antero Resources Corporation      7.17    $2.22B   2013.0   \n",
       "174    APA              Apache Corporation     30.59    $11.5B      NaN   \n",
       "202   ARCH                 Arch Coal, Inc.     97.73    $1.64B   2016.0   \n",
       "\n",
       "     Sector                  industry                       Summary Quote  \n",
       "154  Energy      Oil & Gas Production   https://www.nasdaq.com/symbol/apc  \n",
       "156  Energy  Natural Gas Distribution  https://www.nasdaq.com/symbol/andx  \n",
       "167  Energy      Oil & Gas Production    https://www.nasdaq.com/symbol/ar  \n",
       "174  Energy      Oil & Gas Production   https://www.nasdaq.com/symbol/apa  \n",
       "202  Energy               Coal Mining  https://www.nasdaq.com/symbol/arch  "
      ]
     },
     "execution_count": 14,
     "metadata": {},
     "output_type": "execute_result"
    }
   ],
   "source": [
    "# Extracted from https://www.nasdaq.com/screening/company-list.aspx\n",
    "file_path = \"Resources/companylist.csv\"\n",
    "df = pd.read_csv(file_path)\n",
    "df = df[[\"Symbol\",\"Name\",\"LastSale\",\"MarketCap\",\"IPOyear\",\"Sector\",\"industry\",\"Summary Quote\"]]\n",
    "\n",
    "df = df.loc[df[\"Sector\"]==\"Energy\"]\n",
    "df = df.iloc[0:50,:]\n",
    "start_date = \"2004-05-03\"\n",
    "end_date = \"2019-05-03\"\n",
    "\n",
    "df.head()"
   ]
  },
  {
   "cell_type": "code",
   "execution_count": 15,
   "metadata": {},
   "outputs": [],
   "source": [
    "# Initialize PyMongo to work with MongoDBs\n",
    "conn = 'mongodb://localhost:27017'\n",
    "client = pymongo.MongoClient(conn)"
   ]
  },
  {
   "cell_type": "code",
   "execution_count": 16,
   "metadata": {},
   "outputs": [],
   "source": [
    "# Define database and collection\n",
    "db = client.EcoParameters_db\n",
    "\n",
    "db.StockPrice_Energy.drop()\n",
    "collection = db.StockPrice_Energy"
   ]
  },
  {
   "cell_type": "code",
   "execution_count": 17,
   "metadata": {},
   "outputs": [
    {
     "name": "stdout",
     "output_type": "stream",
     "text": [
      "[*********************100%***********************]  1 of 1 downloaded\n",
      "[*********************100%***********************]  1 of 1 downloaded\n",
      "[*********************100%***********************]  1 of 1 downloaded\n",
      "[*********************100%***********************]  1 of 1 downloaded\n",
      "[*********************100%***********************]  1 of 1 downloaded\n",
      "[*********************100%***********************]  1 of 1 downloaded\n",
      "[*********************100%***********************]  1 of 1 downloaded\n",
      "[*********************100%***********************]  1 of 1 downloaded\n",
      "[*********************100%***********************]  1 of 1 downloaded\n",
      "[*********************100%***********************]  1 of 1 downloaded\n",
      "[*********************100%***********************]  1 of 1 downloaded\n",
      "[*********************100%***********************]  1 of 1 downloaded\n",
      "[*********************100%***********************]  1 of 1 downloaded\n",
      "[*********************100%***********************]  1 of 1 downloaded\n",
      "[*********************100%***********************]  1 of 1 downloaded\n",
      "[*********************100%***********************]  1 of 1 downloaded\n",
      "[*********************100%***********************]  1 of 1 downloaded\n",
      "[*********************100%***********************]  1 of 1 downloaded\n",
      "[*********************100%***********************]  1 of 1 downloaded\n",
      "[*********************100%***********************]  1 of 1 downloaded\n",
      "[*********************100%***********************]  1 of 1 downloaded\n",
      "[*********************100%***********************]  1 of 1 downloaded\n",
      "[*********************100%***********************]  1 of 1 downloaded\n",
      "[*********************100%***********************]  1 of 1 downloaded\n",
      "[*********************100%***********************]  1 of 1 downloaded\n",
      "[*********************100%***********************]  1 of 1 downloaded\n",
      "[*********************100%***********************]  1 of 1 downloaded\n",
      "Only valid with DatetimeIndex, TimedeltaIndex or PeriodIndex, but got an instance of 'Index'\n"
     ]
    },
    {
     "name": "stderr",
     "output_type": "stream",
     "text": [
      "Exception in thread Thread-207:\n",
      "Traceback (most recent call last):\n",
      "  File \"C:\\Users\\alaq3\\Anaconda3\\lib\\threading.py\", line 917, in _bootstrap_inner\n",
      "    self.run()\n",
      "  File \"C:\\Users\\alaq3\\Anaconda3\\lib\\threading.py\", line 865, in run\n",
      "    self._target(*self._args, **self._kwargs)\n",
      "  File \"C:\\Users\\alaq3\\Anaconda3\\lib\\site-packages\\multitasking\\__init__.py\", line 102, in _run_via_pool\n",
      "    return callee(*args, **kwargs)\n",
      "  File \"C:\\Users\\alaq3\\Anaconda3\\lib\\site-packages\\fix_yahoo_finance\\__init__.py\", line 317, in _download_one_threaded\n",
      "    period, interval, prepost)\n",
      "  File \"C:\\Users\\alaq3\\Anaconda3\\lib\\site-packages\\fix_yahoo_finance\\__init__.py\", line 328, in _download_one\n",
      "    actions=actions, auto_adjust=auto_adjust)\n",
      "  File \"C:\\Users\\alaq3\\Anaconda3\\lib\\site-packages\\fix_yahoo_finance\\__init__.py\", line 241, in history\n",
      "    raise ValueError(self.ticker, err_msg)\n",
      "ValueError: ('CPE^A', 'No data found, symbol may be delisted')\n",
      "\n"
     ]
    },
    {
     "name": "stdout",
     "output_type": "stream",
     "text": [
      "[*********************100%***********************]  1 of 1 downloaded\n",
      "[*********************100%***********************]  1 of 1 downloaded\n",
      "[*********************100%***********************]  1 of 1 downloaded\n",
      "[*********************100%***********************]  1 of 1 downloaded\n",
      "[*********************100%***********************]  1 of 1 downloaded\n",
      "[*********************100%***********************]  1 of 1 downloaded\n",
      "[*********************100%***********************]  1 of 1 downloaded\n",
      "[*********************100%***********************]  1 of 1 downloaded\n",
      "[*********************100%***********************]  1 of 1 downloaded\n",
      "[*********************100%***********************]  1 of 1 downloaded\n",
      "[*********************100%***********************]  1 of 1 downloaded\n",
      "[*********************100%***********************]  1 of 1 downloaded\n",
      "[*********************100%***********************]  1 of 1 downloaded\n",
      "[*********************100%***********************]  1 of 1 downloaded\n",
      "[*********************100%***********************]  1 of 1 downloaded\n",
      "[*********************100%***********************]  1 of 1 downloaded\n",
      "[*********************100%***********************]  1 of 1 downloaded\n",
      "[*********************100%***********************]  1 of 1 downloaded\n",
      "[*********************100%***********************]  1 of 1 downloaded\n",
      "[*********************100%***********************]  1 of 1 downloaded\n",
      "[*********************100%***********************]  1 of 1 downloaded\n",
      "[*********************100%***********************]  1 of 1 downloaded\n",
      "[*********************100%***********************]  1 of 1 downloaded\n"
     ]
    }
   ],
   "source": [
    "tickers = list(df[\"Symbol\"])\n",
    "\n",
    "for ticker in tickers:\n",
    "   \n",
    "    data = yf.download(ticker, start=start_date, end=end_date)\n",
    "\n",
    "    try:\n",
    "        data = data.resample('QS').mean()\n",
    "        data.reset_index(inplace=True)\n",
    "        data[\"Ticker\"] = ticker\n",
    "        data = data[[\"Ticker\",\"Date\",\"Close\",\"Volume\"]]\n",
    "        list_dict_prices_stock = []\n",
    "        for item, row in data.iterrows():\n",
    "            dict_row ={\n",
    "                \"Ticker\" : row[\"Ticker\"],\n",
    "                \"Date\" : row[\"Date\"].strftime('%Y-%m-%d'),\n",
    "                \"Close\" : row[\"Close\"],\n",
    "                \"Volume\" : row[\"Volume\"]\n",
    "                }\n",
    "            list_dict_prices_stock.append(dict_row)\n",
    "        db.StockPrice_Energy.insert_many(list_dict_prices_stock)\n",
    "    except Exception as e:\n",
    "        print(e)"
   ]
  },
  {
   "cell_type": "markdown",
   "metadata": {},
   "source": [
    "# CPI Data"
   ]
  },
  {
   "cell_type": "code",
   "execution_count": 18,
   "metadata": {},
   "outputs": [],
   "source": [
    "# Initialize PyMongo to work with MongoDBs\n",
    "conn = 'mongodb://localhost:27017'\n",
    "client = pymongo.MongoClient(conn)"
   ]
  },
  {
   "cell_type": "code",
   "execution_count": 19,
   "metadata": {},
   "outputs": [],
   "source": [
    "# Define database and collection\n",
    "db = client.EcoParameters_db\n",
    "\n",
    "db.CPI.drop()\n",
    "collection = db.CPI"
   ]
  },
  {
   "cell_type": "code",
   "execution_count": 20,
   "metadata": {},
   "outputs": [
    {
     "data": {
      "text/html": [
       "<div>\n",
       "<style scoped>\n",
       "    .dataframe tbody tr th:only-of-type {\n",
       "        vertical-align: middle;\n",
       "    }\n",
       "\n",
       "    .dataframe tbody tr th {\n",
       "        vertical-align: top;\n",
       "    }\n",
       "\n",
       "    .dataframe thead th {\n",
       "        text-align: right;\n",
       "    }\n",
       "</style>\n",
       "<table border=\"1\" class=\"dataframe\">\n",
       "  <thead>\n",
       "    <tr style=\"text-align: right;\">\n",
       "      <th></th>\n",
       "      <th>DATE</th>\n",
       "      <th>CPALTT01USM661S</th>\n",
       "    </tr>\n",
       "  </thead>\n",
       "  <tbody>\n",
       "    <tr>\n",
       "      <th>0</th>\n",
       "      <td>1960-01-01</td>\n",
       "      <td>12.391516</td>\n",
       "    </tr>\n",
       "    <tr>\n",
       "      <th>1</th>\n",
       "      <td>1960-02-01</td>\n",
       "      <td>12.408393</td>\n",
       "    </tr>\n",
       "    <tr>\n",
       "      <th>2</th>\n",
       "      <td>1960-03-01</td>\n",
       "      <td>12.408393</td>\n",
       "    </tr>\n",
       "    <tr>\n",
       "      <th>3</th>\n",
       "      <td>1960-04-01</td>\n",
       "      <td>12.463241</td>\n",
       "    </tr>\n",
       "    <tr>\n",
       "      <th>4</th>\n",
       "      <td>1960-05-01</td>\n",
       "      <td>12.475898</td>\n",
       "    </tr>\n",
       "  </tbody>\n",
       "</table>\n",
       "</div>"
      ],
      "text/plain": [
       "         DATE  CPALTT01USM661S\n",
       "0  1960-01-01        12.391516\n",
       "1  1960-02-01        12.408393\n",
       "2  1960-03-01        12.408393\n",
       "3  1960-04-01        12.463241\n",
       "4  1960-05-01        12.475898"
      ]
     },
     "execution_count": 20,
     "metadata": {},
     "output_type": "execute_result"
    }
   ],
   "source": [
    "file_path = \"Resources/CPI-Monthly.csv\"\n",
    "df = pd.read_csv(file_path)\n",
    "df.head()"
   ]
  },
  {
   "cell_type": "code",
   "execution_count": 21,
   "metadata": {},
   "outputs": [
    {
     "name": "stdout",
     "output_type": "stream",
     "text": [
      "<class 'pandas.core.frame.DataFrame'>\n",
      "RangeIndex: 710 entries, 0 to 709\n",
      "Data columns (total 2 columns):\n",
      "DATE               710 non-null object\n",
      "CPALTT01USM661S    710 non-null float64\n",
      "dtypes: float64(1), object(1)\n",
      "memory usage: 11.2+ KB\n"
     ]
    }
   ],
   "source": [
    "df.info()"
   ]
  },
  {
   "cell_type": "code",
   "execution_count": 22,
   "metadata": {},
   "outputs": [
    {
     "data": {
      "text/html": [
       "<div>\n",
       "<style scoped>\n",
       "    .dataframe tbody tr th:only-of-type {\n",
       "        vertical-align: middle;\n",
       "    }\n",
       "\n",
       "    .dataframe tbody tr th {\n",
       "        vertical-align: top;\n",
       "    }\n",
       "\n",
       "    .dataframe thead th {\n",
       "        text-align: right;\n",
       "    }\n",
       "</style>\n",
       "<table border=\"1\" class=\"dataframe\">\n",
       "  <thead>\n",
       "    <tr style=\"text-align: right;\">\n",
       "      <th></th>\n",
       "      <th>CPALTT01USM661S</th>\n",
       "    </tr>\n",
       "    <tr>\n",
       "      <th>DATE</th>\n",
       "      <th></th>\n",
       "    </tr>\n",
       "  </thead>\n",
       "  <tbody>\n",
       "    <tr>\n",
       "      <th>1960-01-01</th>\n",
       "      <td>12.391516</td>\n",
       "    </tr>\n",
       "    <tr>\n",
       "      <th>1960-02-01</th>\n",
       "      <td>12.408393</td>\n",
       "    </tr>\n",
       "    <tr>\n",
       "      <th>1960-03-01</th>\n",
       "      <td>12.408393</td>\n",
       "    </tr>\n",
       "    <tr>\n",
       "      <th>1960-04-01</th>\n",
       "      <td>12.463241</td>\n",
       "    </tr>\n",
       "    <tr>\n",
       "      <th>1960-05-01</th>\n",
       "      <td>12.475898</td>\n",
       "    </tr>\n",
       "  </tbody>\n",
       "</table>\n",
       "</div>"
      ],
      "text/plain": [
       "            CPALTT01USM661S\n",
       "DATE                       \n",
       "1960-01-01        12.391516\n",
       "1960-02-01        12.408393\n",
       "1960-03-01        12.408393\n",
       "1960-04-01        12.463241\n",
       "1960-05-01        12.475898"
      ]
     },
     "execution_count": 22,
     "metadata": {},
     "output_type": "execute_result"
    }
   ],
   "source": [
    "df['DATE'] = pd.to_datetime(df['DATE'])\n",
    "df.set_index(\"DATE\", inplace = True) \n",
    "df.head()"
   ]
  },
  {
   "cell_type": "code",
   "execution_count": 23,
   "metadata": {},
   "outputs": [
    {
     "name": "stdout",
     "output_type": "stream",
     "text": [
      "<class 'pandas.core.frame.DataFrame'>\n",
      "DatetimeIndex: 710 entries, 1960-01-01 to 2019-02-01\n",
      "Data columns (total 1 columns):\n",
      "CPALTT01USM661S    710 non-null float64\n",
      "dtypes: float64(1)\n",
      "memory usage: 11.1 KB\n"
     ]
    }
   ],
   "source": [
    "df.info()"
   ]
  },
  {
   "cell_type": "code",
   "execution_count": 24,
   "metadata": {},
   "outputs": [
    {
     "data": {
      "text/html": [
       "<div>\n",
       "<style scoped>\n",
       "    .dataframe tbody tr th:only-of-type {\n",
       "        vertical-align: middle;\n",
       "    }\n",
       "\n",
       "    .dataframe tbody tr th {\n",
       "        vertical-align: top;\n",
       "    }\n",
       "\n",
       "    .dataframe thead th {\n",
       "        text-align: right;\n",
       "    }\n",
       "</style>\n",
       "<table border=\"1\" class=\"dataframe\">\n",
       "  <thead>\n",
       "    <tr style=\"text-align: right;\">\n",
       "      <th></th>\n",
       "      <th>CPALTT01USM661S</th>\n",
       "    </tr>\n",
       "    <tr>\n",
       "      <th>DATE</th>\n",
       "      <th></th>\n",
       "    </tr>\n",
       "  </thead>\n",
       "  <tbody>\n",
       "    <tr>\n",
       "      <th>1960-01-01</th>\n",
       "      <td>12.402767</td>\n",
       "    </tr>\n",
       "    <tr>\n",
       "      <th>1960-04-01</th>\n",
       "      <td>12.477305</td>\n",
       "    </tr>\n",
       "    <tr>\n",
       "      <th>1960-07-01</th>\n",
       "      <td>12.484337</td>\n",
       "    </tr>\n",
       "    <tr>\n",
       "      <th>1960-10-01</th>\n",
       "      <td>12.564500</td>\n",
       "    </tr>\n",
       "    <tr>\n",
       "      <th>1961-01-01</th>\n",
       "      <td>12.589814</td>\n",
       "    </tr>\n",
       "  </tbody>\n",
       "</table>\n",
       "</div>"
      ],
      "text/plain": [
       "            CPALTT01USM661S\n",
       "DATE                       \n",
       "1960-01-01        12.402767\n",
       "1960-04-01        12.477305\n",
       "1960-07-01        12.484337\n",
       "1960-10-01        12.564500\n",
       "1961-01-01        12.589814"
      ]
     },
     "execution_count": 24,
     "metadata": {},
     "output_type": "execute_result"
    }
   ],
   "source": [
    "df= df.resample('QS').mean()\n",
    "df.head()"
   ]
  },
  {
   "cell_type": "code",
   "execution_count": 25,
   "metadata": {},
   "outputs": [
    {
     "data": {
      "text/html": [
       "<div>\n",
       "<style scoped>\n",
       "    .dataframe tbody tr th:only-of-type {\n",
       "        vertical-align: middle;\n",
       "    }\n",
       "\n",
       "    .dataframe tbody tr th {\n",
       "        vertical-align: top;\n",
       "    }\n",
       "\n",
       "    .dataframe thead th {\n",
       "        text-align: right;\n",
       "    }\n",
       "</style>\n",
       "<table border=\"1\" class=\"dataframe\">\n",
       "  <thead>\n",
       "    <tr style=\"text-align: right;\">\n",
       "      <th></th>\n",
       "      <th>DATE</th>\n",
       "      <th>CPALTT01USM661S</th>\n",
       "    </tr>\n",
       "  </thead>\n",
       "  <tbody>\n",
       "    <tr>\n",
       "      <th>0</th>\n",
       "      <td>1960-01-01</td>\n",
       "      <td>12.402767</td>\n",
       "    </tr>\n",
       "    <tr>\n",
       "      <th>1</th>\n",
       "      <td>1960-04-01</td>\n",
       "      <td>12.477305</td>\n",
       "    </tr>\n",
       "    <tr>\n",
       "      <th>2</th>\n",
       "      <td>1960-07-01</td>\n",
       "      <td>12.484337</td>\n",
       "    </tr>\n",
       "    <tr>\n",
       "      <th>3</th>\n",
       "      <td>1960-10-01</td>\n",
       "      <td>12.564500</td>\n",
       "    </tr>\n",
       "    <tr>\n",
       "      <th>4</th>\n",
       "      <td>1961-01-01</td>\n",
       "      <td>12.589814</td>\n",
       "    </tr>\n",
       "  </tbody>\n",
       "</table>\n",
       "</div>"
      ],
      "text/plain": [
       "        DATE  CPALTT01USM661S\n",
       "0 1960-01-01        12.402767\n",
       "1 1960-04-01        12.477305\n",
       "2 1960-07-01        12.484337\n",
       "3 1960-10-01        12.564500\n",
       "4 1961-01-01        12.589814"
      ]
     },
     "execution_count": 25,
     "metadata": {},
     "output_type": "execute_result"
    }
   ],
   "source": [
    "df.reset_index(inplace=True)\n",
    "df.head()"
   ]
  },
  {
   "cell_type": "code",
   "execution_count": 26,
   "metadata": {},
   "outputs": [
    {
     "data": {
      "text/html": [
       "<div>\n",
       "<style scoped>\n",
       "    .dataframe tbody tr th:only-of-type {\n",
       "        vertical-align: middle;\n",
       "    }\n",
       "\n",
       "    .dataframe tbody tr th {\n",
       "        vertical-align: top;\n",
       "    }\n",
       "\n",
       "    .dataframe thead th {\n",
       "        text-align: right;\n",
       "    }\n",
       "</style>\n",
       "<table border=\"1\" class=\"dataframe\">\n",
       "  <thead>\n",
       "    <tr style=\"text-align: right;\">\n",
       "      <th></th>\n",
       "      <th>Date</th>\n",
       "      <th>CPI</th>\n",
       "    </tr>\n",
       "  </thead>\n",
       "  <tbody>\n",
       "    <tr>\n",
       "      <th>0</th>\n",
       "      <td>1960-01-01</td>\n",
       "      <td>12.402767</td>\n",
       "    </tr>\n",
       "    <tr>\n",
       "      <th>1</th>\n",
       "      <td>1960-04-01</td>\n",
       "      <td>12.477305</td>\n",
       "    </tr>\n",
       "    <tr>\n",
       "      <th>2</th>\n",
       "      <td>1960-07-01</td>\n",
       "      <td>12.484337</td>\n",
       "    </tr>\n",
       "    <tr>\n",
       "      <th>3</th>\n",
       "      <td>1960-10-01</td>\n",
       "      <td>12.564500</td>\n",
       "    </tr>\n",
       "    <tr>\n",
       "      <th>4</th>\n",
       "      <td>1961-01-01</td>\n",
       "      <td>12.589814</td>\n",
       "    </tr>\n",
       "  </tbody>\n",
       "</table>\n",
       "</div>"
      ],
      "text/plain": [
       "        Date        CPI\n",
       "0 1960-01-01  12.402767\n",
       "1 1960-04-01  12.477305\n",
       "2 1960-07-01  12.484337\n",
       "3 1960-10-01  12.564500\n",
       "4 1961-01-01  12.589814"
      ]
     },
     "execution_count": 26,
     "metadata": {},
     "output_type": "execute_result"
    }
   ],
   "source": [
    "df = df.rename(columns={'DATE': 'Date', 'CPALTT01USM661S': 'CPI'})\n",
    "df.head()"
   ]
  },
  {
   "cell_type": "code",
   "execution_count": 27,
   "metadata": {},
   "outputs": [
    {
     "data": {
      "text/plain": [
       "<pymongo.results.InsertManyResult at 0x28c4b390808>"
      ]
     },
     "execution_count": 27,
     "metadata": {},
     "output_type": "execute_result"
    }
   ],
   "source": [
    "list_dict_CPI = []\n",
    "for item, row in df.iterrows():\n",
    "    dict_row ={        \n",
    "        \"Date\" : row[\"Date\"].strftime('%Y-%m-%d'),\n",
    "        \"CPI\" : row[\"CPI\"]        \n",
    "                }\n",
    "    list_dict_CPI.append(dict_row)\n",
    "db.CPI.insert_many(list_dict_CPI)"
   ]
  },
  {
   "cell_type": "code",
   "execution_count": 28,
   "metadata": {},
   "outputs": [
    {
     "name": "stdout",
     "output_type": "stream",
     "text": [
      "[{'_id': ObjectId('5cd0e48b61da981e1af9d631'), 'Date': '1960-01-01', 'CPI': 12.402767171412435}, {'_id': ObjectId('5cd0e48b61da981e1af9d632'), 'Date': '1960-04-01', 'CPI': 12.477304722164797}, {'_id': ObjectId('5cd0e48b61da981e1af9d633'), 'Date': '1960-07-01', 'CPI': 12.484336566575399}, {'_id': ObjectId('5cd0e48b61da981e1af9d634'), 'Date': '1960-10-01', 'CPI': 12.564499592856201}, {'_id': ObjectId('5cd0e48b61da981e1af9d635'), 'Date': '1961-01-01', 'CPI': 12.589814232734403}, {'_id': ObjectId('5cd0e48b61da981e1af9d636'), 'Date': '1961-04-01', 'CPI': 12.585595126088032}, {'_id': ObjectId('5cd0e48b61da981e1af9d637'), 'Date': '1961-07-01', 'CPI': 12.634818036962168}, {'_id': ObjectId('5cd0e48b61da981e1af9d638'), 'Date': '1961-10-01', 'CPI': 12.653100832429766}, {'_id': ObjectId('5cd0e48b61da981e1af9d639'), 'Date': '1962-01-01', 'CPI': 12.7023237433039}, {'_id': ObjectId('5cd0e48b61da981e1af9d63a'), 'Date': '1962-04-01', 'CPI': 12.750140285295965}, {'_id': ObjectId('5cd0e48b61da981e1af9d63b'), 'Date': '1962-07-01', 'CPI': 12.786705876231101}, {'_id': ObjectId('5cd0e48b61da981e1af9d63c'), 'Date': '1962-10-01', 'CPI': 12.817645991637699}, {'_id': ObjectId('5cd0e48b61da981e1af9d63d'), 'Date': '1963-01-01', 'CPI': 12.8584306892192}, {'_id': ObjectId('5cd0e48b61da981e1af9d63e'), 'Date': '1963-04-01', 'CPI': 12.882338960215234}, {'_id': ObjectId('5cd0e48b61da981e1af9d63f'), 'Date': '1963-07-01', 'CPI': 12.9610956176139}, {'_id': ObjectId('5cd0e48b61da981e1af9d640'), 'Date': '1963-10-01', 'CPI': 12.996254839666932}, {'_id': ObjectId('5cd0e48b61da981e1af9d641'), 'Date': '1964-01-01', 'CPI': 13.049696857187435}, {'_id': ObjectId('5cd0e48b61da981e1af9d642'), 'Date': '1964-04-01', 'CPI': 13.070792390419266}, {'_id': ObjectId('5cd0e48b61da981e1af9d643'), 'Date': '1964-07-01', 'CPI': 13.10032613694377}, {'_id': ObjectId('5cd0e48b61da981e1af9d644'), 'Date': '1964-10-01', 'CPI': 13.160799998874902}, {'_id': ObjectId('5cd0e48b61da981e1af9d645'), 'Date': '1965-01-01', 'CPI': 13.201584696456365}, {'_id': ObjectId('5cd0e48b61da981e1af9d646'), 'Date': '1965-04-01', 'CPI': 13.285966829383533}, {'_id': ObjectId('5cd0e48b61da981e1af9d647'), 'Date': '1965-07-01', 'CPI': 13.325345158082902}, {'_id': ObjectId('5cd0e48b61da981e1af9d648'), 'Date': '1965-10-01', 'CPI': 13.395663602188899}, {'_id': ObjectId('5cd0e48b61da981e1af9d649'), 'Date': '1966-01-01', 'CPI': 13.5208304326975}, {'_id': ObjectId('5cd0e48b61da981e1af9d64a'), 'Date': '1966-04-01', 'CPI': 13.643184525441933}, {'_id': ObjectId('5cd0e48b61da981e1af9d64b'), 'Date': '1966-07-01', 'CPI': 13.761319511539966}, {'_id': ObjectId('5cd0e48b61da981e1af9d64c'), 'Date': '1966-10-01', 'CPI': 13.873829022109499}, {'_id': ObjectId('5cd0e48b61da981e1af9d64d'), 'Date': '1967-01-01', 'CPI': 13.908988244162499}, {'_id': ObjectId('5cd0e48b61da981e1af9d64e'), 'Date': '1967-04-01', 'CPI': 13.993370377089699}, {'_id': ObjectId('5cd0e48b61da981e1af9d64f'), 'Date': '1967-07-01', 'CPI': 14.134007265301634}, {'_id': ObjectId('5cd0e48b61da981e1af9d650'), 'Date': '1967-10-01', 'CPI': 14.2887078423348}, {'_id': ObjectId('5cd0e48b61da981e1af9d651'), 'Date': '1968-01-01', 'CPI': 14.429344730546767}, {'_id': ObjectId('5cd0e48b61da981e1af9d652'), 'Date': '1968-04-01', 'CPI': 14.569981618758698}, {'_id': ObjectId('5cd0e48b61da981e1af9d653'), 'Date': '1968-07-01', 'CPI': 14.766873262255436}, {'_id': ObjectId('5cd0e48b61da981e1af9d654'), 'Date': '1968-10-01', 'CPI': 14.949701216930999}, {'_id': ObjectId('5cd0e48b61da981e1af9d655'), 'Date': '1969-01-01', 'CPI': 15.132529171606533}, {'_id': ObjectId('5cd0e48b61da981e1af9d656'), 'Date': '1969-04-01', 'CPI': 15.371611881566865}, {'_id': ObjectId('5cd0e48b61da981e1af9d657'), 'Date': '1969-07-01', 'CPI': 15.5825672138848}, {'_id': ObjectId('5cd0e48b61da981e1af9d658'), 'Date': '1969-10-01', 'CPI': 15.821649923845134}, {'_id': ObjectId('5cd0e48b61da981e1af9d659'), 'Date': '1970-01-01', 'CPI': 16.074796322626636}, {'_id': ObjectId('5cd0e48b61da981e1af9d65a'), 'Date': '1970-04-01', 'CPI': 16.299815343765797}, {'_id': ObjectId('5cd0e48b61da981e1af9d65b'), 'Date': '1970-07-01', 'CPI': 16.468579609620097}, {'_id': ObjectId('5cd0e48b61da981e1af9d65c'), 'Date': '1970-10-01', 'CPI': 16.707662319580432}, {'_id': ObjectId('5cd0e48b61da981e1af9d65d'), 'Date': '1971-01-01', 'CPI': 16.848299207792405}, {'_id': ObjectId('5cd0e48b61da981e1af9d65e'), 'Date': '1971-04-01', 'CPI': 17.00299978482557}, {'_id': ObjectId('5cd0e48b61da981e1af9d65f'), 'Date': '1971-07-01', 'CPI': 17.1717640506799}, {'_id': ObjectId('5cd0e48b61da981e1af9d660'), 'Date': '1971-10-01', 'CPI': 17.298337250070702}, {'_id': ObjectId('5cd0e48b61da981e1af9d661'), 'Date': '1972-01-01', 'CPI': 17.4389741382826}, {'_id': ObjectId('5cd0e48b61da981e1af9d662'), 'Date': '1972-04-01', 'CPI': 17.551483648852198}, {'_id': ObjectId('5cd0e48b61da981e1af9d663'), 'Date': '1972-07-01', 'CPI': 17.692120537064167}, {'_id': ObjectId('5cd0e48b61da981e1af9d664'), 'Date': '1972-10-01', 'CPI': 17.874948491739698}, {'_id': ObjectId('5cd0e48b61da981e1af9d665'), 'Date': '1973-01-01', 'CPI': 18.1562222681636}, {'_id': ObjectId('5cd0e48b61da981e1af9d666'), 'Date': '1973-04-01', 'CPI': 18.535941866335865}, {'_id': ObjectId('5cd0e48b61da981e1af9d667'), 'Date': '1973-07-01', 'CPI': 18.901597775686934}, {'_id': ObjectId('5cd0e48b61da981e1af9d668'), 'Date': '1973-10-01', 'CPI': 19.379763195607634}, {'_id': ObjectId('5cd0e48b61da981e1af9d669'), 'Date': '1974-01-01', 'CPI': 19.956374437276633}, {'_id': ObjectId('5cd0e48b61da981e1af9d66a'), 'Date': '1974-04-01', 'CPI': 20.490794612482066}, {'_id': ObjectId('5cd0e48b61da981e1af9d66b'), 'Date': '1974-07-01', 'CPI': 21.067405854151097}, {'_id': ObjectId('5cd0e48b61da981e1af9d66c'), 'Date': '1974-10-01', 'CPI': 21.7143355399261}, {'_id': ObjectId('5cd0e48b61da981e1af9d66d'), 'Date': '1975-01-01', 'CPI': 22.17843727102557}, {'_id': ObjectId('5cd0e48b61da981e1af9d66e'), 'Date': '1975-04-01', 'CPI': 22.445647358628264}, {'_id': ObjectId('5cd0e48b61da981e1af9d66f'), 'Date': '1975-07-01', 'CPI': 22.89568540090657}, {'_id': ObjectId('5cd0e48b61da981e1af9d670'), 'Date': '1975-10-01', 'CPI': 23.317596065542432}, {'_id': ObjectId('5cd0e48b61da981e1af9d671'), 'Date': '1976-01-01', 'CPI': 23.5848061531451}, {'_id': ObjectId('5cd0e48b61da981e1af9d672'), 'Date': '1976-04-01', 'CPI': 23.79576148546307}, {'_id': ObjectId('5cd0e48b61da981e1af9d673'), 'Date': '1976-07-01', 'CPI': 24.175481083635333}, {'_id': ObjectId('5cd0e48b61da981e1af9d674'), 'Date': '1976-10-01', 'CPI': 24.52707330416523}, {'_id': ObjectId('5cd0e48b61da981e1af9d675'), 'Date': '1977-01-01', 'CPI': 24.977111346443497}, {'_id': ObjectId('5cd0e48b61da981e1af9d676'), 'Date': '1977-04-01', 'CPI': 25.413085699900563}, {'_id': ObjectId('5cd0e48b61da981e1af9d677'), 'Date': '1977-07-01', 'CPI': 25.76467792043047}, {'_id': ObjectId('5cd0e48b61da981e1af9d678'), 'Date': '1977-10-01', 'CPI': 26.144397518602734}, {'_id': ObjectId('5cd0e48b61da981e1af9d679'), 'Date': '1978-01-01', 'CPI': 26.594435560881}, {'_id': ObjectId('5cd0e48b61da981e1af9d67a'), 'Date': '1978-04-01', 'CPI': 27.1991741801924}, {'_id': ObjectId('5cd0e48b61da981e1af9d67b'), 'Date': '1978-07-01', 'CPI': 27.8320401771462}, {'_id': ObjectId('5cd0e48b61da981e1af9d67c'), 'Date': '1978-10-01', 'CPI': 28.478969862921232}, {'_id': ObjectId('5cd0e48b61da981e1af9d67d'), 'Date': '1979-01-01', 'CPI': 29.1962179928022}, {'_id': ObjectId('5cd0e48b61da981e1af9d67e'), 'Date': '1979-04-01', 'CPI': 30.124421455001098}, {'_id': ObjectId('5cd0e48b61da981e1af9d67f'), 'Date': '1979-07-01', 'CPI': 31.094815983663597}, {'_id': ObjectId('5cd0e48b61da981e1af9d680'), 'Date': '1979-10-01', 'CPI': 32.0792742011473}, {'_id': ObjectId('5cd0e48b61da981e1af9d681'), 'Date': '1980-01-01', 'CPI': 33.345006195054935}, {'_id': ObjectId('5cd0e48b61da981e1af9d682'), 'Date': '1980-04-01', 'CPI': 34.4701013007506}, {'_id': ObjectId('5cd0e48b61da981e1af9d683'), 'Date': '1980-07-01', 'CPI': 35.1170309865256}, {'_id': ObjectId('5cd0e48b61da981e1af9d684'), 'Date': '1980-10-01', 'CPI': 36.101489204009305}, {'_id': ObjectId('5cd0e48b61da981e1af9d685'), 'Date': '1981-01-01', 'CPI': 37.1000111103142}, {'_id': ObjectId('5cd0e48b61da981e1af9d686'), 'Date': '1981-04-01', 'CPI': 37.873513995479904}, {'_id': ObjectId('5cd0e48b61da981e1af9d687'), 'Date': '1981-07-01', 'CPI': 38.9282906570696}, {'_id': ObjectId('5cd0e48b61da981e1af9d688'), 'Date': '1981-10-01', 'CPI': 39.5611566540234}, {'_id': ObjectId('5cd0e48b61da981e1af9d689'), 'Date': '1982-01-01', 'CPI': 39.9127488745533}, {'_id': ObjectId('5cd0e48b61da981e1af9d68a'), 'Date': '1982-04-01', 'CPI': 40.489360116222294}, {'_id': ObjectId('5cd0e48b61da981e1af9d68b'), 'Date': '1982-07-01', 'CPI': 41.192544557282105}, {'_id': ObjectId('5cd0e48b61da981e1af9d68c'), 'Date': '1982-10-01', 'CPI': 41.31911775667283}, {'_id': ObjectId('5cd0e48b61da981e1af9d68d'), 'Date': '1983-01-01', 'CPI': 41.34724513431524}, {'_id': ObjectId('5cd0e48b61da981e1af9d68e'), 'Date': '1983-04-01', 'CPI': 41.82541055423593}, {'_id': ObjectId('5cd0e48b61da981e1af9d68f'), 'Date': '1983-07-01', 'CPI': 42.233257530050565}, {'_id': ObjectId('5cd0e48b61da981e1af9d690'), 'Date': '1983-10-01', 'CPI': 42.65516819468643}, {'_id': ObjectId('5cd0e48b61da981e1af9d691'), 'Date': '1984-01-01', 'CPI': 43.25990681399787}, {'_id': ObjectId('5cd0e48b61da981e1af9d692'), 'Date': '1984-04-01', 'CPI': 43.66775378981254}, {'_id': ObjectId('5cd0e48b61da981e1af9d693'), 'Date': '1984-07-01', 'CPI': 44.04747338798484}, {'_id': ObjectId('5cd0e48b61da981e1af9d694'), 'Date': '1984-10-01', 'CPI': 44.4271929861571}, {'_id': ObjectId('5cd0e48b61da981e1af9d695'), 'Date': '1985-01-01', 'CPI': 44.835039961971766}, {'_id': ObjectId('5cd0e48b61da981e1af9d696'), 'Date': '1985-04-01', 'CPI': 45.242886937786466}, {'_id': ObjectId('5cd0e48b61da981e1af9d697'), 'Date': '1985-07-01', 'CPI': 45.52416071421036}, {'_id': ObjectId('5cd0e48b61da981e1af9d698'), 'Date': '1985-10-01', 'CPI': 45.98826244530983}, {'_id': ObjectId('5cd0e48b61da981e1af9d699'), 'Date': '1986-01-01', 'CPI': 46.227345155270136}, {'_id': ObjectId('5cd0e48b61da981e1af9d69a'), 'Date': '1986-04-01', 'CPI': 46.00232613413104}, {'_id': ObjectId('5cd0e48b61da981e1af9d69b'), 'Date': '1986-07-01', 'CPI': 46.28359991055493}, {'_id': ObjectId('5cd0e48b61da981e1af9d69c'), 'Date': '1986-10-01', 'CPI': 46.60706475344244}, {'_id': ObjectId('5cd0e48b61da981e1af9d69d'), 'Date': '1987-01-01', 'CPI': 47.16961230629027}, {'_id': ObjectId('5cd0e48b61da981e1af9d69e'), 'Date': '1987-04-01', 'CPI': 47.704032481495666}, {'_id': ObjectId('5cd0e48b61da981e1af9d69f'), 'Date': '1987-07-01', 'CPI': 48.210325279058736}, {'_id': ObjectId('5cd0e48b61da981e1af9d6a0'), 'Date': '1987-10-01', 'CPI': 48.660363321337}, {'_id': ObjectId('5cd0e48b61da981e1af9d6a1'), 'Date': '1988-01-01', 'CPI': 49.04008291950927}, {'_id': ObjectId('5cd0e48b61da981e1af9d6a2'), 'Date': '1988-04-01', 'CPI': 49.602630472357106}, {'_id': ObjectId('5cd0e48b61da981e1af9d6a3'), 'Date': '1988-07-01', 'CPI': 50.20736909166853}, {'_id': ObjectId('5cd0e48b61da981e1af9d6a4'), 'Date': '1988-10-01', 'CPI': 50.75585295569516}, {'_id': ObjectId('5cd0e48b61da981e1af9d6a5'), 'Date': '1989-01-01', 'CPI': 51.33246419736415}, {'_id': ObjectId('5cd0e48b61da981e1af9d6a6'), 'Date': '1989-04-01', 'CPI': 52.16222183781474}, {'_id': ObjectId('5cd0e48b61da981e1af9d6a7'), 'Date': '1989-07-01', 'CPI': 52.570068813629405}, {'_id': ObjectId('5cd0e48b61da981e1af9d6a8'), 'Date': '1989-10-01', 'CPI': 53.10448898883484}, {'_id': ObjectId('5cd0e48b61da981e1af9d6a9'), 'Date': '1990-01-01', 'CPI': 54.018628762212565}, {'_id': ObjectId('5cd0e48b61da981e1af9d6aa'), 'Date': '1990-04-01', 'CPI': 54.55304893741797}, {'_id': ObjectId('5cd0e48b61da981e1af9d6ab'), 'Date': '1990-07-01', 'CPI': 55.4953160884381}, {'_id': ObjectId('5cd0e48b61da981e1af9d6ac'), 'Date': '1990-10-01', 'CPI': 56.43758323945817}, {'_id': ObjectId('5cd0e48b61da981e1af9d6ad'), 'Date': '1991-01-01', 'CPI': 56.8594939040941}, {'_id': ObjectId('5cd0e48b61da981e1af9d6ae'), 'Date': '1991-04-01', 'CPI': 57.19702243580277}, {'_id': ObjectId('5cd0e48b61da981e1af9d6af'), 'Date': '1991-07-01', 'CPI': 57.632996789259835}, {'_id': ObjectId('5cd0e48b61da981e1af9d6b0'), 'Date': '1991-10-01', 'CPI': 58.1111622091805}, {'_id': ObjectId('5cd0e48b61da981e1af9d6b1'), 'Date': '1992-01-01', 'CPI': 58.50494549617397}, {'_id': ObjectId('5cd0e48b61da981e1af9d6b2'), 'Date': '1992-04-01', 'CPI': 58.95498353845223}, {'_id': ObjectId('5cd0e48b61da981e1af9d6b3'), 'Date': '1992-07-01', 'CPI': 59.40502158073047}, {'_id': ObjectId('5cd0e48b61da981e1af9d6b4'), 'Date': '1992-10-01', 'CPI': 59.925378067114735}, {'_id': ObjectId('5cd0e48b61da981e1af9d6b5'), 'Date': '1993-01-01', 'CPI': 60.3613524205718}, {'_id': ObjectId('5cd0e48b61da981e1af9d6b6'), 'Date': '1993-04-01', 'CPI': 60.797326774028825}, {'_id': ObjectId('5cd0e48b61da981e1af9d6b7'), 'Date': '1993-07-01', 'CPI': 61.07860055045276}, {'_id': ObjectId('5cd0e48b61da981e1af9d6b8'), 'Date': '1993-10-01', 'CPI': 61.58489334801583}, {'_id': ObjectId('5cd0e48b61da981e1af9d6b9'), 'Date': '1994-01-01', 'CPI': 61.894294502082126}, {'_id': ObjectId('5cd0e48b61da981e1af9d6ba'), 'Date': '1994-04-01', 'CPI': 62.245886722612}, {'_id': ObjectId('5cd0e48b61da981e1af9d6bb'), 'Date': '1994-07-01', 'CPI': 62.822497964281034}, {'_id': ObjectId('5cd0e48b61da981e1af9d6bc'), 'Date': '1994-10-01', 'CPI': 63.18815387363213}, {'_id': ObjectId('5cd0e48b61da981e1af9d6bd'), 'Date': '1995-01-01', 'CPI': 63.65225560473156}, {'_id': ObjectId('5cd0e48b61da981e1af9d6be'), 'Date': '1995-04-01', 'CPI': 64.17261209111582}, {'_id': ObjectId('5cd0e48b61da981e1af9d6bf'), 'Date': '1995-07-01', 'CPI': 64.49607693400331}, {'_id': ObjectId('5cd0e48b61da981e1af9d6c0'), 'Date': '1995-10-01', 'CPI': 64.84766915453321}, {'_id': ObjectId('5cd0e48b61da981e1af9d6c1'), 'Date': '1996-01-01', 'CPI': 65.42428039620224}, {'_id': ObjectId('5cd0e48b61da981e1af9d6c2'), 'Date': '1996-04-01', 'CPI': 65.98682794905007}, {'_id': ObjectId('5cd0e48b61da981e1af9d6c3'), 'Date': '1996-07-01', 'CPI': 66.36654754722237}, {'_id': ObjectId('5cd0e48b61da981e1af9d6c4'), 'Date': '1996-10-01', 'CPI': 66.94315878889137}, {'_id': ObjectId('5cd0e48b61da981e1af9d6c5'), 'Date': '1997-01-01', 'CPI': 67.35100576470599}, {'_id': ObjectId('5cd0e48b61da981e1af9d6c6'), 'Date': '1997-04-01', 'CPI': 67.5057063417392}, {'_id': ObjectId('5cd0e48b61da981e1af9d6c7'), 'Date': '1997-07-01', 'CPI': 67.84323487344786}, {'_id': ObjectId('5cd0e48b61da981e1af9d6c8'), 'Date': '1997-10-01', 'CPI': 68.208890782799}, {'_id': ObjectId('5cd0e48b61da981e1af9d6c9'), 'Date': '1998-01-01', 'CPI': 68.34952767101089}, {'_id': ObjectId('5cd0e48b61da981e1af9d6ca'), 'Date': '1998-04-01', 'CPI': 68.57454669215004}, {'_id': ObjectId('5cd0e48b61da981e1af9d6cb'), 'Date': '1998-07-01', 'CPI': 68.92613891267996}, {'_id': ObjectId('5cd0e48b61da981e1af9d6cc'), 'Date': '1998-10-01', 'CPI': 69.24960375556743}, {'_id': ObjectId('5cd0e48b61da981e1af9d6cd'), 'Date': '1999-01-01', 'CPI': 69.502750154349}, {'_id': ObjectId('5cd0e48b61da981e1af9d6ce'), 'Date': '1999-04-01', 'CPI': 70.0231066407332}, {'_id': ObjectId('5cd0e48b61da981e1af9d6cf'), 'Date': '1999-07-01', 'CPI': 70.54346312711748}, {'_id': ObjectId('5cd0e48b61da981e1af9d6d0'), 'Date': '1999-10-01', 'CPI': 71.06381961350168}, {'_id': ObjectId('5cd0e48b61da981e1af9d6d1'), 'Date': '2000-01-01', 'CPI': 71.7670040545615}, {'_id': ObjectId('5cd0e48b61da981e1af9d6d2'), 'Date': '2000-04-01', 'CPI': 72.3295516074093}, {'_id': ObjectId('5cd0e48b61da981e1af9d6d3'), 'Date': '2000-07-01', 'CPI': 72.99054498200546}, {'_id': ObjectId('5cd0e48b61da981e1af9d6d4'), 'Date': '2000-10-01', 'CPI': 73.51090146838976}, {'_id': ObjectId('5cd0e48b61da981e1af9d6d5'), 'Date': '2001-01-01', 'CPI': 74.21408590944954}, {'_id': ObjectId('5cd0e48b61da981e1af9d6d6'), 'Date': '2001-04-01', 'CPI': 74.73444239583377}, {'_id': ObjectId('5cd0e48b61da981e1af9d6d7'), 'Date': '2001-07-01', 'CPI': 74.94539772815166}, {'_id': ObjectId('5cd0e48b61da981e1af9d6d8'), 'Date': '2001-10-01', 'CPI': 74.8891429728669}, {'_id': ObjectId('5cd0e48b61da981e1af9d6d9'), 'Date': '2002-01-01', 'CPI': 75.12822568282722}, {'_id': ObjectId('5cd0e48b61da981e1af9d6da'), 'Date': '2002-04-01', 'CPI': 75.71890061331743}, {'_id': ObjectId('5cd0e48b61da981e1af9d6db'), 'Date': '2002-07-01', 'CPI': 76.12674758913212}, {'_id': ObjectId('5cd0e48b61da981e1af9d6dc'), 'Date': '2002-10-01', 'CPI': 76.5767856314104}, {'_id': ObjectId('5cd0e48b61da981e1af9d6dd'), 'Date': '2003-01-01', 'CPI': 77.36435220539732}, {'_id': ObjectId('5cd0e48b61da981e1af9d6de'), 'Date': '2003-04-01', 'CPI': 77.23777900600659}, {'_id': ObjectId('5cd0e48b61da981e1af9d6df'), 'Date': '2003-07-01', 'CPI': 77.8143902476756}, {'_id': ObjectId('5cd0e48b61da981e1af9d6e0'), 'Date': '2003-10-01', 'CPI': 78.10972771292074}, {'_id': ObjectId('5cd0e48b61da981e1af9d6e1'), 'Date': '2004-01-01', 'CPI': 78.77072108751695}, {'_id': ObjectId('5cd0e48b61da981e1af9d6e2'), 'Date': '2004-04-01', 'CPI': 79.3895233956495}, {'_id': ObjectId('5cd0e48b61da981e1af9d6e3'), 'Date': '2004-07-01', 'CPI': 79.89581619321257}, {'_id': ObjectId('5cd0e48b61da981e1af9d6e4'), 'Date': '2004-10-01', 'CPI': 80.75370121130554}, {'_id': ObjectId('5cd0e48b61da981e1af9d6e5'), 'Date': '2005-01-01', 'CPI': 81.1615481871202}, {'_id': ObjectId('5cd0e48b61da981e1af9d6e6'), 'Date': '2005-04-01', 'CPI': 81.71003205114681}, {'_id': ObjectId('5cd0e48b61da981e1af9d6e7'), 'Date': '2005-07-01', 'CPI': 82.94763666741206}, {'_id': ObjectId('5cd0e48b61da981e1af9d6e8'), 'Date': '2005-10-01', 'CPI': 83.72113955257777}, {'_id': ObjectId('5cd0e48b61da981e1af9d6e9'), 'Date': '2006-01-01', 'CPI': 84.15711390603487}, {'_id': ObjectId('5cd0e48b61da981e1af9d6ea'), 'Date': '2006-04-01', 'CPI': 84.91655310237942}, {'_id': ObjectId('5cd0e48b61da981e1af9d6eb'), 'Date': '2006-07-01', 'CPI': 85.71818336518758}, {'_id': ObjectId('5cd0e48b61da981e1af9d6ec'), 'Date': '2006-10-01', 'CPI': 85.36659114465768}, {'_id': ObjectId('5cd0e48b61da981e1af9d6ed'), 'Date': '2007-01-01', 'CPI': 86.20352126640704}, {'_id': ObjectId('5cd0e48b61da981e1af9d6ee'), 'Date': '2007-04-01', 'CPI': 87.17982254437447}, {'_id': ObjectId('5cd0e48b61da981e1af9d6ef'), 'Date': '2007-07-01', 'CPI': 87.73168169371816}, {'_id': ObjectId('5cd0e48b61da981e1af9d6f0'), 'Date': '2007-10-01', 'CPI': 88.80783516231604}, {'_id': ObjectId('5cd0e48b61da981e1af9d6f1'), 'Date': '2008-01-01', 'CPI': 89.76979147768587}, {'_id': ObjectId('5cd0e48b61da981e1af9d6f2'), 'Date': '2008-04-01', 'CPI': 90.93764019739793}, {'_id': ObjectId('5cd0e48b61da981e1af9d6f3'), 'Date': '2008-07-01', 'CPI': 92.33978997287113}, {'_id': ObjectId('5cd0e48b61da981e1af9d6f4'), 'Date': '2008-10-01', 'CPI': 90.22503308482793}, {'_id': ObjectId('5cd0e48b61da981e1af9d6f5'), 'Date': '2009-01-01', 'CPI': 89.60440249714856}, {'_id': ObjectId('5cd0e48b61da981e1af9d6f6'), 'Date': '2009-04-01', 'CPI': 90.08088027441072}, {'_id': ObjectId('5cd0e48b61da981e1af9d6f7'), 'Date': '2009-07-01', 'CPI': 90.85593016534676}, {'_id': ObjectId('5cd0e48b61da981e1af9d6f8'), 'Date': '2009-10-01', 'CPI': 91.56727154592288}, {'_id': ObjectId('5cd0e48b61da981e1af9d6f9'), 'Date': '2010-01-01', 'CPI': 91.7124088145576}, {'_id': ObjectId('5cd0e48b61da981e1af9d6fa'), 'Date': '2010-04-01', 'CPI': 91.68006233026883}, {'_id': ObjectId('5cd0e48b61da981e1af9d6fb'), 'Date': '2010-07-01', 'CPI': 91.94881942364191}, {'_id': ObjectId('5cd0e48b61da981e1af9d6fc'), 'Date': '2010-10-01', 'CPI': 92.693351109836}, {'_id': ObjectId('5cd0e48b61da981e1af9d6fd'), 'Date': '2011-01-01', 'CPI': 93.6825909815189}, {'_id': ObjectId('5cd0e48b61da981e1af9d6fe'), 'Date': '2011-04-01', 'CPI': 94.74777477283628}, {'_id': ObjectId('5cd0e48b61da981e1af9d6ff'), 'Date': '2011-07-01', 'CPI': 95.36559262275136}, {'_id': ObjectId('5cd0e48b61da981e1af9d700'), 'Date': '2011-10-01', 'CPI': 95.79369131046856}, {'_id': ObjectId('5cd0e48b61da981e1af9d701'), 'Date': '2012-01-01', 'CPI': 96.33317441364966}, {'_id': ObjectId('5cd0e48b61da981e1af9d702'), 'Date': '2012-04-01', 'CPI': 96.5365353540041}, {'_id': ObjectId('5cd0e48b61da981e1af9d703'), 'Date': '2012-07-01', 'CPI': 96.972369070573}, {'_id': ObjectId('5cd0e48b61da981e1af9d704'), 'Date': '2012-10-01', 'CPI': 97.6171892030248}, {'_id': ObjectId('5cd0e48b61da981e1af9d705'), 'Date': '2013-01-01', 'CPI': 98.00956612113613}, {'_id': ObjectId('5cd0e48b61da981e1af9d706'), 'Date': '2013-04-01', 'CPI': 97.90226017543044}, {'_id': ObjectId('5cd0e48b61da981e1af9d707'), 'Date': '2013-07-01', 'CPI': 98.43175805954843}, {'_id': ObjectId('5cd0e48b61da981e1af9d708'), 'Date': '2013-10-01', 'CPI': 98.79572632624104}, {'_id': ObjectId('5cd0e48b61da981e1af9d709'), 'Date': '2014-01-01', 'CPI': 99.4110127121683}, {'_id': ObjectId('5cd0e48b61da981e1af9d70a'), 'Date': '2014-04-01', 'CPI': 99.93896359051597}, {'_id': ObjectId('5cd0e48b61da981e1af9d70b'), 'Date': '2014-07-01', 'CPI': 100.19464145328533}, {'_id': ObjectId('5cd0e48b61da981e1af9d70c'), 'Date': '2014-10-01', 'CPI': 99.94571416115032}, {'_id': ObjectId('5cd0e48b61da981e1af9d70d'), 'Date': '2015-01-01', 'CPI': 99.28387696522469}, {'_id': ObjectId('5cd0e48b61da981e1af9d70e'), 'Date': '2015-04-01', 'CPI': 99.96666905749369}, {'_id': ObjectId('5cd0e48b61da981e1af9d70f'), 'Date': '2015-07-01', 'CPI': 100.35665514850568}, {'_id': ObjectId('5cd0e48b61da981e1af9d710'), 'Date': '2015-10-01', 'CPI': 100.36045234448733}, {'_id': ObjectId('5cd0e48b61da981e1af9d711'), 'Date': '2016-01-01', 'CPI': 100.321917837117}, {'_id': ObjectId('5cd0e48b61da981e1af9d712'), 'Date': '2016-04-01', 'CPI': 101.041697430986}, {'_id': ObjectId('5cd0e48b61da981e1af9d713'), 'Date': '2016-07-01', 'CPI': 101.512127822055}, {'_id': ObjectId('5cd0e48b61da981e1af9d714'), 'Date': '2016-10-01', 'CPI': 102.17157419088066}, {'_id': ObjectId('5cd0e48b61da981e1af9d715'), 'Date': '2017-01-01', 'CPI': 102.87447735816399}, {'_id': ObjectId('5cd0e48b61da981e1af9d716'), 'Date': '2017-04-01', 'CPI': 102.97362636435366}, {'_id': ObjectId('5cd0e48b61da981e1af9d717'), 'Date': '2017-07-01', 'CPI': 103.52351659726234}, {'_id': ObjectId('5cd0e48b61da981e1af9d718'), 'Date': '2017-10-01', 'CPI': 104.32725641339367}, {'_id': ObjectId('5cd0e48b61da981e1af9d719'), 'Date': '2018-01-01', 'CPI': 105.16137379737866}, {'_id': ObjectId('5cd0e48b61da981e1af9d71a'), 'Date': '2018-04-01', 'CPI': 105.72181179690334}, {'_id': ObjectId('5cd0e48b61da981e1af9d71b'), 'Date': '2018-07-01', 'CPI': 106.24920012769833}, {'_id': ObjectId('5cd0e48b61da981e1af9d71c'), 'Date': '2018-10-01', 'CPI': 106.64171768269766}, {'_id': ObjectId('5cd0e48b61da981e1af9d71d'), 'Date': '2019-01-01', 'CPI': 106.698253711759}]\n"
     ]
    }
   ],
   "source": [
    "list_CPI = list(db.CPI.find())\n",
    "print(list_CPI)"
   ]
  },
  {
   "cell_type": "markdown",
   "metadata": {},
   "source": [
    "# GDP Data"
   ]
  },
  {
   "cell_type": "code",
   "execution_count": 29,
   "metadata": {},
   "outputs": [],
   "source": [
    "# Initialize PyMongo to work with MongoDBs\n",
    "conn = 'mongodb://localhost:27017'\n",
    "client = pymongo.MongoClient(conn)"
   ]
  },
  {
   "cell_type": "code",
   "execution_count": 30,
   "metadata": {},
   "outputs": [],
   "source": [
    "# Define database and collection\n",
    "db = client.EcoParameters_db\n",
    "\n",
    "\n",
    "db.GDP.drop()\n",
    "collection = db.GDP"
   ]
  },
  {
   "cell_type": "code",
   "execution_count": 31,
   "metadata": {},
   "outputs": [
    {
     "data": {
      "text/html": [
       "<div>\n",
       "<style scoped>\n",
       "    .dataframe tbody tr th:only-of-type {\n",
       "        vertical-align: middle;\n",
       "    }\n",
       "\n",
       "    .dataframe tbody tr th {\n",
       "        vertical-align: top;\n",
       "    }\n",
       "\n",
       "    .dataframe thead th {\n",
       "        text-align: right;\n",
       "    }\n",
       "</style>\n",
       "<table border=\"1\" class=\"dataframe\">\n",
       "  <thead>\n",
       "    <tr style=\"text-align: right;\">\n",
       "      <th></th>\n",
       "      <th>DATE</th>\n",
       "      <th>GDP</th>\n",
       "    </tr>\n",
       "  </thead>\n",
       "  <tbody>\n",
       "    <tr>\n",
       "      <th>0</th>\n",
       "      <td>1947-01-01</td>\n",
       "      <td>243.164</td>\n",
       "    </tr>\n",
       "    <tr>\n",
       "      <th>1</th>\n",
       "      <td>1947-04-01</td>\n",
       "      <td>245.968</td>\n",
       "    </tr>\n",
       "    <tr>\n",
       "      <th>2</th>\n",
       "      <td>1947-07-01</td>\n",
       "      <td>249.585</td>\n",
       "    </tr>\n",
       "    <tr>\n",
       "      <th>3</th>\n",
       "      <td>1947-10-01</td>\n",
       "      <td>259.745</td>\n",
       "    </tr>\n",
       "    <tr>\n",
       "      <th>4</th>\n",
       "      <td>1948-01-01</td>\n",
       "      <td>265.742</td>\n",
       "    </tr>\n",
       "  </tbody>\n",
       "</table>\n",
       "</div>"
      ],
      "text/plain": [
       "         DATE      GDP\n",
       "0  1947-01-01  243.164\n",
       "1  1947-04-01  245.968\n",
       "2  1947-07-01  249.585\n",
       "3  1947-10-01  259.745\n",
       "4  1948-01-01  265.742"
      ]
     },
     "execution_count": 31,
     "metadata": {},
     "output_type": "execute_result"
    }
   ],
   "source": [
    "file_path = \"Resources/GDP.csv\"\n",
    "df = pd.read_csv(file_path)\n",
    "df.head()"
   ]
  },
  {
   "cell_type": "code",
   "execution_count": 32,
   "metadata": {},
   "outputs": [
    {
     "name": "stdout",
     "output_type": "stream",
     "text": [
      "<class 'pandas.core.frame.DataFrame'>\n",
      "RangeIndex: 289 entries, 0 to 288\n",
      "Data columns (total 2 columns):\n",
      "DATE    289 non-null object\n",
      "GDP     289 non-null float64\n",
      "dtypes: float64(1), object(1)\n",
      "memory usage: 4.6+ KB\n"
     ]
    }
   ],
   "source": [
    "df.info()"
   ]
  },
  {
   "cell_type": "code",
   "execution_count": 33,
   "metadata": {},
   "outputs": [
    {
     "data": {
      "text/html": [
       "<div>\n",
       "<style scoped>\n",
       "    .dataframe tbody tr th:only-of-type {\n",
       "        vertical-align: middle;\n",
       "    }\n",
       "\n",
       "    .dataframe tbody tr th {\n",
       "        vertical-align: top;\n",
       "    }\n",
       "\n",
       "    .dataframe thead th {\n",
       "        text-align: right;\n",
       "    }\n",
       "</style>\n",
       "<table border=\"1\" class=\"dataframe\">\n",
       "  <thead>\n",
       "    <tr style=\"text-align: right;\">\n",
       "      <th></th>\n",
       "      <th>GDP</th>\n",
       "    </tr>\n",
       "    <tr>\n",
       "      <th>DATE</th>\n",
       "      <th></th>\n",
       "    </tr>\n",
       "  </thead>\n",
       "  <tbody>\n",
       "    <tr>\n",
       "      <th>1947-01-01</th>\n",
       "      <td>243.164</td>\n",
       "    </tr>\n",
       "    <tr>\n",
       "      <th>1947-04-01</th>\n",
       "      <td>245.968</td>\n",
       "    </tr>\n",
       "    <tr>\n",
       "      <th>1947-07-01</th>\n",
       "      <td>249.585</td>\n",
       "    </tr>\n",
       "    <tr>\n",
       "      <th>1947-10-01</th>\n",
       "      <td>259.745</td>\n",
       "    </tr>\n",
       "    <tr>\n",
       "      <th>1948-01-01</th>\n",
       "      <td>265.742</td>\n",
       "    </tr>\n",
       "  </tbody>\n",
       "</table>\n",
       "</div>"
      ],
      "text/plain": [
       "                GDP\n",
       "DATE               \n",
       "1947-01-01  243.164\n",
       "1947-04-01  245.968\n",
       "1947-07-01  249.585\n",
       "1947-10-01  259.745\n",
       "1948-01-01  265.742"
      ]
     },
     "execution_count": 33,
     "metadata": {},
     "output_type": "execute_result"
    }
   ],
   "source": [
    "df['DATE'] = pd.to_datetime(df['DATE'])\n",
    "df.set_index(\"DATE\", inplace = True) \n",
    "df.head()"
   ]
  },
  {
   "cell_type": "code",
   "execution_count": 34,
   "metadata": {},
   "outputs": [
    {
     "name": "stdout",
     "output_type": "stream",
     "text": [
      "<class 'pandas.core.frame.DataFrame'>\n",
      "DatetimeIndex: 289 entries, 1947-01-01 to 2019-01-01\n",
      "Data columns (total 1 columns):\n",
      "GDP    289 non-null float64\n",
      "dtypes: float64(1)\n",
      "memory usage: 4.5 KB\n"
     ]
    }
   ],
   "source": [
    "df.info()"
   ]
  },
  {
   "cell_type": "code",
   "execution_count": 35,
   "metadata": {},
   "outputs": [
    {
     "data": {
      "text/html": [
       "<div>\n",
       "<style scoped>\n",
       "    .dataframe tbody tr th:only-of-type {\n",
       "        vertical-align: middle;\n",
       "    }\n",
       "\n",
       "    .dataframe tbody tr th {\n",
       "        vertical-align: top;\n",
       "    }\n",
       "\n",
       "    .dataframe thead th {\n",
       "        text-align: right;\n",
       "    }\n",
       "</style>\n",
       "<table border=\"1\" class=\"dataframe\">\n",
       "  <thead>\n",
       "    <tr style=\"text-align: right;\">\n",
       "      <th></th>\n",
       "      <th>GDP</th>\n",
       "    </tr>\n",
       "    <tr>\n",
       "      <th>DATE</th>\n",
       "      <th></th>\n",
       "    </tr>\n",
       "  </thead>\n",
       "  <tbody>\n",
       "    <tr>\n",
       "      <th>1947-01-01</th>\n",
       "      <td>243.164</td>\n",
       "    </tr>\n",
       "    <tr>\n",
       "      <th>1947-04-01</th>\n",
       "      <td>245.968</td>\n",
       "    </tr>\n",
       "    <tr>\n",
       "      <th>1947-07-01</th>\n",
       "      <td>249.585</td>\n",
       "    </tr>\n",
       "    <tr>\n",
       "      <th>1947-10-01</th>\n",
       "      <td>259.745</td>\n",
       "    </tr>\n",
       "    <tr>\n",
       "      <th>1948-01-01</th>\n",
       "      <td>265.742</td>\n",
       "    </tr>\n",
       "  </tbody>\n",
       "</table>\n",
       "</div>"
      ],
      "text/plain": [
       "                GDP\n",
       "DATE               \n",
       "1947-01-01  243.164\n",
       "1947-04-01  245.968\n",
       "1947-07-01  249.585\n",
       "1947-10-01  259.745\n",
       "1948-01-01  265.742"
      ]
     },
     "execution_count": 35,
     "metadata": {},
     "output_type": "execute_result"
    }
   ],
   "source": [
    "df= df.resample('QS').mean()\n",
    "df.head()"
   ]
  },
  {
   "cell_type": "code",
   "execution_count": 36,
   "metadata": {},
   "outputs": [
    {
     "data": {
      "text/html": [
       "<div>\n",
       "<style scoped>\n",
       "    .dataframe tbody tr th:only-of-type {\n",
       "        vertical-align: middle;\n",
       "    }\n",
       "\n",
       "    .dataframe tbody tr th {\n",
       "        vertical-align: top;\n",
       "    }\n",
       "\n",
       "    .dataframe thead th {\n",
       "        text-align: right;\n",
       "    }\n",
       "</style>\n",
       "<table border=\"1\" class=\"dataframe\">\n",
       "  <thead>\n",
       "    <tr style=\"text-align: right;\">\n",
       "      <th></th>\n",
       "      <th>DATE</th>\n",
       "      <th>GDP</th>\n",
       "    </tr>\n",
       "  </thead>\n",
       "  <tbody>\n",
       "    <tr>\n",
       "      <th>0</th>\n",
       "      <td>1947-01-01</td>\n",
       "      <td>243.164</td>\n",
       "    </tr>\n",
       "    <tr>\n",
       "      <th>1</th>\n",
       "      <td>1947-04-01</td>\n",
       "      <td>245.968</td>\n",
       "    </tr>\n",
       "    <tr>\n",
       "      <th>2</th>\n",
       "      <td>1947-07-01</td>\n",
       "      <td>249.585</td>\n",
       "    </tr>\n",
       "    <tr>\n",
       "      <th>3</th>\n",
       "      <td>1947-10-01</td>\n",
       "      <td>259.745</td>\n",
       "    </tr>\n",
       "    <tr>\n",
       "      <th>4</th>\n",
       "      <td>1948-01-01</td>\n",
       "      <td>265.742</td>\n",
       "    </tr>\n",
       "  </tbody>\n",
       "</table>\n",
       "</div>"
      ],
      "text/plain": [
       "        DATE      GDP\n",
       "0 1947-01-01  243.164\n",
       "1 1947-04-01  245.968\n",
       "2 1947-07-01  249.585\n",
       "3 1947-10-01  259.745\n",
       "4 1948-01-01  265.742"
      ]
     },
     "execution_count": 36,
     "metadata": {},
     "output_type": "execute_result"
    }
   ],
   "source": [
    "df.reset_index(inplace=True)\n",
    "df.head()"
   ]
  },
  {
   "cell_type": "code",
   "execution_count": 37,
   "metadata": {},
   "outputs": [
    {
     "data": {
      "text/html": [
       "<div>\n",
       "<style scoped>\n",
       "    .dataframe tbody tr th:only-of-type {\n",
       "        vertical-align: middle;\n",
       "    }\n",
       "\n",
       "    .dataframe tbody tr th {\n",
       "        vertical-align: top;\n",
       "    }\n",
       "\n",
       "    .dataframe thead th {\n",
       "        text-align: right;\n",
       "    }\n",
       "</style>\n",
       "<table border=\"1\" class=\"dataframe\">\n",
       "  <thead>\n",
       "    <tr style=\"text-align: right;\">\n",
       "      <th></th>\n",
       "      <th>Date</th>\n",
       "      <th>GDP</th>\n",
       "    </tr>\n",
       "  </thead>\n",
       "  <tbody>\n",
       "    <tr>\n",
       "      <th>0</th>\n",
       "      <td>1947-01-01</td>\n",
       "      <td>243.164</td>\n",
       "    </tr>\n",
       "    <tr>\n",
       "      <th>1</th>\n",
       "      <td>1947-04-01</td>\n",
       "      <td>245.968</td>\n",
       "    </tr>\n",
       "    <tr>\n",
       "      <th>2</th>\n",
       "      <td>1947-07-01</td>\n",
       "      <td>249.585</td>\n",
       "    </tr>\n",
       "    <tr>\n",
       "      <th>3</th>\n",
       "      <td>1947-10-01</td>\n",
       "      <td>259.745</td>\n",
       "    </tr>\n",
       "    <tr>\n",
       "      <th>4</th>\n",
       "      <td>1948-01-01</td>\n",
       "      <td>265.742</td>\n",
       "    </tr>\n",
       "  </tbody>\n",
       "</table>\n",
       "</div>"
      ],
      "text/plain": [
       "        Date      GDP\n",
       "0 1947-01-01  243.164\n",
       "1 1947-04-01  245.968\n",
       "2 1947-07-01  249.585\n",
       "3 1947-10-01  259.745\n",
       "4 1948-01-01  265.742"
      ]
     },
     "execution_count": 37,
     "metadata": {},
     "output_type": "execute_result"
    }
   ],
   "source": [
    "df = df.rename(columns={'DATE': 'Date'})\n",
    "df.head()"
   ]
  },
  {
   "cell_type": "code",
   "execution_count": 38,
   "metadata": {},
   "outputs": [
    {
     "data": {
      "text/plain": [
       "<pymongo.results.InsertManyResult at 0x28c4b7b8448>"
      ]
     },
     "execution_count": 38,
     "metadata": {},
     "output_type": "execute_result"
    }
   ],
   "source": [
    "list_dict_GDP = []\n",
    "for item, row in df.iterrows():\n",
    "    dict_row ={        \n",
    "        \"Date\" : row[\"Date\"].strftime('%Y-%m-%d'),\n",
    "        \"GDP\" : row[\"GDP\"]        \n",
    "                }\n",
    "    list_dict_GDP.append(dict_row)\n",
    "db.GDP.insert_many(list_dict_GDP)"
   ]
  },
  {
   "cell_type": "code",
   "execution_count": 39,
   "metadata": {},
   "outputs": [
    {
     "name": "stdout",
     "output_type": "stream",
     "text": [
      "[{'_id': ObjectId('5cd0e48b61da981e1af9d71f'), 'Date': '1947-01-01', 'GDP': 243.16400000000002}, {'_id': ObjectId('5cd0e48b61da981e1af9d720'), 'Date': '1947-04-01', 'GDP': 245.968}, {'_id': ObjectId('5cd0e48b61da981e1af9d721'), 'Date': '1947-07-01', 'GDP': 249.585}, {'_id': ObjectId('5cd0e48b61da981e1af9d722'), 'Date': '1947-10-01', 'GDP': 259.745}, {'_id': ObjectId('5cd0e48b61da981e1af9d723'), 'Date': '1948-01-01', 'GDP': 265.742}, {'_id': ObjectId('5cd0e48b61da981e1af9d724'), 'Date': '1948-04-01', 'GDP': 272.567}, {'_id': ObjectId('5cd0e48b61da981e1af9d725'), 'Date': '1948-07-01', 'GDP': 279.19599999999997}, {'_id': ObjectId('5cd0e48b61da981e1af9d726'), 'Date': '1948-10-01', 'GDP': 280.366}, {'_id': ObjectId('5cd0e48b61da981e1af9d727'), 'Date': '1949-01-01', 'GDP': 275.034}, {'_id': ObjectId('5cd0e48b61da981e1af9d728'), 'Date': '1949-04-01', 'GDP': 271.351}, {'_id': ObjectId('5cd0e48b61da981e1af9d729'), 'Date': '1949-07-01', 'GDP': 272.889}, {'_id': ObjectId('5cd0e48b61da981e1af9d72a'), 'Date': '1949-10-01', 'GDP': 270.627}, {'_id': ObjectId('5cd0e48b61da981e1af9d72b'), 'Date': '1950-01-01', 'GDP': 280.828}, {'_id': ObjectId('5cd0e48b61da981e1af9d72c'), 'Date': '1950-04-01', 'GDP': 290.383}, {'_id': ObjectId('5cd0e48b61da981e1af9d72d'), 'Date': '1950-07-01', 'GDP': 308.153}, {'_id': ObjectId('5cd0e48b61da981e1af9d72e'), 'Date': '1950-10-01', 'GDP': 319.945}, {'_id': ObjectId('5cd0e48b61da981e1af9d72f'), 'Date': '1951-01-01', 'GDP': 336.0}, {'_id': ObjectId('5cd0e48b61da981e1af9d730'), 'Date': '1951-04-01', 'GDP': 344.09}, {'_id': ObjectId('5cd0e48b61da981e1af9d731'), 'Date': '1951-07-01', 'GDP': 351.385}, {'_id': ObjectId('5cd0e48b61da981e1af9d732'), 'Date': '1951-10-01', 'GDP': 356.17800000000005}, {'_id': ObjectId('5cd0e48b61da981e1af9d733'), 'Date': '1952-01-01', 'GDP': 359.82}, {'_id': ObjectId('5cd0e48b61da981e1af9d734'), 'Date': '1952-04-01', 'GDP': 361.03}, {'_id': ObjectId('5cd0e48b61da981e1af9d735'), 'Date': '1952-07-01', 'GDP': 367.70099999999996}, {'_id': ObjectId('5cd0e48b61da981e1af9d736'), 'Date': '1952-10-01', 'GDP': 380.81199999999995}, {'_id': ObjectId('5cd0e48b61da981e1af9d737'), 'Date': '1953-01-01', 'GDP': 387.98}, {'_id': ObjectId('5cd0e48b61da981e1af9d738'), 'Date': '1953-04-01', 'GDP': 391.749}, {'_id': ObjectId('5cd0e48b61da981e1af9d739'), 'Date': '1953-07-01', 'GDP': 391.171}, {'_id': ObjectId('5cd0e48b61da981e1af9d73a'), 'Date': '1953-10-01', 'GDP': 385.97}, {'_id': ObjectId('5cd0e48b61da981e1af9d73b'), 'Date': '1954-01-01', 'GDP': 385.345}, {'_id': ObjectId('5cd0e48b61da981e1af9d73c'), 'Date': '1954-04-01', 'GDP': 386.121}, {'_id': ObjectId('5cd0e48b61da981e1af9d73d'), 'Date': '1954-07-01', 'GDP': 390.996}, {'_id': ObjectId('5cd0e48b61da981e1af9d73e'), 'Date': '1954-10-01', 'GDP': 399.73400000000004}, {'_id': ObjectId('5cd0e48b61da981e1af9d73f'), 'Date': '1955-01-01', 'GDP': 413.07300000000004}, {'_id': ObjectId('5cd0e48b61da981e1af9d740'), 'Date': '1955-04-01', 'GDP': 421.532}, {'_id': ObjectId('5cd0e48b61da981e1af9d741'), 'Date': '1955-07-01', 'GDP': 430.221}, {'_id': ObjectId('5cd0e48b61da981e1af9d742'), 'Date': '1955-10-01', 'GDP': 437.092}, {'_id': ObjectId('5cd0e48b61da981e1af9d743'), 'Date': '1956-01-01', 'GDP': 439.746}, {'_id': ObjectId('5cd0e48b61da981e1af9d744'), 'Date': '1956-04-01', 'GDP': 446.01}, {'_id': ObjectId('5cd0e48b61da981e1af9d745'), 'Date': '1956-07-01', 'GDP': 451.191}, {'_id': ObjectId('5cd0e48b61da981e1af9d746'), 'Date': '1956-10-01', 'GDP': 460.463}, {'_id': ObjectId('5cd0e48b61da981e1af9d747'), 'Date': '1957-01-01', 'GDP': 469.779}, {'_id': ObjectId('5cd0e48b61da981e1af9d748'), 'Date': '1957-04-01', 'GDP': 472.025}, {'_id': ObjectId('5cd0e48b61da981e1af9d749'), 'Date': '1957-07-01', 'GDP': 479.49}, {'_id': ObjectId('5cd0e48b61da981e1af9d74a'), 'Date': '1957-10-01', 'GDP': 474.86400000000003}, {'_id': ObjectId('5cd0e48b61da981e1af9d74b'), 'Date': '1958-01-01', 'GDP': 467.54}, {'_id': ObjectId('5cd0e48b61da981e1af9d74c'), 'Date': '1958-04-01', 'GDP': 471.978}, {'_id': ObjectId('5cd0e48b61da981e1af9d74d'), 'Date': '1958-07-01', 'GDP': 485.841}, {'_id': ObjectId('5cd0e48b61da981e1af9d74e'), 'Date': '1958-10-01', 'GDP': 499.555}, {'_id': ObjectId('5cd0e48b61da981e1af9d74f'), 'Date': '1959-01-01', 'GDP': 510.33}, {'_id': ObjectId('5cd0e48b61da981e1af9d750'), 'Date': '1959-04-01', 'GDP': 522.653}, {'_id': ObjectId('5cd0e48b61da981e1af9d751'), 'Date': '1959-07-01', 'GDP': 525.034}, {'_id': ObjectId('5cd0e48b61da981e1af9d752'), 'Date': '1959-10-01', 'GDP': 528.6}, {'_id': ObjectId('5cd0e48b61da981e1af9d753'), 'Date': '1960-01-01', 'GDP': 542.648}, {'_id': ObjectId('5cd0e48b61da981e1af9d754'), 'Date': '1960-04-01', 'GDP': 541.08}, {'_id': ObjectId('5cd0e48b61da981e1af9d755'), 'Date': '1960-07-01', 'GDP': 545.604}, {'_id': ObjectId('5cd0e48b61da981e1af9d756'), 'Date': '1960-10-01', 'GDP': 540.197}, {'_id': ObjectId('5cd0e48b61da981e1af9d757'), 'Date': '1961-01-01', 'GDP': 545.018}, {'_id': ObjectId('5cd0e48b61da981e1af9d758'), 'Date': '1961-04-01', 'GDP': 555.545}, {'_id': ObjectId('5cd0e48b61da981e1af9d759'), 'Date': '1961-07-01', 'GDP': 567.664}, {'_id': ObjectId('5cd0e48b61da981e1af9d75a'), 'Date': '1961-10-01', 'GDP': 580.612}, {'_id': ObjectId('5cd0e48b61da981e1af9d75b'), 'Date': '1962-01-01', 'GDP': 594.013}, {'_id': ObjectId('5cd0e48b61da981e1af9d75c'), 'Date': '1962-04-01', 'GDP': 600.366}, {'_id': ObjectId('5cd0e48b61da981e1af9d75d'), 'Date': '1962-07-01', 'GDP': 609.0269999999999}, {'_id': ObjectId('5cd0e48b61da981e1af9d75e'), 'Date': '1962-10-01', 'GDP': 612.28}, {'_id': ObjectId('5cd0e48b61da981e1af9d75f'), 'Date': '1963-01-01', 'GDP': 621.672}, {'_id': ObjectId('5cd0e48b61da981e1af9d760'), 'Date': '1963-04-01', 'GDP': 629.752}, {'_id': ObjectId('5cd0e48b61da981e1af9d761'), 'Date': '1963-07-01', 'GDP': 644.444}, {'_id': ObjectId('5cd0e48b61da981e1af9d762'), 'Date': '1963-10-01', 'GDP': 653.938}, {'_id': ObjectId('5cd0e48b61da981e1af9d763'), 'Date': '1964-01-01', 'GDP': 669.822}, {'_id': ObjectId('5cd0e48b61da981e1af9d764'), 'Date': '1964-04-01', 'GDP': 678.674}, {'_id': ObjectId('5cd0e48b61da981e1af9d765'), 'Date': '1964-07-01', 'GDP': 692.0310000000001}, {'_id': ObjectId('5cd0e48b61da981e1af9d766'), 'Date': '1964-10-01', 'GDP': 697.319}, {'_id': ObjectId('5cd0e48b61da981e1af9d767'), 'Date': '1965-01-01', 'GDP': 717.79}, {'_id': ObjectId('5cd0e48b61da981e1af9d768'), 'Date': '1965-04-01', 'GDP': 730.191}, {'_id': ObjectId('5cd0e48b61da981e1af9d769'), 'Date': '1965-07-01', 'GDP': 749.323}, {'_id': ObjectId('5cd0e48b61da981e1af9d76a'), 'Date': '1965-10-01', 'GDP': 771.857}, {'_id': ObjectId('5cd0e48b61da981e1af9d76b'), 'Date': '1966-01-01', 'GDP': 795.7339999999999}, {'_id': ObjectId('5cd0e48b61da981e1af9d76c'), 'Date': '1966-04-01', 'GDP': 804.9810000000001}, {'_id': ObjectId('5cd0e48b61da981e1af9d76d'), 'Date': '1966-07-01', 'GDP': 819.638}, {'_id': ObjectId('5cd0e48b61da981e1af9d76e'), 'Date': '1966-10-01', 'GDP': 833.302}, {'_id': ObjectId('5cd0e48b61da981e1af9d76f'), 'Date': '1967-01-01', 'GDP': 844.17}, {'_id': ObjectId('5cd0e48b61da981e1af9d770'), 'Date': '1967-04-01', 'GDP': 848.9830000000001}, {'_id': ObjectId('5cd0e48b61da981e1af9d771'), 'Date': '1967-07-01', 'GDP': 865.2330000000001}, {'_id': ObjectId('5cd0e48b61da981e1af9d772'), 'Date': '1967-10-01', 'GDP': 881.439}, {'_id': ObjectId('5cd0e48b61da981e1af9d773'), 'Date': '1968-01-01', 'GDP': 909.387}, {'_id': ObjectId('5cd0e48b61da981e1af9d774'), 'Date': '1968-04-01', 'GDP': 934.3439999999999}, {'_id': ObjectId('5cd0e48b61da981e1af9d775'), 'Date': '1968-07-01', 'GDP': 950.825}, {'_id': ObjectId('5cd0e48b61da981e1af9d776'), 'Date': '1968-10-01', 'GDP': 968.03}, {'_id': ObjectId('5cd0e48b61da981e1af9d777'), 'Date': '1969-01-01', 'GDP': 993.337}, {'_id': ObjectId('5cd0e48b61da981e1af9d778'), 'Date': '1969-04-01', 'GDP': 1009.02}, {'_id': ObjectId('5cd0e48b61da981e1af9d779'), 'Date': '1969-07-01', 'GDP': 1029.9560000000001}, {'_id': ObjectId('5cd0e48b61da981e1af9d77a'), 'Date': '1969-10-01', 'GDP': 1038.147}, {'_id': ObjectId('5cd0e48b61da981e1af9d77b'), 'Date': '1970-01-01', 'GDP': 1051.2}, {'_id': ObjectId('5cd0e48b61da981e1af9d77c'), 'Date': '1970-04-01', 'GDP': 1067.375}, {'_id': ObjectId('5cd0e48b61da981e1af9d77d'), 'Date': '1970-07-01', 'GDP': 1086.059}, {'_id': ObjectId('5cd0e48b61da981e1af9d77e'), 'Date': '1970-10-01', 'GDP': 1088.608}, {'_id': ObjectId('5cd0e48b61da981e1af9d77f'), 'Date': '1971-01-01', 'GDP': 1135.156}, {'_id': ObjectId('5cd0e48b61da981e1af9d780'), 'Date': '1971-04-01', 'GDP': 1156.271}, {'_id': ObjectId('5cd0e48b61da981e1af9d781'), 'Date': '1971-07-01', 'GDP': 1177.675}, {'_id': ObjectId('5cd0e48b61da981e1af9d782'), 'Date': '1971-10-01', 'GDP': 1190.297}, {'_id': ObjectId('5cd0e48b61da981e1af9d783'), 'Date': '1972-01-01', 'GDP': 1230.609}, {'_id': ObjectId('5cd0e48b61da981e1af9d784'), 'Date': '1972-04-01', 'GDP': 1266.369}, {'_id': ObjectId('5cd0e48b61da981e1af9d785'), 'Date': '1972-07-01', 'GDP': 1290.566}, {'_id': ObjectId('5cd0e48b61da981e1af9d786'), 'Date': '1972-10-01', 'GDP': 1328.904}, {'_id': ObjectId('5cd0e48b61da981e1af9d787'), 'Date': '1973-01-01', 'GDP': 1377.49}, {'_id': ObjectId('5cd0e48b61da981e1af9d788'), 'Date': '1973-04-01', 'GDP': 1413.8870000000002}, {'_id': ObjectId('5cd0e48b61da981e1af9d789'), 'Date': '1973-07-01', 'GDP': 1433.838}, {'_id': ObjectId('5cd0e48b61da981e1af9d78a'), 'Date': '1973-10-01', 'GDP': 1476.289}, {'_id': ObjectId('5cd0e48b61da981e1af9d78b'), 'Date': '1974-01-01', 'GDP': 1491.2089999999998}, {'_id': ObjectId('5cd0e48b61da981e1af9d78c'), 'Date': '1974-04-01', 'GDP': 1530.056}, {'_id': ObjectId('5cd0e48b61da981e1af9d78d'), 'Date': '1974-07-01', 'GDP': 1560.026}, {'_id': ObjectId('5cd0e48b61da981e1af9d78e'), 'Date': '1974-10-01', 'GDP': 1599.6789999999999}, {'_id': ObjectId('5cd0e48b61da981e1af9d78f'), 'Date': '1975-01-01', 'GDP': 1616.116}, {'_id': ObjectId('5cd0e48b61da981e1af9d790'), 'Date': '1975-04-01', 'GDP': 1651.8529999999998}, {'_id': ObjectId('5cd0e48b61da981e1af9d791'), 'Date': '1975-07-01', 'GDP': 1709.82}, {'_id': ObjectId('5cd0e48b61da981e1af9d792'), 'Date': '1975-10-01', 'GDP': 1761.8310000000001}, {'_id': ObjectId('5cd0e48b61da981e1af9d793'), 'Date': '1976-01-01', 'GDP': 1820.487}, {'_id': ObjectId('5cd0e48b61da981e1af9d794'), 'Date': '1976-04-01', 'GDP': 1852.332}, {'_id': ObjectId('5cd0e48b61da981e1af9d795'), 'Date': '1976-07-01', 'GDP': 1886.558}, {'_id': ObjectId('5cd0e48b61da981e1af9d796'), 'Date': '1976-10-01', 'GDP': 1934.273}, {'_id': ObjectId('5cd0e48b61da981e1af9d797'), 'Date': '1977-01-01', 'GDP': 1988.648}, {'_id': ObjectId('5cd0e48b61da981e1af9d798'), 'Date': '1977-04-01', 'GDP': 2055.909}, {'_id': ObjectId('5cd0e48b61da981e1af9d799'), 'Date': '1977-07-01', 'GDP': 2118.473}, {'_id': ObjectId('5cd0e48b61da981e1af9d79a'), 'Date': '1977-10-01', 'GDP': 2164.27}, {'_id': ObjectId('5cd0e48b61da981e1af9d79b'), 'Date': '1978-01-01', 'GDP': 2202.76}, {'_id': ObjectId('5cd0e48b61da981e1af9d79c'), 'Date': '1978-04-01', 'GDP': 2331.633}, {'_id': ObjectId('5cd0e48b61da981e1af9d79d'), 'Date': '1978-07-01', 'GDP': 2395.053}, {'_id': ObjectId('5cd0e48b61da981e1af9d79e'), 'Date': '1978-10-01', 'GDP': 2476.949}, {'_id': ObjectId('5cd0e48b61da981e1af9d79f'), 'Date': '1979-01-01', 'GDP': 2526.61}, {'_id': ObjectId('5cd0e48b61da981e1af9d7a0'), 'Date': '1979-04-01', 'GDP': 2591.2470000000003}, {'_id': ObjectId('5cd0e48b61da981e1af9d7a1'), 'Date': '1979-07-01', 'GDP': 2667.565}, {'_id': ObjectId('5cd0e48b61da981e1af9d7a2'), 'Date': '1979-10-01', 'GDP': 2723.883}, {'_id': ObjectId('5cd0e48b61da981e1af9d7a3'), 'Date': '1980-01-01', 'GDP': 2789.842}, {'_id': ObjectId('5cd0e48b61da981e1af9d7a4'), 'Date': '1980-04-01', 'GDP': 2797.3520000000003}, {'_id': ObjectId('5cd0e48b61da981e1af9d7a5'), 'Date': '1980-07-01', 'GDP': 2856.4829999999997}, {'_id': ObjectId('5cd0e48b61da981e1af9d7a6'), 'Date': '1980-10-01', 'GDP': 2985.5570000000002}, {'_id': ObjectId('5cd0e48b61da981e1af9d7a7'), 'Date': '1981-01-01', 'GDP': 3124.2059999999997}, {'_id': ObjectId('5cd0e48b61da981e1af9d7a8'), 'Date': '1981-04-01', 'GDP': 3162.532}, {'_id': ObjectId('5cd0e48b61da981e1af9d7a9'), 'Date': '1981-07-01', 'GDP': 3260.6090000000004}, {'_id': ObjectId('5cd0e48b61da981e1af9d7aa'), 'Date': '1981-10-01', 'GDP': 3280.8179999999998}, {'_id': ObjectId('5cd0e48b61da981e1af9d7ab'), 'Date': '1982-01-01', 'GDP': 3274.302}, {'_id': ObjectId('5cd0e48b61da981e1af9d7ac'), 'Date': '1982-04-01', 'GDP': 3331.972}, {'_id': ObjectId('5cd0e48b61da981e1af9d7ad'), 'Date': '1982-07-01', 'GDP': 3366.322}, {'_id': ObjectId('5cd0e48b61da981e1af9d7ae'), 'Date': '1982-10-01', 'GDP': 3402.5609999999997}, {'_id': ObjectId('5cd0e48b61da981e1af9d7af'), 'Date': '1983-01-01', 'GDP': 3473.413}, {'_id': ObjectId('5cd0e48b61da981e1af9d7b0'), 'Date': '1983-04-01', 'GDP': 3578.848}, {'_id': ObjectId('5cd0e48b61da981e1af9d7b1'), 'Date': '1983-07-01', 'GDP': 3689.179}, {'_id': ObjectId('5cd0e48b61da981e1af9d7b2'), 'Date': '1983-10-01', 'GDP': 3794.7059999999997}, {'_id': ObjectId('5cd0e48b61da981e1af9d7b3'), 'Date': '1984-01-01', 'GDP': 3908.054}, {'_id': ObjectId('5cd0e48b61da981e1af9d7b4'), 'Date': '1984-04-01', 'GDP': 4009.6009999999997}, {'_id': ObjectId('5cd0e48b61da981e1af9d7b5'), 'Date': '1984-07-01', 'GDP': 4084.25}, {'_id': ObjectId('5cd0e48b61da981e1af9d7b6'), 'Date': '1984-10-01', 'GDP': 4148.5509999999995}, {'_id': ObjectId('5cd0e48b61da981e1af9d7b7'), 'Date': '1985-01-01', 'GDP': 4230.168}, {'_id': ObjectId('5cd0e48b61da981e1af9d7b8'), 'Date': '1985-04-01', 'GDP': 4294.887}, {'_id': ObjectId('5cd0e48b61da981e1af9d7b9'), 'Date': '1985-07-01', 'GDP': 4386.773}, {'_id': ObjectId('5cd0e48b61da981e1af9d7ba'), 'Date': '1985-10-01', 'GDP': 4444.094}, {'_id': ObjectId('5cd0e48b61da981e1af9d7bb'), 'Date': '1986-01-01', 'GDP': 4507.894}, {'_id': ObjectId('5cd0e48b61da981e1af9d7bc'), 'Date': '1986-04-01', 'GDP': 4545.34}, {'_id': ObjectId('5cd0e48b61da981e1af9d7bd'), 'Date': '1986-07-01', 'GDP': 4607.669}, {'_id': ObjectId('5cd0e48b61da981e1af9d7be'), 'Date': '1986-10-01', 'GDP': 4657.627}, {'_id': ObjectId('5cd0e48b61da981e1af9d7bf'), 'Date': '1987-01-01', 'GDP': 4722.156}, {'_id': ObjectId('5cd0e48b61da981e1af9d7c0'), 'Date': '1987-04-01', 'GDP': 4806.16}, {'_id': ObjectId('5cd0e48b61da981e1af9d7c1'), 'Date': '1987-07-01', 'GDP': 4884.555}, {'_id': ObjectId('5cd0e48b61da981e1af9d7c2'), 'Date': '1987-10-01', 'GDP': 5007.994000000001}, {'_id': ObjectId('5cd0e48b61da981e1af9d7c3'), 'Date': '1988-01-01', 'GDP': 5073.372}, {'_id': ObjectId('5cd0e48b61da981e1af9d7c4'), 'Date': '1988-04-01', 'GDP': 5190.036}, {'_id': ObjectId('5cd0e48b61da981e1af9d7c5'), 'Date': '1988-07-01', 'GDP': 5282.835}, {'_id': ObjectId('5cd0e48b61da981e1af9d7c6'), 'Date': '1988-10-01', 'GDP': 5399.509}, {'_id': ObjectId('5cd0e48b61da981e1af9d7c7'), 'Date': '1989-01-01', 'GDP': 5511.253000000001}, {'_id': ObjectId('5cd0e48b61da981e1af9d7c8'), 'Date': '1989-04-01', 'GDP': 5612.463000000001}, {'_id': ObjectId('5cd0e48b61da981e1af9d7c9'), 'Date': '1989-07-01', 'GDP': 5695.365}, {'_id': ObjectId('5cd0e48b61da981e1af9d7ca'), 'Date': '1989-10-01', 'GDP': 5747.236999999999}, {'_id': ObjectId('5cd0e48b61da981e1af9d7cb'), 'Date': '1990-01-01', 'GDP': 5872.701}, {'_id': ObjectId('5cd0e48b61da981e1af9d7cc'), 'Date': '1990-04-01', 'GDP': 5960.028}, {'_id': ObjectId('5cd0e48b61da981e1af9d7cd'), 'Date': '1990-07-01', 'GDP': 6015.116}, {'_id': ObjectId('5cd0e48b61da981e1af9d7ce'), 'Date': '1990-10-01', 'GDP': 6004.733}, {'_id': ObjectId('5cd0e48b61da981e1af9d7cf'), 'Date': '1991-01-01', 'GDP': 6035.178000000001}, {'_id': ObjectId('5cd0e48b61da981e1af9d7d0'), 'Date': '1991-04-01', 'GDP': 6126.861999999999}, {'_id': ObjectId('5cd0e48b61da981e1af9d7d1'), 'Date': '1991-07-01', 'GDP': 6205.937}, {'_id': ObjectId('5cd0e48b61da981e1af9d7d2'), 'Date': '1991-10-01', 'GDP': 6264.54}, {'_id': ObjectId('5cd0e48b61da981e1af9d7d3'), 'Date': '1992-01-01', 'GDP': 6363.102}, {'_id': ObjectId('5cd0e48b61da981e1af9d7d4'), 'Date': '1992-04-01', 'GDP': 6470.763000000001}, {'_id': ObjectId('5cd0e48b61da981e1af9d7d5'), 'Date': '1992-07-01', 'GDP': 6566.641}, {'_id': ObjectId('5cd0e48b61da981e1af9d7d6'), 'Date': '1992-10-01', 'GDP': 6680.803000000001}, {'_id': ObjectId('5cd0e48b61da981e1af9d7d7'), 'Date': '1993-01-01', 'GDP': 6729.459}, {'_id': ObjectId('5cd0e48b61da981e1af9d7d8'), 'Date': '1993-04-01', 'GDP': 6808.939}, {'_id': ObjectId('5cd0e48b61da981e1af9d7d9'), 'Date': '1993-07-01', 'GDP': 6882.098000000001}, {'_id': ObjectId('5cd0e48b61da981e1af9d7da'), 'Date': '1993-10-01', 'GDP': 7013.738}, {'_id': ObjectId('5cd0e48b61da981e1af9d7db'), 'Date': '1994-01-01', 'GDP': 7115.651999999999}, {'_id': ObjectId('5cd0e48b61da981e1af9d7dc'), 'Date': '1994-04-01', 'GDP': 7246.931}, {'_id': ObjectId('5cd0e48b61da981e1af9d7dd'), 'Date': '1994-07-01', 'GDP': 7331.075}, {'_id': ObjectId('5cd0e48b61da981e1af9d7de'), 'Date': '1994-10-01', 'GDP': 7455.2880000000005}, {'_id': ObjectId('5cd0e48b61da981e1af9d7df'), 'Date': '1995-01-01', 'GDP': 7522.289000000001}, {'_id': ObjectId('5cd0e48b61da981e1af9d7e0'), 'Date': '1995-04-01', 'GDP': 7580.996999999999}, {'_id': ObjectId('5cd0e48b61da981e1af9d7e1'), 'Date': '1995-07-01', 'GDP': 7683.125}, {'_id': ObjectId('5cd0e48b61da981e1af9d7e2'), 'Date': '1995-10-01', 'GDP': 7772.585999999999}, {'_id': ObjectId('5cd0e48b61da981e1af9d7e3'), 'Date': '1996-01-01', 'GDP': 7868.468000000001}, {'_id': ObjectId('5cd0e48b61da981e1af9d7e4'), 'Date': '1996-04-01', 'GDP': 8032.84}, {'_id': ObjectId('5cd0e48b61da981e1af9d7e5'), 'Date': '1996-07-01', 'GDP': 8131.408}, {'_id': ObjectId('5cd0e48b61da981e1af9d7e6'), 'Date': '1996-10-01', 'GDP': 8259.771}, {'_id': ObjectId('5cd0e48b61da981e1af9d7e7'), 'Date': '1997-01-01', 'GDP': 8362.655}, {'_id': ObjectId('5cd0e48b61da981e1af9d7e8'), 'Date': '1997-04-01', 'GDP': 8518.825}, {'_id': ObjectId('5cd0e48b61da981e1af9d7e9'), 'Date': '1997-07-01', 'GDP': 8662.823}, {'_id': ObjectId('5cd0e48b61da981e1af9d7ea'), 'Date': '1997-10-01', 'GDP': 8765.907}, {'_id': ObjectId('5cd0e48b61da981e1af9d7eb'), 'Date': '1998-01-01', 'GDP': 8866.48}, {'_id': ObjectId('5cd0e48b61da981e1af9d7ec'), 'Date': '1998-04-01', 'GDP': 8969.699}, {'_id': ObjectId('5cd0e48b61da981e1af9d7ed'), 'Date': '1998-07-01', 'GDP': 9121.097}, {'_id': ObjectId('5cd0e48b61da981e1af9d7ee'), 'Date': '1998-10-01', 'GDP': 9293.991}, {'_id': ObjectId('5cd0e48b61da981e1af9d7ef'), 'Date': '1999-01-01', 'GDP': 9417.264000000001}, {'_id': ObjectId('5cd0e48b61da981e1af9d7f0'), 'Date': '1999-04-01', 'GDP': 9524.152}, {'_id': ObjectId('5cd0e48b61da981e1af9d7f1'), 'Date': '1999-07-01', 'GDP': 9681.856}, {'_id': ObjectId('5cd0e48b61da981e1af9d7f2'), 'Date': '1999-10-01', 'GDP': 9899.378}, {'_id': ObjectId('5cd0e48b61da981e1af9d7f3'), 'Date': '2000-01-01', 'GDP': 10002.857}, {'_id': ObjectId('5cd0e48b61da981e1af9d7f4'), 'Date': '2000-04-01', 'GDP': 10247.679}, {'_id': ObjectId('5cd0e48b61da981e1af9d7f5'), 'Date': '2000-07-01', 'GDP': 10319.825}, {'_id': ObjectId('5cd0e48b61da981e1af9d7f6'), 'Date': '2000-10-01', 'GDP': 10439.025}, {'_id': ObjectId('5cd0e48b61da981e1af9d7f7'), 'Date': '2001-01-01', 'GDP': 10472.879}, {'_id': ObjectId('5cd0e48b61da981e1af9d7f8'), 'Date': '2001-04-01', 'GDP': 10597.822}, {'_id': ObjectId('5cd0e48b61da981e1af9d7f9'), 'Date': '2001-07-01', 'GDP': 10596.294}, {'_id': ObjectId('5cd0e48b61da981e1af9d7fa'), 'Date': '2001-10-01', 'GDP': 10660.294}, {'_id': ObjectId('5cd0e48b61da981e1af9d7fb'), 'Date': '2002-01-01', 'GDP': 10788.952}, {'_id': ObjectId('5cd0e48b61da981e1af9d7fc'), 'Date': '2002-04-01', 'GDP': 10893.207}, {'_id': ObjectId('5cd0e48b61da981e1af9d7fd'), 'Date': '2002-07-01', 'GDP': 10992.051000000001}, {'_id': ObjectId('5cd0e48b61da981e1af9d7fe'), 'Date': '2002-10-01', 'GDP': 11071.463}, {'_id': ObjectId('5cd0e48b61da981e1af9d7ff'), 'Date': '2003-01-01', 'GDP': 11183.507}, {'_id': ObjectId('5cd0e48b61da981e1af9d800'), 'Date': '2003-04-01', 'GDP': 11312.875}, {'_id': ObjectId('5cd0e48b61da981e1af9d801'), 'Date': '2003-07-01', 'GDP': 11567.326000000001}, {'_id': ObjectId('5cd0e48b61da981e1af9d802'), 'Date': '2003-10-01', 'GDP': 11769.275}, {'_id': ObjectId('5cd0e48b61da981e1af9d803'), 'Date': '2004-01-01', 'GDP': 11920.169}, {'_id': ObjectId('5cd0e48b61da981e1af9d804'), 'Date': '2004-04-01', 'GDP': 12108.987}, {'_id': ObjectId('5cd0e48b61da981e1af9d805'), 'Date': '2004-07-01', 'GDP': 12303.34}, {'_id': ObjectId('5cd0e48b61da981e1af9d806'), 'Date': '2004-10-01', 'GDP': 12522.425}, {'_id': ObjectId('5cd0e48b61da981e1af9d807'), 'Date': '2005-01-01', 'GDP': 12761.337}, {'_id': ObjectId('5cd0e48b61da981e1af9d808'), 'Date': '2005-04-01', 'GDP': 12910.021999999999}, {'_id': ObjectId('5cd0e48b61da981e1af9d809'), 'Date': '2005-07-01', 'GDP': 13142.873}, {'_id': ObjectId('5cd0e48b61da981e1af9d80a'), 'Date': '2005-10-01', 'GDP': 13332.316}, {'_id': ObjectId('5cd0e48b61da981e1af9d80b'), 'Date': '2006-01-01', 'GDP': 13603.933}, {'_id': ObjectId('5cd0e48b61da981e1af9d80c'), 'Date': '2006-04-01', 'GDP': 13749.806}, {'_id': ObjectId('5cd0e48b61da981e1af9d80d'), 'Date': '2006-07-01', 'GDP': 13867.469}, {'_id': ObjectId('5cd0e48b61da981e1af9d80e'), 'Date': '2006-10-01', 'GDP': 14037.228000000001}, {'_id': ObjectId('5cd0e48b61da981e1af9d80f'), 'Date': '2007-01-01', 'GDP': 14208.569}, {'_id': ObjectId('5cd0e48b61da981e1af9d810'), 'Date': '2007-04-01', 'GDP': 14382.363000000001}, {'_id': ObjectId('5cd0e48b61da981e1af9d811'), 'Date': '2007-07-01', 'GDP': 14535.003}, {'_id': ObjectId('5cd0e48b61da981e1af9d812'), 'Date': '2007-10-01', 'GDP': 14681.501}, {'_id': ObjectId('5cd0e48b61da981e1af9d813'), 'Date': '2008-01-01', 'GDP': 14651.038999999999}, {'_id': ObjectId('5cd0e48b61da981e1af9d814'), 'Date': '2008-04-01', 'GDP': 14805.611}, {'_id': ObjectId('5cd0e48b61da981e1af9d815'), 'Date': '2008-07-01', 'GDP': 14835.187}, {'_id': ObjectId('5cd0e48b61da981e1af9d816'), 'Date': '2008-10-01', 'GDP': 14559.543}, {'_id': ObjectId('5cd0e48b61da981e1af9d817'), 'Date': '2009-01-01', 'GDP': 14394.546999999999}, {'_id': ObjectId('5cd0e48b61da981e1af9d818'), 'Date': '2009-04-01', 'GDP': 14352.85}, {'_id': ObjectId('5cd0e48b61da981e1af9d819'), 'Date': '2009-07-01', 'GDP': 14420.312}, {'_id': ObjectId('5cd0e48b61da981e1af9d81a'), 'Date': '2009-10-01', 'GDP': 14628.021}, {'_id': ObjectId('5cd0e48b61da981e1af9d81b'), 'Date': '2010-01-01', 'GDP': 14721.35}, {'_id': ObjectId('5cd0e48b61da981e1af9d81c'), 'Date': '2010-04-01', 'GDP': 14926.098}, {'_id': ObjectId('5cd0e48b61da981e1af9d81d'), 'Date': '2010-07-01', 'GDP': 15079.917}, {'_id': ObjectId('5cd0e48b61da981e1af9d81e'), 'Date': '2010-10-01', 'GDP': 15240.843}, {'_id': ObjectId('5cd0e48b61da981e1af9d81f'), 'Date': '2011-01-01', 'GDP': 15285.828000000001}, {'_id': ObjectId('5cd0e48b61da981e1af9d820'), 'Date': '2011-04-01', 'GDP': 15496.188999999998}, {'_id': ObjectId('5cd0e48b61da981e1af9d821'), 'Date': '2011-07-01', 'GDP': 15591.85}, {'_id': ObjectId('5cd0e48b61da981e1af9d822'), 'Date': '2011-10-01', 'GDP': 15796.46}, {'_id': ObjectId('5cd0e48b61da981e1af9d823'), 'Date': '2012-01-01', 'GDP': 16019.758}, {'_id': ObjectId('5cd0e48b61da981e1af9d824'), 'Date': '2012-04-01', 'GDP': 16152.257}, {'_id': ObjectId('5cd0e48b61da981e1af9d825'), 'Date': '2012-07-01', 'GDP': 16257.151000000002}, {'_id': ObjectId('5cd0e48b61da981e1af9d826'), 'Date': '2012-10-01', 'GDP': 16358.863000000001}, {'_id': ObjectId('5cd0e48b61da981e1af9d827'), 'Date': '2013-01-01', 'GDP': 16569.591}, {'_id': ObjectId('5cd0e48b61da981e1af9d828'), 'Date': '2013-04-01', 'GDP': 16637.926}, {'_id': ObjectId('5cd0e48b61da981e1af9d829'), 'Date': '2013-07-01', 'GDP': 16848.748}, {'_id': ObjectId('5cd0e48b61da981e1af9d82a'), 'Date': '2013-10-01', 'GDP': 17083.137}, {'_id': ObjectId('5cd0e48b61da981e1af9d82b'), 'Date': '2014-01-01', 'GDP': 17102.932}, {'_id': ObjectId('5cd0e48b61da981e1af9d82c'), 'Date': '2014-04-01', 'GDP': 17425.766}, {'_id': ObjectId('5cd0e48b61da981e1af9d82d'), 'Date': '2014-07-01', 'GDP': 17719.836}, {'_id': ObjectId('5cd0e48b61da981e1af9d82e'), 'Date': '2014-10-01', 'GDP': 17838.453999999998}, {'_id': ObjectId('5cd0e48b61da981e1af9d82f'), 'Date': '2015-01-01', 'GDP': 17970.422}, {'_id': ObjectId('5cd0e48b61da981e1af9d830'), 'Date': '2015-04-01', 'GDP': 18221.299}, {'_id': ObjectId('5cd0e48b61da981e1af9d831'), 'Date': '2015-07-01', 'GDP': 18331.093}, {'_id': ObjectId('5cd0e48b61da981e1af9d832'), 'Date': '2015-10-01', 'GDP': 18354.372}, {'_id': ObjectId('5cd0e48b61da981e1af9d833'), 'Date': '2016-01-01', 'GDP': 18409.13}, {'_id': ObjectId('5cd0e48b61da981e1af9d834'), 'Date': '2016-04-01', 'GDP': 18640.732}, {'_id': ObjectId('5cd0e48b61da981e1af9d835'), 'Date': '2016-07-01', 'GDP': 18799.648}, {'_id': ObjectId('5cd0e48b61da981e1af9d836'), 'Date': '2016-10-01', 'GDP': 18979.245}, {'_id': ObjectId('5cd0e48b61da981e1af9d837'), 'Date': '2017-01-01', 'GDP': 19162.55}, {'_id': ObjectId('5cd0e48b61da981e1af9d838'), 'Date': '2017-04-01', 'GDP': 19359.123}, {'_id': ObjectId('5cd0e48b61da981e1af9d839'), 'Date': '2017-07-01', 'GDP': 19588.074}, {'_id': ObjectId('5cd0e48b61da981e1af9d83a'), 'Date': '2017-10-01', 'GDP': 19831.828999999998}, {'_id': ObjectId('5cd0e48b61da981e1af9d83b'), 'Date': '2018-01-01', 'GDP': 20041.047}, {'_id': ObjectId('5cd0e48b61da981e1af9d83c'), 'Date': '2018-04-01', 'GDP': 20411.924}, {'_id': ObjectId('5cd0e48b61da981e1af9d83d'), 'Date': '2018-07-01', 'GDP': 20658.203999999998}, {'_id': ObjectId('5cd0e48b61da981e1af9d83e'), 'Date': '2018-10-01', 'GDP': 20865.14}, {'_id': ObjectId('5cd0e48b61da981e1af9d83f'), 'Date': '2019-01-01', 'GDP': 21062.691000000003}]\n"
     ]
    }
   ],
   "source": [
    "list_GDP = list(db.GDP.find())\n",
    "print(list_GDP)"
   ]
  },
  {
   "cell_type": "markdown",
   "metadata": {},
   "source": [
    "# Unemployment Data"
   ]
  },
  {
   "cell_type": "code",
   "execution_count": 40,
   "metadata": {},
   "outputs": [],
   "source": [
    "file_path = \"Resources/Unemployment_rate.csv\"\n",
    "unemployment_df = pd.read_csv(file_path)\n",
    "unemployment_df.columns = ['Date','Unemployment_Rate']"
   ]
  },
  {
   "cell_type": "code",
   "execution_count": 41,
   "metadata": {},
   "outputs": [
    {
     "data": {
      "text/html": [
       "<div>\n",
       "<style scoped>\n",
       "    .dataframe tbody tr th:only-of-type {\n",
       "        vertical-align: middle;\n",
       "    }\n",
       "\n",
       "    .dataframe tbody tr th {\n",
       "        vertical-align: top;\n",
       "    }\n",
       "\n",
       "    .dataframe thead th {\n",
       "        text-align: right;\n",
       "    }\n",
       "</style>\n",
       "<table border=\"1\" class=\"dataframe\">\n",
       "  <thead>\n",
       "    <tr style=\"text-align: right;\">\n",
       "      <th></th>\n",
       "      <th>Date</th>\n",
       "      <th>Unemployment_Rate</th>\n",
       "    </tr>\n",
       "  </thead>\n",
       "  <tbody>\n",
       "    <tr>\n",
       "      <th>0</th>\n",
       "      <td>1948-01-01</td>\n",
       "      <td>3.4</td>\n",
       "    </tr>\n",
       "    <tr>\n",
       "      <th>1</th>\n",
       "      <td>1948-02-01</td>\n",
       "      <td>3.8</td>\n",
       "    </tr>\n",
       "    <tr>\n",
       "      <th>2</th>\n",
       "      <td>1948-03-01</td>\n",
       "      <td>4.0</td>\n",
       "    </tr>\n",
       "    <tr>\n",
       "      <th>3</th>\n",
       "      <td>1948-04-01</td>\n",
       "      <td>3.9</td>\n",
       "    </tr>\n",
       "    <tr>\n",
       "      <th>4</th>\n",
       "      <td>1948-05-01</td>\n",
       "      <td>3.5</td>\n",
       "    </tr>\n",
       "  </tbody>\n",
       "</table>\n",
       "</div>"
      ],
      "text/plain": [
       "         Date  Unemployment_Rate\n",
       "0  1948-01-01                3.4\n",
       "1  1948-02-01                3.8\n",
       "2  1948-03-01                4.0\n",
       "3  1948-04-01                3.9\n",
       "4  1948-05-01                3.5"
      ]
     },
     "execution_count": 41,
     "metadata": {},
     "output_type": "execute_result"
    }
   ],
   "source": [
    "unemployment_df.head()"
   ]
  },
  {
   "cell_type": "code",
   "execution_count": 42,
   "metadata": {},
   "outputs": [],
   "source": [
    "unemployment_df['Date'] = unemployment_df['Date'].astype('datetime64[ns]')"
   ]
  },
  {
   "cell_type": "code",
   "execution_count": 43,
   "metadata": {},
   "outputs": [
    {
     "name": "stdout",
     "output_type": "stream",
     "text": [
      "<class 'pandas.core.frame.DataFrame'>\n",
      "RangeIndex: 856 entries, 0 to 855\n",
      "Data columns (total 2 columns):\n",
      "Date                 856 non-null datetime64[ns]\n",
      "Unemployment_Rate    856 non-null float64\n",
      "dtypes: datetime64[ns](1), float64(1)\n",
      "memory usage: 13.5 KB\n"
     ]
    }
   ],
   "source": [
    "unemployment_df.info()"
   ]
  },
  {
   "cell_type": "code",
   "execution_count": 44,
   "metadata": {},
   "outputs": [],
   "source": [
    "unemployment_df = unemployment_df.set_index('Date')"
   ]
  },
  {
   "cell_type": "code",
   "execution_count": 45,
   "metadata": {},
   "outputs": [
    {
     "data": {
      "text/html": [
       "<div>\n",
       "<style scoped>\n",
       "    .dataframe tbody tr th:only-of-type {\n",
       "        vertical-align: middle;\n",
       "    }\n",
       "\n",
       "    .dataframe tbody tr th {\n",
       "        vertical-align: top;\n",
       "    }\n",
       "\n",
       "    .dataframe thead th {\n",
       "        text-align: right;\n",
       "    }\n",
       "</style>\n",
       "<table border=\"1\" class=\"dataframe\">\n",
       "  <thead>\n",
       "    <tr style=\"text-align: right;\">\n",
       "      <th></th>\n",
       "      <th>Unemployment_Rate</th>\n",
       "    </tr>\n",
       "    <tr>\n",
       "      <th>Date</th>\n",
       "      <th></th>\n",
       "    </tr>\n",
       "  </thead>\n",
       "  <tbody>\n",
       "    <tr>\n",
       "      <th>1948-01-01</th>\n",
       "      <td>3.4</td>\n",
       "    </tr>\n",
       "    <tr>\n",
       "      <th>1948-02-01</th>\n",
       "      <td>3.8</td>\n",
       "    </tr>\n",
       "    <tr>\n",
       "      <th>1948-03-01</th>\n",
       "      <td>4.0</td>\n",
       "    </tr>\n",
       "    <tr>\n",
       "      <th>1948-04-01</th>\n",
       "      <td>3.9</td>\n",
       "    </tr>\n",
       "    <tr>\n",
       "      <th>1948-05-01</th>\n",
       "      <td>3.5</td>\n",
       "    </tr>\n",
       "  </tbody>\n",
       "</table>\n",
       "</div>"
      ],
      "text/plain": [
       "            Unemployment_Rate\n",
       "Date                         \n",
       "1948-01-01                3.4\n",
       "1948-02-01                3.8\n",
       "1948-03-01                4.0\n",
       "1948-04-01                3.9\n",
       "1948-05-01                3.5"
      ]
     },
     "execution_count": 45,
     "metadata": {},
     "output_type": "execute_result"
    }
   ],
   "source": [
    "unemployment_df.head()"
   ]
  },
  {
   "cell_type": "code",
   "execution_count": 46,
   "metadata": {},
   "outputs": [],
   "source": [
    "# Initialize PyMongo to work with MongoDBs\n",
    "conn = 'mongodb://localhost:27017'\n",
    "client = pymongo.MongoClient(conn)"
   ]
  },
  {
   "cell_type": "code",
   "execution_count": 47,
   "metadata": {},
   "outputs": [],
   "source": [
    "# Define database and collection\n",
    "db = client.EcoParameters_db\n",
    "\n",
    "db.Unemployment_rate.drop()\n",
    "collection = db.Unemployment_rate"
   ]
  },
  {
   "cell_type": "code",
   "execution_count": 48,
   "metadata": {},
   "outputs": [],
   "source": [
    "unemployment_df = unemployment_df.resample('QS').mean()\n",
    "#data.reset_index(inplace=True)"
   ]
  },
  {
   "cell_type": "code",
   "execution_count": 49,
   "metadata": {},
   "outputs": [
    {
     "data": {
      "text/plain": [
       "Unemployment_Rate    float64\n",
       "dtype: object"
      ]
     },
     "execution_count": 49,
     "metadata": {},
     "output_type": "execute_result"
    }
   ],
   "source": [
    "unemployment_df.dtypes"
   ]
  },
  {
   "cell_type": "code",
   "execution_count": 50,
   "metadata": {},
   "outputs": [],
   "source": [
    "unemployment_df = unemployment_df.reset_index()"
   ]
  },
  {
   "cell_type": "code",
   "execution_count": 51,
   "metadata": {},
   "outputs": [
    {
     "data": {
      "text/plain": [
       "<pymongo.results.InsertManyResult at 0x28c4b85df48>"
      ]
     },
     "execution_count": 51,
     "metadata": {},
     "output_type": "execute_result"
    }
   ],
   "source": [
    "list_dict_Unemployment = []\n",
    "for item, row in unemployment_df.iterrows():\n",
    "    dict_row ={        \n",
    "        \"Date\" : row[\"Date\"].strftime('%Y-%m-%d'),\n",
    "        \"Unemployment_Rate\" : row[\"Unemployment_Rate\"]        \n",
    "                }\n",
    "    list_dict_Unemployment.append(dict_row)\n",
    "db.Unemployment_rate.insert_many(list_dict_Unemployment)"
   ]
  }
 ],
 "metadata": {
  "kernelspec": {
   "display_name": "Python 3",
   "language": "python",
   "name": "python3"
  },
  "language_info": {
   "codemirror_mode": {
    "name": "ipython",
    "version": 3
   },
   "file_extension": ".py",
   "mimetype": "text/x-python",
   "name": "python",
   "nbconvert_exporter": "python",
   "pygments_lexer": "ipython3",
   "version": "3.7.1"
  }
 },
 "nbformat": 4,
 "nbformat_minor": 2
}
