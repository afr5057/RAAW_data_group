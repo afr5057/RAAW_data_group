{
 "cells": [
  {
   "cell_type": "markdown",
   "metadata": {},
   "source": [
    "# Finance Companies Stock Data"
   ]
  },
  {
   "cell_type": "code",
   "execution_count": 4,
   "metadata": {},
   "outputs": [],
   "source": [
    "import fix_yahoo_finance as yf\n",
    "import pandas as pd\n",
    "import requests\n",
    "import pymongo\n",
    "import datetime"
   ]
  },
  {
   "cell_type": "code",
   "execution_count": null,
   "metadata": {},
   "outputs": [],
   "source": [
    "# Extracted from https://www.nasdaq.com/screening/company-list.aspx\n",
    "file_path = \"Resources/companylist.csv\"\n",
    "df = pd.read_csv(file_path)\n",
    "df = df[[\"Symbol\",\"Name\",\"LastSale\",\"MarketCap\",\"IPOyear\",\"Sector\",\"industry\",\"Summary Quote\"]]\n",
    "\n",
    "df = df.loc[df[\"Sector\"]==\"Finance\"]\n",
    "df = df.iloc[0:75,:]\n",
    "start_date = \"2004-05-03\"\n",
    "end_date = \"2019-05-03\"\n",
    "\n",
    "df.head()"
   ]
  },
  {
   "cell_type": "code",
   "execution_count": null,
   "metadata": {},
   "outputs": [],
   "source": [
    "# Initialize PyMongo to work with MongoDBs\n",
    "conn = 'mongodb://localhost:27017'\n",
    "client = pymongo.MongoClient(conn)"
   ]
  },
  {
   "cell_type": "code",
   "execution_count": null,
   "metadata": {},
   "outputs": [],
   "source": [
    "# Define database and collection\n",
    "db = client.EcoParameters_db\n",
    "\n",
    "db.StockPrice_Finance.drop()\n",
    "collection = db.StockPrice_Finance"
   ]
  },
  {
   "cell_type": "code",
   "execution_count": null,
   "metadata": {},
   "outputs": [],
   "source": [
    "tickers = list(df[\"Symbol\"])\n",
    "\n",
    "for ticker in tickers:\n",
    "    \n",
    "    data = yf.download(ticker, start=start_date, end=end_date)\n",
    "    try:\n",
    "        data = data.resample('QS').mean()\n",
    "        data.reset_index(inplace=True)\n",
    "        data[\"Ticker\"] = ticker\n",
    "        data = data[[\"Ticker\",\"Date\",\"Close\",\"Volume\"]]\n",
    "        list_dict_prices_stock = []\n",
    "        for item, row in data.iterrows():\n",
    "            dict_row ={\n",
    "                \"Ticker\" : row[\"Ticker\"],\n",
    "                \"Date\" : row[\"Date\"].strftime('%Y-%m-%d'),\n",
    "                \"Close\" : row[\"Close\"],\n",
    "                \"Volume\" : row[\"Volume\"]\n",
    "                }\n",
    "            list_dict_prices_stock.append(dict_row)\n",
    "        db.StockPrice_Finance.insert_many(list_dict_prices_stock)\n",
    "    except Exception as e:\n",
    "        print(e)"
   ]
  },
  {
   "cell_type": "code",
   "execution_count": null,
   "metadata": {},
   "outputs": [],
   "source": []
  },
  {
   "cell_type": "markdown",
   "metadata": {},
   "source": [
    "# Health Care Companies Stock Data"
   ]
  },
  {
   "cell_type": "code",
   "execution_count": null,
   "metadata": {},
   "outputs": [],
   "source": [
    "# Extracted from https://www.nasdaq.com/screening/company-list.aspx\n",
    "file_path = \"Resources/companylist.csv\"\n",
    "df = pd.read_csv(file_path)\n",
    "df = df[[\"Symbol\",\"Name\",\"LastSale\",\"MarketCap\",\"IPOyear\",\"Sector\",\"industry\",\"Summary Quote\"]]\n",
    "\n",
    "df = df.loc[df[\"Sector\"]==\"Health Care\"]\n",
    "df = df.iloc[0:50,:]\n",
    "start_date = \"2004-05-03\"\n",
    "end_date = \"2019-05-03\"\n",
    "\n",
    "df.head()"
   ]
  },
  {
   "cell_type": "code",
   "execution_count": null,
   "metadata": {},
   "outputs": [],
   "source": [
    "# Initialize PyMongo to work with MongoDBs\n",
    "conn = 'mongodb://localhost:27017'\n",
    "client = pymongo.MongoClient(conn)"
   ]
  },
  {
   "cell_type": "code",
   "execution_count": null,
   "metadata": {},
   "outputs": [],
   "source": [
    "# Define database and collection\n",
    "db = client.EcoParameters_db\n",
    "\n",
    "db.StockPrice_Healthcare.drop()\n",
    "\n",
    "collection = db.StockPrice_Healthcare"
   ]
  },
  {
   "cell_type": "code",
   "execution_count": null,
   "metadata": {},
   "outputs": [],
   "source": [
    "tickers = list(df[\"Symbol\"])\n",
    "\n",
    "\n",
    "\n",
    "for ticker in tickers:\n",
    "    data = yf.download(ticker, start=start_date, end=end_date)\n",
    "   \n",
    "    try:\n",
    "        data = data.resample('QS').mean()\n",
    "        data.reset_index(inplace=True)\n",
    "        data[\"Ticker\"] = ticker\n",
    "        data = data[[\"Ticker\",\"Date\",\"Close\",\"Volume\"]]\n",
    "        list_dict_prices_stock = []\n",
    "        for item, row in data.iterrows():\n",
    "            dict_row ={\n",
    "                \"Ticker\" : row[\"Ticker\"],\n",
    "                \"Date\" : row[\"Date\"].strftime('%Y-%m-%d'),\n",
    "                \"Close\" : row[\"Close\"],\n",
    "                \"Volume\" : row[\"Volume\"]\n",
    "                }\n",
    "            list_dict_prices_stock.append(dict_row)\n",
    "        db.StockPrice_Healthcare.insert_many(list_dict_prices_stock)\n",
    "    except Exception as e:\n",
    "        print(e)"
   ]
  },
  {
   "cell_type": "code",
   "execution_count": null,
   "metadata": {},
   "outputs": [],
   "source": []
  },
  {
   "cell_type": "markdown",
   "metadata": {},
   "source": [
    "# Technology Companies Stock Data"
   ]
  },
  {
   "cell_type": "code",
   "execution_count": null,
   "metadata": {},
   "outputs": [],
   "source": [
    "# Extracted from https://www.nasdaq.com/screening/company-list.aspx\n",
    "file_path = \"Resources/companylist.csv\"\n",
    "df = pd.read_csv(file_path)\n",
    "df = df[[\"Symbol\",\"Name\",\"LastSale\",\"MarketCap\",\"IPOyear\",\"Sector\",\"industry\",\"Summary Quote\"]]\n",
    "\n",
    "df = df.loc[df[\"Sector\"]==\"Technology\"]\n",
    "df = df.iloc[0:50,:]\n",
    "start_date = \"2004-05-03\"\n",
    "end_date = \"2019-05-03\"\n",
    "\n",
    "df.head()"
   ]
  },
  {
   "cell_type": "code",
   "execution_count": null,
   "metadata": {},
   "outputs": [],
   "source": [
    "# Initialize PyMongo to work with MongoDBs\n",
    "conn = 'mongodb://localhost:27017'\n",
    "client = pymongo.MongoClient(conn)"
   ]
  },
  {
   "cell_type": "code",
   "execution_count": null,
   "metadata": {},
   "outputs": [],
   "source": [
    "# Define database and collection\n",
    "db = client.EcoParameters_db\n",
    "\n",
    "db.StockPrice_Technology.drop()\n",
    "\n",
    "collection = db.StockPrice_Technology"
   ]
  },
  {
   "cell_type": "code",
   "execution_count": null,
   "metadata": {},
   "outputs": [],
   "source": [
    "tickers = list(df[\"Symbol\"])\n",
    "\n",
    "\n",
    "for ticker in tickers:\n",
    "    data = yf.download(ticker, start=start_date, end=end_date)\n",
    "   \n",
    "    try:\n",
    "        data = data.resample('QS').mean()\n",
    "        data.reset_index(inplace=True)\n",
    "        data[\"Ticker\"] = ticker\n",
    "        data = data[[\"Ticker\",\"Date\",\"Close\",\"Volume\"]]\n",
    "        list_dict_prices_stock = []\n",
    "        for item, row in data.iterrows():\n",
    "            dict_row ={\n",
    "                \"Ticker\" : row[\"Ticker\"],\n",
    "                \"Date\" : row[\"Date\"].strftime('%Y-%m-%d'),\n",
    "                \"Close\" : row[\"Close\"],\n",
    "                \"Volume\" : row[\"Volume\"]\n",
    "                }\n",
    "            list_dict_prices_stock.append(dict_row)\n",
    "        db.StockPrice_Technology.insert_many(list_dict_prices_stock)\n",
    "    except Exception as e:\n",
    "        print(e)"
   ]
  },
  {
   "cell_type": "code",
   "execution_count": null,
   "metadata": {},
   "outputs": [],
   "source": []
  },
  {
   "cell_type": "markdown",
   "metadata": {},
   "source": [
    "# Energy Companies Stock Data"
   ]
  },
  {
   "cell_type": "code",
   "execution_count": null,
   "metadata": {},
   "outputs": [],
   "source": [
    "# Extracted from https://www.nasdaq.com/screening/company-list.aspx\n",
    "file_path = \"Resources/companylist.csv\"\n",
    "df = pd.read_csv(file_path)\n",
    "df = df[[\"Symbol\",\"Name\",\"LastSale\",\"MarketCap\",\"IPOyear\",\"Sector\",\"industry\",\"Summary Quote\"]]\n",
    "\n",
    "df = df.loc[df[\"Sector\"]==\"Energy\"]\n",
    "df = df.iloc[0:50,:]\n",
    "start_date = \"2015-01-01\"\n",
    "end_date = \"2019-05-03\"\n",
    "\n",
    "df.head()"
   ]
  },
  {
   "cell_type": "code",
   "execution_count": null,
   "metadata": {},
   "outputs": [],
   "source": [
    "# Initialize PyMongo to work with MongoDBs\n",
    "conn = 'mongodb://localhost:27017'\n",
    "client = pymongo.MongoClient(conn)"
   ]
  },
  {
   "cell_type": "code",
   "execution_count": null,
   "metadata": {},
   "outputs": [],
   "source": [
    "# Define database and collection\n",
    "db = client.EcoParameters_db\n",
    "\n",
    "db.StockPrice_Energy.drop()\n",
    "collection = db.StockPrice_Energy"
   ]
  },
  {
   "cell_type": "code",
   "execution_count": null,
   "metadata": {},
   "outputs": [],
   "source": [
    "tickers = list(df[\"Symbol\"])\n",
    "\n",
    "for ticker in tickers:\n",
    "   \n",
    "    data = yf.download(ticker, start=start_date, end=end_date)\n",
    "\n",
    "    try:\n",
    "        data = data.resample('QS').mean()\n",
    "        data.reset_index(inplace=True)\n",
    "        data[\"Ticker\"] = ticker\n",
    "        data = data[[\"Ticker\",\"Date\",\"Close\",\"Volume\"]]\n",
    "        list_dict_prices_stock = []\n",
    "        for item, row in data.iterrows():\n",
    "            dict_row ={\n",
    "                \"Ticker\" : row[\"Ticker\"],\n",
    "                \"Date\" : row[\"Date\"].strftime('%Y-%m-%d'),\n",
    "                \"Close\" : row[\"Close\"],\n",
    "                \"Volume\" : row[\"Volume\"]\n",
    "                }\n",
    "            list_dict_prices_stock.append(dict_row)\n",
    "        db.StockPrice_Energy.insert_many(list_dict_prices_stock)\n",
    "    except Exception as e:\n",
    "        print(e)"
   ]
  },
  {
   "cell_type": "code",
   "execution_count": null,
   "metadata": {},
   "outputs": [],
   "source": []
  },
  {
   "cell_type": "markdown",
   "metadata": {},
   "source": [
    "# CPI Data"
   ]
  },
  {
   "cell_type": "code",
   "execution_count": null,
   "metadata": {},
   "outputs": [],
   "source": []
  },
  {
   "cell_type": "markdown",
   "metadata": {},
   "source": [
    "# GDP Data"
   ]
  },
  {
   "cell_type": "code",
   "execution_count": null,
   "metadata": {},
   "outputs": [],
   "source": []
  },
  {
   "cell_type": "markdown",
   "metadata": {},
   "source": [
    "# Unemployment Data"
   ]
  }
 ],
 "metadata": {
  "kernelspec": {
   "display_name": "Python 3",
   "language": "python",
   "name": "python3"
  },
  "language_info": {
   "codemirror_mode": {
    "name": "ipython",
    "version": 3
   },
   "file_extension": ".py",
   "mimetype": "text/x-python",
   "name": "python",
   "nbconvert_exporter": "python",
   "pygments_lexer": "ipython3",
   "version": "3.7.1"
  }
 },
 "nbformat": 4,
 "nbformat_minor": 2
}
