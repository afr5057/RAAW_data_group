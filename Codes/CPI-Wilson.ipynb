{
 "cells": [
  {
   "cell_type": "code",
   "execution_count": 1,
   "metadata": {},
   "outputs": [],
   "source": [
    "import fix_yahoo_finance as yf\n",
    "import pandas as pd\n",
    "import requests\n",
    "import pymongo\n",
    "import datetime"
   ]
  },
  {
   "cell_type": "code",
   "execution_count": 9,
   "metadata": {},
   "outputs": [],
   "source": [
    "# Initialize PyMongo to work with MongoDBs\n",
    "conn = 'mongodb://localhost:27017'\n",
    "client = pymongo.MongoClient(conn)"
   ]
  },
  {
   "cell_type": "code",
   "execution_count": 10,
   "metadata": {},
   "outputs": [],
   "source": [
    "# Define database and collection\n",
    "db = client.EcoParameters_db\n",
    "\n",
    "#db.StockPrice.drop()\n",
    "#collection = db.StockPrice\n",
    "\n",
    "db.CPI.drop()\n",
    "collection = db.CPI"
   ]
  },
  {
   "cell_type": "code",
   "execution_count": 2,
   "metadata": {},
   "outputs": [
    {
     "data": {
      "text/html": [
       "<div>\n",
       "<style scoped>\n",
       "    .dataframe tbody tr th:only-of-type {\n",
       "        vertical-align: middle;\n",
       "    }\n",
       "\n",
       "    .dataframe tbody tr th {\n",
       "        vertical-align: top;\n",
       "    }\n",
       "\n",
       "    .dataframe thead th {\n",
       "        text-align: right;\n",
       "    }\n",
       "</style>\n",
       "<table border=\"1\" class=\"dataframe\">\n",
       "  <thead>\n",
       "    <tr style=\"text-align: right;\">\n",
       "      <th></th>\n",
       "      <th>DATE</th>\n",
       "      <th>CPALTT01USM661S</th>\n",
       "    </tr>\n",
       "  </thead>\n",
       "  <tbody>\n",
       "    <tr>\n",
       "      <th>0</th>\n",
       "      <td>1960-01-01</td>\n",
       "      <td>12.391516</td>\n",
       "    </tr>\n",
       "    <tr>\n",
       "      <th>1</th>\n",
       "      <td>1960-02-01</td>\n",
       "      <td>12.408393</td>\n",
       "    </tr>\n",
       "    <tr>\n",
       "      <th>2</th>\n",
       "      <td>1960-03-01</td>\n",
       "      <td>12.408393</td>\n",
       "    </tr>\n",
       "    <tr>\n",
       "      <th>3</th>\n",
       "      <td>1960-04-01</td>\n",
       "      <td>12.463241</td>\n",
       "    </tr>\n",
       "    <tr>\n",
       "      <th>4</th>\n",
       "      <td>1960-05-01</td>\n",
       "      <td>12.475898</td>\n",
       "    </tr>\n",
       "  </tbody>\n",
       "</table>\n",
       "</div>"
      ],
      "text/plain": [
       "         DATE  CPALTT01USM661S\n",
       "0  1960-01-01        12.391516\n",
       "1  1960-02-01        12.408393\n",
       "2  1960-03-01        12.408393\n",
       "3  1960-04-01        12.463241\n",
       "4  1960-05-01        12.475898"
      ]
     },
     "execution_count": 2,
     "metadata": {},
     "output_type": "execute_result"
    }
   ],
   "source": [
    "file_path = \"Resources/CPI-Monthly.csv\"\n",
    "df = pd.read_csv(file_path)\n",
    "df.head()"
   ]
  },
  {
   "cell_type": "code",
   "execution_count": 3,
   "metadata": {},
   "outputs": [
    {
     "name": "stdout",
     "output_type": "stream",
     "text": [
      "<class 'pandas.core.frame.DataFrame'>\n",
      "RangeIndex: 710 entries, 0 to 709\n",
      "Data columns (total 2 columns):\n",
      "DATE               710 non-null object\n",
      "CPALTT01USM661S    710 non-null float64\n",
      "dtypes: float64(1), object(1)\n",
      "memory usage: 11.2+ KB\n"
     ]
    }
   ],
   "source": [
    "df.info()"
   ]
  },
  {
   "cell_type": "code",
   "execution_count": 4,
   "metadata": {},
   "outputs": [
    {
     "data": {
      "text/html": [
       "<div>\n",
       "<style scoped>\n",
       "    .dataframe tbody tr th:only-of-type {\n",
       "        vertical-align: middle;\n",
       "    }\n",
       "\n",
       "    .dataframe tbody tr th {\n",
       "        vertical-align: top;\n",
       "    }\n",
       "\n",
       "    .dataframe thead th {\n",
       "        text-align: right;\n",
       "    }\n",
       "</style>\n",
       "<table border=\"1\" class=\"dataframe\">\n",
       "  <thead>\n",
       "    <tr style=\"text-align: right;\">\n",
       "      <th></th>\n",
       "      <th>CPALTT01USM661S</th>\n",
       "    </tr>\n",
       "    <tr>\n",
       "      <th>DATE</th>\n",
       "      <th></th>\n",
       "    </tr>\n",
       "  </thead>\n",
       "  <tbody>\n",
       "    <tr>\n",
       "      <th>1960-01-01</th>\n",
       "      <td>12.391516</td>\n",
       "    </tr>\n",
       "    <tr>\n",
       "      <th>1960-02-01</th>\n",
       "      <td>12.408393</td>\n",
       "    </tr>\n",
       "    <tr>\n",
       "      <th>1960-03-01</th>\n",
       "      <td>12.408393</td>\n",
       "    </tr>\n",
       "    <tr>\n",
       "      <th>1960-04-01</th>\n",
       "      <td>12.463241</td>\n",
       "    </tr>\n",
       "    <tr>\n",
       "      <th>1960-05-01</th>\n",
       "      <td>12.475898</td>\n",
       "    </tr>\n",
       "  </tbody>\n",
       "</table>\n",
       "</div>"
      ],
      "text/plain": [
       "            CPALTT01USM661S\n",
       "DATE                       \n",
       "1960-01-01        12.391516\n",
       "1960-02-01        12.408393\n",
       "1960-03-01        12.408393\n",
       "1960-04-01        12.463241\n",
       "1960-05-01        12.475898"
      ]
     },
     "execution_count": 4,
     "metadata": {},
     "output_type": "execute_result"
    }
   ],
   "source": [
    "df['DATE'] = pd.to_datetime(df['DATE'])\n",
    "df.set_index(\"DATE\", inplace = True) \n",
    "df.head()"
   ]
  },
  {
   "cell_type": "code",
   "execution_count": 5,
   "metadata": {},
   "outputs": [
    {
     "name": "stdout",
     "output_type": "stream",
     "text": [
      "<class 'pandas.core.frame.DataFrame'>\n",
      "DatetimeIndex: 710 entries, 1960-01-01 to 2019-02-01\n",
      "Data columns (total 1 columns):\n",
      "CPALTT01USM661S    710 non-null float64\n",
      "dtypes: float64(1)\n",
      "memory usage: 11.1 KB\n"
     ]
    }
   ],
   "source": [
    "df.info()"
   ]
  },
  {
   "cell_type": "code",
   "execution_count": 6,
   "metadata": {},
   "outputs": [
    {
     "data": {
      "text/html": [
       "<div>\n",
       "<style scoped>\n",
       "    .dataframe tbody tr th:only-of-type {\n",
       "        vertical-align: middle;\n",
       "    }\n",
       "\n",
       "    .dataframe tbody tr th {\n",
       "        vertical-align: top;\n",
       "    }\n",
       "\n",
       "    .dataframe thead th {\n",
       "        text-align: right;\n",
       "    }\n",
       "</style>\n",
       "<table border=\"1\" class=\"dataframe\">\n",
       "  <thead>\n",
       "    <tr style=\"text-align: right;\">\n",
       "      <th></th>\n",
       "      <th>CPALTT01USM661S</th>\n",
       "    </tr>\n",
       "    <tr>\n",
       "      <th>DATE</th>\n",
       "      <th></th>\n",
       "    </tr>\n",
       "  </thead>\n",
       "  <tbody>\n",
       "    <tr>\n",
       "      <th>1960-01-01</th>\n",
       "      <td>12.402767</td>\n",
       "    </tr>\n",
       "    <tr>\n",
       "      <th>1960-04-01</th>\n",
       "      <td>12.477305</td>\n",
       "    </tr>\n",
       "    <tr>\n",
       "      <th>1960-07-01</th>\n",
       "      <td>12.484337</td>\n",
       "    </tr>\n",
       "    <tr>\n",
       "      <th>1960-10-01</th>\n",
       "      <td>12.564500</td>\n",
       "    </tr>\n",
       "    <tr>\n",
       "      <th>1961-01-01</th>\n",
       "      <td>12.589814</td>\n",
       "    </tr>\n",
       "  </tbody>\n",
       "</table>\n",
       "</div>"
      ],
      "text/plain": [
       "            CPALTT01USM661S\n",
       "DATE                       \n",
       "1960-01-01        12.402767\n",
       "1960-04-01        12.477305\n",
       "1960-07-01        12.484337\n",
       "1960-10-01        12.564500\n",
       "1961-01-01        12.589814"
      ]
     },
     "execution_count": 6,
     "metadata": {},
     "output_type": "execute_result"
    }
   ],
   "source": [
    "df= df.resample('QS').mean()\n",
    "df.head()"
   ]
  },
  {
   "cell_type": "code",
   "execution_count": 7,
   "metadata": {},
   "outputs": [
    {
     "data": {
      "text/html": [
       "<div>\n",
       "<style scoped>\n",
       "    .dataframe tbody tr th:only-of-type {\n",
       "        vertical-align: middle;\n",
       "    }\n",
       "\n",
       "    .dataframe tbody tr th {\n",
       "        vertical-align: top;\n",
       "    }\n",
       "\n",
       "    .dataframe thead th {\n",
       "        text-align: right;\n",
       "    }\n",
       "</style>\n",
       "<table border=\"1\" class=\"dataframe\">\n",
       "  <thead>\n",
       "    <tr style=\"text-align: right;\">\n",
       "      <th></th>\n",
       "      <th>DATE</th>\n",
       "      <th>CPALTT01USM661S</th>\n",
       "    </tr>\n",
       "  </thead>\n",
       "  <tbody>\n",
       "    <tr>\n",
       "      <th>0</th>\n",
       "      <td>1960-01-01</td>\n",
       "      <td>12.402767</td>\n",
       "    </tr>\n",
       "    <tr>\n",
       "      <th>1</th>\n",
       "      <td>1960-04-01</td>\n",
       "      <td>12.477305</td>\n",
       "    </tr>\n",
       "    <tr>\n",
       "      <th>2</th>\n",
       "      <td>1960-07-01</td>\n",
       "      <td>12.484337</td>\n",
       "    </tr>\n",
       "    <tr>\n",
       "      <th>3</th>\n",
       "      <td>1960-10-01</td>\n",
       "      <td>12.564500</td>\n",
       "    </tr>\n",
       "    <tr>\n",
       "      <th>4</th>\n",
       "      <td>1961-01-01</td>\n",
       "      <td>12.589814</td>\n",
       "    </tr>\n",
       "  </tbody>\n",
       "</table>\n",
       "</div>"
      ],
      "text/plain": [
       "        DATE  CPALTT01USM661S\n",
       "0 1960-01-01        12.402767\n",
       "1 1960-04-01        12.477305\n",
       "2 1960-07-01        12.484337\n",
       "3 1960-10-01        12.564500\n",
       "4 1961-01-01        12.589814"
      ]
     },
     "execution_count": 7,
     "metadata": {},
     "output_type": "execute_result"
    }
   ],
   "source": [
    "df.reset_index(inplace=True)\n",
    "df.head()"
   ]
  },
  {
   "cell_type": "code",
   "execution_count": 8,
   "metadata": {},
   "outputs": [
    {
     "data": {
      "text/html": [
       "<div>\n",
       "<style scoped>\n",
       "    .dataframe tbody tr th:only-of-type {\n",
       "        vertical-align: middle;\n",
       "    }\n",
       "\n",
       "    .dataframe tbody tr th {\n",
       "        vertical-align: top;\n",
       "    }\n",
       "\n",
       "    .dataframe thead th {\n",
       "        text-align: right;\n",
       "    }\n",
       "</style>\n",
       "<table border=\"1\" class=\"dataframe\">\n",
       "  <thead>\n",
       "    <tr style=\"text-align: right;\">\n",
       "      <th></th>\n",
       "      <th>Date</th>\n",
       "      <th>CPI</th>\n",
       "    </tr>\n",
       "  </thead>\n",
       "  <tbody>\n",
       "    <tr>\n",
       "      <th>0</th>\n",
       "      <td>1960-01-01</td>\n",
       "      <td>12.402767</td>\n",
       "    </tr>\n",
       "    <tr>\n",
       "      <th>1</th>\n",
       "      <td>1960-04-01</td>\n",
       "      <td>12.477305</td>\n",
       "    </tr>\n",
       "    <tr>\n",
       "      <th>2</th>\n",
       "      <td>1960-07-01</td>\n",
       "      <td>12.484337</td>\n",
       "    </tr>\n",
       "    <tr>\n",
       "      <th>3</th>\n",
       "      <td>1960-10-01</td>\n",
       "      <td>12.564500</td>\n",
       "    </tr>\n",
       "    <tr>\n",
       "      <th>4</th>\n",
       "      <td>1961-01-01</td>\n",
       "      <td>12.589814</td>\n",
       "    </tr>\n",
       "  </tbody>\n",
       "</table>\n",
       "</div>"
      ],
      "text/plain": [
       "        Date        CPI\n",
       "0 1960-01-01  12.402767\n",
       "1 1960-04-01  12.477305\n",
       "2 1960-07-01  12.484337\n",
       "3 1960-10-01  12.564500\n",
       "4 1961-01-01  12.589814"
      ]
     },
     "execution_count": 8,
     "metadata": {},
     "output_type": "execute_result"
    }
   ],
   "source": [
    "df = df.rename(columns={'DATE': 'Date', 'CPALTT01USM661S': 'CPI'})\n",
    "df.head()"
   ]
  },
  {
   "cell_type": "code",
   "execution_count": 11,
   "metadata": {},
   "outputs": [
    {
     "data": {
      "text/plain": [
       "<pymongo.results.InsertManyResult at 0x1972e12c448>"
      ]
     },
     "execution_count": 11,
     "metadata": {},
     "output_type": "execute_result"
    }
   ],
   "source": [
    "list_dict_CPI = []\n",
    "for item, row in df.iterrows():\n",
    "    dict_row ={        \n",
    "        \"Date\" : row[\"Date\"].strftime('%Y-%m-%d'),\n",
    "        \"CPI\" : row[\"CPI\"]        \n",
    "                }\n",
    "    list_dict_CPI.append(dict_row)\n",
    "db.CPI.insert_many(list_dict_CPI)"
   ]
  },
  {
   "cell_type": "code",
   "execution_count": 13,
   "metadata": {},
   "outputs": [
    {
     "name": "stdout",
     "output_type": "stream",
     "text": [
      "[{'_id': ObjectId('5ccdddbecb55cf235092bd8d'), 'Date': '1960-01-01', 'CPI': 12.402767171412435}, {'_id': ObjectId('5ccdddbecb55cf235092bd8e'), 'Date': '1960-04-01', 'CPI': 12.477304722164797}, {'_id': ObjectId('5ccdddbecb55cf235092bd8f'), 'Date': '1960-07-01', 'CPI': 12.484336566575399}, {'_id': ObjectId('5ccdddbecb55cf235092bd90'), 'Date': '1960-10-01', 'CPI': 12.564499592856201}, {'_id': ObjectId('5ccdddbecb55cf235092bd91'), 'Date': '1961-01-01', 'CPI': 12.589814232734403}, {'_id': ObjectId('5ccdddbecb55cf235092bd92'), 'Date': '1961-04-01', 'CPI': 12.585595126088032}, {'_id': ObjectId('5ccdddbecb55cf235092bd93'), 'Date': '1961-07-01', 'CPI': 12.634818036962168}, {'_id': ObjectId('5ccdddbecb55cf235092bd94'), 'Date': '1961-10-01', 'CPI': 12.653100832429766}, {'_id': ObjectId('5ccdddbecb55cf235092bd95'), 'Date': '1962-01-01', 'CPI': 12.7023237433039}, {'_id': ObjectId('5ccdddbecb55cf235092bd96'), 'Date': '1962-04-01', 'CPI': 12.750140285295965}, {'_id': ObjectId('5ccdddbecb55cf235092bd97'), 'Date': '1962-07-01', 'CPI': 12.786705876231101}, {'_id': ObjectId('5ccdddbecb55cf235092bd98'), 'Date': '1962-10-01', 'CPI': 12.817645991637699}, {'_id': ObjectId('5ccdddbecb55cf235092bd99'), 'Date': '1963-01-01', 'CPI': 12.8584306892192}, {'_id': ObjectId('5ccdddbecb55cf235092bd9a'), 'Date': '1963-04-01', 'CPI': 12.882338960215234}, {'_id': ObjectId('5ccdddbecb55cf235092bd9b'), 'Date': '1963-07-01', 'CPI': 12.9610956176139}, {'_id': ObjectId('5ccdddbecb55cf235092bd9c'), 'Date': '1963-10-01', 'CPI': 12.996254839666932}, {'_id': ObjectId('5ccdddbecb55cf235092bd9d'), 'Date': '1964-01-01', 'CPI': 13.049696857187435}, {'_id': ObjectId('5ccdddbecb55cf235092bd9e'), 'Date': '1964-04-01', 'CPI': 13.070792390419266}, {'_id': ObjectId('5ccdddbecb55cf235092bd9f'), 'Date': '1964-07-01', 'CPI': 13.10032613694377}, {'_id': ObjectId('5ccdddbecb55cf235092bda0'), 'Date': '1964-10-01', 'CPI': 13.160799998874902}, {'_id': ObjectId('5ccdddbecb55cf235092bda1'), 'Date': '1965-01-01', 'CPI': 13.201584696456365}, {'_id': ObjectId('5ccdddbecb55cf235092bda2'), 'Date': '1965-04-01', 'CPI': 13.285966829383533}, {'_id': ObjectId('5ccdddbecb55cf235092bda3'), 'Date': '1965-07-01', 'CPI': 13.325345158082902}, {'_id': ObjectId('5ccdddbecb55cf235092bda4'), 'Date': '1965-10-01', 'CPI': 13.395663602188899}, {'_id': ObjectId('5ccdddbecb55cf235092bda5'), 'Date': '1966-01-01', 'CPI': 13.5208304326975}, {'_id': ObjectId('5ccdddbecb55cf235092bda6'), 'Date': '1966-04-01', 'CPI': 13.643184525441933}, {'_id': ObjectId('5ccdddbecb55cf235092bda7'), 'Date': '1966-07-01', 'CPI': 13.761319511539966}, {'_id': ObjectId('5ccdddbecb55cf235092bda8'), 'Date': '1966-10-01', 'CPI': 13.873829022109499}, {'_id': ObjectId('5ccdddbecb55cf235092bda9'), 'Date': '1967-01-01', 'CPI': 13.908988244162499}, {'_id': ObjectId('5ccdddbecb55cf235092bdaa'), 'Date': '1967-04-01', 'CPI': 13.993370377089699}, {'_id': ObjectId('5ccdddbecb55cf235092bdab'), 'Date': '1967-07-01', 'CPI': 14.134007265301634}, {'_id': ObjectId('5ccdddbecb55cf235092bdac'), 'Date': '1967-10-01', 'CPI': 14.2887078423348}, {'_id': ObjectId('5ccdddbecb55cf235092bdad'), 'Date': '1968-01-01', 'CPI': 14.429344730546767}, {'_id': ObjectId('5ccdddbecb55cf235092bdae'), 'Date': '1968-04-01', 'CPI': 14.569981618758698}, {'_id': ObjectId('5ccdddbecb55cf235092bdaf'), 'Date': '1968-07-01', 'CPI': 14.766873262255436}, {'_id': ObjectId('5ccdddbecb55cf235092bdb0'), 'Date': '1968-10-01', 'CPI': 14.949701216930999}, {'_id': ObjectId('5ccdddbecb55cf235092bdb1'), 'Date': '1969-01-01', 'CPI': 15.132529171606533}, {'_id': ObjectId('5ccdddbecb55cf235092bdb2'), 'Date': '1969-04-01', 'CPI': 15.371611881566865}, {'_id': ObjectId('5ccdddbecb55cf235092bdb3'), 'Date': '1969-07-01', 'CPI': 15.5825672138848}, {'_id': ObjectId('5ccdddbecb55cf235092bdb4'), 'Date': '1969-10-01', 'CPI': 15.821649923845134}, {'_id': ObjectId('5ccdddbecb55cf235092bdb5'), 'Date': '1970-01-01', 'CPI': 16.074796322626636}, {'_id': ObjectId('5ccdddbecb55cf235092bdb6'), 'Date': '1970-04-01', 'CPI': 16.299815343765797}, {'_id': ObjectId('5ccdddbecb55cf235092bdb7'), 'Date': '1970-07-01', 'CPI': 16.468579609620097}, {'_id': ObjectId('5ccdddbecb55cf235092bdb8'), 'Date': '1970-10-01', 'CPI': 16.707662319580432}, {'_id': ObjectId('5ccdddbecb55cf235092bdb9'), 'Date': '1971-01-01', 'CPI': 16.848299207792405}, {'_id': ObjectId('5ccdddbecb55cf235092bdba'), 'Date': '1971-04-01', 'CPI': 17.00299978482557}, {'_id': ObjectId('5ccdddbecb55cf235092bdbb'), 'Date': '1971-07-01', 'CPI': 17.1717640506799}, {'_id': ObjectId('5ccdddbecb55cf235092bdbc'), 'Date': '1971-10-01', 'CPI': 17.298337250070702}, {'_id': ObjectId('5ccdddbecb55cf235092bdbd'), 'Date': '1972-01-01', 'CPI': 17.4389741382826}, {'_id': ObjectId('5ccdddbecb55cf235092bdbe'), 'Date': '1972-04-01', 'CPI': 17.551483648852198}, {'_id': ObjectId('5ccdddbecb55cf235092bdbf'), 'Date': '1972-07-01', 'CPI': 17.692120537064167}, {'_id': ObjectId('5ccdddbecb55cf235092bdc0'), 'Date': '1972-10-01', 'CPI': 17.874948491739698}, {'_id': ObjectId('5ccdddbecb55cf235092bdc1'), 'Date': '1973-01-01', 'CPI': 18.1562222681636}, {'_id': ObjectId('5ccdddbecb55cf235092bdc2'), 'Date': '1973-04-01', 'CPI': 18.535941866335865}, {'_id': ObjectId('5ccdddbecb55cf235092bdc3'), 'Date': '1973-07-01', 'CPI': 18.901597775686934}, {'_id': ObjectId('5ccdddbecb55cf235092bdc4'), 'Date': '1973-10-01', 'CPI': 19.379763195607634}, {'_id': ObjectId('5ccdddbecb55cf235092bdc5'), 'Date': '1974-01-01', 'CPI': 19.956374437276633}, {'_id': ObjectId('5ccdddbecb55cf235092bdc6'), 'Date': '1974-04-01', 'CPI': 20.490794612482066}, {'_id': ObjectId('5ccdddbecb55cf235092bdc7'), 'Date': '1974-07-01', 'CPI': 21.067405854151097}, {'_id': ObjectId('5ccdddbecb55cf235092bdc8'), 'Date': '1974-10-01', 'CPI': 21.7143355399261}, {'_id': ObjectId('5ccdddbecb55cf235092bdc9'), 'Date': '1975-01-01', 'CPI': 22.17843727102557}, {'_id': ObjectId('5ccdddbecb55cf235092bdca'), 'Date': '1975-04-01', 'CPI': 22.445647358628264}, {'_id': ObjectId('5ccdddbecb55cf235092bdcb'), 'Date': '1975-07-01', 'CPI': 22.89568540090657}, {'_id': ObjectId('5ccdddbecb55cf235092bdcc'), 'Date': '1975-10-01', 'CPI': 23.317596065542432}, {'_id': ObjectId('5ccdddbecb55cf235092bdcd'), 'Date': '1976-01-01', 'CPI': 23.5848061531451}, {'_id': ObjectId('5ccdddbecb55cf235092bdce'), 'Date': '1976-04-01', 'CPI': 23.79576148546307}, {'_id': ObjectId('5ccdddbecb55cf235092bdcf'), 'Date': '1976-07-01', 'CPI': 24.175481083635333}, {'_id': ObjectId('5ccdddbecb55cf235092bdd0'), 'Date': '1976-10-01', 'CPI': 24.52707330416523}, {'_id': ObjectId('5ccdddbecb55cf235092bdd1'), 'Date': '1977-01-01', 'CPI': 24.977111346443497}, {'_id': ObjectId('5ccdddbecb55cf235092bdd2'), 'Date': '1977-04-01', 'CPI': 25.413085699900563}, {'_id': ObjectId('5ccdddbecb55cf235092bdd3'), 'Date': '1977-07-01', 'CPI': 25.76467792043047}, {'_id': ObjectId('5ccdddbecb55cf235092bdd4'), 'Date': '1977-10-01', 'CPI': 26.144397518602734}, {'_id': ObjectId('5ccdddbecb55cf235092bdd5'), 'Date': '1978-01-01', 'CPI': 26.594435560881}, {'_id': ObjectId('5ccdddbecb55cf235092bdd6'), 'Date': '1978-04-01', 'CPI': 27.1991741801924}, {'_id': ObjectId('5ccdddbecb55cf235092bdd7'), 'Date': '1978-07-01', 'CPI': 27.8320401771462}, {'_id': ObjectId('5ccdddbecb55cf235092bdd8'), 'Date': '1978-10-01', 'CPI': 28.478969862921232}, {'_id': ObjectId('5ccdddbecb55cf235092bdd9'), 'Date': '1979-01-01', 'CPI': 29.1962179928022}, {'_id': ObjectId('5ccdddbecb55cf235092bdda'), 'Date': '1979-04-01', 'CPI': 30.124421455001098}, {'_id': ObjectId('5ccdddbecb55cf235092bddb'), 'Date': '1979-07-01', 'CPI': 31.094815983663597}, {'_id': ObjectId('5ccdddbecb55cf235092bddc'), 'Date': '1979-10-01', 'CPI': 32.0792742011473}, {'_id': ObjectId('5ccdddbecb55cf235092bddd'), 'Date': '1980-01-01', 'CPI': 33.345006195054935}, {'_id': ObjectId('5ccdddbecb55cf235092bdde'), 'Date': '1980-04-01', 'CPI': 34.4701013007506}, {'_id': ObjectId('5ccdddbecb55cf235092bddf'), 'Date': '1980-07-01', 'CPI': 35.1170309865256}, {'_id': ObjectId('5ccdddbecb55cf235092bde0'), 'Date': '1980-10-01', 'CPI': 36.101489204009305}, {'_id': ObjectId('5ccdddbecb55cf235092bde1'), 'Date': '1981-01-01', 'CPI': 37.1000111103142}, {'_id': ObjectId('5ccdddbecb55cf235092bde2'), 'Date': '1981-04-01', 'CPI': 37.873513995479904}, {'_id': ObjectId('5ccdddbecb55cf235092bde3'), 'Date': '1981-07-01', 'CPI': 38.9282906570696}, {'_id': ObjectId('5ccdddbecb55cf235092bde4'), 'Date': '1981-10-01', 'CPI': 39.5611566540234}, {'_id': ObjectId('5ccdddbecb55cf235092bde5'), 'Date': '1982-01-01', 'CPI': 39.9127488745533}, {'_id': ObjectId('5ccdddbecb55cf235092bde6'), 'Date': '1982-04-01', 'CPI': 40.489360116222294}, {'_id': ObjectId('5ccdddbecb55cf235092bde7'), 'Date': '1982-07-01', 'CPI': 41.192544557282105}, {'_id': ObjectId('5ccdddbecb55cf235092bde8'), 'Date': '1982-10-01', 'CPI': 41.31911775667283}, {'_id': ObjectId('5ccdddbecb55cf235092bde9'), 'Date': '1983-01-01', 'CPI': 41.34724513431524}, {'_id': ObjectId('5ccdddbecb55cf235092bdea'), 'Date': '1983-04-01', 'CPI': 41.82541055423593}, {'_id': ObjectId('5ccdddbecb55cf235092bdeb'), 'Date': '1983-07-01', 'CPI': 42.233257530050565}, {'_id': ObjectId('5ccdddbecb55cf235092bdec'), 'Date': '1983-10-01', 'CPI': 42.65516819468643}, {'_id': ObjectId('5ccdddbecb55cf235092bded'), 'Date': '1984-01-01', 'CPI': 43.25990681399787}, {'_id': ObjectId('5ccdddbecb55cf235092bdee'), 'Date': '1984-04-01', 'CPI': 43.66775378981254}, {'_id': ObjectId('5ccdddbecb55cf235092bdef'), 'Date': '1984-07-01', 'CPI': 44.04747338798484}, {'_id': ObjectId('5ccdddbecb55cf235092bdf0'), 'Date': '1984-10-01', 'CPI': 44.4271929861571}, {'_id': ObjectId('5ccdddbecb55cf235092bdf1'), 'Date': '1985-01-01', 'CPI': 44.835039961971766}, {'_id': ObjectId('5ccdddbecb55cf235092bdf2'), 'Date': '1985-04-01', 'CPI': 45.242886937786466}, {'_id': ObjectId('5ccdddbecb55cf235092bdf3'), 'Date': '1985-07-01', 'CPI': 45.52416071421036}, {'_id': ObjectId('5ccdddbecb55cf235092bdf4'), 'Date': '1985-10-01', 'CPI': 45.98826244530983}, {'_id': ObjectId('5ccdddbecb55cf235092bdf5'), 'Date': '1986-01-01', 'CPI': 46.227345155270136}, {'_id': ObjectId('5ccdddbecb55cf235092bdf6'), 'Date': '1986-04-01', 'CPI': 46.00232613413104}, {'_id': ObjectId('5ccdddbecb55cf235092bdf7'), 'Date': '1986-07-01', 'CPI': 46.28359991055493}, {'_id': ObjectId('5ccdddbecb55cf235092bdf8'), 'Date': '1986-10-01', 'CPI': 46.60706475344244}, {'_id': ObjectId('5ccdddbecb55cf235092bdf9'), 'Date': '1987-01-01', 'CPI': 47.16961230629027}, {'_id': ObjectId('5ccdddbecb55cf235092bdfa'), 'Date': '1987-04-01', 'CPI': 47.704032481495666}, {'_id': ObjectId('5ccdddbecb55cf235092bdfb'), 'Date': '1987-07-01', 'CPI': 48.210325279058736}, {'_id': ObjectId('5ccdddbecb55cf235092bdfc'), 'Date': '1987-10-01', 'CPI': 48.660363321337}, {'_id': ObjectId('5ccdddbecb55cf235092bdfd'), 'Date': '1988-01-01', 'CPI': 49.04008291950927}, {'_id': ObjectId('5ccdddbecb55cf235092bdfe'), 'Date': '1988-04-01', 'CPI': 49.602630472357106}, {'_id': ObjectId('5ccdddbecb55cf235092bdff'), 'Date': '1988-07-01', 'CPI': 50.20736909166853}, {'_id': ObjectId('5ccdddbecb55cf235092be00'), 'Date': '1988-10-01', 'CPI': 50.75585295569516}, {'_id': ObjectId('5ccdddbecb55cf235092be01'), 'Date': '1989-01-01', 'CPI': 51.33246419736415}, {'_id': ObjectId('5ccdddbecb55cf235092be02'), 'Date': '1989-04-01', 'CPI': 52.16222183781474}, {'_id': ObjectId('5ccdddbecb55cf235092be03'), 'Date': '1989-07-01', 'CPI': 52.570068813629405}, {'_id': ObjectId('5ccdddbecb55cf235092be04'), 'Date': '1989-10-01', 'CPI': 53.10448898883484}, {'_id': ObjectId('5ccdddbecb55cf235092be05'), 'Date': '1990-01-01', 'CPI': 54.018628762212565}, {'_id': ObjectId('5ccdddbecb55cf235092be06'), 'Date': '1990-04-01', 'CPI': 54.55304893741797}, {'_id': ObjectId('5ccdddbecb55cf235092be07'), 'Date': '1990-07-01', 'CPI': 55.4953160884381}, {'_id': ObjectId('5ccdddbecb55cf235092be08'), 'Date': '1990-10-01', 'CPI': 56.43758323945817}, {'_id': ObjectId('5ccdddbecb55cf235092be09'), 'Date': '1991-01-01', 'CPI': 56.8594939040941}, {'_id': ObjectId('5ccdddbecb55cf235092be0a'), 'Date': '1991-04-01', 'CPI': 57.19702243580277}, {'_id': ObjectId('5ccdddbecb55cf235092be0b'), 'Date': '1991-07-01', 'CPI': 57.632996789259835}, {'_id': ObjectId('5ccdddbecb55cf235092be0c'), 'Date': '1991-10-01', 'CPI': 58.1111622091805}, {'_id': ObjectId('5ccdddbecb55cf235092be0d'), 'Date': '1992-01-01', 'CPI': 58.50494549617397}, {'_id': ObjectId('5ccdddbecb55cf235092be0e'), 'Date': '1992-04-01', 'CPI': 58.95498353845223}, {'_id': ObjectId('5ccdddbecb55cf235092be0f'), 'Date': '1992-07-01', 'CPI': 59.40502158073047}, {'_id': ObjectId('5ccdddbecb55cf235092be10'), 'Date': '1992-10-01', 'CPI': 59.925378067114735}, {'_id': ObjectId('5ccdddbecb55cf235092be11'), 'Date': '1993-01-01', 'CPI': 60.3613524205718}, {'_id': ObjectId('5ccdddbecb55cf235092be12'), 'Date': '1993-04-01', 'CPI': 60.797326774028825}, {'_id': ObjectId('5ccdddbecb55cf235092be13'), 'Date': '1993-07-01', 'CPI': 61.07860055045276}, {'_id': ObjectId('5ccdddbecb55cf235092be14'), 'Date': '1993-10-01', 'CPI': 61.58489334801583}, {'_id': ObjectId('5ccdddbecb55cf235092be15'), 'Date': '1994-01-01', 'CPI': 61.894294502082126}, {'_id': ObjectId('5ccdddbecb55cf235092be16'), 'Date': '1994-04-01', 'CPI': 62.245886722612}, {'_id': ObjectId('5ccdddbecb55cf235092be17'), 'Date': '1994-07-01', 'CPI': 62.822497964281034}, {'_id': ObjectId('5ccdddbecb55cf235092be18'), 'Date': '1994-10-01', 'CPI': 63.18815387363213}, {'_id': ObjectId('5ccdddbecb55cf235092be19'), 'Date': '1995-01-01', 'CPI': 63.65225560473156}, {'_id': ObjectId('5ccdddbecb55cf235092be1a'), 'Date': '1995-04-01', 'CPI': 64.17261209111582}, {'_id': ObjectId('5ccdddbecb55cf235092be1b'), 'Date': '1995-07-01', 'CPI': 64.49607693400331}, {'_id': ObjectId('5ccdddbecb55cf235092be1c'), 'Date': '1995-10-01', 'CPI': 64.84766915453321}, {'_id': ObjectId('5ccdddbecb55cf235092be1d'), 'Date': '1996-01-01', 'CPI': 65.42428039620224}, {'_id': ObjectId('5ccdddbecb55cf235092be1e'), 'Date': '1996-04-01', 'CPI': 65.98682794905007}, {'_id': ObjectId('5ccdddbecb55cf235092be1f'), 'Date': '1996-07-01', 'CPI': 66.36654754722237}, {'_id': ObjectId('5ccdddbecb55cf235092be20'), 'Date': '1996-10-01', 'CPI': 66.94315878889137}, {'_id': ObjectId('5ccdddbecb55cf235092be21'), 'Date': '1997-01-01', 'CPI': 67.35100576470599}, {'_id': ObjectId('5ccdddbecb55cf235092be22'), 'Date': '1997-04-01', 'CPI': 67.5057063417392}, {'_id': ObjectId('5ccdddbecb55cf235092be23'), 'Date': '1997-07-01', 'CPI': 67.84323487344786}, {'_id': ObjectId('5ccdddbecb55cf235092be24'), 'Date': '1997-10-01', 'CPI': 68.208890782799}, {'_id': ObjectId('5ccdddbecb55cf235092be25'), 'Date': '1998-01-01', 'CPI': 68.34952767101089}, {'_id': ObjectId('5ccdddbecb55cf235092be26'), 'Date': '1998-04-01', 'CPI': 68.57454669215004}, {'_id': ObjectId('5ccdddbecb55cf235092be27'), 'Date': '1998-07-01', 'CPI': 68.92613891267996}, {'_id': ObjectId('5ccdddbecb55cf235092be28'), 'Date': '1998-10-01', 'CPI': 69.24960375556743}, {'_id': ObjectId('5ccdddbecb55cf235092be29'), 'Date': '1999-01-01', 'CPI': 69.502750154349}, {'_id': ObjectId('5ccdddbecb55cf235092be2a'), 'Date': '1999-04-01', 'CPI': 70.0231066407332}, {'_id': ObjectId('5ccdddbecb55cf235092be2b'), 'Date': '1999-07-01', 'CPI': 70.54346312711748}, {'_id': ObjectId('5ccdddbecb55cf235092be2c'), 'Date': '1999-10-01', 'CPI': 71.06381961350168}, {'_id': ObjectId('5ccdddbecb55cf235092be2d'), 'Date': '2000-01-01', 'CPI': 71.7670040545615}, {'_id': ObjectId('5ccdddbecb55cf235092be2e'), 'Date': '2000-04-01', 'CPI': 72.3295516074093}, {'_id': ObjectId('5ccdddbecb55cf235092be2f'), 'Date': '2000-07-01', 'CPI': 72.99054498200546}, {'_id': ObjectId('5ccdddbecb55cf235092be30'), 'Date': '2000-10-01', 'CPI': 73.51090146838976}, {'_id': ObjectId('5ccdddbecb55cf235092be31'), 'Date': '2001-01-01', 'CPI': 74.21408590944954}, {'_id': ObjectId('5ccdddbecb55cf235092be32'), 'Date': '2001-04-01', 'CPI': 74.73444239583377}, {'_id': ObjectId('5ccdddbecb55cf235092be33'), 'Date': '2001-07-01', 'CPI': 74.94539772815166}, {'_id': ObjectId('5ccdddbecb55cf235092be34'), 'Date': '2001-10-01', 'CPI': 74.8891429728669}, {'_id': ObjectId('5ccdddbecb55cf235092be35'), 'Date': '2002-01-01', 'CPI': 75.12822568282722}, {'_id': ObjectId('5ccdddbecb55cf235092be36'), 'Date': '2002-04-01', 'CPI': 75.71890061331743}, {'_id': ObjectId('5ccdddbecb55cf235092be37'), 'Date': '2002-07-01', 'CPI': 76.12674758913212}, {'_id': ObjectId('5ccdddbecb55cf235092be38'), 'Date': '2002-10-01', 'CPI': 76.5767856314104}, {'_id': ObjectId('5ccdddbecb55cf235092be39'), 'Date': '2003-01-01', 'CPI': 77.36435220539732}, {'_id': ObjectId('5ccdddbecb55cf235092be3a'), 'Date': '2003-04-01', 'CPI': 77.23777900600659}, {'_id': ObjectId('5ccdddbecb55cf235092be3b'), 'Date': '2003-07-01', 'CPI': 77.8143902476756}, {'_id': ObjectId('5ccdddbecb55cf235092be3c'), 'Date': '2003-10-01', 'CPI': 78.10972771292074}, {'_id': ObjectId('5ccdddbecb55cf235092be3d'), 'Date': '2004-01-01', 'CPI': 78.77072108751695}, {'_id': ObjectId('5ccdddbecb55cf235092be3e'), 'Date': '2004-04-01', 'CPI': 79.3895233956495}, {'_id': ObjectId('5ccdddbecb55cf235092be3f'), 'Date': '2004-07-01', 'CPI': 79.89581619321257}, {'_id': ObjectId('5ccdddbecb55cf235092be40'), 'Date': '2004-10-01', 'CPI': 80.75370121130554}, {'_id': ObjectId('5ccdddbecb55cf235092be41'), 'Date': '2005-01-01', 'CPI': 81.1615481871202}, {'_id': ObjectId('5ccdddbecb55cf235092be42'), 'Date': '2005-04-01', 'CPI': 81.71003205114681}, {'_id': ObjectId('5ccdddbecb55cf235092be43'), 'Date': '2005-07-01', 'CPI': 82.94763666741206}, {'_id': ObjectId('5ccdddbecb55cf235092be44'), 'Date': '2005-10-01', 'CPI': 83.72113955257777}, {'_id': ObjectId('5ccdddbecb55cf235092be45'), 'Date': '2006-01-01', 'CPI': 84.15711390603487}, {'_id': ObjectId('5ccdddbecb55cf235092be46'), 'Date': '2006-04-01', 'CPI': 84.91655310237942}, {'_id': ObjectId('5ccdddbecb55cf235092be47'), 'Date': '2006-07-01', 'CPI': 85.71818336518758}, {'_id': ObjectId('5ccdddbecb55cf235092be48'), 'Date': '2006-10-01', 'CPI': 85.36659114465768}, {'_id': ObjectId('5ccdddbecb55cf235092be49'), 'Date': '2007-01-01', 'CPI': 86.20352126640704}, {'_id': ObjectId('5ccdddbecb55cf235092be4a'), 'Date': '2007-04-01', 'CPI': 87.17982254437447}, {'_id': ObjectId('5ccdddbecb55cf235092be4b'), 'Date': '2007-07-01', 'CPI': 87.73168169371816}, {'_id': ObjectId('5ccdddbecb55cf235092be4c'), 'Date': '2007-10-01', 'CPI': 88.80783516231604}, {'_id': ObjectId('5ccdddbecb55cf235092be4d'), 'Date': '2008-01-01', 'CPI': 89.76979147768587}, {'_id': ObjectId('5ccdddbecb55cf235092be4e'), 'Date': '2008-04-01', 'CPI': 90.93764019739793}, {'_id': ObjectId('5ccdddbecb55cf235092be4f'), 'Date': '2008-07-01', 'CPI': 92.33978997287113}, {'_id': ObjectId('5ccdddbecb55cf235092be50'), 'Date': '2008-10-01', 'CPI': 90.22503308482793}, {'_id': ObjectId('5ccdddbecb55cf235092be51'), 'Date': '2009-01-01', 'CPI': 89.60440249714856}, {'_id': ObjectId('5ccdddbecb55cf235092be52'), 'Date': '2009-04-01', 'CPI': 90.08088027441072}, {'_id': ObjectId('5ccdddbecb55cf235092be53'), 'Date': '2009-07-01', 'CPI': 90.85593016534676}, {'_id': ObjectId('5ccdddbecb55cf235092be54'), 'Date': '2009-10-01', 'CPI': 91.56727154592288}, {'_id': ObjectId('5ccdddbecb55cf235092be55'), 'Date': '2010-01-01', 'CPI': 91.7124088145576}, {'_id': ObjectId('5ccdddbecb55cf235092be56'), 'Date': '2010-04-01', 'CPI': 91.68006233026883}, {'_id': ObjectId('5ccdddbecb55cf235092be57'), 'Date': '2010-07-01', 'CPI': 91.94881942364191}, {'_id': ObjectId('5ccdddbecb55cf235092be58'), 'Date': '2010-10-01', 'CPI': 92.693351109836}, {'_id': ObjectId('5ccdddbecb55cf235092be59'), 'Date': '2011-01-01', 'CPI': 93.6825909815189}, {'_id': ObjectId('5ccdddbecb55cf235092be5a'), 'Date': '2011-04-01', 'CPI': 94.74777477283628}, {'_id': ObjectId('5ccdddbecb55cf235092be5b'), 'Date': '2011-07-01', 'CPI': 95.36559262275136}, {'_id': ObjectId('5ccdddbecb55cf235092be5c'), 'Date': '2011-10-01', 'CPI': 95.79369131046856}, {'_id': ObjectId('5ccdddbecb55cf235092be5d'), 'Date': '2012-01-01', 'CPI': 96.33317441364966}, {'_id': ObjectId('5ccdddbecb55cf235092be5e'), 'Date': '2012-04-01', 'CPI': 96.5365353540041}, {'_id': ObjectId('5ccdddbecb55cf235092be5f'), 'Date': '2012-07-01', 'CPI': 96.972369070573}, {'_id': ObjectId('5ccdddbecb55cf235092be60'), 'Date': '2012-10-01', 'CPI': 97.6171892030248}, {'_id': ObjectId('5ccdddbecb55cf235092be61'), 'Date': '2013-01-01', 'CPI': 98.00956612113613}, {'_id': ObjectId('5ccdddbecb55cf235092be62'), 'Date': '2013-04-01', 'CPI': 97.90226017543044}, {'_id': ObjectId('5ccdddbecb55cf235092be63'), 'Date': '2013-07-01', 'CPI': 98.43175805954843}, {'_id': ObjectId('5ccdddbecb55cf235092be64'), 'Date': '2013-10-01', 'CPI': 98.79572632624104}, {'_id': ObjectId('5ccdddbecb55cf235092be65'), 'Date': '2014-01-01', 'CPI': 99.4110127121683}, {'_id': ObjectId('5ccdddbecb55cf235092be66'), 'Date': '2014-04-01', 'CPI': 99.93896359051597}, {'_id': ObjectId('5ccdddbecb55cf235092be67'), 'Date': '2014-07-01', 'CPI': 100.19464145328533}, {'_id': ObjectId('5ccdddbecb55cf235092be68'), 'Date': '2014-10-01', 'CPI': 99.94571416115032}, {'_id': ObjectId('5ccdddbecb55cf235092be69'), 'Date': '2015-01-01', 'CPI': 99.28387696522469}, {'_id': ObjectId('5ccdddbecb55cf235092be6a'), 'Date': '2015-04-01', 'CPI': 99.96666905749369}, {'_id': ObjectId('5ccdddbecb55cf235092be6b'), 'Date': '2015-07-01', 'CPI': 100.35665514850568}, {'_id': ObjectId('5ccdddbecb55cf235092be6c'), 'Date': '2015-10-01', 'CPI': 100.36045234448733}, {'_id': ObjectId('5ccdddbecb55cf235092be6d'), 'Date': '2016-01-01', 'CPI': 100.321917837117}, {'_id': ObjectId('5ccdddbecb55cf235092be6e'), 'Date': '2016-04-01', 'CPI': 101.041697430986}, {'_id': ObjectId('5ccdddbecb55cf235092be6f'), 'Date': '2016-07-01', 'CPI': 101.512127822055}, {'_id': ObjectId('5ccdddbecb55cf235092be70'), 'Date': '2016-10-01', 'CPI': 102.17157419088066}, {'_id': ObjectId('5ccdddbecb55cf235092be71'), 'Date': '2017-01-01', 'CPI': 102.87447735816399}, {'_id': ObjectId('5ccdddbecb55cf235092be72'), 'Date': '2017-04-01', 'CPI': 102.97362636435366}, {'_id': ObjectId('5ccdddbecb55cf235092be73'), 'Date': '2017-07-01', 'CPI': 103.52351659726234}, {'_id': ObjectId('5ccdddbecb55cf235092be74'), 'Date': '2017-10-01', 'CPI': 104.32725641339367}, {'_id': ObjectId('5ccdddbecb55cf235092be75'), 'Date': '2018-01-01', 'CPI': 105.16137379737866}, {'_id': ObjectId('5ccdddbecb55cf235092be76'), 'Date': '2018-04-01', 'CPI': 105.72181179690334}, {'_id': ObjectId('5ccdddbecb55cf235092be77'), 'Date': '2018-07-01', 'CPI': 106.24920012769833}, {'_id': ObjectId('5ccdddbecb55cf235092be78'), 'Date': '2018-10-01', 'CPI': 106.64171768269766}, {'_id': ObjectId('5ccdddbecb55cf235092be79'), 'Date': '2019-01-01', 'CPI': 106.698253711759}]\n"
     ]
    }
   ],
   "source": [
    "list_CPI = list(db.CPI.find())\n",
    "print(list_CPI)"
   ]
  },
  {
   "cell_type": "code",
   "execution_count": null,
   "metadata": {},
   "outputs": [],
   "source": []
  }
 ],
 "metadata": {
  "kernelspec": {
   "display_name": "Python 3",
   "language": "python",
   "name": "python3"
  },
  "language_info": {
   "codemirror_mode": {
    "name": "ipython",
    "version": 3
   },
   "file_extension": ".py",
   "mimetype": "text/x-python",
   "name": "python",
   "nbconvert_exporter": "python",
   "pygments_lexer": "ipython3",
   "version": "3.7.3"
  }
 },
 "nbformat": 4,
 "nbformat_minor": 2
}
