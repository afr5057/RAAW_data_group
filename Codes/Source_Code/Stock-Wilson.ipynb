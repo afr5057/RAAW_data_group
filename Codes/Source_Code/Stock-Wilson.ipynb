{
 "cells": [
  {
   "cell_type": "code",
   "execution_count": 1,
   "metadata": {},
   "outputs": [],
   "source": [
    "import fix_yahoo_finance as yf\n",
    "import pandas as pd\n",
    "import requests\n",
    "import pymongo\n",
    "import datetime"
   ]
  },
  {
   "cell_type": "code",
   "execution_count": 2,
   "metadata": {},
   "outputs": [
    {
     "data": {
      "text/html": [
       "<div>\n",
       "<style scoped>\n",
       "    .dataframe tbody tr th:only-of-type {\n",
       "        vertical-align: middle;\n",
       "    }\n",
       "\n",
       "    .dataframe tbody tr th {\n",
       "        vertical-align: top;\n",
       "    }\n",
       "\n",
       "    .dataframe thead th {\n",
       "        text-align: right;\n",
       "    }\n",
       "</style>\n",
       "<table border=\"1\" class=\"dataframe\">\n",
       "  <thead>\n",
       "    <tr style=\"text-align: right;\">\n",
       "      <th></th>\n",
       "      <th>Symbol</th>\n",
       "      <th>Name</th>\n",
       "      <th>LastSale</th>\n",
       "      <th>MarketCap</th>\n",
       "      <th>IPOyear</th>\n",
       "      <th>Sector</th>\n",
       "      <th>industry</th>\n",
       "      <th>Summary Quote</th>\n",
       "    </tr>\n",
       "  </thead>\n",
       "  <tbody>\n",
       "    <tr>\n",
       "      <th>20</th>\n",
       "      <td>ABM</td>\n",
       "      <td>ABM Industries Incorporated</td>\n",
       "      <td>38.360</td>\n",
       "      <td>$2.54B</td>\n",
       "      <td>NaN</td>\n",
       "      <td>Finance</td>\n",
       "      <td>Diversified Commercial Services</td>\n",
       "      <td>https://www.nasdaq.com/symbol/abm</td>\n",
       "    </tr>\n",
       "    <tr>\n",
       "      <th>40</th>\n",
       "      <td>AEB</td>\n",
       "      <td>Aegon NV</td>\n",
       "      <td>22.800</td>\n",
       "      <td>NaN</td>\n",
       "      <td>NaN</td>\n",
       "      <td>Finance</td>\n",
       "      <td>Life Insurance</td>\n",
       "      <td>https://www.nasdaq.com/symbol/aeb</td>\n",
       "    </tr>\n",
       "    <tr>\n",
       "      <th>41</th>\n",
       "      <td>AED</td>\n",
       "      <td>Aegon NV</td>\n",
       "      <td>25.550</td>\n",
       "      <td>NaN</td>\n",
       "      <td>NaN</td>\n",
       "      <td>Finance</td>\n",
       "      <td>Life Insurance</td>\n",
       "      <td>https://www.nasdaq.com/symbol/aed</td>\n",
       "    </tr>\n",
       "    <tr>\n",
       "      <th>42</th>\n",
       "      <td>AEG</td>\n",
       "      <td>Aegon NV</td>\n",
       "      <td>5.230</td>\n",
       "      <td>$10.71B</td>\n",
       "      <td>NaN</td>\n",
       "      <td>Finance</td>\n",
       "      <td>Life Insurance</td>\n",
       "      <td>https://www.nasdaq.com/symbol/aeg</td>\n",
       "    </tr>\n",
       "    <tr>\n",
       "      <th>43</th>\n",
       "      <td>AEH</td>\n",
       "      <td>Aegon NV</td>\n",
       "      <td>25.767</td>\n",
       "      <td>NaN</td>\n",
       "      <td>NaN</td>\n",
       "      <td>Finance</td>\n",
       "      <td>Life Insurance</td>\n",
       "      <td>https://www.nasdaq.com/symbol/aeh</td>\n",
       "    </tr>\n",
       "  </tbody>\n",
       "</table>\n",
       "</div>"
      ],
      "text/plain": [
       "   Symbol                         Name  LastSale MarketCap  IPOyear   Sector  \\\n",
       "20    ABM  ABM Industries Incorporated    38.360    $2.54B      NaN  Finance   \n",
       "40    AEB                     Aegon NV    22.800       NaN      NaN  Finance   \n",
       "41    AED                     Aegon NV    25.550       NaN      NaN  Finance   \n",
       "42    AEG                     Aegon NV     5.230   $10.71B      NaN  Finance   \n",
       "43    AEH                     Aegon NV    25.767       NaN      NaN  Finance   \n",
       "\n",
       "                           industry                      Summary Quote  \n",
       "20  Diversified Commercial Services  https://www.nasdaq.com/symbol/abm  \n",
       "40                   Life Insurance  https://www.nasdaq.com/symbol/aeb  \n",
       "41                   Life Insurance  https://www.nasdaq.com/symbol/aed  \n",
       "42                   Life Insurance  https://www.nasdaq.com/symbol/aeg  \n",
       "43                   Life Insurance  https://www.nasdaq.com/symbol/aeh  "
      ]
     },
     "execution_count": 2,
     "metadata": {},
     "output_type": "execute_result"
    }
   ],
   "source": [
    "# Extracted from https://www.nasdaq.com/screening/company-list.aspx\n",
    "file_path = \"Resources/companylist.csv\"\n",
    "df = pd.read_csv(file_path)\n",
    "df = df[[\"Symbol\",\"Name\",\"LastSale\",\"MarketCap\",\"IPOyear\",\"Sector\",\"industry\",\"Summary Quote\"]]\n",
    "\n",
    "\n",
    "\n",
    "\n",
    "df = df.loc[df[\"Sector\"]==\"Finance\"]\n",
    "df = df.iloc[0:75,:]\n",
    "start_date = \"2004-05-03\"\n",
    "end_date = \"2019-05-03\"\n",
    "\n",
    "\n",
    "\n",
    "df.head()"
   ]
  },
  {
   "cell_type": "code",
   "execution_count": 3,
   "metadata": {},
   "outputs": [],
   "source": [
    "# Initialize PyMongo to work with MongoDBs\n",
    "conn = 'mongodb://localhost:27017'\n",
    "client = pymongo.MongoClient(conn)"
   ]
  },
  {
   "cell_type": "code",
   "execution_count": 4,
   "metadata": {},
   "outputs": [],
   "source": [
    "# Define database and collection\n",
    "db = client.EcoParameters_db\n",
    "\n",
    "#db.StockPrice.drop()\n",
    "#collection = db.StockPrice\n",
    "\n",
    "db.StockPrice_Finance.drop()\n",
    "collection = db.StockPrice_Finance\n",
    "\n",
    "\n",
    "\n",
    "#df.Date = pd.to_datetime(df.Date)\n",
    "#df.set_index('Date', inplace=True)\n",
    "#df.resample('QS').sum()\n"
   ]
  },
  {
   "cell_type": "code",
   "execution_count": 5,
   "metadata": {
    "scrolled": false
   },
   "outputs": [
    {
     "name": "stdout",
     "output_type": "stream",
     "text": [
      "[*********************100%***********************]  1 of 1 downloaded\n",
      "[*********************100%***********************]  1 of 1 downloaded\n",
      "[*********************100%***********************]  1 of 1 downloaded\n",
      "[*********************100%***********************]  1 of 1 downloaded\n",
      "[*********************100%***********************]  1 of 1 downloaded\n",
      "[*********************100%***********************]  1 of 1 downloaded\n",
      "[*********************100%***********************]  1 of 1 downloaded\n",
      "[*********************100%***********************]  1 of 1 downloaded\n",
      "[*********************100%***********************]  1 of 1 downloaded\n",
      "[*********************100%***********************]  1 of 1 downloaded\n",
      "[*********************100%***********************]  1 of 1 downloaded\n",
      "[*********************100%***********************]  1 of 1 downloaded\n",
      "[*********************100%***********************]  1 of 1 downloaded\n",
      "[*********************100%***********************]  1 of 1 downloaded\n",
      "[*********************100%***********************]  1 of 1 downloaded\n",
      "[*********************100%***********************]  1 of 1 downloaded\n",
      "[*********************100%***********************]  1 of 1 downloaded\n",
      "Only valid with DatetimeIndex, TimedeltaIndex or PeriodIndex, but got an instance of 'Index'\n"
     ]
    },
    {
     "name": "stderr",
     "output_type": "stream",
     "text": [
      "Exception in thread Thread-22:\n",
      "Traceback (most recent call last):\n",
      "  File \"C:\\Users\\Asterion\\Anaconda3\\lib\\site-packages\\fix_yahoo_finance\\__init__.py\", line 250, in history\n",
      "    quotes = self._parse_quotes(data[\"chart\"][\"result\"][0])\n",
      "  File \"C:\\Users\\Asterion\\Anaconda3\\lib\\site-packages\\fix_yahoo_finance\\__init__.py\", line 109, in _parse_quotes\n",
      "    timestamps = data[\"timestamp\"]\n",
      "KeyError: 'timestamp'\n",
      "\n",
      "During handling of the above exception, another exception occurred:\n",
      "\n",
      "Traceback (most recent call last):\n",
      "  File \"C:\\Users\\Asterion\\Anaconda3\\lib\\threading.py\", line 917, in _bootstrap_inner\n",
      "    self.run()\n",
      "  File \"C:\\Users\\Asterion\\Anaconda3\\lib\\threading.py\", line 865, in run\n",
      "    self._target(*self._args, **self._kwargs)\n",
      "  File \"C:\\Users\\Asterion\\Anaconda3\\lib\\site-packages\\multitasking\\__init__.py\", line 102, in _run_via_pool\n",
      "    return callee(*args, **kwargs)\n",
      "  File \"C:\\Users\\Asterion\\Anaconda3\\lib\\site-packages\\fix_yahoo_finance\\__init__.py\", line 317, in _download_one_threaded\n",
      "    period, interval, prepost)\n",
      "  File \"C:\\Users\\Asterion\\Anaconda3\\lib\\site-packages\\fix_yahoo_finance\\__init__.py\", line 328, in _download_one\n",
      "    actions=actions, auto_adjust=auto_adjust)\n",
      "  File \"C:\\Users\\Asterion\\Anaconda3\\lib\\site-packages\\fix_yahoo_finance\\__init__.py\", line 253, in history\n",
      "    raise ValueError(self.ticker, err_msg)\n",
      "ValueError: ('AFGB', 'No data found for this date range, symbol may be delisted')\n",
      "\n"
     ]
    },
    {
     "name": "stdout",
     "output_type": "stream",
     "text": [
      "[*********************100%***********************]  1 of 1 downloaded\n",
      "[*********************100%***********************]  1 of 1 downloaded\n",
      "[*********************100%***********************]  1 of 1 downloaded\n",
      "[*********************100%***********************]  1 of 1 downloaded\n",
      "[*********************100%***********************]  1 of 1 downloaded\n",
      "[*********************100%***********************]  1 of 1 downloaded\n",
      "[*********************100%***********************]  1 of 1 downloaded\n",
      "[*********************100%***********************]  1 of 1 downloaded\n",
      "[*********************100%***********************]  1 of 1 downloaded\n",
      "[*********************100%***********************]  1 of 1 downloaded\n",
      "[*********************100%***********************]  1 of 1 downloaded\n",
      "[*********************100%***********************]  1 of 1 downloaded\n",
      "[*********************100%***********************]  1 of 1 downloaded\n",
      "[*********************100%***********************]  1 of 1 downloaded\n",
      "[*********************100%***********************]  1 of 1 downloaded\n",
      "[*********************100%***********************]  1 of 1 downloaded\n",
      "[*********************100%***********************]  1 of 1 downloaded\n",
      "[*********************100%***********************]  1 of 1 downloaded\n",
      "[*********************100%***********************]  1 of 1 downloaded\n",
      "[*********************100%***********************]  1 of 1 downloaded\n",
      "[*********************100%***********************]  1 of 1 downloaded\n",
      "[*********************100%***********************]  1 of 1 downloaded\n",
      "[*********************100%***********************]  1 of 1 downloaded\n",
      "[*********************100%***********************]  1 of 1 downloaded\n",
      "[*********************100%***********************]  1 of 1 downloaded\n",
      "[*********************100%***********************]  1 of 1 downloaded\n",
      "[*********************100%***********************]  1 of 1 downloaded\n",
      "[*********************100%***********************]  1 of 1 downloaded\n",
      "[*********************100%***********************]  1 of 1 downloaded\n",
      "[*********************100%***********************]  1 of 1 downloaded\n",
      "[*********************100%***********************]  1 of 1 downloaded\n",
      "[*********************100%***********************]  1 of 1 downloaded\n",
      "[*********************100%***********************]  1 of 1 downloaded\n",
      "[*********************100%***********************]  1 of 1 downloaded\n",
      "[*********************100%***********************]  1 of 1 downloaded\n",
      "[*********************100%***********************]  1 of 1 downloaded\n",
      "[*********************100%***********************]  1 of 1 downloaded"
     ]
    },
    {
     "name": "stderr",
     "output_type": "stream",
     "text": [
      "Exception in thread Thread-59:\n",
      "Traceback (most recent call last):\n",
      "  File \"C:\\Users\\Asterion\\Anaconda3\\lib\\threading.py\", line 917, in _bootstrap_inner\n",
      "    self.run()\n",
      "  File \"C:\\Users\\Asterion\\Anaconda3\\lib\\threading.py\", line 865, in run\n",
      "    self._target(*self._args, **self._kwargs)\n",
      "  File \"C:\\Users\\Asterion\\Anaconda3\\lib\\site-packages\\multitasking\\__init__.py\", line 102, in _run_via_pool\n",
      "    return callee(*args, **kwargs)\n",
      "  File \"C:\\Users\\Asterion\\Anaconda3\\lib\\site-packages\\fix_yahoo_finance\\__init__.py\", line 317, in _download_one_threaded\n",
      "    period, interval, prepost)\n",
      "  File \"C:\\Users\\Asterion\\Anaconda3\\lib\\site-packages\\fix_yahoo_finance\\__init__.py\", line 328, in _download_one\n",
      "    actions=actions, auto_adjust=auto_adjust)\n",
      "  File \"C:\\Users\\Asterion\\Anaconda3\\lib\\site-packages\\fix_yahoo_finance\\__init__.py\", line 241, in history\n",
      "    raise ValueError(self.ticker, err_msg)\n",
      "ValueError: ('BAC^W', 'No data found, symbol may be delisted')\n",
      "\n"
     ]
    },
    {
     "name": "stdout",
     "output_type": "stream",
     "text": [
      "\n",
      "Only valid with DatetimeIndex, TimedeltaIndex or PeriodIndex, but got an instance of 'Index'\n",
      "[*********************100%***********************]  1 of 1 downloaded\n",
      "Only valid with DatetimeIndex, TimedeltaIndex or PeriodIndex, but got an instance of 'Index'\n"
     ]
    },
    {
     "name": "stderr",
     "output_type": "stream",
     "text": [
      "Exception in thread Thread-60:\n",
      "Traceback (most recent call last):\n",
      "  File \"C:\\Users\\Asterion\\Anaconda3\\lib\\threading.py\", line 917, in _bootstrap_inner\n",
      "    self.run()\n",
      "  File \"C:\\Users\\Asterion\\Anaconda3\\lib\\threading.py\", line 865, in run\n",
      "    self._target(*self._args, **self._kwargs)\n",
      "  File \"C:\\Users\\Asterion\\Anaconda3\\lib\\site-packages\\multitasking\\__init__.py\", line 102, in _run_via_pool\n",
      "    return callee(*args, **kwargs)\n",
      "  File \"C:\\Users\\Asterion\\Anaconda3\\lib\\site-packages\\fix_yahoo_finance\\__init__.py\", line 317, in _download_one_threaded\n",
      "    period, interval, prepost)\n",
      "  File \"C:\\Users\\Asterion\\Anaconda3\\lib\\site-packages\\fix_yahoo_finance\\__init__.py\", line 328, in _download_one\n",
      "    actions=actions, auto_adjust=auto_adjust)\n",
      "  File \"C:\\Users\\Asterion\\Anaconda3\\lib\\site-packages\\fix_yahoo_finance\\__init__.py\", line 241, in history\n",
      "    raise ValueError(self.ticker, err_msg)\n",
      "ValueError: ('BAC^Y', 'No data found, symbol may be delisted')\n",
      "\n"
     ]
    },
    {
     "name": "stdout",
     "output_type": "stream",
     "text": [
      "[*********************100%***********************]  1 of 1 downloaded\n",
      "[*********************100%***********************]  1 of 1 downloaded\n",
      "[*********************100%***********************]  1 of 1 downloaded\n",
      "[*********************100%***********************]  1 of 1 downloaded\n",
      "[*********************100%***********************]  1 of 1 downloaded\n",
      "[*********************100%***********************]  1 of 1 downloaded\n",
      "[*********************100%***********************]  1 of 1 downloaded\n",
      "[*********************100%***********************]  1 of 1 downloaded\n",
      "[*********************100%***********************]  1 of 1 downloaded\n",
      "[*********************100%***********************]  1 of 1 downloaded\n",
      "[*********************100%***********************]  1 of 1 downloaded\n",
      "[*********************100%***********************]  1 of 1 downloaded\n",
      "[*********************100%***********************]  1 of 1 downloaded\n",
      "[*********************100%***********************]  1 of 1 downloaded\n",
      "[*********************100%***********************]  1 of 1 downloaded\n",
      "[*********************100%***********************]  1 of 1 downloaded\n",
      "[*********************100%***********************]  1 of 1 downloaded\n",
      "[*********************100%***********************]  1 of 1 downloaded\n",
      "[*********************100%***********************]  1 of 1 downloaded\n",
      "[*********************100%***********************]  1 of 1 downloaded\n"
     ]
    }
   ],
   "source": [
    "tickers = list(df[\"Symbol\"])\n",
    "\n",
    "\n",
    "\n",
    "for ticker in tickers:\n",
    "    #try:\n",
    "     #   data = yf.download(ticker, start=start_date, end=end_date)    \n",
    "     #   flag = True\n",
    "    #except Exception as e:\n",
    "    #    print(e)\n",
    "    #    flag = False\n",
    "    \n",
    "    data = yf.download(ticker, start=start_date, end=end_date)\n",
    "    try:\n",
    "        data = data.resample('QS').mean()\n",
    "        data.reset_index(inplace=True)\n",
    "        data[\"Ticker\"] = ticker\n",
    "        data = data[[\"Ticker\",\"Date\",\"Close\",\"Volume\"]]\n",
    "        list_dict_prices_stock = []\n",
    "        for item, row in data.iterrows():\n",
    "            dict_row ={\n",
    "                \"Ticker\" : row[\"Ticker\"],\n",
    "                \"Date\" : row[\"Date\"].strftime('%Y-%m-%d'),\n",
    "                \"Close\" : row[\"Close\"],\n",
    "                \"Volume\" : row[\"Volume\"]\n",
    "                }\n",
    "            list_dict_prices_stock.append(dict_row)\n",
    "        db.StockPrice_Finance.insert_many(list_dict_prices_stock)\n",
    "    except Exception as e:\n",
    "        print(e)\n",
    "        \n",
    "    \n",
    "    "
   ]
  },
  {
   "cell_type": "code",
   "execution_count": 6,
   "metadata": {},
   "outputs": [
    {
     "name": "stdout",
     "output_type": "stream",
     "text": [
      "[{'_id': ObjectId('5ccdd2ffcb55cf2478851b3c'), 'Ticker': 'ABM', 'Date': '2004-04-01', 'Close': 18.706585365853655, 'Volume': 161070.73170731709}, {'_id': ObjectId('5ccdd2ffcb55cf2478851b3d'), 'Ticker': 'ABM', 'Date': '2004-07-01', 'Close': 18.652343749999996, 'Volume': 113276.5625}, {'_id': ObjectId('5ccdd2ffcb55cf2478851b3e'), 'Ticker': 'ABM', 'Date': '2004-10-01', 'Close': 20.714687499999997, 'Volume': 138393.75}, {'_id': ObjectId('5ccdd2ffcb55cf2478851b3f'), 'Ticker': 'ABM', 'Date': '2005-01-01', 'Close': 18.685573770491803, 'Volume': 167681.96721311475}, {'_id': ObjectId('5ccdd2ffcb55cf2478851b40'), 'Ticker': 'ABM', 'Date': '2005-04-01', 'Close': 18.93765625, 'Volume': 132632.8125}, {'_id': ObjectId('5ccdd2ffcb55cf2478851b41'), 'Ticker': 'ABM', 'Date': '2005-07-01', 'Close': 19.90234375, 'Volume': 160882.8125}, {'_id': ObjectId('5ccdd2ffcb55cf2478851b42'), 'Ticker': 'ABM', 'Date': '2005-10-01', 'Close': 20.24968253968254, 'Volume': 154853.96825396825}, {'_id': ObjectId('5ccdd2ffcb55cf2478851b43'), 'Ticker': 'ABM', 'Date': '2006-01-01', 'Close': 18.76177419354838, 'Volume': 190893.5483870968}, {'_id': ObjectId('5ccdd2ffcb55cf2478851b44'), 'Ticker': 'ABM', 'Date': '2006-04-01', 'Close': 17.511428571428567, 'Volume': 232928.57142857142}, {'_id': ObjectId('5ccdd2ffcb55cf2478851b45'), 'Ticker': 'ABM', 'Date': '2006-07-01', 'Close': 17.502698412698415, 'Volume': 178812.6984126984}, {'_id': ObjectId('5ccdd2ffcb55cf2478851b46'), 'Ticker': 'ABM', 'Date': '2006-10-01', 'Close': 20.654761904761905, 'Volume': 183128.57142857142}, {'_id': ObjectId('5ccdd2ffcb55cf2478851b47'), 'Ticker': 'ABM', 'Date': '2007-01-01', 'Close': 25.75344262295083, 'Volume': 391977.04918032786}, {'_id': ObjectId('5ccdd2ffcb55cf2478851b48'), 'Ticker': 'ABM', 'Date': '2007-04-01', 'Close': 27.666190476190472, 'Volume': 309023.8095238095}, {'_id': ObjectId('5ccdd2ffcb55cf2478851b49'), 'Ticker': 'ABM', 'Date': '2007-07-01', 'Close': 22.870158730158725, 'Volume': 374704.7619047619}, {'_id': ObjectId('5ccdd2ffcb55cf2478851b4a'), 'Ticker': 'ABM', 'Date': '2007-10-01', 'Close': 21.463437499999984, 'Volume': 354721.875}, {'_id': ObjectId('5ccdd2ffcb55cf2478851b4b'), 'Ticker': 'ABM', 'Date': '2008-01-01', 'Close': 20.23196721311474, 'Volume': 325563.9344262295}, {'_id': ObjectId('5ccdd2ffcb55cf2478851b4c'), 'Ticker': 'ABM', 'Date': '2008-04-01', 'Close': 21.672656249999992, 'Volume': 258445.3125}, {'_id': ObjectId('5ccdd2ffcb55cf2478851b4d'), 'Ticker': 'ABM', 'Date': '2008-07-01', 'Close': 23.292656249999997, 'Volume': 327800.0}, {'_id': ObjectId('5ccdd2ffcb55cf2478851b4e'), 'Ticker': 'ABM', 'Date': '2008-10-01', 'Close': 16.365312499999998, 'Volume': 360168.75}, {'_id': ObjectId('5ccdd2ffcb55cf2478851b4f'), 'Ticker': 'ABM', 'Date': '2009-01-01', 'Close': 15.35901639344262, 'Volume': 451981.9672131148}, {'_id': ObjectId('5ccdd2ffcb55cf2478851b50'), 'Ticker': 'ABM', 'Date': '2009-04-01', 'Close': 17.21126984126984, 'Volume': 288469.84126984124}, {'_id': ObjectId('5ccdd2ffcb55cf2478851b51'), 'Ticker': 'ABM', 'Date': '2009-07-01', 'Close': 20.548437500000006, 'Volume': 182701.5625}, {'_id': ObjectId('5ccdd2ffcb55cf2478851b52'), 'Ticker': 'ABM', 'Date': '2009-10-01', 'Close': 19.75453125, 'Volume': 169865.625}, {'_id': ObjectId('5ccdd2ffcb55cf2478851b53'), 'Ticker': 'ABM', 'Date': '2010-01-01', 'Close': 20.22983606557377, 'Volume': 218793.44262295082}, {'_id': ObjectId('5ccdd2ffcb55cf2478851b54'), 'Ticker': 'ABM', 'Date': '2010-04-01', 'Close': 21.496825396825404, 'Volume': 282336.50793650793}, {'_id': ObjectId('5ccdd2ffcb55cf2478851b55'), 'Ticker': 'ABM', 'Date': '2010-07-01', 'Close': 21.073437499999994, 'Volume': 236579.6875}, {'_id': ObjectId('5ccdd2ffcb55cf2478851b56'), 'Ticker': 'ABM', 'Date': '2010-10-01', 'Close': 23.74249999999999, 'Volume': 352775.0}, {'_id': ObjectId('5ccdd2ffcb55cf2478851b57'), 'Ticker': 'ABM', 'Date': '2011-01-01', 'Close': 25.903548387096777, 'Volume': 219646.7741935484}, {'_id': ObjectId('5ccdd2ffcb55cf2478851b58'), 'Ticker': 'ABM', 'Date': '2011-04-01', 'Close': 23.561904761904763, 'Volume': 279673.01587301586}, {'_id': ObjectId('5ccdd2ffcb55cf2478851b59'), 'Ticker': 'ABM', 'Date': '2011-07-01', 'Close': 20.680312500000007, 'Volume': 345228.125}, {'_id': ObjectId('5ccdd2ffcb55cf2478851b5a'), 'Ticker': 'ABM', 'Date': '2011-10-01', 'Close': 20.33190476190476, 'Volume': 403576.1904761905}, {'_id': ObjectId('5ccdd2ffcb55cf2478851b5b'), 'Ticker': 'ABM', 'Date': '2012-01-01', 'Close': 22.488870967741935, 'Volume': 290514.51612903224}, {'_id': ObjectId('5ccdd2ffcb55cf2478851b5c'), 'Ticker': 'ABM', 'Date': '2012-04-01', 'Close': 21.99333333333333, 'Volume': 298622.22222222225}, {'_id': ObjectId('5ccdd2ffcb55cf2478851b5d'), 'Ticker': 'ABM', 'Date': '2012-07-01', 'Close': 19.159047619047627, 'Volume': 477761.90476190473}, {'_id': ObjectId('5ccdd2ffcb55cf2478851b5e'), 'Ticker': 'ABM', 'Date': '2012-10-01', 'Close': 19.123709677419352, 'Volume': 272254.8387096774}, {'_id': ObjectId('5ccdd2ffcb55cf2478851b5f'), 'Ticker': 'ABM', 'Date': '2013-01-01', 'Close': 21.818500000000004, 'Volume': 277636.6666666667}, {'_id': ObjectId('5ccdd2ffcb55cf2478851b60'), 'Ticker': 'ABM', 'Date': '2013-04-01', 'Close': 22.91187499999999, 'Volume': 241818.75}, {'_id': ObjectId('5ccdd2ffcb55cf2478851b61'), 'Ticker': 'ABM', 'Date': '2013-07-01', 'Close': 25.612187499999994, 'Volume': 165301.5625}, {'_id': ObjectId('5ccdd2ffcb55cf2478851b62'), 'Ticker': 'ABM', 'Date': '2013-10-01', 'Close': 27.64640624999999, 'Volume': 227123.4375}, {'_id': ObjectId('5ccdd2ffcb55cf2478851b63'), 'Ticker': 'ABM', 'Date': '2014-01-01', 'Close': 27.85590163934427, 'Volume': 216745.90163934426}, {'_id': ObjectId('5ccdd2ffcb55cf2478851b64'), 'Ticker': 'ABM', 'Date': '2014-04-01', 'Close': 27.11904761904762, 'Volume': 203663.49206349207}, {'_id': ObjectId('5ccdd2ffcb55cf2478851b65'), 'Ticker': 'ABM', 'Date': '2014-07-01', 'Close': 26.249218750000004, 'Volume': 205900.0}, {'_id': ObjectId('5ccdd2ffcb55cf2478851b66'), 'Ticker': 'ABM', 'Date': '2014-10-01', 'Close': 27.067031250000003, 'Volume': 205464.0625}, {'_id': ObjectId('5ccdd2ffcb55cf2478851b67'), 'Ticker': 'ABM', 'Date': '2015-01-01', 'Close': 30.13721311475409, 'Volume': 216085.24590163934}, {'_id': ObjectId('5ccdd2ffcb55cf2478851b68'), 'Ticker': 'ABM', 'Date': '2015-04-01', 'Close': 32.45571428571428, 'Volume': 254234.92063492062}, {'_id': ObjectId('5ccdd2ffcb55cf2478851b69'), 'Ticker': 'ABM', 'Date': '2015-07-01', 'Close': 31.599687500000012, 'Volume': 367721.875}, {'_id': ObjectId('5ccdd2ffcb55cf2478851b6a'), 'Ticker': 'ABM', 'Date': '2015-10-01', 'Close': 28.779531249999998, 'Volume': 307371.875}, {'_id': ObjectId('5ccdd2ffcb55cf2478851b6b'), 'Ticker': 'ABM', 'Date': '2016-01-01', 'Close': 30.157213114754096, 'Volume': 343626.2295081967}, {'_id': ObjectId('5ccdd2ffcb55cf2478851b6c'), 'Ticker': 'ABM', 'Date': '2016-04-01', 'Close': 33.71499999999999, 'Volume': 305756.25}, {'_id': ObjectId('5ccdd2ffcb55cf2478851b6d'), 'Ticker': 'ABM', 'Date': '2016-07-01', 'Close': 38.01921875, 'Volume': 215918.75}, {'_id': ObjectId('5ccdd2ffcb55cf2478851b6e'), 'Ticker': 'ABM', 'Date': '2016-10-01', 'Close': 40.67857142857144, 'Volume': 382146.0317460318}, {'_id': ObjectId('5ccdd2ffcb55cf2478851b6f'), 'Ticker': 'ABM', 'Date': '2017-01-01', 'Close': 41.331290322580635, 'Volume': 437027.4193548387}, {'_id': ObjectId('5ccdd2ffcb55cf2478851b70'), 'Ticker': 'ABM', 'Date': '2017-04-01', 'Close': 42.43904761904762, 'Volume': 296758.7301587302}, {'_id': ObjectId('5ccdd2ffcb55cf2478851b71'), 'Ticker': 'ABM', 'Date': '2017-07-01', 'Close': 42.602698412698416, 'Volume': 267168.25396825396}, {'_id': ObjectId('5ccdd2ffcb55cf2478851b72'), 'Ticker': 'ABM', 'Date': '2017-10-01', 'Close': 41.34380952380953, 'Volume': 386596.8253968254}, {'_id': ObjectId('5ccdd2ffcb55cf2478851b73'), 'Ticker': 'ABM', 'Date': '2018-01-01', 'Close': 36.59540983606558, 'Volume': 654232.7868852459}, {'_id': ObjectId('5ccdd2ffcb55cf2478851b74'), 'Ticker': 'ABM', 'Date': '2018-04-01', 'Close': 30.812656250000003, 'Volume': 836060.9375}, {'_id': ObjectId('5ccdd2ffcb55cf2478851b75'), 'Ticker': 'ABM', 'Date': '2018-07-01', 'Close': 31.645079365079376, 'Volume': 622015.873015873}, {'_id': ObjectId('5ccdd2ffcb55cf2478851b76'), 'Ticker': 'ABM', 'Date': '2018-10-01', 'Close': 30.6115873015873, 'Volume': 634263.4920634921}, {'_id': ObjectId('5ccdd2ffcb55cf2478851b77'), 'Ticker': 'ABM', 'Date': '2019-01-01', 'Close': 34.78032786885246, 'Volume': 615319.6721311476}, {'_id': ObjectId('5ccdd2ffcb55cf2478851b78'), 'Ticker': 'ABM', 'Date': '2019-04-01', 'Close': 37.28791666666667, 'Volume': 342812.5}]\n"
     ]
    }
   ],
   "source": [
    "list_price = list(db.StockPrice_Finance.find({\"Ticker\":\"ABM\"}))\n",
    "print(list_price)"
   ]
  },
  {
   "cell_type": "code",
   "execution_count": null,
   "metadata": {},
   "outputs": [],
   "source": []
  },
  {
   "cell_type": "code",
   "execution_count": 9,
   "metadata": {},
   "outputs": [
    {
     "data": {
      "text/html": [
       "<div>\n",
       "<style scoped>\n",
       "    .dataframe tbody tr th:only-of-type {\n",
       "        vertical-align: middle;\n",
       "    }\n",
       "\n",
       "    .dataframe tbody tr th {\n",
       "        vertical-align: top;\n",
       "    }\n",
       "\n",
       "    .dataframe thead th {\n",
       "        text-align: right;\n",
       "    }\n",
       "</style>\n",
       "<table border=\"1\" class=\"dataframe\">\n",
       "  <thead>\n",
       "    <tr style=\"text-align: right;\">\n",
       "      <th></th>\n",
       "      <th>DATE</th>\n",
       "      <th>CPALTT01USM661S</th>\n",
       "    </tr>\n",
       "  </thead>\n",
       "  <tbody>\n",
       "    <tr>\n",
       "      <th>0</th>\n",
       "      <td>1960-01-01</td>\n",
       "      <td>12.391516</td>\n",
       "    </tr>\n",
       "    <tr>\n",
       "      <th>1</th>\n",
       "      <td>1960-02-01</td>\n",
       "      <td>12.408393</td>\n",
       "    </tr>\n",
       "    <tr>\n",
       "      <th>2</th>\n",
       "      <td>1960-03-01</td>\n",
       "      <td>12.408393</td>\n",
       "    </tr>\n",
       "    <tr>\n",
       "      <th>3</th>\n",
       "      <td>1960-04-01</td>\n",
       "      <td>12.463241</td>\n",
       "    </tr>\n",
       "    <tr>\n",
       "      <th>4</th>\n",
       "      <td>1960-05-01</td>\n",
       "      <td>12.475898</td>\n",
       "    </tr>\n",
       "  </tbody>\n",
       "</table>\n",
       "</div>"
      ],
      "text/plain": [
       "         DATE  CPALTT01USM661S\n",
       "0  1960-01-01        12.391516\n",
       "1  1960-02-01        12.408393\n",
       "2  1960-03-01        12.408393\n",
       "3  1960-04-01        12.463241\n",
       "4  1960-05-01        12.475898"
      ]
     },
     "execution_count": 9,
     "metadata": {},
     "output_type": "execute_result"
    }
   ],
   "source": [
    "file_path = \"Resources/CPI-Monthly.csv\"\n",
    "df = pd.read_csv(file_path)\n",
    "df.head()"
   ]
  },
  {
   "cell_type": "code",
   "execution_count": 10,
   "metadata": {},
   "outputs": [
    {
     "name": "stdout",
     "output_type": "stream",
     "text": [
      "<class 'pandas.core.frame.DataFrame'>\n",
      "RangeIndex: 710 entries, 0 to 709\n",
      "Data columns (total 2 columns):\n",
      "DATE               710 non-null object\n",
      "CPALTT01USM661S    710 non-null float64\n",
      "dtypes: float64(1), object(1)\n",
      "memory usage: 11.2+ KB\n"
     ]
    }
   ],
   "source": [
    "df.info()"
   ]
  },
  {
   "cell_type": "code",
   "execution_count": null,
   "metadata": {},
   "outputs": [],
   "source": []
  }
 ],
 "metadata": {
  "kernelspec": {
   "display_name": "Python 3",
   "language": "python",
   "name": "python3"
  },
  "language_info": {
   "codemirror_mode": {
    "name": "ipython",
    "version": 3
   },
   "file_extension": ".py",
   "mimetype": "text/x-python",
   "name": "python",
   "nbconvert_exporter": "python",
   "pygments_lexer": "ipython3",
   "version": "3.7.3"
  }
 },
 "nbformat": 4,
 "nbformat_minor": 2
}
