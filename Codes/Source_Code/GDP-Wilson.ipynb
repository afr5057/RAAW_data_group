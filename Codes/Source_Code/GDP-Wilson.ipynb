{
 "cells": [
  {
   "cell_type": "code",
   "execution_count": 13,
   "metadata": {},
   "outputs": [],
   "source": [
    "import fix_yahoo_finance as yf\n",
    "import pandas as pd\n",
    "import requests\n",
    "import pymongo\n",
    "import datetime"
   ]
  },
  {
   "cell_type": "code",
   "execution_count": 14,
   "metadata": {},
   "outputs": [],
   "source": [
    "# Initialize PyMongo to work with MongoDBs\n",
    "conn = 'mongodb://localhost:27017'\n",
    "client = pymongo.MongoClient(conn)"
   ]
  },
  {
   "cell_type": "code",
   "execution_count": 15,
   "metadata": {},
   "outputs": [],
   "source": [
    "# Define database and collection\n",
    "db = client.EcoParameters_db\n",
    "\n",
    "#db.StockPrice.drop()\n",
    "#collection = db.StockPrice\n",
    "\n",
    "db.GDP.drop()\n",
    "collection = db.GDP"
   ]
  },
  {
   "cell_type": "code",
   "execution_count": 16,
   "metadata": {},
   "outputs": [
    {
     "data": {
      "text/html": [
       "<div>\n",
       "<style scoped>\n",
       "    .dataframe tbody tr th:only-of-type {\n",
       "        vertical-align: middle;\n",
       "    }\n",
       "\n",
       "    .dataframe tbody tr th {\n",
       "        vertical-align: top;\n",
       "    }\n",
       "\n",
       "    .dataframe thead th {\n",
       "        text-align: right;\n",
       "    }\n",
       "</style>\n",
       "<table border=\"1\" class=\"dataframe\">\n",
       "  <thead>\n",
       "    <tr style=\"text-align: right;\">\n",
       "      <th></th>\n",
       "      <th>DATE</th>\n",
       "      <th>GDP</th>\n",
       "    </tr>\n",
       "  </thead>\n",
       "  <tbody>\n",
       "    <tr>\n",
       "      <th>0</th>\n",
       "      <td>1947-01-01</td>\n",
       "      <td>243.164</td>\n",
       "    </tr>\n",
       "    <tr>\n",
       "      <th>1</th>\n",
       "      <td>1947-04-01</td>\n",
       "      <td>245.968</td>\n",
       "    </tr>\n",
       "    <tr>\n",
       "      <th>2</th>\n",
       "      <td>1947-07-01</td>\n",
       "      <td>249.585</td>\n",
       "    </tr>\n",
       "    <tr>\n",
       "      <th>3</th>\n",
       "      <td>1947-10-01</td>\n",
       "      <td>259.745</td>\n",
       "    </tr>\n",
       "    <tr>\n",
       "      <th>4</th>\n",
       "      <td>1948-01-01</td>\n",
       "      <td>265.742</td>\n",
       "    </tr>\n",
       "  </tbody>\n",
       "</table>\n",
       "</div>"
      ],
      "text/plain": [
       "         DATE      GDP\n",
       "0  1947-01-01  243.164\n",
       "1  1947-04-01  245.968\n",
       "2  1947-07-01  249.585\n",
       "3  1947-10-01  259.745\n",
       "4  1948-01-01  265.742"
      ]
     },
     "execution_count": 16,
     "metadata": {},
     "output_type": "execute_result"
    }
   ],
   "source": [
    "file_path = \"Resources/GDP.csv\"\n",
    "df = pd.read_csv(file_path)\n",
    "df.head()"
   ]
  },
  {
   "cell_type": "code",
   "execution_count": 17,
   "metadata": {},
   "outputs": [
    {
     "name": "stdout",
     "output_type": "stream",
     "text": [
      "<class 'pandas.core.frame.DataFrame'>\n",
      "RangeIndex: 289 entries, 0 to 288\n",
      "Data columns (total 2 columns):\n",
      "DATE    289 non-null object\n",
      "GDP     289 non-null float64\n",
      "dtypes: float64(1), object(1)\n",
      "memory usage: 4.6+ KB\n"
     ]
    }
   ],
   "source": [
    "df.info()"
   ]
  },
  {
   "cell_type": "code",
   "execution_count": 18,
   "metadata": {},
   "outputs": [
    {
     "data": {
      "text/html": [
       "<div>\n",
       "<style scoped>\n",
       "    .dataframe tbody tr th:only-of-type {\n",
       "        vertical-align: middle;\n",
       "    }\n",
       "\n",
       "    .dataframe tbody tr th {\n",
       "        vertical-align: top;\n",
       "    }\n",
       "\n",
       "    .dataframe thead th {\n",
       "        text-align: right;\n",
       "    }\n",
       "</style>\n",
       "<table border=\"1\" class=\"dataframe\">\n",
       "  <thead>\n",
       "    <tr style=\"text-align: right;\">\n",
       "      <th></th>\n",
       "      <th>GDP</th>\n",
       "    </tr>\n",
       "    <tr>\n",
       "      <th>DATE</th>\n",
       "      <th></th>\n",
       "    </tr>\n",
       "  </thead>\n",
       "  <tbody>\n",
       "    <tr>\n",
       "      <th>1947-01-01</th>\n",
       "      <td>243.164</td>\n",
       "    </tr>\n",
       "    <tr>\n",
       "      <th>1947-04-01</th>\n",
       "      <td>245.968</td>\n",
       "    </tr>\n",
       "    <tr>\n",
       "      <th>1947-07-01</th>\n",
       "      <td>249.585</td>\n",
       "    </tr>\n",
       "    <tr>\n",
       "      <th>1947-10-01</th>\n",
       "      <td>259.745</td>\n",
       "    </tr>\n",
       "    <tr>\n",
       "      <th>1948-01-01</th>\n",
       "      <td>265.742</td>\n",
       "    </tr>\n",
       "  </tbody>\n",
       "</table>\n",
       "</div>"
      ],
      "text/plain": [
       "                GDP\n",
       "DATE               \n",
       "1947-01-01  243.164\n",
       "1947-04-01  245.968\n",
       "1947-07-01  249.585\n",
       "1947-10-01  259.745\n",
       "1948-01-01  265.742"
      ]
     },
     "execution_count": 18,
     "metadata": {},
     "output_type": "execute_result"
    }
   ],
   "source": [
    "df['DATE'] = pd.to_datetime(df['DATE'])\n",
    "df.set_index(\"DATE\", inplace = True) \n",
    "df.head()"
   ]
  },
  {
   "cell_type": "code",
   "execution_count": 19,
   "metadata": {},
   "outputs": [
    {
     "name": "stdout",
     "output_type": "stream",
     "text": [
      "<class 'pandas.core.frame.DataFrame'>\n",
      "DatetimeIndex: 289 entries, 1947-01-01 to 2019-01-01\n",
      "Data columns (total 1 columns):\n",
      "GDP    289 non-null float64\n",
      "dtypes: float64(1)\n",
      "memory usage: 4.5 KB\n"
     ]
    }
   ],
   "source": [
    "df.info()"
   ]
  },
  {
   "cell_type": "code",
   "execution_count": 20,
   "metadata": {},
   "outputs": [
    {
     "data": {
      "text/html": [
       "<div>\n",
       "<style scoped>\n",
       "    .dataframe tbody tr th:only-of-type {\n",
       "        vertical-align: middle;\n",
       "    }\n",
       "\n",
       "    .dataframe tbody tr th {\n",
       "        vertical-align: top;\n",
       "    }\n",
       "\n",
       "    .dataframe thead th {\n",
       "        text-align: right;\n",
       "    }\n",
       "</style>\n",
       "<table border=\"1\" class=\"dataframe\">\n",
       "  <thead>\n",
       "    <tr style=\"text-align: right;\">\n",
       "      <th></th>\n",
       "      <th>GDP</th>\n",
       "    </tr>\n",
       "    <tr>\n",
       "      <th>DATE</th>\n",
       "      <th></th>\n",
       "    </tr>\n",
       "  </thead>\n",
       "  <tbody>\n",
       "    <tr>\n",
       "      <th>1947-01-01</th>\n",
       "      <td>243.164</td>\n",
       "    </tr>\n",
       "    <tr>\n",
       "      <th>1947-04-01</th>\n",
       "      <td>245.968</td>\n",
       "    </tr>\n",
       "    <tr>\n",
       "      <th>1947-07-01</th>\n",
       "      <td>249.585</td>\n",
       "    </tr>\n",
       "    <tr>\n",
       "      <th>1947-10-01</th>\n",
       "      <td>259.745</td>\n",
       "    </tr>\n",
       "    <tr>\n",
       "      <th>1948-01-01</th>\n",
       "      <td>265.742</td>\n",
       "    </tr>\n",
       "  </tbody>\n",
       "</table>\n",
       "</div>"
      ],
      "text/plain": [
       "                GDP\n",
       "DATE               \n",
       "1947-01-01  243.164\n",
       "1947-04-01  245.968\n",
       "1947-07-01  249.585\n",
       "1947-10-01  259.745\n",
       "1948-01-01  265.742"
      ]
     },
     "execution_count": 20,
     "metadata": {},
     "output_type": "execute_result"
    }
   ],
   "source": [
    "df= df.resample('QS').mean()\n",
    "df.head()"
   ]
  },
  {
   "cell_type": "code",
   "execution_count": 21,
   "metadata": {},
   "outputs": [
    {
     "data": {
      "text/html": [
       "<div>\n",
       "<style scoped>\n",
       "    .dataframe tbody tr th:only-of-type {\n",
       "        vertical-align: middle;\n",
       "    }\n",
       "\n",
       "    .dataframe tbody tr th {\n",
       "        vertical-align: top;\n",
       "    }\n",
       "\n",
       "    .dataframe thead th {\n",
       "        text-align: right;\n",
       "    }\n",
       "</style>\n",
       "<table border=\"1\" class=\"dataframe\">\n",
       "  <thead>\n",
       "    <tr style=\"text-align: right;\">\n",
       "      <th></th>\n",
       "      <th>DATE</th>\n",
       "      <th>GDP</th>\n",
       "    </tr>\n",
       "  </thead>\n",
       "  <tbody>\n",
       "    <tr>\n",
       "      <th>0</th>\n",
       "      <td>1947-01-01</td>\n",
       "      <td>243.164</td>\n",
       "    </tr>\n",
       "    <tr>\n",
       "      <th>1</th>\n",
       "      <td>1947-04-01</td>\n",
       "      <td>245.968</td>\n",
       "    </tr>\n",
       "    <tr>\n",
       "      <th>2</th>\n",
       "      <td>1947-07-01</td>\n",
       "      <td>249.585</td>\n",
       "    </tr>\n",
       "    <tr>\n",
       "      <th>3</th>\n",
       "      <td>1947-10-01</td>\n",
       "      <td>259.745</td>\n",
       "    </tr>\n",
       "    <tr>\n",
       "      <th>4</th>\n",
       "      <td>1948-01-01</td>\n",
       "      <td>265.742</td>\n",
       "    </tr>\n",
       "  </tbody>\n",
       "</table>\n",
       "</div>"
      ],
      "text/plain": [
       "        DATE      GDP\n",
       "0 1947-01-01  243.164\n",
       "1 1947-04-01  245.968\n",
       "2 1947-07-01  249.585\n",
       "3 1947-10-01  259.745\n",
       "4 1948-01-01  265.742"
      ]
     },
     "execution_count": 21,
     "metadata": {},
     "output_type": "execute_result"
    }
   ],
   "source": [
    "df.reset_index(inplace=True)\n",
    "df.head()"
   ]
  },
  {
   "cell_type": "code",
   "execution_count": 22,
   "metadata": {},
   "outputs": [
    {
     "data": {
      "text/html": [
       "<div>\n",
       "<style scoped>\n",
       "    .dataframe tbody tr th:only-of-type {\n",
       "        vertical-align: middle;\n",
       "    }\n",
       "\n",
       "    .dataframe tbody tr th {\n",
       "        vertical-align: top;\n",
       "    }\n",
       "\n",
       "    .dataframe thead th {\n",
       "        text-align: right;\n",
       "    }\n",
       "</style>\n",
       "<table border=\"1\" class=\"dataframe\">\n",
       "  <thead>\n",
       "    <tr style=\"text-align: right;\">\n",
       "      <th></th>\n",
       "      <th>Date</th>\n",
       "      <th>GDP</th>\n",
       "    </tr>\n",
       "  </thead>\n",
       "  <tbody>\n",
       "    <tr>\n",
       "      <th>0</th>\n",
       "      <td>1947-01-01</td>\n",
       "      <td>243.164</td>\n",
       "    </tr>\n",
       "    <tr>\n",
       "      <th>1</th>\n",
       "      <td>1947-04-01</td>\n",
       "      <td>245.968</td>\n",
       "    </tr>\n",
       "    <tr>\n",
       "      <th>2</th>\n",
       "      <td>1947-07-01</td>\n",
       "      <td>249.585</td>\n",
       "    </tr>\n",
       "    <tr>\n",
       "      <th>3</th>\n",
       "      <td>1947-10-01</td>\n",
       "      <td>259.745</td>\n",
       "    </tr>\n",
       "    <tr>\n",
       "      <th>4</th>\n",
       "      <td>1948-01-01</td>\n",
       "      <td>265.742</td>\n",
       "    </tr>\n",
       "  </tbody>\n",
       "</table>\n",
       "</div>"
      ],
      "text/plain": [
       "        Date      GDP\n",
       "0 1947-01-01  243.164\n",
       "1 1947-04-01  245.968\n",
       "2 1947-07-01  249.585\n",
       "3 1947-10-01  259.745\n",
       "4 1948-01-01  265.742"
      ]
     },
     "execution_count": 22,
     "metadata": {},
     "output_type": "execute_result"
    }
   ],
   "source": [
    "df = df.rename(columns={'DATE': 'Date'})\n",
    "df.head()"
   ]
  },
  {
   "cell_type": "code",
   "execution_count": 23,
   "metadata": {},
   "outputs": [
    {
     "data": {
      "text/plain": [
       "<pymongo.results.InsertManyResult at 0x1a6690d5b08>"
      ]
     },
     "execution_count": 23,
     "metadata": {},
     "output_type": "execute_result"
    }
   ],
   "source": [
    "list_dict_GDP = []\n",
    "for item, row in df.iterrows():\n",
    "    dict_row ={        \n",
    "        \"Date\" : row[\"Date\"].strftime('%Y-%m-%d'),\n",
    "        \"GDP\" : row[\"GDP\"]        \n",
    "                }\n",
    "    list_dict_GDP.append(dict_row)\n",
    "db.GDP.insert_many(list_dict_GDP)"
   ]
  },
  {
   "cell_type": "code",
   "execution_count": 24,
   "metadata": {},
   "outputs": [
    {
     "name": "stdout",
     "output_type": "stream",
     "text": [
      "[{'_id': ObjectId('5ccde233cb55cf3a8023b9a5'), 'Date': '1947-01-01', 'GDP': 243.16400000000002}, {'_id': ObjectId('5ccde233cb55cf3a8023b9a6'), 'Date': '1947-04-01', 'GDP': 245.968}, {'_id': ObjectId('5ccde233cb55cf3a8023b9a7'), 'Date': '1947-07-01', 'GDP': 249.585}, {'_id': ObjectId('5ccde233cb55cf3a8023b9a8'), 'Date': '1947-10-01', 'GDP': 259.745}, {'_id': ObjectId('5ccde233cb55cf3a8023b9a9'), 'Date': '1948-01-01', 'GDP': 265.742}, {'_id': ObjectId('5ccde233cb55cf3a8023b9aa'), 'Date': '1948-04-01', 'GDP': 272.567}, {'_id': ObjectId('5ccde233cb55cf3a8023b9ab'), 'Date': '1948-07-01', 'GDP': 279.19599999999997}, {'_id': ObjectId('5ccde233cb55cf3a8023b9ac'), 'Date': '1948-10-01', 'GDP': 280.366}, {'_id': ObjectId('5ccde233cb55cf3a8023b9ad'), 'Date': '1949-01-01', 'GDP': 275.034}, {'_id': ObjectId('5ccde233cb55cf3a8023b9ae'), 'Date': '1949-04-01', 'GDP': 271.351}, {'_id': ObjectId('5ccde233cb55cf3a8023b9af'), 'Date': '1949-07-01', 'GDP': 272.889}, {'_id': ObjectId('5ccde233cb55cf3a8023b9b0'), 'Date': '1949-10-01', 'GDP': 270.627}, {'_id': ObjectId('5ccde233cb55cf3a8023b9b1'), 'Date': '1950-01-01', 'GDP': 280.828}, {'_id': ObjectId('5ccde233cb55cf3a8023b9b2'), 'Date': '1950-04-01', 'GDP': 290.383}, {'_id': ObjectId('5ccde233cb55cf3a8023b9b3'), 'Date': '1950-07-01', 'GDP': 308.153}, {'_id': ObjectId('5ccde233cb55cf3a8023b9b4'), 'Date': '1950-10-01', 'GDP': 319.945}, {'_id': ObjectId('5ccde233cb55cf3a8023b9b5'), 'Date': '1951-01-01', 'GDP': 336.0}, {'_id': ObjectId('5ccde233cb55cf3a8023b9b6'), 'Date': '1951-04-01', 'GDP': 344.09}, {'_id': ObjectId('5ccde233cb55cf3a8023b9b7'), 'Date': '1951-07-01', 'GDP': 351.385}, {'_id': ObjectId('5ccde233cb55cf3a8023b9b8'), 'Date': '1951-10-01', 'GDP': 356.17800000000005}, {'_id': ObjectId('5ccde233cb55cf3a8023b9b9'), 'Date': '1952-01-01', 'GDP': 359.82}, {'_id': ObjectId('5ccde233cb55cf3a8023b9ba'), 'Date': '1952-04-01', 'GDP': 361.03}, {'_id': ObjectId('5ccde233cb55cf3a8023b9bb'), 'Date': '1952-07-01', 'GDP': 367.70099999999996}, {'_id': ObjectId('5ccde233cb55cf3a8023b9bc'), 'Date': '1952-10-01', 'GDP': 380.81199999999995}, {'_id': ObjectId('5ccde233cb55cf3a8023b9bd'), 'Date': '1953-01-01', 'GDP': 387.98}, {'_id': ObjectId('5ccde233cb55cf3a8023b9be'), 'Date': '1953-04-01', 'GDP': 391.749}, {'_id': ObjectId('5ccde233cb55cf3a8023b9bf'), 'Date': '1953-07-01', 'GDP': 391.171}, {'_id': ObjectId('5ccde233cb55cf3a8023b9c0'), 'Date': '1953-10-01', 'GDP': 385.97}, {'_id': ObjectId('5ccde233cb55cf3a8023b9c1'), 'Date': '1954-01-01', 'GDP': 385.345}, {'_id': ObjectId('5ccde233cb55cf3a8023b9c2'), 'Date': '1954-04-01', 'GDP': 386.121}, {'_id': ObjectId('5ccde233cb55cf3a8023b9c3'), 'Date': '1954-07-01', 'GDP': 390.996}, {'_id': ObjectId('5ccde233cb55cf3a8023b9c4'), 'Date': '1954-10-01', 'GDP': 399.73400000000004}, {'_id': ObjectId('5ccde233cb55cf3a8023b9c5'), 'Date': '1955-01-01', 'GDP': 413.07300000000004}, {'_id': ObjectId('5ccde233cb55cf3a8023b9c6'), 'Date': '1955-04-01', 'GDP': 421.532}, {'_id': ObjectId('5ccde233cb55cf3a8023b9c7'), 'Date': '1955-07-01', 'GDP': 430.221}, {'_id': ObjectId('5ccde233cb55cf3a8023b9c8'), 'Date': '1955-10-01', 'GDP': 437.092}, {'_id': ObjectId('5ccde233cb55cf3a8023b9c9'), 'Date': '1956-01-01', 'GDP': 439.746}, {'_id': ObjectId('5ccde233cb55cf3a8023b9ca'), 'Date': '1956-04-01', 'GDP': 446.01}, {'_id': ObjectId('5ccde233cb55cf3a8023b9cb'), 'Date': '1956-07-01', 'GDP': 451.191}, {'_id': ObjectId('5ccde233cb55cf3a8023b9cc'), 'Date': '1956-10-01', 'GDP': 460.463}, {'_id': ObjectId('5ccde233cb55cf3a8023b9cd'), 'Date': '1957-01-01', 'GDP': 469.779}, {'_id': ObjectId('5ccde233cb55cf3a8023b9ce'), 'Date': '1957-04-01', 'GDP': 472.025}, {'_id': ObjectId('5ccde233cb55cf3a8023b9cf'), 'Date': '1957-07-01', 'GDP': 479.49}, {'_id': ObjectId('5ccde233cb55cf3a8023b9d0'), 'Date': '1957-10-01', 'GDP': 474.86400000000003}, {'_id': ObjectId('5ccde233cb55cf3a8023b9d1'), 'Date': '1958-01-01', 'GDP': 467.54}, {'_id': ObjectId('5ccde233cb55cf3a8023b9d2'), 'Date': '1958-04-01', 'GDP': 471.978}, {'_id': ObjectId('5ccde233cb55cf3a8023b9d3'), 'Date': '1958-07-01', 'GDP': 485.841}, {'_id': ObjectId('5ccde233cb55cf3a8023b9d4'), 'Date': '1958-10-01', 'GDP': 499.555}, {'_id': ObjectId('5ccde233cb55cf3a8023b9d5'), 'Date': '1959-01-01', 'GDP': 510.33}, {'_id': ObjectId('5ccde233cb55cf3a8023b9d6'), 'Date': '1959-04-01', 'GDP': 522.653}, {'_id': ObjectId('5ccde233cb55cf3a8023b9d7'), 'Date': '1959-07-01', 'GDP': 525.034}, {'_id': ObjectId('5ccde233cb55cf3a8023b9d8'), 'Date': '1959-10-01', 'GDP': 528.6}, {'_id': ObjectId('5ccde233cb55cf3a8023b9d9'), 'Date': '1960-01-01', 'GDP': 542.648}, {'_id': ObjectId('5ccde233cb55cf3a8023b9da'), 'Date': '1960-04-01', 'GDP': 541.08}, {'_id': ObjectId('5ccde233cb55cf3a8023b9db'), 'Date': '1960-07-01', 'GDP': 545.604}, {'_id': ObjectId('5ccde233cb55cf3a8023b9dc'), 'Date': '1960-10-01', 'GDP': 540.197}, {'_id': ObjectId('5ccde233cb55cf3a8023b9dd'), 'Date': '1961-01-01', 'GDP': 545.018}, {'_id': ObjectId('5ccde233cb55cf3a8023b9de'), 'Date': '1961-04-01', 'GDP': 555.545}, {'_id': ObjectId('5ccde233cb55cf3a8023b9df'), 'Date': '1961-07-01', 'GDP': 567.664}, {'_id': ObjectId('5ccde233cb55cf3a8023b9e0'), 'Date': '1961-10-01', 'GDP': 580.612}, {'_id': ObjectId('5ccde233cb55cf3a8023b9e1'), 'Date': '1962-01-01', 'GDP': 594.013}, {'_id': ObjectId('5ccde233cb55cf3a8023b9e2'), 'Date': '1962-04-01', 'GDP': 600.366}, {'_id': ObjectId('5ccde233cb55cf3a8023b9e3'), 'Date': '1962-07-01', 'GDP': 609.0269999999999}, {'_id': ObjectId('5ccde233cb55cf3a8023b9e4'), 'Date': '1962-10-01', 'GDP': 612.28}, {'_id': ObjectId('5ccde233cb55cf3a8023b9e5'), 'Date': '1963-01-01', 'GDP': 621.672}, {'_id': ObjectId('5ccde233cb55cf3a8023b9e6'), 'Date': '1963-04-01', 'GDP': 629.752}, {'_id': ObjectId('5ccde233cb55cf3a8023b9e7'), 'Date': '1963-07-01', 'GDP': 644.444}, {'_id': ObjectId('5ccde233cb55cf3a8023b9e8'), 'Date': '1963-10-01', 'GDP': 653.938}, {'_id': ObjectId('5ccde233cb55cf3a8023b9e9'), 'Date': '1964-01-01', 'GDP': 669.822}, {'_id': ObjectId('5ccde233cb55cf3a8023b9ea'), 'Date': '1964-04-01', 'GDP': 678.674}, {'_id': ObjectId('5ccde233cb55cf3a8023b9eb'), 'Date': '1964-07-01', 'GDP': 692.0310000000001}, {'_id': ObjectId('5ccde233cb55cf3a8023b9ec'), 'Date': '1964-10-01', 'GDP': 697.319}, {'_id': ObjectId('5ccde233cb55cf3a8023b9ed'), 'Date': '1965-01-01', 'GDP': 717.79}, {'_id': ObjectId('5ccde233cb55cf3a8023b9ee'), 'Date': '1965-04-01', 'GDP': 730.191}, {'_id': ObjectId('5ccde233cb55cf3a8023b9ef'), 'Date': '1965-07-01', 'GDP': 749.323}, {'_id': ObjectId('5ccde233cb55cf3a8023b9f0'), 'Date': '1965-10-01', 'GDP': 771.857}, {'_id': ObjectId('5ccde233cb55cf3a8023b9f1'), 'Date': '1966-01-01', 'GDP': 795.7339999999999}, {'_id': ObjectId('5ccde233cb55cf3a8023b9f2'), 'Date': '1966-04-01', 'GDP': 804.9810000000001}, {'_id': ObjectId('5ccde233cb55cf3a8023b9f3'), 'Date': '1966-07-01', 'GDP': 819.638}, {'_id': ObjectId('5ccde233cb55cf3a8023b9f4'), 'Date': '1966-10-01', 'GDP': 833.302}, {'_id': ObjectId('5ccde233cb55cf3a8023b9f5'), 'Date': '1967-01-01', 'GDP': 844.17}, {'_id': ObjectId('5ccde233cb55cf3a8023b9f6'), 'Date': '1967-04-01', 'GDP': 848.9830000000001}, {'_id': ObjectId('5ccde233cb55cf3a8023b9f7'), 'Date': '1967-07-01', 'GDP': 865.2330000000001}, {'_id': ObjectId('5ccde233cb55cf3a8023b9f8'), 'Date': '1967-10-01', 'GDP': 881.439}, {'_id': ObjectId('5ccde233cb55cf3a8023b9f9'), 'Date': '1968-01-01', 'GDP': 909.387}, {'_id': ObjectId('5ccde233cb55cf3a8023b9fa'), 'Date': '1968-04-01', 'GDP': 934.3439999999999}, {'_id': ObjectId('5ccde233cb55cf3a8023b9fb'), 'Date': '1968-07-01', 'GDP': 950.825}, {'_id': ObjectId('5ccde233cb55cf3a8023b9fc'), 'Date': '1968-10-01', 'GDP': 968.03}, {'_id': ObjectId('5ccde233cb55cf3a8023b9fd'), 'Date': '1969-01-01', 'GDP': 993.337}, {'_id': ObjectId('5ccde233cb55cf3a8023b9fe'), 'Date': '1969-04-01', 'GDP': 1009.02}, {'_id': ObjectId('5ccde233cb55cf3a8023b9ff'), 'Date': '1969-07-01', 'GDP': 1029.9560000000001}, {'_id': ObjectId('5ccde233cb55cf3a8023ba00'), 'Date': '1969-10-01', 'GDP': 1038.147}, {'_id': ObjectId('5ccde233cb55cf3a8023ba01'), 'Date': '1970-01-01', 'GDP': 1051.2}, {'_id': ObjectId('5ccde233cb55cf3a8023ba02'), 'Date': '1970-04-01', 'GDP': 1067.375}, {'_id': ObjectId('5ccde233cb55cf3a8023ba03'), 'Date': '1970-07-01', 'GDP': 1086.059}, {'_id': ObjectId('5ccde233cb55cf3a8023ba04'), 'Date': '1970-10-01', 'GDP': 1088.608}, {'_id': ObjectId('5ccde233cb55cf3a8023ba05'), 'Date': '1971-01-01', 'GDP': 1135.156}, {'_id': ObjectId('5ccde233cb55cf3a8023ba06'), 'Date': '1971-04-01', 'GDP': 1156.271}, {'_id': ObjectId('5ccde233cb55cf3a8023ba07'), 'Date': '1971-07-01', 'GDP': 1177.675}, {'_id': ObjectId('5ccde233cb55cf3a8023ba08'), 'Date': '1971-10-01', 'GDP': 1190.297}, {'_id': ObjectId('5ccde233cb55cf3a8023ba09'), 'Date': '1972-01-01', 'GDP': 1230.609}, {'_id': ObjectId('5ccde233cb55cf3a8023ba0a'), 'Date': '1972-04-01', 'GDP': 1266.369}, {'_id': ObjectId('5ccde233cb55cf3a8023ba0b'), 'Date': '1972-07-01', 'GDP': 1290.566}, {'_id': ObjectId('5ccde233cb55cf3a8023ba0c'), 'Date': '1972-10-01', 'GDP': 1328.904}, {'_id': ObjectId('5ccde233cb55cf3a8023ba0d'), 'Date': '1973-01-01', 'GDP': 1377.49}, {'_id': ObjectId('5ccde233cb55cf3a8023ba0e'), 'Date': '1973-04-01', 'GDP': 1413.8870000000002}, {'_id': ObjectId('5ccde233cb55cf3a8023ba0f'), 'Date': '1973-07-01', 'GDP': 1433.838}, {'_id': ObjectId('5ccde233cb55cf3a8023ba10'), 'Date': '1973-10-01', 'GDP': 1476.289}, {'_id': ObjectId('5ccde233cb55cf3a8023ba11'), 'Date': '1974-01-01', 'GDP': 1491.2089999999998}, {'_id': ObjectId('5ccde233cb55cf3a8023ba12'), 'Date': '1974-04-01', 'GDP': 1530.056}, {'_id': ObjectId('5ccde233cb55cf3a8023ba13'), 'Date': '1974-07-01', 'GDP': 1560.026}, {'_id': ObjectId('5ccde233cb55cf3a8023ba14'), 'Date': '1974-10-01', 'GDP': 1599.6789999999999}, {'_id': ObjectId('5ccde233cb55cf3a8023ba15'), 'Date': '1975-01-01', 'GDP': 1616.116}, {'_id': ObjectId('5ccde233cb55cf3a8023ba16'), 'Date': '1975-04-01', 'GDP': 1651.8529999999998}, {'_id': ObjectId('5ccde233cb55cf3a8023ba17'), 'Date': '1975-07-01', 'GDP': 1709.82}, {'_id': ObjectId('5ccde233cb55cf3a8023ba18'), 'Date': '1975-10-01', 'GDP': 1761.8310000000001}, {'_id': ObjectId('5ccde233cb55cf3a8023ba19'), 'Date': '1976-01-01', 'GDP': 1820.487}, {'_id': ObjectId('5ccde233cb55cf3a8023ba1a'), 'Date': '1976-04-01', 'GDP': 1852.332}, {'_id': ObjectId('5ccde233cb55cf3a8023ba1b'), 'Date': '1976-07-01', 'GDP': 1886.558}, {'_id': ObjectId('5ccde233cb55cf3a8023ba1c'), 'Date': '1976-10-01', 'GDP': 1934.273}, {'_id': ObjectId('5ccde233cb55cf3a8023ba1d'), 'Date': '1977-01-01', 'GDP': 1988.648}, {'_id': ObjectId('5ccde233cb55cf3a8023ba1e'), 'Date': '1977-04-01', 'GDP': 2055.909}, {'_id': ObjectId('5ccde233cb55cf3a8023ba1f'), 'Date': '1977-07-01', 'GDP': 2118.473}, {'_id': ObjectId('5ccde233cb55cf3a8023ba20'), 'Date': '1977-10-01', 'GDP': 2164.27}, {'_id': ObjectId('5ccde233cb55cf3a8023ba21'), 'Date': '1978-01-01', 'GDP': 2202.76}, {'_id': ObjectId('5ccde233cb55cf3a8023ba22'), 'Date': '1978-04-01', 'GDP': 2331.633}, {'_id': ObjectId('5ccde233cb55cf3a8023ba23'), 'Date': '1978-07-01', 'GDP': 2395.053}, {'_id': ObjectId('5ccde233cb55cf3a8023ba24'), 'Date': '1978-10-01', 'GDP': 2476.949}, {'_id': ObjectId('5ccde233cb55cf3a8023ba25'), 'Date': '1979-01-01', 'GDP': 2526.61}, {'_id': ObjectId('5ccde233cb55cf3a8023ba26'), 'Date': '1979-04-01', 'GDP': 2591.2470000000003}, {'_id': ObjectId('5ccde233cb55cf3a8023ba27'), 'Date': '1979-07-01', 'GDP': 2667.565}, {'_id': ObjectId('5ccde233cb55cf3a8023ba28'), 'Date': '1979-10-01', 'GDP': 2723.883}, {'_id': ObjectId('5ccde233cb55cf3a8023ba29'), 'Date': '1980-01-01', 'GDP': 2789.842}, {'_id': ObjectId('5ccde233cb55cf3a8023ba2a'), 'Date': '1980-04-01', 'GDP': 2797.3520000000003}, {'_id': ObjectId('5ccde233cb55cf3a8023ba2b'), 'Date': '1980-07-01', 'GDP': 2856.4829999999997}, {'_id': ObjectId('5ccde233cb55cf3a8023ba2c'), 'Date': '1980-10-01', 'GDP': 2985.5570000000002}, {'_id': ObjectId('5ccde233cb55cf3a8023ba2d'), 'Date': '1981-01-01', 'GDP': 3124.2059999999997}, {'_id': ObjectId('5ccde233cb55cf3a8023ba2e'), 'Date': '1981-04-01', 'GDP': 3162.532}, {'_id': ObjectId('5ccde233cb55cf3a8023ba2f'), 'Date': '1981-07-01', 'GDP': 3260.6090000000004}, {'_id': ObjectId('5ccde233cb55cf3a8023ba30'), 'Date': '1981-10-01', 'GDP': 3280.8179999999998}, {'_id': ObjectId('5ccde233cb55cf3a8023ba31'), 'Date': '1982-01-01', 'GDP': 3274.302}, {'_id': ObjectId('5ccde233cb55cf3a8023ba32'), 'Date': '1982-04-01', 'GDP': 3331.972}, {'_id': ObjectId('5ccde233cb55cf3a8023ba33'), 'Date': '1982-07-01', 'GDP': 3366.322}, {'_id': ObjectId('5ccde233cb55cf3a8023ba34'), 'Date': '1982-10-01', 'GDP': 3402.5609999999997}, {'_id': ObjectId('5ccde233cb55cf3a8023ba35'), 'Date': '1983-01-01', 'GDP': 3473.413}, {'_id': ObjectId('5ccde233cb55cf3a8023ba36'), 'Date': '1983-04-01', 'GDP': 3578.848}, {'_id': ObjectId('5ccde233cb55cf3a8023ba37'), 'Date': '1983-07-01', 'GDP': 3689.179}, {'_id': ObjectId('5ccde233cb55cf3a8023ba38'), 'Date': '1983-10-01', 'GDP': 3794.7059999999997}, {'_id': ObjectId('5ccde233cb55cf3a8023ba39'), 'Date': '1984-01-01', 'GDP': 3908.054}, {'_id': ObjectId('5ccde233cb55cf3a8023ba3a'), 'Date': '1984-04-01', 'GDP': 4009.6009999999997}, {'_id': ObjectId('5ccde233cb55cf3a8023ba3b'), 'Date': '1984-07-01', 'GDP': 4084.25}, {'_id': ObjectId('5ccde233cb55cf3a8023ba3c'), 'Date': '1984-10-01', 'GDP': 4148.5509999999995}, {'_id': ObjectId('5ccde233cb55cf3a8023ba3d'), 'Date': '1985-01-01', 'GDP': 4230.168}, {'_id': ObjectId('5ccde233cb55cf3a8023ba3e'), 'Date': '1985-04-01', 'GDP': 4294.887}, {'_id': ObjectId('5ccde233cb55cf3a8023ba3f'), 'Date': '1985-07-01', 'GDP': 4386.773}, {'_id': ObjectId('5ccde233cb55cf3a8023ba40'), 'Date': '1985-10-01', 'GDP': 4444.094}, {'_id': ObjectId('5ccde233cb55cf3a8023ba41'), 'Date': '1986-01-01', 'GDP': 4507.894}, {'_id': ObjectId('5ccde233cb55cf3a8023ba42'), 'Date': '1986-04-01', 'GDP': 4545.34}, {'_id': ObjectId('5ccde233cb55cf3a8023ba43'), 'Date': '1986-07-01', 'GDP': 4607.669}, {'_id': ObjectId('5ccde233cb55cf3a8023ba44'), 'Date': '1986-10-01', 'GDP': 4657.627}, {'_id': ObjectId('5ccde233cb55cf3a8023ba45'), 'Date': '1987-01-01', 'GDP': 4722.156}, {'_id': ObjectId('5ccde233cb55cf3a8023ba46'), 'Date': '1987-04-01', 'GDP': 4806.16}, {'_id': ObjectId('5ccde233cb55cf3a8023ba47'), 'Date': '1987-07-01', 'GDP': 4884.555}, {'_id': ObjectId('5ccde233cb55cf3a8023ba48'), 'Date': '1987-10-01', 'GDP': 5007.994000000001}, {'_id': ObjectId('5ccde233cb55cf3a8023ba49'), 'Date': '1988-01-01', 'GDP': 5073.372}, {'_id': ObjectId('5ccde233cb55cf3a8023ba4a'), 'Date': '1988-04-01', 'GDP': 5190.036}, {'_id': ObjectId('5ccde233cb55cf3a8023ba4b'), 'Date': '1988-07-01', 'GDP': 5282.835}, {'_id': ObjectId('5ccde233cb55cf3a8023ba4c'), 'Date': '1988-10-01', 'GDP': 5399.509}, {'_id': ObjectId('5ccde233cb55cf3a8023ba4d'), 'Date': '1989-01-01', 'GDP': 5511.253000000001}, {'_id': ObjectId('5ccde233cb55cf3a8023ba4e'), 'Date': '1989-04-01', 'GDP': 5612.463000000001}, {'_id': ObjectId('5ccde233cb55cf3a8023ba4f'), 'Date': '1989-07-01', 'GDP': 5695.365}, {'_id': ObjectId('5ccde233cb55cf3a8023ba50'), 'Date': '1989-10-01', 'GDP': 5747.236999999999}, {'_id': ObjectId('5ccde233cb55cf3a8023ba51'), 'Date': '1990-01-01', 'GDP': 5872.701}, {'_id': ObjectId('5ccde233cb55cf3a8023ba52'), 'Date': '1990-04-01', 'GDP': 5960.028}, {'_id': ObjectId('5ccde233cb55cf3a8023ba53'), 'Date': '1990-07-01', 'GDP': 6015.116}, {'_id': ObjectId('5ccde233cb55cf3a8023ba54'), 'Date': '1990-10-01', 'GDP': 6004.733}, {'_id': ObjectId('5ccde233cb55cf3a8023ba55'), 'Date': '1991-01-01', 'GDP': 6035.178000000001}, {'_id': ObjectId('5ccde233cb55cf3a8023ba56'), 'Date': '1991-04-01', 'GDP': 6126.861999999999}, {'_id': ObjectId('5ccde233cb55cf3a8023ba57'), 'Date': '1991-07-01', 'GDP': 6205.937}, {'_id': ObjectId('5ccde233cb55cf3a8023ba58'), 'Date': '1991-10-01', 'GDP': 6264.54}, {'_id': ObjectId('5ccde233cb55cf3a8023ba59'), 'Date': '1992-01-01', 'GDP': 6363.102}, {'_id': ObjectId('5ccde233cb55cf3a8023ba5a'), 'Date': '1992-04-01', 'GDP': 6470.763000000001}, {'_id': ObjectId('5ccde233cb55cf3a8023ba5b'), 'Date': '1992-07-01', 'GDP': 6566.641}, {'_id': ObjectId('5ccde233cb55cf3a8023ba5c'), 'Date': '1992-10-01', 'GDP': 6680.803000000001}, {'_id': ObjectId('5ccde233cb55cf3a8023ba5d'), 'Date': '1993-01-01', 'GDP': 6729.459}, {'_id': ObjectId('5ccde233cb55cf3a8023ba5e'), 'Date': '1993-04-01', 'GDP': 6808.939}, {'_id': ObjectId('5ccde233cb55cf3a8023ba5f'), 'Date': '1993-07-01', 'GDP': 6882.098000000001}, {'_id': ObjectId('5ccde233cb55cf3a8023ba60'), 'Date': '1993-10-01', 'GDP': 7013.738}, {'_id': ObjectId('5ccde233cb55cf3a8023ba61'), 'Date': '1994-01-01', 'GDP': 7115.651999999999}, {'_id': ObjectId('5ccde233cb55cf3a8023ba62'), 'Date': '1994-04-01', 'GDP': 7246.931}, {'_id': ObjectId('5ccde233cb55cf3a8023ba63'), 'Date': '1994-07-01', 'GDP': 7331.075}, {'_id': ObjectId('5ccde233cb55cf3a8023ba64'), 'Date': '1994-10-01', 'GDP': 7455.2880000000005}, {'_id': ObjectId('5ccde233cb55cf3a8023ba65'), 'Date': '1995-01-01', 'GDP': 7522.289000000001}, {'_id': ObjectId('5ccde233cb55cf3a8023ba66'), 'Date': '1995-04-01', 'GDP': 7580.996999999999}, {'_id': ObjectId('5ccde233cb55cf3a8023ba67'), 'Date': '1995-07-01', 'GDP': 7683.125}, {'_id': ObjectId('5ccde233cb55cf3a8023ba68'), 'Date': '1995-10-01', 'GDP': 7772.585999999999}, {'_id': ObjectId('5ccde233cb55cf3a8023ba69'), 'Date': '1996-01-01', 'GDP': 7868.468000000001}, {'_id': ObjectId('5ccde233cb55cf3a8023ba6a'), 'Date': '1996-04-01', 'GDP': 8032.84}, {'_id': ObjectId('5ccde233cb55cf3a8023ba6b'), 'Date': '1996-07-01', 'GDP': 8131.408}, {'_id': ObjectId('5ccde233cb55cf3a8023ba6c'), 'Date': '1996-10-01', 'GDP': 8259.771}, {'_id': ObjectId('5ccde233cb55cf3a8023ba6d'), 'Date': '1997-01-01', 'GDP': 8362.655}, {'_id': ObjectId('5ccde233cb55cf3a8023ba6e'), 'Date': '1997-04-01', 'GDP': 8518.825}, {'_id': ObjectId('5ccde233cb55cf3a8023ba6f'), 'Date': '1997-07-01', 'GDP': 8662.823}, {'_id': ObjectId('5ccde233cb55cf3a8023ba70'), 'Date': '1997-10-01', 'GDP': 8765.907}, {'_id': ObjectId('5ccde233cb55cf3a8023ba71'), 'Date': '1998-01-01', 'GDP': 8866.48}, {'_id': ObjectId('5ccde233cb55cf3a8023ba72'), 'Date': '1998-04-01', 'GDP': 8969.699}, {'_id': ObjectId('5ccde233cb55cf3a8023ba73'), 'Date': '1998-07-01', 'GDP': 9121.097}, {'_id': ObjectId('5ccde233cb55cf3a8023ba74'), 'Date': '1998-10-01', 'GDP': 9293.991}, {'_id': ObjectId('5ccde233cb55cf3a8023ba75'), 'Date': '1999-01-01', 'GDP': 9417.264000000001}, {'_id': ObjectId('5ccde233cb55cf3a8023ba76'), 'Date': '1999-04-01', 'GDP': 9524.152}, {'_id': ObjectId('5ccde233cb55cf3a8023ba77'), 'Date': '1999-07-01', 'GDP': 9681.856}, {'_id': ObjectId('5ccde233cb55cf3a8023ba78'), 'Date': '1999-10-01', 'GDP': 9899.378}, {'_id': ObjectId('5ccde233cb55cf3a8023ba79'), 'Date': '2000-01-01', 'GDP': 10002.857}, {'_id': ObjectId('5ccde233cb55cf3a8023ba7a'), 'Date': '2000-04-01', 'GDP': 10247.679}, {'_id': ObjectId('5ccde233cb55cf3a8023ba7b'), 'Date': '2000-07-01', 'GDP': 10319.825}, {'_id': ObjectId('5ccde233cb55cf3a8023ba7c'), 'Date': '2000-10-01', 'GDP': 10439.025}, {'_id': ObjectId('5ccde233cb55cf3a8023ba7d'), 'Date': '2001-01-01', 'GDP': 10472.879}, {'_id': ObjectId('5ccde233cb55cf3a8023ba7e'), 'Date': '2001-04-01', 'GDP': 10597.822}, {'_id': ObjectId('5ccde233cb55cf3a8023ba7f'), 'Date': '2001-07-01', 'GDP': 10596.294}, {'_id': ObjectId('5ccde233cb55cf3a8023ba80'), 'Date': '2001-10-01', 'GDP': 10660.294}, {'_id': ObjectId('5ccde233cb55cf3a8023ba81'), 'Date': '2002-01-01', 'GDP': 10788.952}, {'_id': ObjectId('5ccde233cb55cf3a8023ba82'), 'Date': '2002-04-01', 'GDP': 10893.207}, {'_id': ObjectId('5ccde233cb55cf3a8023ba83'), 'Date': '2002-07-01', 'GDP': 10992.051000000001}, {'_id': ObjectId('5ccde233cb55cf3a8023ba84'), 'Date': '2002-10-01', 'GDP': 11071.463}, {'_id': ObjectId('5ccde233cb55cf3a8023ba85'), 'Date': '2003-01-01', 'GDP': 11183.507}, {'_id': ObjectId('5ccde233cb55cf3a8023ba86'), 'Date': '2003-04-01', 'GDP': 11312.875}, {'_id': ObjectId('5ccde233cb55cf3a8023ba87'), 'Date': '2003-07-01', 'GDP': 11567.326000000001}, {'_id': ObjectId('5ccde233cb55cf3a8023ba88'), 'Date': '2003-10-01', 'GDP': 11769.275}, {'_id': ObjectId('5ccde233cb55cf3a8023ba89'), 'Date': '2004-01-01', 'GDP': 11920.169}, {'_id': ObjectId('5ccde233cb55cf3a8023ba8a'), 'Date': '2004-04-01', 'GDP': 12108.987}, {'_id': ObjectId('5ccde233cb55cf3a8023ba8b'), 'Date': '2004-07-01', 'GDP': 12303.34}, {'_id': ObjectId('5ccde233cb55cf3a8023ba8c'), 'Date': '2004-10-01', 'GDP': 12522.425}, {'_id': ObjectId('5ccde233cb55cf3a8023ba8d'), 'Date': '2005-01-01', 'GDP': 12761.337}, {'_id': ObjectId('5ccde233cb55cf3a8023ba8e'), 'Date': '2005-04-01', 'GDP': 12910.021999999999}, {'_id': ObjectId('5ccde233cb55cf3a8023ba8f'), 'Date': '2005-07-01', 'GDP': 13142.873}, {'_id': ObjectId('5ccde233cb55cf3a8023ba90'), 'Date': '2005-10-01', 'GDP': 13332.316}, {'_id': ObjectId('5ccde233cb55cf3a8023ba91'), 'Date': '2006-01-01', 'GDP': 13603.933}, {'_id': ObjectId('5ccde233cb55cf3a8023ba92'), 'Date': '2006-04-01', 'GDP': 13749.806}, {'_id': ObjectId('5ccde233cb55cf3a8023ba93'), 'Date': '2006-07-01', 'GDP': 13867.469}, {'_id': ObjectId('5ccde233cb55cf3a8023ba94'), 'Date': '2006-10-01', 'GDP': 14037.228000000001}, {'_id': ObjectId('5ccde233cb55cf3a8023ba95'), 'Date': '2007-01-01', 'GDP': 14208.569}, {'_id': ObjectId('5ccde233cb55cf3a8023ba96'), 'Date': '2007-04-01', 'GDP': 14382.363000000001}, {'_id': ObjectId('5ccde233cb55cf3a8023ba97'), 'Date': '2007-07-01', 'GDP': 14535.003}, {'_id': ObjectId('5ccde233cb55cf3a8023ba98'), 'Date': '2007-10-01', 'GDP': 14681.501}, {'_id': ObjectId('5ccde233cb55cf3a8023ba99'), 'Date': '2008-01-01', 'GDP': 14651.038999999999}, {'_id': ObjectId('5ccde233cb55cf3a8023ba9a'), 'Date': '2008-04-01', 'GDP': 14805.611}, {'_id': ObjectId('5ccde233cb55cf3a8023ba9b'), 'Date': '2008-07-01', 'GDP': 14835.187}, {'_id': ObjectId('5ccde233cb55cf3a8023ba9c'), 'Date': '2008-10-01', 'GDP': 14559.543}, {'_id': ObjectId('5ccde233cb55cf3a8023ba9d'), 'Date': '2009-01-01', 'GDP': 14394.546999999999}, {'_id': ObjectId('5ccde233cb55cf3a8023ba9e'), 'Date': '2009-04-01', 'GDP': 14352.85}, {'_id': ObjectId('5ccde233cb55cf3a8023ba9f'), 'Date': '2009-07-01', 'GDP': 14420.312}, {'_id': ObjectId('5ccde233cb55cf3a8023baa0'), 'Date': '2009-10-01', 'GDP': 14628.021}, {'_id': ObjectId('5ccde233cb55cf3a8023baa1'), 'Date': '2010-01-01', 'GDP': 14721.35}, {'_id': ObjectId('5ccde233cb55cf3a8023baa2'), 'Date': '2010-04-01', 'GDP': 14926.098}, {'_id': ObjectId('5ccde233cb55cf3a8023baa3'), 'Date': '2010-07-01', 'GDP': 15079.917}, {'_id': ObjectId('5ccde233cb55cf3a8023baa4'), 'Date': '2010-10-01', 'GDP': 15240.843}, {'_id': ObjectId('5ccde233cb55cf3a8023baa5'), 'Date': '2011-01-01', 'GDP': 15285.828000000001}, {'_id': ObjectId('5ccde233cb55cf3a8023baa6'), 'Date': '2011-04-01', 'GDP': 15496.188999999998}, {'_id': ObjectId('5ccde233cb55cf3a8023baa7'), 'Date': '2011-07-01', 'GDP': 15591.85}, {'_id': ObjectId('5ccde233cb55cf3a8023baa8'), 'Date': '2011-10-01', 'GDP': 15796.46}, {'_id': ObjectId('5ccde233cb55cf3a8023baa9'), 'Date': '2012-01-01', 'GDP': 16019.758}, {'_id': ObjectId('5ccde233cb55cf3a8023baaa'), 'Date': '2012-04-01', 'GDP': 16152.257}, {'_id': ObjectId('5ccde233cb55cf3a8023baab'), 'Date': '2012-07-01', 'GDP': 16257.151000000002}, {'_id': ObjectId('5ccde233cb55cf3a8023baac'), 'Date': '2012-10-01', 'GDP': 16358.863000000001}, {'_id': ObjectId('5ccde233cb55cf3a8023baad'), 'Date': '2013-01-01', 'GDP': 16569.591}, {'_id': ObjectId('5ccde233cb55cf3a8023baae'), 'Date': '2013-04-01', 'GDP': 16637.926}, {'_id': ObjectId('5ccde233cb55cf3a8023baaf'), 'Date': '2013-07-01', 'GDP': 16848.748}, {'_id': ObjectId('5ccde233cb55cf3a8023bab0'), 'Date': '2013-10-01', 'GDP': 17083.137}, {'_id': ObjectId('5ccde233cb55cf3a8023bab1'), 'Date': '2014-01-01', 'GDP': 17102.932}, {'_id': ObjectId('5ccde233cb55cf3a8023bab2'), 'Date': '2014-04-01', 'GDP': 17425.766}, {'_id': ObjectId('5ccde233cb55cf3a8023bab3'), 'Date': '2014-07-01', 'GDP': 17719.836}, {'_id': ObjectId('5ccde233cb55cf3a8023bab4'), 'Date': '2014-10-01', 'GDP': 17838.453999999998}, {'_id': ObjectId('5ccde233cb55cf3a8023bab5'), 'Date': '2015-01-01', 'GDP': 17970.422}, {'_id': ObjectId('5ccde233cb55cf3a8023bab6'), 'Date': '2015-04-01', 'GDP': 18221.299}, {'_id': ObjectId('5ccde233cb55cf3a8023bab7'), 'Date': '2015-07-01', 'GDP': 18331.093}, {'_id': ObjectId('5ccde233cb55cf3a8023bab8'), 'Date': '2015-10-01', 'GDP': 18354.372}, {'_id': ObjectId('5ccde233cb55cf3a8023bab9'), 'Date': '2016-01-01', 'GDP': 18409.13}, {'_id': ObjectId('5ccde233cb55cf3a8023baba'), 'Date': '2016-04-01', 'GDP': 18640.732}, {'_id': ObjectId('5ccde233cb55cf3a8023babb'), 'Date': '2016-07-01', 'GDP': 18799.648}, {'_id': ObjectId('5ccde233cb55cf3a8023babc'), 'Date': '2016-10-01', 'GDP': 18979.245}, {'_id': ObjectId('5ccde233cb55cf3a8023babd'), 'Date': '2017-01-01', 'GDP': 19162.55}, {'_id': ObjectId('5ccde233cb55cf3a8023babe'), 'Date': '2017-04-01', 'GDP': 19359.123}, {'_id': ObjectId('5ccde233cb55cf3a8023babf'), 'Date': '2017-07-01', 'GDP': 19588.074}, {'_id': ObjectId('5ccde233cb55cf3a8023bac0'), 'Date': '2017-10-01', 'GDP': 19831.828999999998}, {'_id': ObjectId('5ccde233cb55cf3a8023bac1'), 'Date': '2018-01-01', 'GDP': 20041.047}, {'_id': ObjectId('5ccde233cb55cf3a8023bac2'), 'Date': '2018-04-01', 'GDP': 20411.924}, {'_id': ObjectId('5ccde233cb55cf3a8023bac3'), 'Date': '2018-07-01', 'GDP': 20658.203999999998}, {'_id': ObjectId('5ccde233cb55cf3a8023bac4'), 'Date': '2018-10-01', 'GDP': 20865.14}, {'_id': ObjectId('5ccde233cb55cf3a8023bac5'), 'Date': '2019-01-01', 'GDP': 21062.691000000003}]\n"
     ]
    }
   ],
   "source": [
    "list_GDP = list(db.GDP.find())\n",
    "print(list_GDP)"
   ]
  },
  {
   "cell_type": "code",
   "execution_count": null,
   "metadata": {},
   "outputs": [],
   "source": []
  }
 ],
 "metadata": {
  "kernelspec": {
   "display_name": "Python 3",
   "language": "python",
   "name": "python3"
  },
  "language_info": {
   "codemirror_mode": {
    "name": "ipython",
    "version": 3
   },
   "file_extension": ".py",
   "mimetype": "text/x-python",
   "name": "python",
   "nbconvert_exporter": "python",
   "pygments_lexer": "ipython3",
   "version": "3.7.3"
  }
 },
 "nbformat": 4,
 "nbformat_minor": 2
}
